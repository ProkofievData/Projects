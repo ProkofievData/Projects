{
  "nbformat": 4,
  "nbformat_minor": 0,
  "metadata": {
    "colab": {
      "provenance": []
    },
    "kernelspec": {
      "name": "python3",
      "display_name": "Python 3"
    },
    "language_info": {
      "name": "python"
    }
  },
  "cells": [
    {
      "cell_type": "markdown",
      "source": [
        "\n",
        "Составьте сводную таблицу и выведите среднюю сумму инвестиций для стран, в которых есть стартапы, зарегистрированные в 2011, 2012 и 2013 годах. Данные за каждый год должны быть в отдельном поле. Отсортируйте таблицу по среднему значению инвестиций за 2011 год от большего к меньшему.\n",
        "\n"
      ],
      "metadata": {
        "id": "yfYHEeYZN4AG"
      }
    },
    {
      "cell_type": "code",
      "execution_count": 1,
      "metadata": {
        "colab": {
          "base_uri": "https://localhost:8080/",
          "height": 109
        },
        "id": "srcZwDWyNkuN",
        "outputId": "c1e36493-3ba5-477b-cc8a-a0d0c2c51a9e"
      },
      "outputs": [
        {
          "output_type": "execute_result",
          "data": {
            "text/plain": [
              "'\\nWITH\\n     inv_2011 AS (SELECT country_code, AVG(funding_total) AS tot\\n                 FROM company\\n                 WHERE EXTRACT(YEAR FROM CAST(founded_at AS DATE)) = 2011\\n                 GROUP BY country_code\\n                 ),  \\n                 \\n     inv_2012 AS (SELECT country_code, AVG(funding_total) AS tot\\n                 FROM company\\n                 WHERE EXTRACT(YEAR FROM CAST(founded_at AS DATE)) = 2012\\n                 GROUP BY country_code\\n                 ),\\n     inv_2013 AS (SELECT country_code, AVG(funding_total) AS tot\\n                 FROM company\\n                 WHERE EXTRACT(YEAR FROM CAST(founded_at AS DATE)) = 2013\\n                 GROUP BY country_code\\n                 )\\n                 \\nSELECT inv_2011.country_code, inv_2011.tot AS i_11, inv_2012.tot AS i_12, inv_2013.tot AS i_13\\n      \\nFROM inv_2011 JOIN inv_2012 ON inv_2011.country_code = inv_2012.country_code JOIN inv_2013 ON inv_2012.country_code = inv_2013.country_code \\n\\nORDER BY inv_2011.tot DESC\\n\\n'"
            ],
            "application/vnd.google.colaboratory.intrinsic+json": {
              "type": "string"
            }
          },
          "metadata": {},
          "execution_count": 1
        }
      ],
      "source": [
        "\"\"\"\n",
        "WITH\n",
        "     inv_2011 AS (SELECT country_code, AVG(funding_total) AS tot\n",
        "                 FROM company\n",
        "                 WHERE EXTRACT(YEAR FROM CAST(founded_at AS DATE)) = 2011\n",
        "                 GROUP BY country_code\n",
        "                 ),\n",
        "\n",
        "     inv_2012 AS (SELECT country_code, AVG(funding_total) AS tot\n",
        "                 FROM company\n",
        "                 WHERE EXTRACT(YEAR FROM CAST(founded_at AS DATE)) = 2012\n",
        "                 GROUP BY country_code\n",
        "                 ),\n",
        "     inv_2013 AS (SELECT country_code, AVG(funding_total) AS tot\n",
        "                 FROM company\n",
        "                 WHERE EXTRACT(YEAR FROM CAST(founded_at AS DATE)) = 2013\n",
        "                 GROUP BY country_code\n",
        "                 )\n",
        "\n",
        "SELECT inv_2011.country_code, inv_2011.tot AS i_11, inv_2012.tot AS i_12, inv_2013.tot AS i_13\n",
        "\n",
        "FROM inv_2011 JOIN inv_2012 ON inv_2011.country_code = inv_2012.country_code JOIN inv_2013 ON inv_2012.country_code = inv_2013.country_code\n",
        "\n",
        "ORDER BY inv_2011.tot DESC\n",
        "\n",
        "\"\"\""
      ]
    },
    {
      "cell_type": "markdown",
      "source": [
        "Выгрузите таблицу, в которой будут такие поля:\n",
        "название компании-покупателя;\n",
        "сумма сделки;\n",
        "название компании, которую купили;\n",
        "сумма инвестиций, вложенных в купленную компанию;\n",
        "доля, которая отображает, во сколько раз сумма покупки превысила сумму вложенных в компанию инвестиций, округлённая до ближайшего целого числа.\n",
        "Не учитывайте те сделки, в которых сумма покупки равна нулю. Если сумма инвестиций в компанию равна нулю, исключите такую компанию из таблицы.\n",
        "Отсортируйте таблицу по сумме сделки от большей к меньшей, а затем по названию купленной компании в лексикографическом порядке. Ограничьте таблицу первыми десятью записями."
      ],
      "metadata": {
        "id": "dd44zM5OSRZT"
      }
    },
    {
      "cell_type": "code",
      "source": [
        "\"\"\"\n",
        "WITH\n",
        "d AS (SELECT a.id AS id, c.name AS name, a.price_amount AS price\n",
        "FROM acquisition AS a LEFT OUTER JOIN company AS c ON c.id = a.acquiring_company_id),\n",
        "\n",
        "b AS (SELECT ac.id AS id_s, co.name AS name_s, co.funding_total AS funding\n",
        "FROM acquisition AS ac LEFT OUTER JOIN company AS co ON co.id = ac.acquired_company_id)\n",
        "\n",
        "SELECT d.name, d.price, b.name_s, b.funding, ROUND(d.price/b.funding)\n",
        "FROM d JOIN b ON d.id = b.id_s\n",
        "WHERE b.funding != 0\n",
        "ORDER BY d.price DESC, b.name_s\n",
        "LIMIT 10\n",
        "\"\"\""
      ],
      "metadata": {
        "id": "lmot3SBMSTc1"
      },
      "execution_count": null,
      "outputs": []
    },
    {
      "cell_type": "markdown",
      "source": [
        "Отберите данные по месяцам с 2010 по 2013 год, когда проходили инвестиционные раунды. Сгруппируйте данные по номеру месяца и получите таблицу, в которой будут поля:\n",
        "номер месяца, в котором проходили раунды;\n",
        "количество уникальных названий фондов из США, которые инвестировали в этом месяце;\n",
        "количество компаний, купленных за этот месяц;\n",
        "общая сумма сделок по покупкам в этом месяце."
      ],
      "metadata": {
        "id": "HFyiGt1JRo0H"
      }
    },
    {
      "cell_type": "code",
      "source": [
        "\"\"\"\n",
        "WITH\n",
        "a AS (SELECT EXTRACT(MONTH FROM CAST(acquired_at AS DATE)) AS month, COUNT(acquired_company_id) AS comp, SUM(price_amount) AS price\n",
        "FROM acquisition\n",
        "WHERE EXTRACT(YEAR FROM CAST(acquired_at AS DATE)) >= 2010\n",
        "GROUP BY month),\n",
        "\n",
        "b AS (SELECT EXTRACT(MONTH FROM CAST(funded_at AS DATE)) AS month, COUNT(DISTINCT f.name) AS names\n",
        "FROM investment AS i JOIN funding_round AS fr ON i.funding_round_id = fr.id JOIN fund AS f ON f.id = i.fund_id\n",
        "WHERE f.country_code = 'USA' AND EXTRACT(YEAR FROM CAST(funded_at AS DATE)) >= 2010\n",
        "GROUP BY month)\n",
        "\n",
        "SELECT a.month, b.names, a.comp, a.price\n",
        "      FROM a JOIN b ON a.month=b.month\n",
        "\"\"\""
      ],
      "metadata": {
        "id": "d_70awCaRpbg"
      },
      "execution_count": null,
      "outputs": []
    },
    {
      "cell_type": "markdown",
      "source": [
        "Выведите общую сумму просмотров у постов, опубликованных в каждый месяц 2008 года. Если данных за какой-либо месяц в базе нет, такой месяц можно пропустить. Результат отсортируйте по убыванию общего количества просмотров."
      ],
      "metadata": {
        "id": "8gf-Vi-1O6of"
      }
    },
    {
      "cell_type": "code",
      "source": [
        "\"\"\"\n",
        "WITH views AS (SELECT DISTINCT CAST(DATE_TRUNC('month', creation_date) AS DATE), SUM(views_count) OVER(PARTITION BY CAST(DATE_TRUNC('month', creation_date) AS DATE)) AS sum_views\n",
        "FROM stackoverflow.posts\n",
        "WHERE CAST(DATE_TRUNC('year', creation_date) AS DATE) = '2008-01-01')\n",
        "\n",
        "SELECT *\n",
        "FROM views\n",
        "ORDER BY sum_views DESC\n",
        "\n",
        "\"\"\""
      ],
      "metadata": {
        "colab": {
          "base_uri": "https://localhost:8080/",
          "height": 54
        },
        "id": "EwjewW4FN5KE",
        "outputId": "cce0a764-cbd9-439b-c596-a944391b4e9b"
      },
      "execution_count": 3,
      "outputs": [
        {
          "output_type": "execute_result",
          "data": {
            "text/plain": [
              "\"\\nWITH views AS (SELECT DISTINCT CAST(DATE_TRUNC('month', creation_date) AS DATE), SUM(views_count) OVER(PARTITION BY CAST(DATE_TRUNC('month', creation_date) AS DATE)) AS sum_views\\nFROM stackoverflow.posts\\nWHERE CAST(DATE_TRUNC('year', creation_date) AS DATE) = '2008-01-01')\\n\\nSELECT *\\nFROM views\\nORDER BY sum_views DESC\\n\\n\""
            ],
            "application/vnd.google.colaboratory.intrinsic+json": {
              "type": "string"
            }
          },
          "metadata": {},
          "execution_count": 3
        }
      ]
    },
    {
      "cell_type": "markdown",
      "source": [
        "Выведите количество постов за 2008 год по месяцам. Отберите посты от пользователей, которые зарегистрировались в сентябре 2008 года и сделали хотя бы один пост в декабре того же года. Отсортируйте таблицу по значению месяца по убыванию."
      ],
      "metadata": {
        "id": "0fFtpvZdPPYv"
      }
    },
    {
      "cell_type": "code",
      "source": [
        "\"\"\"\n",
        "WITH users AS (SELECT DISTINCT user_id\n",
        "FROM stackoverflow.posts p JOIN stackoverflow.users u ON p.user_id = u.id\n",
        "WHERE CAST(DATE_TRUNC('month', u.creation_date) AS DATE) = '2008-09-01' AND CAST(DATE_TRUNC('month', p.creation_date) AS DATE) = '2008-12-01')\n",
        "\n",
        "SELECT DISTINCT CAST(DATE_TRUNC('month', p.creation_date) AS DATE), COUNT(*) OVER (PARTITION BY CAST(DATE_TRUNC('month', p.creation_date) AS DATE))\n",
        "FROM users u JOIN stackoverflow.posts p ON u.user_id = p.user_id\n",
        "WHERE CAST(DATE_TRUNC('year', p.creation_date) AS DATE) = '2008-01-01'\n",
        "ORDER BY CAST(DATE_TRUNC('month', p.creation_date) AS DATE) DESC\n",
        "\"\"\""
      ],
      "metadata": {
        "colab": {
          "base_uri": "https://localhost:8080/",
          "height": 91
        },
        "id": "Uc7ThmM6PEr2",
        "outputId": "9dbcdc4d-8a95-41dc-c8d6-1f40f77c0845"
      },
      "execution_count": 5,
      "outputs": [
        {
          "output_type": "execute_result",
          "data": {
            "text/plain": [
              "\"\\nWITH users AS (SELECT DISTINCT user_id \\nFROM stackoverflow.posts p JOIN stackoverflow.users u ON p.user_id = u.id\\nWHERE CAST(DATE_TRUNC('month', u.creation_date) AS DATE) = '2008-09-01' AND CAST(DATE_TRUNC('month', p.creation_date) AS DATE) = '2008-12-01')\\n\\nSELECT DISTINCT CAST(DATE_TRUNC('month', p.creation_date) AS DATE), COUNT(*) OVER (PARTITION BY CAST(DATE_TRUNC('month', p.creation_date) AS DATE))\\nFROM users u JOIN stackoverflow.posts p ON u.user_id = p.user_id\\nWHERE CAST(DATE_TRUNC('year', p.creation_date) AS DATE) = '2008-01-01'\\nORDER BY CAST(DATE_TRUNC('month', p.creation_date) AS DATE) DESC\\n\""
            ],
            "application/vnd.google.colaboratory.intrinsic+json": {
              "type": "string"
            }
          },
          "metadata": {},
          "execution_count": 5
        }
      ]
    },
    {
      "cell_type": "markdown",
      "source": [
        "\n",
        "Сколько в среднем дней в период с 1 по 7 декабря 2008 года включительно пользователи взаимодействовали с платформой? Для каждого пользователя отберите дни, в которые он или она опубликовали хотя бы один пост. Нужно получить одно целое число — не забудьте округлить результат."
      ],
      "metadata": {
        "id": "WwDgh8aSPUjI"
      }
    },
    {
      "cell_type": "code",
      "source": [
        "\"\"\"\n",
        "WITH users AS (SELECT DISTINCT user_id, CAST(creation_date AS DATE)\n",
        "FROM stackoverflow.posts\n",
        "WHERE CAST(creation_date AS DATE) >= '2008-12-01' AND CAST(creation_date AS DATE) <= '2008-12-07'\n",
        "             ),\n",
        "\n",
        "users_days AS (SELECT COUNT(*) AS cnt\n",
        "FROM users\n",
        "GROUP BY user_id)\n",
        "\n",
        "SELECT ROUND(AVG(cnt))\n",
        "FROM users_days\n",
        "\n",
        "\"\"\""
      ],
      "metadata": {
        "colab": {
          "base_uri": "https://localhost:8080/",
          "height": 54
        },
        "id": "J_bxiUslPSeq",
        "outputId": "15827296-cb38-41ed-d639-a59bc0604652"
      },
      "execution_count": 6,
      "outputs": [
        {
          "output_type": "execute_result",
          "data": {
            "text/plain": [
              "\"\\nWITH users AS (SELECT DISTINCT user_id, CAST(creation_date AS DATE)\\nFROM stackoverflow.posts\\nWHERE CAST(creation_date AS DATE) >= '2008-12-01' AND CAST(creation_date AS DATE) <= '2008-12-07'\\n             ),\\n\\nusers_days AS (SELECT COUNT(*) AS cnt\\nFROM users\\nGROUP BY user_id)\\n\\nSELECT ROUND(AVG(cnt))\\nFROM users_days\\n\\n\""
            ],
            "application/vnd.google.colaboratory.intrinsic+json": {
              "type": "string"
            }
          },
          "metadata": {},
          "execution_count": 6
        }
      ]
    },
    {
      "cell_type": "markdown",
      "source": [
        "\n",
        "На сколько процентов менялось количество постов ежемесячно с 1 сентября по 31 декабря 2008 года? Отобразите таблицу со следующими полями:\n",
        "Номер месяца.\n",
        "Количество постов за месяц.\n",
        "Процент, который показывает, насколько изменилось количество постов в текущем месяце по сравнению с предыдущим.\n",
        "Если постов стало меньше, значение процента должно быть отрицательным, если больше — положительным. Округлите значение процента до двух знаков после запятой."
      ],
      "metadata": {
        "id": "KVy7-g8IPk37"
      }
    },
    {
      "cell_type": "code",
      "source": [
        "\"\"\"\n",
        "WITH month_cnt AS\n",
        "\n",
        "(SELECT DISTINCT EXTRACT(MONTH FROM creation_date) AS mnth, COUNT(*) OVER(PARTITION BY CAST(DATE_TRUNC('month', creation_date) AS DATE)) AS cnt\n",
        "FROM stackoverflow.posts\n",
        "WHERE CAST(creation_date AS DATE) >= '2008-09-01' AND CAST(creation_date AS DATE) <= '2008-12-31'\n",
        "ORDER BY EXTRACT(MONTH FROM creation_date))\n",
        "\n",
        "SELECT *, ROUND( 100 * ((cnt :: numeric / LAG(cnt) OVER(ORDER BY mnth)) :: numeric - 1), 2)  AS changing\n",
        "FROM month_cnt\n",
        "\"\"\""
      ],
      "metadata": {
        "colab": {
          "base_uri": "https://localhost:8080/",
          "height": 72
        },
        "id": "rTSRr8n5PeKD",
        "outputId": "d7bf795f-b5fd-45fe-a86c-ce0cf2c59cd2"
      },
      "execution_count": 7,
      "outputs": [
        {
          "output_type": "execute_result",
          "data": {
            "text/plain": [
              "\"\\nWITH month_cnt AS \\n\\n(SELECT DISTINCT EXTRACT(MONTH FROM creation_date) AS mnth, COUNT(*) OVER(PARTITION BY CAST(DATE_TRUNC('month', creation_date) AS DATE)) AS cnt\\nFROM stackoverflow.posts\\nWHERE CAST(creation_date AS DATE) >= '2008-09-01' AND CAST(creation_date AS DATE) <= '2008-12-31'\\nORDER BY EXTRACT(MONTH FROM creation_date))\\n\\nSELECT *, ROUND( 100 * ((cnt :: numeric / LAG(cnt) OVER(ORDER BY mnth)) :: numeric - 1), 2)  AS changing\\nFROM month_cnt\\n\""
            ],
            "application/vnd.google.colaboratory.intrinsic+json": {
              "type": "string"
            }
          },
          "metadata": {},
          "execution_count": 7
        }
      ]
    },
    {
      "cell_type": "markdown",
      "source": [
        "Найдите пользователя, который опубликовал больше всего постов за всё время с момента регистрации. Выведите данные его активности за октябрь 2008 года в таком виде:\n",
        "номер недели;\n",
        "дата и время последнего поста, опубликованного на этой неделе."
      ],
      "metadata": {
        "id": "RNVZeS0ZPydi"
      }
    },
    {
      "cell_type": "code",
      "source": [
        "\"\"\"\n",
        "WITH user_max AS\n",
        "(\n",
        "SELECT user_id, COUNT(id) AS cnt\n",
        "FROM stackoverflow.posts\n",
        "GROUP BY user_id\n",
        "ORDER BY COUNT(id) DESC\n",
        "LIMIT 1\n",
        "    )\n",
        "\n",
        "SELECT DISTINCT EXTRACT('week' FROM p.creation_date), MAX(p.creation_date) OVER(PARTITION BY EXTRACT('week' FROM p.creation_date))\n",
        "FROM stackoverflow.posts p JOIN user_max u ON u.user_id = p.user_id\n",
        "WHERE CAST(DATE_TRUNC('month', p.creation_date) AS DATE) = '2008-10-01'\n",
        "\"\"\""
      ],
      "metadata": {
        "colab": {
          "base_uri": "https://localhost:8080/",
          "height": 72
        },
        "id": "3uNpP_lRPsZE",
        "outputId": "29526df8-f48b-4f1f-fa7d-04e1e2de0d77"
      },
      "execution_count": 8,
      "outputs": [
        {
          "output_type": "execute_result",
          "data": {
            "text/plain": [
              "\"\\nWITH user_max AS\\n(\\nSELECT user_id, COUNT(id) AS cnt\\nFROM stackoverflow.posts\\nGROUP BY user_id\\nORDER BY COUNT(id) DESC\\nLIMIT 1\\n    )\\n    \\nSELECT DISTINCT EXTRACT('week' FROM p.creation_date), MAX(p.creation_date) OVER(PARTITION BY EXTRACT('week' FROM p.creation_date))\\nFROM stackoverflow.posts p JOIN user_max u ON u.user_id = p.user_id\\nWHERE CAST(DATE_TRUNC('month', p.creation_date) AS DATE) = '2008-10-01'\\n\""
            ],
            "application/vnd.google.colaboratory.intrinsic+json": {
              "type": "string"
            }
          },
          "metadata": {},
          "execution_count": 8
        }
      ]
    },
    {
      "cell_type": "markdown",
      "source": [
        "\n",
        "Дополните предыдущий запрос. Отобразите лидеров каждой группы — пользователей, которые набрали максимальное число просмотров в своей группе. Выведите поля с идентификатором пользователя, группой и количеством просмотров. Отсортируйте таблицу по убыванию просмотров, а затем по возрастанию значения идентификатора."
      ],
      "metadata": {
        "id": "35D2LL1PQTPw"
      }
    },
    {
      "cell_type": "code",
      "source": [
        "\"\"\"\n",
        "WITH users AS(SELECT id, views,\n",
        "CASE\n",
        "    WHEN views >= 350 THEN 1\n",
        "    WHEN views < 350 AND views >= 100 THEN 2\n",
        "    WHEN views < 100 THEN 3\n",
        "END views_group\n",
        "FROM stackoverflow.users\n",
        "WHERE location LIKE '%Canada%'),\n",
        "\n",
        "users_views AS (SELECT *\n",
        "FROM users\n",
        "WHERE views > 0),\n",
        "\n",
        "maxs AS (SELECT *, MAX(views) OVER(PARTITION BY views_group) AS max_views\n",
        "FROM users_views)\n",
        "\n",
        "SELECT id, views_group, views\n",
        "FROM maxs\n",
        "WHERE max_views = views\n",
        "ORDER BY views DESC, id\n",
        "\"\"\""
      ],
      "metadata": {
        "colab": {
          "base_uri": "https://localhost:8080/",
          "height": 72
        },
        "id": "t9lnx5c_QGsA",
        "outputId": "47ec76f7-a40b-440d-af5b-f0950eea7a3e"
      },
      "execution_count": 9,
      "outputs": [
        {
          "output_type": "execute_result",
          "data": {
            "text/plain": [
              "\"\\nWITH users AS(SELECT id, views, \\nCASE\\n    WHEN views >= 350 THEN 1\\n    WHEN views < 350 AND views >= 100 THEN 2\\n    WHEN views < 100 THEN 3 \\nEND views_group\\nFROM stackoverflow.users\\nWHERE location LIKE '%Canada%'), \\n\\nusers_views AS (SELECT *\\nFROM users\\nWHERE views > 0), \\n\\nmaxs AS (SELECT *, MAX(views) OVER(PARTITION BY views_group) AS max_views\\nFROM users_views)\\n\\nSELECT id, views_group, views\\nFROM maxs\\nWHERE max_views = views\\nORDER BY views DESC, id\\n\""
            ],
            "application/vnd.google.colaboratory.intrinsic+json": {
              "type": "string"
            }
          },
          "metadata": {},
          "execution_count": 9
        }
      ]
    },
    {
      "cell_type": "markdown",
      "source": [
        "Отберите 10 пользователей по количеству значков, полученных в период с 15 ноября по 15 декабря 2008 года включительно.\n",
        "Отобразите несколько полей:\n",
        "идентификатор пользователя;\n",
        "число значков;\n",
        "место в рейтинге — чем больше значков, тем выше рейтинг.\n",
        "Пользователям, которые набрали одинаковое количество значков, присвойте одно и то же место в рейтинге.\n",
        "Отсортируйте записи по количеству значков по убыванию, а затем по возрастанию значения идентификатора пользователя."
      ],
      "metadata": {
        "id": "o8SI9C5UQf9V"
      }
    },
    {
      "cell_type": "code",
      "source": [
        "\"\"\"\n",
        "ITH users_badges AS(\n",
        "SELECT DISTINCT u.id AS u_id, COUNT(b.id) OVER(PARTITION BY u.id) AS cnt_badges\n",
        "FROM stackoverflow.users u JOIN stackoverflow.badges b ON u.id = b.user_id\n",
        "WHERE CAST(b.creation_date AS DATE) >= '15-11-2008' AND CAST(b.creation_date AS DATE) <= '15-12-2008')\n",
        "\n",
        "SELECT *, DENSE_RANK() OVER(ORDER BY cnt_badges DESC)\n",
        "FROM users_badges\n",
        "ORDER BY cnt_badges DESC, u_id\n",
        "LIMIT 10\n",
        "\"\"\""
      ],
      "metadata": {
        "colab": {
          "base_uri": "https://localhost:8080/",
          "height": 54
        },
        "id": "V669iFlAQXJG",
        "outputId": "6b7b2928-56a8-479d-890b-6939a037d15c"
      },
      "execution_count": 11,
      "outputs": [
        {
          "output_type": "execute_result",
          "data": {
            "text/plain": [
              "\"\\nITH users_badges AS(\\nSELECT DISTINCT u.id AS u_id, COUNT(b.id) OVER(PARTITION BY u.id) AS cnt_badges\\nFROM stackoverflow.users u JOIN stackoverflow.badges b ON u.id = b.user_id\\nWHERE CAST(b.creation_date AS DATE) >= '15-11-2008' AND CAST(b.creation_date AS DATE) <= '15-12-2008')\\n\\nSELECT *, DENSE_RANK() OVER(ORDER BY cnt_badges DESC)\\nFROM users_badges\\nORDER BY cnt_badges DESC, u_id \\nLIMIT 10\\n\""
            ],
            "application/vnd.google.colaboratory.intrinsic+json": {
              "type": "string"
            }
          },
          "metadata": {},
          "execution_count": 11
        }
      ]
    },
    {
      "cell_type": "markdown",
      "source": [
        "Для каждого пользователя, который написал хотя бы один пост, найдите интервал между регистрацией и временем создания первого поста. Отобразите:\n",
        "идентификатор пользователя;\n",
        "разницу во времени между регистрацией и первым постом."
      ],
      "metadata": {
        "id": "OuELOnT0Q281"
      }
    },
    {
      "cell_type": "code",
      "source": [
        "\"\"\"\n",
        "\n",
        "WITH users AS(\n",
        "SELECT DISTINCT u.id, u.creation_date, MIN(p.creation_date) OVER(PARTITION BY p.user_id) AS first_post\n",
        "FROM stackoverflow.users u JOIN stackoverflow.posts p ON u.id = p.user_id)\n",
        "\n",
        "SELECT id, first_post - creation_date AS gap\n",
        "FROM users\n",
        "\n",
        "\"\"\""
      ],
      "metadata": {
        "colab": {
          "base_uri": "https://localhost:8080/",
          "height": 54
        },
        "id": "WV4MR25xQkRi",
        "outputId": "1e8c978a-ec43-4083-c876-be16bc013317"
      },
      "execution_count": 12,
      "outputs": [
        {
          "output_type": "execute_result",
          "data": {
            "text/plain": [
              "'\\n\\nWITH users AS(\\nSELECT DISTINCT u.id, u.creation_date, MIN(p.creation_date) OVER(PARTITION BY p.user_id) AS first_post\\nFROM stackoverflow.users u JOIN stackoverflow.posts p ON u.id = p.user_id)\\n\\nSELECT id, first_post - creation_date AS gap\\nFROM users\\n\\n'"
            ],
            "application/vnd.google.colaboratory.intrinsic+json": {
              "type": "string"
            }
          },
          "metadata": {},
          "execution_count": 12
        }
      ]
    },
    {
      "cell_type": "code",
      "source": [],
      "metadata": {
        "id": "6k8NgSCKQ9Xx"
      },
      "execution_count": null,
      "outputs": []
    }
  ]
}