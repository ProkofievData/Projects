{
 "cells": [
  {
   "cell_type": "markdown",
   "id": "99aad95e",
   "metadata": {},
   "source": [
    "# Описание проекта\n",
    "Заказчик этого исследования — большая компания 'A', которая оказывает услуги на территории всего СНГ. Перед компанией стоит задача определить текущий уровень потребительской лояльности, или NPS, среди клиентов из России. \n",
    "Чтобы определить уровень лояльности, клиентам задавали классический вопрос: «Оцените по шкале от 1 до 10 вероятность того, что вы порекомендуете компанию друзьям и знакомым».\n",
    "\n",
    "Компания провела опрос, и теперь **необходимо создать дашборд с его итогами**. Большая база данных для этой задачи развернута не была, данные выгружены в SQLite. \n",
    "\n",
    "Чтобы оценить результаты опроса, оценки обычно делят на три группы:\n",
    "9-10 баллов — «cторонники» (англ. promoters);\n",
    "7-8 баллов — «нейтралы» (англ. passives);\n",
    "0-6 баллов — «критики» (англ. detractors).\n",
    "Итоговое значение NPS рассчитывается по формуле: % «сторонников» - % «критиков».\n",
    "Таким образом, значение этого показателя варьируется от -100% (когда все клиенты «критики») до 100% (когда все клиенты лояльны к сервису). \n"
   ]
  },
  {
   "cell_type": "markdown",
   "id": "b39c03ea",
   "metadata": {},
   "source": [
    "С помощью дашборда необходимо ответить на следующие вопросы:\n",
    "\n",
    "- Как распределены участники опроса по возрасту и полу? \n",
    "- Каких пользователей больше: новых или старых? Пользователи из каких городов активнее участвовали в опросе?\n",
    "- Какие группы пользователей наиболее лояльны к сервису? Какие менее?\n",
    "- Какой общий NPS среди всех опрошенных?\n",
    "- Как можно описать клиентов, которые относятся к группе cторонников (англ. promoters)?"
   ]
  },
  {
   "cell_type": "markdown",
   "id": "ce635d53",
   "metadata": {},
   "source": [
    "Описание данных будет представлено после их выгрузки из базы данных."
   ]
  },
  {
   "cell_type": "markdown",
   "id": "946fa8be",
   "metadata": {},
   "source": [
    "> Ограничения и цель анализа\n",
    ">\n",
    "> Данный анализ основан на выборочных данных, полученных в результате опроса клиентов. Несмотря на большой объем выборки, она не обязательно полностью отражает структуру всей клиентской базы компании. Все выводы, визуализации и расчеты (в том числе значение NPS и сравнения между группами) относятся только к этой выборке и не могут быть автоматически распространены на всю генеральную совокупность без дополнительной проверки статистической значимости и репрезентативности.\n",
    ">\n",
    "> Цель данной работы — провести предварительный анализ, выявить основные тренды, проблемные сегменты и сформулировать гипотезы для дальнейшего, более глубокого исследования. Для принятия стратегических решений или публикации результатов рекомендуется дополнительно провести статистические тесты, рассчитать доверительные интервалы и убедиться в репрезентативности данных."
   ]
  },
  {
   "cell_type": "markdown",
   "id": "50da7870",
   "metadata": {},
   "source": [
    "Работа будет проведена в три этапа:\n",
    "1. Соединение с базой данных и выгрузка необходимых данных с помощью SQL запроса, создание датасета.\n",
    "2. Предобработка данных и EDA в ноутбуке с использованием библиотек python, выгрузка данных.\n",
    "3. Построение серии интерактивных дашбордов ('story') и отдельных интерактивных графиков в Tableau. Описание наблюдений на дашбордах.\n"
   ]
  },
  {
   "cell_type": "markdown",
   "id": "44b0ada3",
   "metadata": {},
   "source": [
    "Импортируем необходимые библиотеки перед началом работы:"
   ]
  },
  {
   "cell_type": "code",
   "execution_count": 2,
   "id": "1895ac57",
   "metadata": {},
   "outputs": [
    {
     "name": "stdout",
     "output_type": "stream",
     "text": [
      "pandas: 2.2.2\n",
      "numpy: 1.26.4\n",
      "matplotlib: 3.9.2\n",
      "seaborn: 0.13.2\n"
     ]
    }
   ],
   "source": [
    "import os\n",
    "import pandas as pd\n",
    "import numpy as np\n",
    "import matplotlib as mat\n",
    "import matplotlib.pyplot as plt\n",
    "import seaborn as sns\n",
    "from statsmodels.stats.proportion import proportion_confint\n",
    "from sqlalchemy import create_engine\n",
    "\n",
    "print(\"pandas:\", pd.__version__)\n",
    "print(\"numpy:\", np.__version__)\n",
    "print(\"matplotlib:\", mat.__version__)\n",
    "print(\"seaborn:\", sns.__version__)\n"
   ]
  },
  {
   "cell_type": "markdown",
   "id": "8942f645",
   "metadata": {},
   "source": [
    "# Создание соединения и SQL-запрос"
   ]
  },
  {
   "cell_type": "markdown",
   "id": "992008c1",
   "metadata": {},
   "source": [
    "> **Подключение к базе данных**\n",
    ">\n",
    "> В этой ячейке указывается путь к файлу базы данных SQLite и создается объект `engine` с помощью SQLAlchemy. Этот объект используется для выполнения SQL-запросов и загрузки данных из базы в pandas DataFrame."
   ]
  },
  {
   "cell_type": "code",
   "execution_count": 3,
   "id": "0017f8e7",
   "metadata": {},
   "outputs": [],
   "source": [
    "path_to_db= r\"C:\\Users\\aprok\\Downloads\\telecomm_csi.db\"\n",
    "\n",
    "if path_to_db:\n",
    "    engine = create_engine(f'sqlite:///{path_to_db}', echo=False)"
   ]
  },
  {
   "cell_type": "markdown",
   "id": "37d140ff",
   "metadata": {},
   "source": [
    "Пишем sql запрос, позволяющий достать из базы данных только нужную информацию в необходимом формате."
   ]
  },
  {
   "cell_type": "code",
   "execution_count": 4,
   "id": "84ebad43",
   "metadata": {},
   "outputs": [],
   "source": [
    "query = \"\"\"\n",
    "\n",
    "WITH \n",
    "    age AS (SELECT age_gr_id, title FROM age_segment),\n",
    "    \n",
    "    traffic AS (SELECT tr_gr_id, title FROM traffic_segment),\n",
    "    \n",
    "    lifetime AS (SELECT lt_gr_id, title FROM lifetime_segment)\n",
    "\n",
    "\n",
    "SELECT user.user_id, user.lt_day, \n",
    "    CASE \n",
    "        WHEN user.lt_day <= 365 THEN 'new'\n",
    "        ELSE 'old'\n",
    "    END AS is_new ,\n",
    "user.age, \n",
    "    CASE \n",
    "        WHEN user.gender_segment = 1 THEN 'woman'\n",
    "        WHEN user.gender_segment = 0 THEN 'man'\n",
    "        Else 'Others'\n",
    "    END AS gender\n",
    ", user.os_name, user.cpe_type_name, location.country, location.city, age.title AS age_segmen, traffic.title AS traffic, lifetime.title AS lifetime_segment, user.nps_score,\n",
    "    CASE \n",
    "        WHEN user.nps_score >= 9 THEN 'promoters'\n",
    "        WHEN user.nps_score >= 7 AND user.nps_score < 9 THEN 'neutrals'\n",
    "        WHEN user.nps_score >= 0 AND user.nps_score < 7 THEN 'detractors' \n",
    "    END AS nps_segment\n",
    "\n",
    "FROM user JOIN location ON user.location_id = location.location_id JOIN age ON user.age_gr_id = age.age_gr_id JOIN traffic ON user.tr_gr_id = traffic.tr_gr_id JOIN lifetime ON user.lt_gr_id = lifetime.lt_gr_id\n",
    "\n",
    "\"\"\"\n"
   ]
  },
  {
   "cell_type": "markdown",
   "id": "d49f0997",
   "metadata": {},
   "source": [
    "# Предобработка данных"
   ]
  },
  {
   "cell_type": "markdown",
   "id": "d2ec308a",
   "metadata": {},
   "source": [
    "Из базы данных формируем датасет, соответствующий запросу"
   ]
  },
  {
   "cell_type": "code",
   "execution_count": 5,
   "id": "3965faf2",
   "metadata": {},
   "outputs": [],
   "source": [
    "df = pd.read_sql(query, engine)\n"
   ]
  },
  {
   "cell_type": "markdown",
   "id": "9efcfc9b",
   "metadata": {},
   "source": [
    "**Описание получишвегося датасета**\n",
    "\n",
    "- user_id -\tИдентификатор клиента\n",
    "- lt_day - Количество дней «жизни» клиента\n",
    "- is_new - Поле хранит информацию о том, является ли клиент новым\n",
    "- age - Возраст\n",
    "- gender_segment - Пол \n",
    "- os_name - Тип операционной системы\n",
    "- cpe_type_name - Тип устройства\n",
    "- country - Страна проживания\n",
    "- city - Город проживания\n",
    "- age_segment - Возрастной сегмент\n",
    "- traffic_segment - Сегмент по объёму потребляемого трафика\n",
    "- lifetime_segment - Сегмент по количеству дней «жизни»\n",
    "- nps_score - Оценка клиента в NPS-опросе\n",
    "- nps_group - Поле хранит информацию о том, к какой группе относится оценка клиента в опросе"
   ]
  },
  {
   "cell_type": "markdown",
   "id": "8aba8d96",
   "metadata": {},
   "source": [
    "Смотрим основную информацию о датасете."
   ]
  },
  {
   "cell_type": "code",
   "execution_count": 6,
   "id": "a385ff62",
   "metadata": {},
   "outputs": [
    {
     "name": "stdout",
     "output_type": "stream",
     "text": [
      "  user_id  lt_day is_new   age gender  os_name cpe_type_name country  \\\n",
      "0  A001A2    2320    old  45.0  woman  ANDROID    SMARTPHONE  Россия   \n",
      "1  A001WF    2344    old  53.0    man  ANDROID    SMARTPHONE  Россия   \n",
      "2  A003Q7     467    old  57.0    man  ANDROID    SMARTPHONE  Россия   \n",
      "3  A004TB    4190    old  44.0  woman      IOS    SMARTPHONE  Россия   \n",
      "4  A004XT    1163    old  24.0    man  ANDROID    SMARTPHONE  Россия   \n",
      "\n",
      "           city age_segmen   traffic lifetime_segment  nps_score nps_segment  \n",
      "0           Уфа   05 45-54    04 1-5           08 36+         10   promoters  \n",
      "1         Киров   05 45-54    04 1-5           08 36+         10   promoters  \n",
      "2        Москва   06 55-64  08 20-25         06 13-24         10   promoters  \n",
      "3  РостовнаДону   04 35-44  03 0.1-1           08 36+         10   promoters  \n",
      "4        Рязань   02 16-24   05 5-10           08 36+         10   promoters  \n"
     ]
    }
   ],
   "source": [
    "print(df.head(5))"
   ]
  },
  {
   "cell_type": "code",
   "execution_count": 7,
   "id": "7f431959",
   "metadata": {},
   "outputs": [
    {
     "name": "stdout",
     "output_type": "stream",
     "text": [
      "<class 'pandas.core.frame.DataFrame'>\n",
      "RangeIndex: 502493 entries, 0 to 502492\n",
      "Data columns (total 14 columns):\n",
      " #   Column            Non-Null Count   Dtype  \n",
      "---  ------            --------------   -----  \n",
      " 0   user_id           502493 non-null  object \n",
      " 1   lt_day            502493 non-null  int64  \n",
      " 2   is_new            502493 non-null  object \n",
      " 3   age               501939 non-null  float64\n",
      " 4   gender            502493 non-null  object \n",
      " 5   os_name           502493 non-null  object \n",
      " 6   cpe_type_name     502493 non-null  object \n",
      " 7   country           502493 non-null  object \n",
      " 8   city              502493 non-null  object \n",
      " 9   age_segmen        502493 non-null  object \n",
      " 10  traffic           502493 non-null  object \n",
      " 11  lifetime_segment  502493 non-null  object \n",
      " 12  nps_score         502493 non-null  int64  \n",
      " 13  nps_segment       502493 non-null  object \n",
      "dtypes: float64(1), int64(2), object(11)\n",
      "memory usage: 53.7+ MB\n"
     ]
    }
   ],
   "source": [
    "df.info()\n"
   ]
  },
  {
   "cell_type": "markdown",
   "id": "b880ae33",
   "metadata": {},
   "source": [
    "Избавимся от индексов категорий"
   ]
  },
  {
   "cell_type": "code",
   "execution_count": 8,
   "id": "ce8a9ca4",
   "metadata": {},
   "outputs": [],
   "source": [
    "df['age_segmen'] = df['age_segmen'].str.split(pat=' ').str[1]\n",
    "df['age_segmen'] = df['age_segmen'].str.replace('до', 'до 16')\n",
    "df['traffic'] = df['traffic'].str.split(pat=' ').str[1]\n",
    "df['lifetime_segment'] = df['lifetime_segment'].str.split(pat=' ').str[1]\n"
   ]
  },
  {
   "cell_type": "code",
   "execution_count": 9,
   "id": "81521c76",
   "metadata": {},
   "outputs": [
    {
     "name": "stdout",
     "output_type": "stream",
     "text": [
      "['45-54' '55-64' '35-44' '16-24' '25-34' '66' 'до 16' 'n/a']\n",
      " \n",
      "['1-5' '20-25' '0.1-1' '5-10' '10-15' '45-50' '15-20' '25-30' '40-45'\n",
      " '75-80' '50-55' '85-90' '60-65' '70-75' '30-35' '80-85' '100+' '35-40'\n",
      " '55-60' '90-95' '65-70' '0.01-0.1' '95-100' '0-0.01' '0']\n",
      " \n",
      "['36+' '13-24' '7-12' '4-6' '25-36' '2' '3' '1']\n",
      " \n"
     ]
    }
   ],
   "source": [
    "print(df['age_segmen'].unique(), ' ', df['traffic'].unique(), ' ', df['lifetime_segment'].unique(), ' ', sep = '\\n')"
   ]
  },
  {
   "cell_type": "markdown",
   "id": "8cf724bc",
   "metadata": {},
   "source": [
    "## Проверка категориальных значений\n",
    "\n",
    "Посмотрим, какие значения принимают категориальные переменные. Убедимся, что среди них нет подозрительных или неявно дублирующих друг друга."
   ]
  },
  {
   "cell_type": "code",
   "execution_count": 10,
   "id": "4e50f176",
   "metadata": {},
   "outputs": [],
   "source": [
    "#df['age_segmen'].unique()\n",
    "#df['traffic'].unique()\n",
    "#df['lifetime_segment'].unique()"
   ]
  },
  {
   "cell_type": "code",
   "execution_count": 11,
   "id": "853fa49a",
   "metadata": {},
   "outputs": [
    {
     "name": "stdout",
     "output_type": "stream",
     "text": [
      "['ANDROID' 'IOS' 'OTHER' 'unknown' 'PROPRIETARY' 'WINDOWS PHONE'\n",
      " 'SYMBIAN OS' 'BADA OS' 'WINDOWS MOBILE']\n",
      " \n",
      "['SMARTPHONE' 'TABLET' 'MOBILE PHONE/FEATURE PHONE' 'PHONE' 'ROUTER'\n",
      " 'MODEM' 'WLAN ROUTER' 'USB MODEM' 'unknown' 'PORTABLE(INCLUDE PDA)'\n",
      " 'NETWORK DEVICE' 'MIFI ROUTER' 'MOBILE TEST PLATFORM' 'HANDHELD']\n",
      " \n",
      "['Уфа' 'Киров' 'Москва' 'РостовнаДону' 'Рязань' 'Омск' 'СанктПетербург'\n",
      " 'Волгоград' 'Тольятти' 'Казань' 'Самара' 'Красноярск' 'Екатеринбург'\n",
      " 'Калуга' 'Краснодар' 'Иркутск' 'Пермь' 'Владимир' 'Ижевск' 'Тюмень'\n",
      " 'Оренбург' 'НижнийНовгород' 'Брянск' 'Челябинск' 'Астрахань' 'Сургут'\n",
      " 'Тверь' 'Новосибирск' 'НабережныеЧелны' 'Махачкала' 'Воронеж' 'Курск'\n",
      " 'Владивосток' 'Балашиха' 'Пенза' 'Калининград' 'Тула' 'Саратов'\n",
      " 'Кемерово' 'Белгород' 'Барнаул' 'Чебоксары' 'Архангельск' 'Томск'\n",
      " 'Ярославль' 'Ульяновск' 'Хабаровск' 'Грозный' 'Ставрополь' 'Липецк'\n",
      " 'Новокузнецк' 'Якутск' 'УланУдэ' 'Сочи' 'Иваново' 'НижнийТагил'\n",
      " 'Смоленск' 'Волжский' 'Магнитогорск' 'Чита' 'Череповец' 'Саранск']\n",
      " \n",
      "['Россия']\n"
     ]
    }
   ],
   "source": [
    "print(df['os_name'].unique(), ' ', df['cpe_type_name'].unique(), ' ', df['city'].unique(), ' ', sep = '\\n')\n",
    "print(df['country'].unique())\n"
   ]
  },
  {
   "cell_type": "code",
   "execution_count": 12,
   "id": "151ab4e4",
   "metadata": {},
   "outputs": [
    {
     "data": {
      "text/plain": [
       "cpe_type_name\n",
       "SMARTPHONE                    487959\n",
       "TABLET                          9274\n",
       "PHONE                           2531\n",
       "MOBILE PHONE/FEATURE PHONE      2471\n",
       "ROUTER                           196\n",
       "USB MODEM                         27\n",
       "unknown                           18\n",
       "MODEM                              7\n",
       "WLAN ROUTER                        3\n",
       "NETWORK DEVICE                     3\n",
       "PORTABLE(INCLUDE PDA)              1\n",
       "MIFI ROUTER                        1\n",
       "MOBILE TEST PLATFORM               1\n",
       "HANDHELD                           1\n",
       "Name: count, dtype: int64"
      ]
     },
     "execution_count": 12,
     "metadata": {},
     "output_type": "execute_result"
    }
   ],
   "source": [
    "df['cpe_type_name'].value_counts()"
   ]
  },
  {
   "cell_type": "markdown",
   "id": "82f95fac",
   "metadata": {},
   "source": [
    "Обработка категориальных данных, за исключением уже проведенной ранее (с индексами сегментов), не требуется."
   ]
  },
  {
   "cell_type": "markdown",
   "id": "19383356",
   "metadata": {},
   "source": [
    "## Проверка количественных значений и EDA"
   ]
  },
  {
   "cell_type": "markdown",
   "id": "72ac5da3",
   "metadata": {},
   "source": [
    "Задачи этого раздела:\n",
    "1. Посмотреть на основные распределения \n",
    "2. Изучить аномалии и обработать их при необходимости\n",
    "3. Сформировать первичное представление о данных, получить первые инсайты и начертить гипотезы для более детального анализа в Tableau."
   ]
  },
  {
   "cell_type": "markdown",
   "id": "a7516f51",
   "metadata": {},
   "source": [
    "Посмотрим на описание данных и распределения колич. переменных."
   ]
  },
  {
   "cell_type": "code",
   "execution_count": 43,
   "id": "5ee8f061",
   "metadata": {},
   "outputs": [
    {
     "name": "stdout",
     "output_type": "stream",
     "text": [
      "              lt_day            age      nps_score\n",
      "count  502476.000000  501939.000000  502476.000000\n",
      "mean     1868.904911      39.621946       7.508607\n",
      "std      1683.694880      11.188249       3.020376\n",
      "min         1.000000      10.000000       1.000000\n",
      "25%       533.000000      31.000000       5.000000\n",
      "50%      1239.000000      38.000000       9.000000\n",
      "75%      3064.000000      47.000000      10.000000\n",
      "max      9162.000000      89.000000      10.000000\n"
     ]
    },
    {
     "data": {
      "image/png": "[encoded data removed]",
      "text/plain": [
       "<Figure size 640x480 with 1 Axes>"
      ]
     },
     "metadata": {},
     "output_type": "display_data"
    }
   ],
   "source": [
    "print(df.describe())\n",
    "sns.histplot(df, x = 'lt_day')\n",
    "plt.title('Гистограмма переменной лайфтайма')\n",
    "plt.xlabel('Лайфтайм в днях')\n",
    "plt.ylabel('Количество значений')\n",
    "plt.show()\n"
   ]
  },
  {
   "cell_type": "code",
   "execution_count": 44,
   "id": "d155a839",
   "metadata": {},
   "outputs": [
    {
     "data": {
      "image/png": "[encoded data removed]",
      "text/plain": [
       "<Figure size 640x480 with 1 Axes>"
      ]
     },
     "metadata": {},
     "output_type": "display_data"
    }
   ],
   "source": [
    "sns.histplot(df, x = 'age', bins = 40)\n",
    "plt.title('Гистограмма переменной возраста')\n",
    "plt.xlabel('Возраст (в годах)')\n",
    "plt.ylabel('Количество значений')\n",
    "plt.show()"
   ]
  },
  {
   "cell_type": "code",
   "execution_count": 56,
   "id": "de0560af",
   "metadata": {},
   "outputs": [
    {
     "data": {
      "image/png": "[encoded data removed]",
      "text/plain": [
       "<Figure size 640x480 with 1 Axes>"
      ]
     },
     "metadata": {},
     "output_type": "display_data"
    }
   ],
   "source": [
    "nps_cnt = df.groupby('nps_score')['user_id'].count().reset_index()\n",
    "\n",
    "sns.barplot(nps_cnt, x = 'nps_score', y = 'user_id')\n",
    "plt.title('Гистограмма переменной nps')\n",
    "plt.xlabel('nps (1-10)')\n",
    "plt.ylabel('Количество значений')\n",
    "plt.show()"
   ]
  },
  {
   "cell_type": "markdown",
   "id": "8b868f93",
   "metadata": {},
   "source": [
    "Выявлены аномальные строки с отрицательными значениями lt. Такие строки будут удалены."
   ]
  },
  {
   "cell_type": "code",
   "execution_count": 14,
   "id": "7b7df591",
   "metadata": {},
   "outputs": [],
   "source": [
    "df = df[df['lt_day'] > 0]\n",
    "\n"
   ]
  },
  {
   "cell_type": "markdown",
   "id": "aba0e819",
   "metadata": {},
   "source": [
    "Теперь взглянем на ящики с усами, которые показывают медианы и разброс значений, а также визуализируют статистические выбросы."
   ]
  },
  {
   "cell_type": "code",
   "execution_count": 15,
   "id": "2d256518",
   "metadata": {},
   "outputs": [],
   "source": [
    "def boxpl(col):\n",
    "    plt.figure(figsize=(10, 6))\n",
    "    sns.boxplot(data=df[col], orient='h')\n",
    "    plt.title(f'Boxplot для {col}')\n",
    "    plt.show()"
   ]
  },
  {
   "cell_type": "code",
   "execution_count": 16,
   "id": "ee031442",
   "metadata": {},
   "outputs": [
    {
     "data": {
      "image/png": "[encoded data removed]",
      "text/plain": [
       "<Figure size 1000x600 with 1 Axes>"
      ]
     },
     "metadata": {},
     "output_type": "display_data"
    }
   ],
   "source": [
    "boxpl('lt_day')"
   ]
  },
  {
   "cell_type": "code",
   "execution_count": 17,
   "id": "0c300200",
   "metadata": {},
   "outputs": [
    {
     "data": {
      "image/png": "[encoded data removed]",
      "text/plain": [
       "<Figure size 1000x600 with 1 Axes>"
      ]
     },
     "metadata": {},
     "output_type": "display_data"
    }
   ],
   "source": [
    "boxpl('age')"
   ]
  },
  {
   "cell_type": "markdown",
   "id": "4914522f",
   "metadata": {},
   "source": [
    "Есть стат. выбросы для переменных возраста и лайфтайма, но содержательных причин для их обработки нет."
   ]
  },
  {
   "cell_type": "code",
   "execution_count": 18,
   "id": "25b14732",
   "metadata": {},
   "outputs": [
    {
     "data": {
      "text/plain": [
       "9.0"
      ]
     },
     "execution_count": 18,
     "metadata": {},
     "output_type": "execute_result"
    }
   ],
   "source": [
    "df['nps_score'].median()"
   ]
  },
  {
   "cell_type": "code",
   "execution_count": 19,
   "id": "64c70196",
   "metadata": {},
   "outputs": [
    {
     "data": {
      "image/png": "[encoded data removed]",
      "text/plain": [
       "<Figure size 1000x600 with 1 Axes>"
      ]
     },
     "metadata": {},
     "output_type": "display_data"
    }
   ],
   "source": [
    "boxpl('nps_score')"
   ]
  },
  {
   "cell_type": "markdown",
   "id": "1cc21fb5",
   "metadata": {},
   "source": [
    "Примерно 50% значений лояльности лежит в диапазоне от 5 до 10. Медиана равна 9."
   ]
  },
  {
   "cell_type": "code",
   "execution_count": 20,
   "id": "6a9ab656",
   "metadata": {},
   "outputs": [
    {
     "data": {
      "text/plain": [
       "age_segmen\n",
       "16-24     8.0\n",
       "25-34     8.0\n",
       "35-44     9.0\n",
       "45-54    10.0\n",
       "55-64    10.0\n",
       "66       10.0\n",
       "n/a       3.0\n",
       "до 16     7.0\n",
       "Name: nps_score, dtype: float64"
      ]
     },
     "execution_count": 20,
     "metadata": {},
     "output_type": "execute_result"
    }
   ],
   "source": [
    "df.groupby('age_segmen')['nps_score'].median()"
   ]
  },
  {
   "cell_type": "code",
   "execution_count": 21,
   "id": "bb32f53c",
   "metadata": {},
   "outputs": [
    {
     "data": {
      "image/png": "[encoded data removed]",
      "text/plain": [
       "<Figure size 1200x600 with 1 Axes>"
      ]
     },
     "metadata": {},
     "output_type": "display_data"
    }
   ],
   "source": [
    "plt.figure(figsize=(12, 6))\n",
    "sns.boxplot(x='age_segmen', y='nps_score', data=df, order=sorted(df['age_segmen'].unique()))\n",
    "plt.title('Boxplot: NPS по возрастным сегментам')\n",
    "plt.xlabel('Возрастной сегмент')\n",
    "plt.ylabel('NPS Score')\n",
    "plt.show()"
   ]
  },
  {
   "cell_type": "markdown",
   "id": "6b487f18",
   "metadata": {},
   "source": [
    "Медиана nps в обобщенной категории 45-66 равна 10. Предварительно, клиенты этой возрастной категории наиболее лояльны компании. В то же время, минимальная медиана наблюдается в категории до 16.\n",
    "\n",
    "Выбросы, отображенные на графиках, не вызывают содержательных подозрений."
   ]
  },
  {
   "cell_type": "code",
   "execution_count": 22,
   "id": "1a6c85e8",
   "metadata": {},
   "outputs": [
    {
     "data": {
      "image/png": "[encoded data removed]",
      "text/plain": [
       "<Figure size 800x500 with 1 Axes>"
      ]
     },
     "metadata": {},
     "output_type": "display_data"
    }
   ],
   "source": [
    "plt.figure(figsize=(8, 5))\n",
    "sns.barplot(x='gender', y='nps_score', data=df, estimator=np.mean, errorbar ='sd')\n",
    "plt.title('Средний NPS по полу')\n",
    "plt.xlabel('Пол')\n",
    "plt.ylabel('Средний NPS')\n",
    "plt.show()"
   ]
  },
  {
   "cell_type": "markdown",
   "id": "7f32eab3",
   "metadata": {},
   "source": [
    "NPS в разрезе пола практически не различается. Что касается others, то таких значений попросту сильно меньше, так что колебания среднего допустимы."
   ]
  },
  {
   "cell_type": "code",
   "execution_count": 23,
   "id": "4cf84174",
   "metadata": {},
   "outputs": [
    {
     "data": {
      "image/png": "[encoded data removed]",
      "text/plain": [
       "<Figure size 1000x600 with 1 Axes>"
      ]
     },
     "metadata": {},
     "output_type": "display_data"
    }
   ],
   "source": [
    "plt.figure(figsize=(10, 6))\n",
    "sns.countplot(x='nps_segment', data=df, order=['promoters', 'neutrals', 'detractors'])\n",
    "plt.title('Распределение по сегментам NPS')\n",
    "plt.xlabel('Сегмент')\n",
    "plt.ylabel('Количество')\n",
    "plt.show()"
   ]
  },
  {
   "cell_type": "markdown",
   "id": "1acfbd39",
   "metadata": {},
   "source": [
    "Видим, что в компании преобладает число сторонников. Критиков на 100 тыс. меньше (примерно на 40%).\n",
    "Нейтралов меньше всего - примерно втрое меньше, чем сторонников."
   ]
  },
  {
   "cell_type": "markdown",
   "id": "14bccaf5",
   "metadata": {},
   "source": [
    "График ниже показывает города с наибольшим числом участников опроса. Это помогает выявить географические перекосы в выборке.\n",
    "\n"
   ]
  },
  {
   "cell_type": "code",
   "execution_count": 24,
   "id": "d1dea952",
   "metadata": {},
   "outputs": [
    {
     "data": {
      "image/png": "[encoded data removed]",
      "text/plain": [
       "<Figure size 1000x400 with 1 Axes>"
      ]
     },
     "metadata": {},
     "output_type": "display_data"
    }
   ],
   "source": [
    "df['city'].value_counts().head(10).plot(kind='bar', figsize=(10,4), title='Топ-10 городов по количеству пользователей')\n",
    "plt.xlabel('Город')\n",
    "plt.ylabel('Количество пользователей')\n",
    "plt.show()"
   ]
  },
  {
   "cell_type": "markdown",
   "id": "094958e6",
   "metadata": {},
   "source": [
    "Видим, что в выборке прежде всего представлены Москва и крупные города-миллионники. "
   ]
  },
  {
   "cell_type": "markdown",
   "id": "1593a127",
   "metadata": {},
   "source": [
    "Посмотрим корреляционную матрицу количественных переменных."
   ]
  },
  {
   "cell_type": "code",
   "execution_count": 25,
   "id": "35403056",
   "metadata": {},
   "outputs": [
    {
     "data": {
      "image/png": "[encoded data removed]",
      "text/plain": [
       "<Figure size 800x600 with 2 Axes>"
      ]
     },
     "metadata": {},
     "output_type": "display_data"
    }
   ],
   "source": [
    "# Корреляционная матрица по числовым признакам\n",
    "plt.figure(figsize=(8,6))\n",
    "sns.heatmap(df.corr(numeric_only=True), annot=True, cmap='coolwarm')\n",
    "plt.title('Тепловая карта корреляций')\n",
    "plt.show()"
   ]
  },
  {
   "cell_type": "markdown",
   "id": "ecef485f",
   "metadata": {},
   "source": [
    "Предварительно, есть связь между возрастом и lifetime, но она предсказуема. О каких-то значимых ограничениях или инсайтах матрица не свидетельствует. Можно, разве что, сказать о слабой положительной линейной зависимости между возрастом и значением лояльности."
   ]
  },
  {
   "cell_type": "markdown",
   "id": "dc1c6457",
   "metadata": {},
   "source": [
    "Выводы по колич. данным и EDA:\n",
    "\n",
    "1. Основные распределения и параметры количественных столбцов изучены.\n",
    "2. Обработать потребовалось только отрицательные значения в столбце lifetime (строки были удалены)\n",
    "3. В комментариях под визуализациями были сделаны первые наблюдения и предварительные выводы по ним.\n",
    "4. Выборка скошена в сторону больших городов, но это вполне может соответствовать структуре генеральной совокупности. Требуется дополнительная информация от заказчика, чтобы сделать из этого наблюдения какой-то вывод.\n",
    "5. После обработки данные не вызывают подозрений и не несут с собой никаких значимых ограничений."
   ]
  },
  {
   "cell_type": "markdown",
   "id": "cc7913b2",
   "metadata": {},
   "source": [
    "## Удаление дубликатов"
   ]
  },
  {
   "cell_type": "code",
   "execution_count": 26,
   "id": "d0774372",
   "metadata": {},
   "outputs": [
    {
     "name": "stdout",
     "output_type": "stream",
     "text": [
      "502476\n"
     ]
    },
    {
     "data": {
      "text/plain": [
       "502476"
      ]
     },
     "execution_count": 26,
     "metadata": {},
     "output_type": "execute_result"
    }
   ],
   "source": [
    "print(len(df))\n",
    "df = df.drop_duplicates()\n",
    "len(df)"
   ]
  },
  {
   "cell_type": "markdown",
   "id": "109f482a",
   "metadata": {},
   "source": [
    "Явных дубликатов обнаружено не было. "
   ]
  },
  {
   "cell_type": "markdown",
   "id": "1ce2a28c",
   "metadata": {},
   "source": [
    "## Переименование столбцов"
   ]
  },
  {
   "cell_type": "code",
   "execution_count": 27,
   "id": "a17f45bb",
   "metadata": {},
   "outputs": [],
   "source": [
    "data = df\n",
    "data = data.rename(columns={\"gender\":\"Gender\"})"
   ]
  },
  {
   "cell_type": "markdown",
   "id": "af06adc3",
   "metadata": {},
   "source": [
    "Предобработка и EDA завершены. \n",
    "\n",
    "Сохраним получившиеся таблицы как csv файлы."
   ]
  },
  {
   "cell_type": "code",
   "execution_count": 28,
   "id": "9db04858",
   "metadata": {},
   "outputs": [],
   "source": [
    "df.to_csv('telecomm_csi_tableau.csv', index=False)\n",
    "data[['user_id', 'Gender']].to_csv('telecomm_csi_tableau_gender.csv', index=False)\n"
   ]
  },
  {
   "cell_type": "markdown",
   "id": "61b7cbc5",
   "metadata": {},
   "source": [
    "# Общий NPS и дов. интервал"
   ]
  },
  {
   "cell_type": "markdown",
   "id": "521ef90a",
   "metadata": {},
   "source": [
    "NB: NPS считается как процент сторонников компании вычесть процент критиков."
   ]
  },
  {
   "cell_type": "markdown",
   "id": "7c01d88d",
   "metadata": {},
   "source": [
    "Построим доверительный интервал для главной метрики - общего NPS."
   ]
  },
  {
   "cell_type": "code",
   "execution_count": 29,
   "id": "81e05283",
   "metadata": {},
   "outputs": [
    {
     "name": "stdout",
     "output_type": "stream",
     "text": [
      "95% доверительный интервал: [21.653, 22.147]\n",
      "Выборочный NPS: 21.9\n"
     ]
    }
   ],
   "source": [
    "n = len(df)\n",
    "n_promoters = (df['nps_segment'] == 'promoters').sum()\n",
    "n_detractors = (df['nps_segment'] == 'detractors').sum()\n",
    "\n",
    "p_promoters = n_promoters / n\n",
    "p_detractors = n_detractors / n\n",
    "nps = p_promoters - p_detractors\n",
    "\n",
    "alpha = 0.01  # 99% доверительный интервал\n",
    "# Используем нормальное приближение, так как интервал строится для доли (разности долей) и данных много.\n",
    "se = np.sqrt(p_promoters * (1 - p_promoters) / n + p_detractors * (1 - p_detractors) / n)\n",
    "from scipy.stats import norm\n",
    "z = norm.ppf(1 - alpha/2)\n",
    "ci_low = nps - z * se\n",
    "ci_high = nps + z * se\n",
    "\n",
    "print(f\"95% доверительный интервал: [{ci_low * 100:.3f}, {ci_high * 100 :.3f}]\", f'Выборочный NPS: {round(nps*100, 3)}', sep = '\\n')"
   ]
  },
  {
   "cell_type": "markdown",
   "id": "c5dbaca4",
   "metadata": {},
   "source": [
    "Значит, истинное значение общего NPS, с 99 процентной вероятностью, лежит в диапазоне от 21.65 до 22.15%.\n",
    "Выборочный NPS же равен 21.9."
   ]
  },
  {
   "cell_type": "markdown",
   "id": "d46d7068",
   "metadata": {},
   "source": [
    "# Визуализация в Tableau и выводы\n",
    "\n",
    "Для просмотра дашборда необходима открыть его по ссылке ниже. Он опубликован в tebleau public. Советую развернуть его во весь экран, чтобы графики и выводы отображались полностью.\n",
    "\n",
    "Помимо основного дашборда (а точнее трех, связанных в одну историю), в этом проекте есть и другие сопутствующие графики. Чтобы посмотреть их, переключайте листы вверху страницы.\n",
    "\n",
    "Как и дашборды, так и графики интерактивны. Нажимайте на столбцы или части диаграмм другой формы, чтобы изменить скоуп данных для визуализации, а также используйте ползунки, при их наличии."
   ]
  },
  {
   "cell_type": "markdown",
   "id": "9bdfc889",
   "metadata": {},
   "source": [
    "https://public.tableau.com/app/profile/alex.prokof/viz/NPSproject_16939514575260/Story1?publish=yes"
   ]
  }
 ],
 "metadata": {
  "ExecuteTimeLog": [
   {
    "duration": 580,
    "start_time": "2023-09-02T12:27:08.538Z"
   },
   {
    "duration": 84,
    "start_time": "2023-09-02T12:27:09.120Z"
   },
   {
    "duration": 3,
    "start_time": "2023-09-02T12:27:09.362Z"
   },
   {
    "duration": 499,
    "start_time": "2023-09-02T12:27:10.142Z"
   },
   {
    "duration": 8,
    "start_time": "2023-09-02T22:17:50.915Z"
   },
   {
    "duration": 43,
    "start_time": "2023-09-02T22:17:56.020Z"
   },
   {
    "duration": 493,
    "start_time": "2023-09-02T22:18:05.127Z"
   },
   {
    "duration": 65,
    "start_time": "2023-09-02T22:18:05.722Z"
   },
   {
    "duration": 2,
    "start_time": "2023-09-02T22:18:08.910Z"
   },
   {
    "duration": 54,
    "start_time": "2023-09-02T22:18:09.354Z"
   },
   {
    "duration": 2,
    "start_time": "2023-09-02T22:18:09.882Z"
   },
   {
    "duration": 413,
    "start_time": "2023-09-02T22:18:10.884Z"
   },
   {
    "duration": 3,
    "start_time": "2023-09-02T22:18:45.249Z"
   },
   {
    "duration": 355,
    "start_time": "2023-09-02T22:18:46.272Z"
   },
   {
    "duration": 9,
    "start_time": "2023-09-03T10:05:06.750Z"
   },
   {
    "duration": 49,
    "start_time": "2023-09-03T10:05:07.624Z"
   },
   {
    "duration": 572,
    "start_time": "2023-09-03T10:05:11.688Z"
   },
   {
    "duration": 103,
    "start_time": "2023-09-03T10:05:12.262Z"
   },
   {
    "duration": 3,
    "start_time": "2023-09-03T10:05:12.369Z"
   },
   {
    "duration": 408,
    "start_time": "2023-09-03T10:05:12.373Z"
   },
   {
    "duration": 0,
    "start_time": "2023-09-03T10:05:12.783Z"
   },
   {
    "duration": 4,
    "start_time": "2023-09-03T10:05:32.428Z"
   },
   {
    "duration": 341,
    "start_time": "2023-09-03T10:05:33.202Z"
   },
   {
    "duration": 4,
    "start_time": "2023-09-03T10:08:26.611Z"
   },
   {
    "duration": 472,
    "start_time": "2023-09-03T10:08:28.780Z"
   },
   {
    "duration": 4,
    "start_time": "2023-09-03T10:12:59.848Z"
   },
   {
    "duration": 543,
    "start_time": "2023-09-03T10:13:00.740Z"
   },
   {
    "duration": 3,
    "start_time": "2023-09-03T10:21:45.813Z"
   },
   {
    "duration": 570,
    "start_time": "2023-09-03T10:21:47.001Z"
   },
   {
    "duration": 3,
    "start_time": "2023-09-03T11:11:46.822Z"
   },
   {
    "duration": 516,
    "start_time": "2023-09-03T11:11:47.923Z"
   },
   {
    "duration": 4,
    "start_time": "2023-09-03T11:20:30.718Z"
   },
   {
    "duration": 582,
    "start_time": "2023-09-03T11:20:32.515Z"
   },
   {
    "duration": 100,
    "start_time": "2023-09-03T12:52:20.943Z"
   },
   {
    "duration": 565,
    "start_time": "2023-09-03T12:52:23.042Z"
   },
   {
    "duration": 3,
    "start_time": "2023-09-03T12:52:46.740Z"
   },
   {
    "duration": 6566,
    "start_time": "2023-09-03T12:52:47.936Z"
   },
   {
    "duration": 4,
    "start_time": "2023-09-03T12:52:55.332Z"
   },
   {
    "duration": 5824,
    "start_time": "2023-09-03T12:52:56.218Z"
   },
   {
    "duration": 6373,
    "start_time": "2023-09-03T12:55:10.322Z"
   },
   {
    "duration": 6293,
    "start_time": "2023-09-03T12:56:40.452Z"
   },
   {
    "duration": 6731,
    "start_time": "2023-09-03T12:58:13.634Z"
   },
   {
    "duration": 5986,
    "start_time": "2023-09-03T12:58:39.848Z"
   },
   {
    "duration": 59,
    "start_time": "2023-09-03T13:03:17.994Z"
   },
   {
    "duration": 5488,
    "start_time": "2023-09-03T13:03:24.962Z"
   },
   {
    "duration": 5732,
    "start_time": "2023-09-03T13:03:38.419Z"
   },
   {
    "duration": 6817,
    "start_time": "2023-09-03T13:04:17.185Z"
   },
   {
    "duration": 7412,
    "start_time": "2023-09-03T13:04:53.154Z"
   },
   {
    "duration": 7712,
    "start_time": "2023-09-03T13:06:23.226Z"
   },
   {
    "duration": 7479,
    "start_time": "2023-09-03T13:10:00.138Z"
   },
   {
    "duration": 7665,
    "start_time": "2023-09-03T13:10:54.281Z"
   },
   {
    "duration": 11804,
    "start_time": "2023-09-03T13:47:41.515Z"
   },
   {
    "duration": 66,
    "start_time": "2023-09-03T13:52:21.981Z"
   },
   {
    "duration": 56,
    "start_time": "2023-09-03T13:52:31.419Z"
   },
   {
    "duration": 80,
    "start_time": "2023-09-03T13:53:17.972Z"
   },
   {
    "duration": 6821,
    "start_time": "2023-09-03T13:53:21.590Z"
   },
   {
    "duration": 6015,
    "start_time": "2023-09-03T13:56:06.872Z"
   },
   {
    "duration": 51,
    "start_time": "2023-09-04T10:48:14.912Z"
   },
   {
    "duration": 512,
    "start_time": "2023-09-04T10:48:22.228Z"
   },
   {
    "duration": 122,
    "start_time": "2023-09-04T10:48:22.742Z"
   },
   {
    "duration": 3,
    "start_time": "2023-09-04T10:48:22.866Z"
   },
   {
    "duration": 10940,
    "start_time": "2023-09-04T10:48:22.871Z"
   },
   {
    "duration": 5390,
    "start_time": "2023-09-04T10:48:33.813Z"
   },
   {
    "duration": 11445,
    "start_time": "2023-09-04T10:49:19.377Z"
   },
   {
    "duration": 2,
    "start_time": "2023-09-04T10:50:28.354Z"
   },
   {
    "duration": 77,
    "start_time": "2023-09-04T10:50:28.358Z"
   },
   {
    "duration": 3,
    "start_time": "2023-09-04T10:50:28.437Z"
   },
   {
    "duration": 9203,
    "start_time": "2023-09-04T10:50:28.442Z"
   },
   {
    "duration": 5196,
    "start_time": "2023-09-04T10:50:37.647Z"
   },
   {
    "duration": 9282,
    "start_time": "2023-09-04T10:50:57.617Z"
   },
   {
    "duration": 3,
    "start_time": "2023-09-04T10:53:13.208Z"
   },
   {
    "duration": 91,
    "start_time": "2023-09-04T10:53:13.213Z"
   },
   {
    "duration": 4,
    "start_time": "2023-09-04T10:53:13.306Z"
   },
   {
    "duration": 8208,
    "start_time": "2023-09-04T10:53:13.313Z"
   },
   {
    "duration": 5305,
    "start_time": "2023-09-04T10:53:21.523Z"
   },
   {
    "duration": 2,
    "start_time": "2023-09-04T10:59:23.397Z"
   },
   {
    "duration": 149,
    "start_time": "2023-09-04T10:59:23.401Z"
   },
   {
    "duration": 3,
    "start_time": "2023-09-04T10:59:23.552Z"
   },
   {
    "duration": 12469,
    "start_time": "2023-09-04T10:59:23.557Z"
   },
   {
    "duration": 6765,
    "start_time": "2023-09-04T10:59:36.028Z"
   },
   {
    "duration": 133,
    "start_time": "2023-09-04T11:00:10.934Z"
   },
   {
    "duration": 10094,
    "start_time": "2023-09-04T11:00:39.804Z"
   },
   {
    "duration": 11992,
    "start_time": "2023-09-04T11:05:05.868Z"
   },
   {
    "duration": 12029,
    "start_time": "2023-09-04T11:05:44.289Z"
   },
   {
    "duration": 63,
    "start_time": "2023-09-04T11:06:54.443Z"
   },
   {
    "duration": 519,
    "start_time": "2023-09-04T11:06:57.420Z"
   },
   {
    "duration": 59,
    "start_time": "2023-09-04T11:06:57.941Z"
   },
   {
    "duration": 3,
    "start_time": "2023-09-04T11:06:58.002Z"
   },
   {
    "duration": 11579,
    "start_time": "2023-09-04T11:06:58.006Z"
   },
   {
    "duration": 4845,
    "start_time": "2023-09-04T11:07:09.587Z"
   },
   {
    "duration": 10353,
    "start_time": "2023-09-04T11:07:27.354Z"
   },
   {
    "duration": 12345,
    "start_time": "2023-09-04T11:07:59.874Z"
   },
   {
    "duration": 33,
    "start_time": "2023-09-04T11:26:44.459Z"
   },
   {
    "duration": 69,
    "start_time": "2023-09-04T11:26:52.596Z"
   },
   {
    "duration": 8,
    "start_time": "2023-09-04T11:29:35.469Z"
   },
   {
    "duration": 2783,
    "start_time": "2023-09-04T11:29:46.522Z"
   },
   {
    "duration": 69,
    "start_time": "2023-09-04T11:30:03.593Z"
   },
   {
    "duration": 403,
    "start_time": "2023-09-04T11:31:35.378Z"
   },
   {
    "duration": 375,
    "start_time": "2023-09-04T11:32:29.102Z"
   },
   {
    "duration": 7,
    "start_time": "2023-09-04T11:33:22.759Z"
   },
   {
    "duration": 1109,
    "start_time": "2023-09-04T11:33:29.238Z"
   },
   {
    "duration": 7,
    "start_time": "2023-09-04T21:32:37.578Z"
   },
   {
    "duration": 523,
    "start_time": "2023-09-04T21:32:41.189Z"
   },
   {
    "duration": 137,
    "start_time": "2023-09-04T21:32:41.714Z"
   },
   {
    "duration": 4,
    "start_time": "2023-09-04T21:32:41.852Z"
   },
   {
    "duration": 11587,
    "start_time": "2023-09-04T21:32:41.858Z"
   },
   {
    "duration": 15,
    "start_time": "2023-09-04T21:32:53.447Z"
   },
   {
    "duration": 457,
    "start_time": "2023-09-04T21:32:53.463Z"
   },
   {
    "duration": 1035,
    "start_time": "2023-09-04T21:32:53.922Z"
   },
   {
    "duration": 51,
    "start_time": "2023-09-04T21:32:54.959Z"
   },
   {
    "duration": 1,
    "start_time": "2023-09-04T21:32:55.011Z"
   },
   {
    "duration": 12802,
    "start_time": "2023-09-04T21:33:29.165Z"
   },
   {
    "duration": 3,
    "start_time": "2023-09-04T21:33:41.969Z"
   },
   {
    "duration": 9,
    "start_time": "2023-09-04T21:36:31.068Z"
   },
   {
    "duration": 1464,
    "start_time": "2023-09-04T21:36:46.252Z"
   },
   {
    "duration": 9,
    "start_time": "2023-09-04T21:37:05.123Z"
   },
   {
    "duration": 543,
    "start_time": "2023-09-04T21:40:11.694Z"
   },
   {
    "duration": 64,
    "start_time": "2023-09-04T21:40:12.239Z"
   },
   {
    "duration": 3,
    "start_time": "2023-09-04T21:40:12.305Z"
   },
   {
    "duration": 111,
    "start_time": "2023-09-04T21:40:12.310Z"
   },
   {
    "duration": 0,
    "start_time": "2023-09-04T21:40:12.424Z"
   },
   {
    "duration": 0,
    "start_time": "2023-09-04T21:40:12.425Z"
   },
   {
    "duration": 0,
    "start_time": "2023-09-04T21:40:12.426Z"
   },
   {
    "duration": 0,
    "start_time": "2023-09-04T21:40:12.427Z"
   },
   {
    "duration": 0,
    "start_time": "2023-09-04T21:40:12.428Z"
   },
   {
    "duration": 0,
    "start_time": "2023-09-04T21:40:12.429Z"
   },
   {
    "duration": 0,
    "start_time": "2023-09-04T21:40:12.430Z"
   },
   {
    "duration": 0,
    "start_time": "2023-09-04T21:40:12.432Z"
   },
   {
    "duration": 7,
    "start_time": "2023-09-04T21:40:17.570Z"
   },
   {
    "duration": 2,
    "start_time": "2023-09-04T21:40:21.044Z"
   },
   {
    "duration": 83,
    "start_time": "2023-09-04T21:40:21.048Z"
   },
   {
    "duration": 3,
    "start_time": "2023-09-04T21:40:21.133Z"
   },
   {
    "duration": 11,
    "start_time": "2023-09-04T21:40:21.138Z"
   },
   {
    "duration": 0,
    "start_time": "2023-09-04T21:40:21.151Z"
   },
   {
    "duration": 0,
    "start_time": "2023-09-04T21:40:21.152Z"
   },
   {
    "duration": 0,
    "start_time": "2023-09-04T21:40:21.153Z"
   },
   {
    "duration": 0,
    "start_time": "2023-09-04T21:40:21.154Z"
   },
   {
    "duration": 0,
    "start_time": "2023-09-04T21:40:21.155Z"
   },
   {
    "duration": 0,
    "start_time": "2023-09-04T21:40:21.156Z"
   },
   {
    "duration": 0,
    "start_time": "2023-09-04T21:40:21.157Z"
   },
   {
    "duration": 0,
    "start_time": "2023-09-04T21:40:21.158Z"
   },
   {
    "duration": 8,
    "start_time": "2023-09-04T21:40:49.545Z"
   },
   {
    "duration": 5424,
    "start_time": "2023-09-04T21:40:53.362Z"
   },
   {
    "duration": 3,
    "start_time": "2023-09-04T21:40:59.367Z"
   },
   {
    "duration": 61,
    "start_time": "2023-09-04T21:40:59.371Z"
   },
   {
    "duration": 3,
    "start_time": "2023-09-04T21:40:59.434Z"
   },
   {
    "duration": 5491,
    "start_time": "2023-09-04T21:40:59.438Z"
   },
   {
    "duration": 582,
    "start_time": "2023-09-04T21:41:04.931Z"
   },
   {
    "duration": 6011,
    "start_time": "2023-09-04T21:41:05.515Z"
   },
   {
    "duration": 2,
    "start_time": "2023-09-04T21:41:11.528Z"
   },
   {
    "duration": 103,
    "start_time": "2023-09-04T21:41:11.532Z"
   },
   {
    "duration": 454,
    "start_time": "2023-09-04T21:41:11.637Z"
   },
   {
    "duration": 851,
    "start_time": "2023-09-04T21:41:12.093Z"
   },
   {
    "duration": 1201,
    "start_time": "2023-09-04T21:41:12.946Z"
   },
   {
    "duration": 61,
    "start_time": "2023-09-04T21:41:14.149Z"
   },
   {
    "duration": 0,
    "start_time": "2023-09-04T21:41:14.211Z"
   },
   {
    "duration": 3173,
    "start_time": "2023-09-04T21:48:25.491Z"
   },
   {
    "duration": 2506,
    "start_time": "2023-09-04T21:48:43.493Z"
   },
   {
    "duration": 490,
    "start_time": "2023-09-05T19:51:03.905Z"
   },
   {
    "duration": 86,
    "start_time": "2023-09-05T19:51:04.397Z"
   },
   {
    "duration": 18,
    "start_time": "2023-09-05T19:51:04.485Z"
   },
   {
    "duration": 5763,
    "start_time": "2023-09-05T19:51:04.505Z"
   },
   {
    "duration": 632,
    "start_time": "2023-09-05T19:51:10.271Z"
   },
   {
    "duration": 6341,
    "start_time": "2023-09-05T19:51:10.905Z"
   },
   {
    "duration": 3,
    "start_time": "2023-09-05T19:51:17.248Z"
   },
   {
    "duration": 103,
    "start_time": "2023-09-05T19:51:17.257Z"
   },
   {
    "duration": 412,
    "start_time": "2023-09-05T19:51:17.362Z"
   },
   {
    "duration": 1102,
    "start_time": "2023-09-05T19:51:17.775Z"
   },
   {
    "duration": 1462,
    "start_time": "2023-09-05T19:51:18.879Z"
   },
   {
    "duration": 3104,
    "start_time": "2023-09-05T19:51:20.343Z"
   },
   {
    "duration": 4600,
    "start_time": "2023-09-05T19:51:23.449Z"
   },
   {
    "duration": 49,
    "start_time": "2023-09-06T19:00:17.719Z"
   },
   {
    "duration": 578,
    "start_time": "2023-09-06T19:00:20.234Z"
   },
   {
    "duration": 94,
    "start_time": "2023-09-06T19:00:20.814Z"
   },
   {
    "duration": 4,
    "start_time": "2023-09-06T19:00:20.909Z"
   },
   {
    "duration": 6880,
    "start_time": "2023-09-06T19:00:20.916Z"
   },
   {
    "duration": 538,
    "start_time": "2023-09-06T19:00:27.798Z"
   },
   {
    "duration": 5523,
    "start_time": "2023-09-06T19:00:28.337Z"
   },
   {
    "duration": 3,
    "start_time": "2023-09-06T19:00:33.865Z"
   },
   {
    "duration": 86,
    "start_time": "2023-09-06T19:00:33.870Z"
   },
   {
    "duration": 378,
    "start_time": "2023-09-06T19:00:33.958Z"
   },
   {
    "duration": 157,
    "start_time": "2023-09-06T19:00:34.338Z"
   },
   {
    "duration": 1062,
    "start_time": "2023-09-06T19:00:34.498Z"
   },
   {
    "duration": 1207,
    "start_time": "2023-09-06T19:00:35.562Z"
   },
   {
    "duration": 2631,
    "start_time": "2023-09-06T19:00:36.776Z"
   },
   {
    "duration": 6608,
    "start_time": "2023-09-06T19:00:39.409Z"
   },
   {
    "duration": 7,
    "start_time": "2023-09-06T19:22:16.904Z"
   },
   {
    "duration": 569,
    "start_time": "2023-09-09T09:37:11.820Z"
   },
   {
    "duration": 102,
    "start_time": "2023-09-09T09:37:12.392Z"
   },
   {
    "duration": 4,
    "start_time": "2023-09-09T09:37:12.496Z"
   },
   {
    "duration": 5605,
    "start_time": "2023-09-09T09:37:12.503Z"
   },
   {
    "duration": 559,
    "start_time": "2023-09-09T09:37:18.112Z"
   },
   {
    "duration": 5563,
    "start_time": "2023-09-09T09:37:18.672Z"
   },
   {
    "duration": 3,
    "start_time": "2023-09-09T09:37:24.236Z"
   },
   {
    "duration": 17,
    "start_time": "2023-09-09T09:37:24.241Z"
   },
   {
    "duration": 403,
    "start_time": "2023-09-09T09:37:24.260Z"
   },
   {
    "duration": 123,
    "start_time": "2023-09-09T09:37:24.665Z"
   },
   {
    "duration": 1211,
    "start_time": "2023-09-09T09:37:24.790Z"
   },
   {
    "duration": 9,
    "start_time": "2023-09-09T09:37:26.003Z"
   },
   {
    "duration": 1249,
    "start_time": "2023-09-09T09:37:26.014Z"
   },
   {
    "duration": 2713,
    "start_time": "2023-09-09T09:37:27.266Z"
   },
   {
    "duration": 5021,
    "start_time": "2023-09-09T09:37:29.981Z"
   },
   {
    "duration": 509,
    "start_time": "2023-09-10T15:22:03.721Z"
   },
   {
    "duration": 22,
    "start_time": "2023-09-10T15:22:04.233Z"
   },
   {
    "duration": 3,
    "start_time": "2023-09-10T15:22:04.257Z"
   },
   {
    "duration": 527,
    "start_time": "2023-09-10T15:22:04.262Z"
   },
   {
    "duration": 0,
    "start_time": "2023-09-10T15:22:04.792Z"
   },
   {
    "duration": 0,
    "start_time": "2023-09-10T15:22:04.793Z"
   },
   {
    "duration": 0,
    "start_time": "2023-09-10T15:22:04.794Z"
   },
   {
    "duration": 0,
    "start_time": "2023-09-10T15:22:04.795Z"
   },
   {
    "duration": 0,
    "start_time": "2023-09-10T15:22:04.796Z"
   },
   {
    "duration": 0,
    "start_time": "2023-09-10T15:22:04.797Z"
   },
   {
    "duration": 0,
    "start_time": "2023-09-10T15:22:04.798Z"
   },
   {
    "duration": 0,
    "start_time": "2023-09-10T15:22:04.799Z"
   },
   {
    "duration": 0,
    "start_time": "2023-09-10T15:22:04.800Z"
   },
   {
    "duration": 0,
    "start_time": "2023-09-10T15:22:04.801Z"
   },
   {
    "duration": 0,
    "start_time": "2023-09-10T15:22:04.802Z"
   },
   {
    "duration": 0,
    "start_time": "2023-09-10T15:22:04.803Z"
   },
   {
    "duration": 37,
    "start_time": "2023-09-10T15:22:14.154Z"
   },
   {
    "duration": 3,
    "start_time": "2023-09-10T15:22:14.193Z"
   },
   {
    "duration": 5340,
    "start_time": "2023-09-10T15:22:14.198Z"
   },
   {
    "duration": 513,
    "start_time": "2023-09-10T15:22:19.541Z"
   },
   {
    "duration": 5237,
    "start_time": "2023-09-10T15:22:20.055Z"
   },
   {
    "duration": 3,
    "start_time": "2023-09-10T15:22:25.293Z"
   },
   {
    "duration": 31,
    "start_time": "2023-09-10T15:22:25.297Z"
   },
   {
    "duration": 376,
    "start_time": "2023-09-10T15:22:25.330Z"
   },
   {
    "duration": 121,
    "start_time": "2023-09-10T15:22:25.707Z"
   },
   {
    "duration": 981,
    "start_time": "2023-09-10T15:22:25.830Z"
   },
   {
    "duration": 6,
    "start_time": "2023-09-10T15:22:26.813Z"
   },
   {
    "duration": 1043,
    "start_time": "2023-09-10T15:22:26.821Z"
   },
   {
    "duration": 2519,
    "start_time": "2023-09-10T15:22:27.866Z"
   },
   {
    "duration": 5014,
    "start_time": "2023-09-10T15:22:30.387Z"
   },
   {
    "duration": 74,
    "start_time": "2023-09-10T15:22:35.403Z"
   },
   {
    "duration": 10,
    "start_time": "2023-09-14T10:56:46.739Z"
   },
   {
    "duration": 552,
    "start_time": "2023-09-14T10:57:01.841Z"
   },
   {
    "duration": 111,
    "start_time": "2023-09-14T10:57:02.396Z"
   },
   {
    "duration": 88,
    "start_time": "2023-09-14T10:57:02.509Z"
   },
   {
    "duration": 573,
    "start_time": "2023-09-14T10:57:02.599Z"
   },
   {
    "duration": 0,
    "start_time": "2023-09-14T10:57:03.174Z"
   },
   {
    "duration": 0,
    "start_time": "2023-09-14T10:57:03.175Z"
   },
   {
    "duration": 0,
    "start_time": "2023-09-14T10:57:03.176Z"
   },
   {
    "duration": 0,
    "start_time": "2023-09-14T10:57:03.176Z"
   },
   {
    "duration": 0,
    "start_time": "2023-09-14T10:57:03.177Z"
   },
   {
    "duration": 0,
    "start_time": "2023-09-14T10:57:03.178Z"
   },
   {
    "duration": 0,
    "start_time": "2023-09-14T10:57:03.179Z"
   },
   {
    "duration": 0,
    "start_time": "2023-09-14T10:57:03.180Z"
   },
   {
    "duration": 0,
    "start_time": "2023-09-14T10:57:03.181Z"
   },
   {
    "duration": 0,
    "start_time": "2023-09-14T10:57:03.182Z"
   },
   {
    "duration": 0,
    "start_time": "2023-09-14T10:57:03.183Z"
   },
   {
    "duration": 3,
    "start_time": "2023-09-14T10:58:12.861Z"
   },
   {
    "duration": 4,
    "start_time": "2023-09-14T10:58:14.607Z"
   },
   {
    "duration": 249,
    "start_time": "2023-09-14T10:58:14.613Z"
   },
   {
    "duration": 3,
    "start_time": "2023-09-14T10:58:14.864Z"
   },
   {
    "duration": 5472,
    "start_time": "2023-09-14T10:58:14.869Z"
   },
   {
    "duration": 524,
    "start_time": "2023-09-14T10:58:20.345Z"
   },
   {
    "duration": 5304,
    "start_time": "2023-09-14T10:58:20.871Z"
   },
   {
    "duration": 2,
    "start_time": "2023-09-14T10:58:26.177Z"
   },
   {
    "duration": 57,
    "start_time": "2023-09-14T10:58:26.181Z"
   },
   {
    "duration": 385,
    "start_time": "2023-09-14T10:58:26.240Z"
   },
   {
    "duration": 121,
    "start_time": "2023-09-14T10:58:26.627Z"
   },
   {
    "duration": 1179,
    "start_time": "2023-09-14T10:58:26.750Z"
   },
   {
    "duration": 13,
    "start_time": "2023-09-14T10:58:27.931Z"
   },
   {
    "duration": 1191,
    "start_time": "2023-09-14T10:58:27.946Z"
   },
   {
    "duration": 2625,
    "start_time": "2023-09-14T10:58:29.140Z"
   },
   {
    "duration": 5137,
    "start_time": "2023-09-14T10:58:31.766Z"
   },
   {
    "duration": 5810,
    "start_time": "2023-09-14T11:07:20.793Z"
   },
   {
    "duration": 6085,
    "start_time": "2023-09-14T11:25:16.197Z"
   },
   {
    "duration": 3,
    "start_time": "2023-09-14T11:25:33.928Z"
   },
   {
    "duration": 105,
    "start_time": "2023-09-14T11:25:33.933Z"
   },
   {
    "duration": 3,
    "start_time": "2023-09-14T11:25:34.040Z"
   },
   {
    "duration": 5496,
    "start_time": "2023-09-14T11:25:34.045Z"
   },
   {
    "duration": 637,
    "start_time": "2023-09-14T11:25:39.543Z"
   },
   {
    "duration": 5712,
    "start_time": "2023-09-14T11:25:40.181Z"
   },
   {
    "duration": 3,
    "start_time": "2023-09-14T11:25:45.894Z"
   },
   {
    "duration": 38,
    "start_time": "2023-09-14T11:25:45.898Z"
   },
   {
    "duration": 428,
    "start_time": "2023-09-14T11:25:45.937Z"
   },
   {
    "duration": 145,
    "start_time": "2023-09-14T11:25:46.367Z"
   },
   {
    "duration": 688,
    "start_time": "2023-09-14T11:25:46.514Z"
   },
   {
    "duration": 6,
    "start_time": "2023-09-14T11:25:47.204Z"
   },
   {
    "duration": 1114,
    "start_time": "2023-09-14T11:25:47.211Z"
   },
   {
    "duration": 2922,
    "start_time": "2023-09-14T11:25:48.327Z"
   },
   {
    "duration": 6494,
    "start_time": "2023-09-14T11:25:51.250Z"
   },
   {
    "duration": 217,
    "start_time": "2023-09-14T11:34:13.363Z"
   },
   {
    "duration": 216,
    "start_time": "2023-09-14T11:34:58.634Z"
   },
   {
    "duration": 196,
    "start_time": "2023-09-14T11:35:06.096Z"
   },
   {
    "duration": 3,
    "start_time": "2023-09-14T11:35:19.222Z"
   },
   {
    "duration": 214,
    "start_time": "2023-09-14T11:35:19.227Z"
   },
   {
    "duration": 3,
    "start_time": "2023-09-14T11:35:19.443Z"
   },
   {
    "duration": 5623,
    "start_time": "2023-09-14T11:35:19.447Z"
   },
   {
    "duration": 685,
    "start_time": "2023-09-14T11:35:25.073Z"
   },
   {
    "duration": 5897,
    "start_time": "2023-09-14T11:35:25.760Z"
   },
   {
    "duration": 3,
    "start_time": "2023-09-14T11:35:31.658Z"
   },
   {
    "duration": 135,
    "start_time": "2023-09-14T11:35:31.662Z"
   },
   {
    "duration": 471,
    "start_time": "2023-09-14T11:35:31.799Z"
   },
   {
    "duration": 164,
    "start_time": "2023-09-14T11:35:32.272Z"
   },
   {
    "duration": 623,
    "start_time": "2023-09-14T11:35:32.438Z"
   },
   {
    "duration": 7,
    "start_time": "2023-09-14T11:35:33.064Z"
   },
   {
    "duration": 1249,
    "start_time": "2023-09-14T11:35:33.073Z"
   },
   {
    "duration": 3137,
    "start_time": "2023-09-14T11:35:34.323Z"
   },
   {
    "duration": 324,
    "start_time": "2023-09-14T11:35:37.462Z"
   },
   {
    "duration": 6610,
    "start_time": "2023-09-14T11:35:37.788Z"
   },
   {
    "duration": 12,
    "start_time": "2023-09-14T22:18:05.057Z"
   },
   {
    "duration": 45,
    "start_time": "2023-09-14T22:18:18.182Z"
   },
   {
    "duration": 7,
    "start_time": "2023-09-14T22:18:32.828Z"
   },
   {
    "duration": 613,
    "start_time": "2023-09-14T22:18:35.904Z"
   },
   {
    "duration": 87,
    "start_time": "2023-09-14T22:18:36.520Z"
   },
   {
    "duration": 4,
    "start_time": "2023-09-14T22:18:36.609Z"
   },
   {
    "duration": 6072,
    "start_time": "2023-09-14T22:18:36.614Z"
   },
   {
    "duration": 587,
    "start_time": "2023-09-14T22:18:42.688Z"
   },
   {
    "duration": 5782,
    "start_time": "2023-09-14T22:18:43.277Z"
   },
   {
    "duration": 3,
    "start_time": "2023-09-14T22:18:49.061Z"
   },
   {
    "duration": 27,
    "start_time": "2023-09-14T22:18:49.065Z"
   },
   {
    "duration": 400,
    "start_time": "2023-09-14T22:18:49.094Z"
   },
   {
    "duration": 131,
    "start_time": "2023-09-14T22:18:49.495Z"
   },
   {
    "duration": 1199,
    "start_time": "2023-09-14T22:18:49.628Z"
   },
   {
    "duration": 7,
    "start_time": "2023-09-14T22:18:50.829Z"
   },
   {
    "duration": 1381,
    "start_time": "2023-09-14T22:18:50.837Z"
   },
   {
    "duration": 3012,
    "start_time": "2023-09-14T22:18:52.221Z"
   },
   {
    "duration": 216,
    "start_time": "2023-09-14T22:18:55.235Z"
   },
   {
    "duration": 6722,
    "start_time": "2023-09-14T22:18:55.452Z"
   },
   {
    "duration": 491,
    "start_time": "2023-09-14T22:19:03.247Z"
   }
  ],
  "kernelspec": {
   "display_name": "base",
   "language": "python",
   "name": "python3"
  },
  "language_info": {
   "codemirror_mode": {
    "name": "ipython",
    "version": 3
   },
   "file_extension": ".py",
   "mimetype": "text/x-python",
   "name": "python",
   "nbconvert_exporter": "python",
   "pygments_lexer": "ipython3",
   "version": "3.12.7"
  },
  "toc": {
   "base_numbering": 1,
   "nav_menu": {},
   "number_sections": true,
   "sideBar": true,
   "skip_h1_title": true,
   "title_cell": "Table of Contents",
   "title_sidebar": "Contents",
   "toc_cell": false,
   "toc_position": {},
   "toc_section_display": true,
   "toc_window_display": false
  }
 },
 "nbformat": 4,
 "nbformat_minor": 5
}
