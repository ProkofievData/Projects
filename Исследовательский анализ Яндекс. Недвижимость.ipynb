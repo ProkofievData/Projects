{
 "cells": [
  {
   "cell_type": "markdown",
   "metadata": {},
   "source": [
    "# Исследование объявлений о продаже квартир\n",
    "\n",
    "В моем распоряжении данные сервиса Яндекс.Недвижимость — архив объявлений о продаже квартир в Санкт-Петербурге и соседних населённых пунктов за несколько лет. Нужно научиться определять рыночную стоимость объектов недвижимости. Задача — установить параметры. Это позволит построить автоматизированную систему: она отследит аномалии и мошенническую деятельность. \n",
    "\n",
    "По каждой квартире на продажу доступны два вида данных. Первые вписаны пользователем, вторые — получены автоматически на основе картографических данных. Например, расстояние до центра, аэропорта, ближайшего парка и водоёма. "
   ]
  },
  {
   "cell_type": "markdown",
   "metadata": {},
   "source": [
    "### Структура датасета, инфа\n"
   ]
  },
  {
   "cell_type": "code",
   "execution_count": 6,
   "metadata": {},
   "outputs": [
    {
     "data": {
      "text/html": [
       "<div>\n",
       "<style scoped>\n",
       "    .dataframe tbody tr th:only-of-type {\n",
       "        vertical-align: middle;\n",
       "    }\n",
       "\n",
       "    .dataframe tbody tr th {\n",
       "        vertical-align: top;\n",
       "    }\n",
       "\n",
       "    .dataframe thead th {\n",
       "        text-align: right;\n",
       "    }\n",
       "</style>\n",
       "<table border=\"1\" class=\"dataframe\">\n",
       "  <thead>\n",
       "    <tr style=\"text-align: right;\">\n",
       "      <th></th>\n",
       "      <th>total_images</th>\n",
       "      <th>last_price</th>\n",
       "      <th>total_area</th>\n",
       "      <th>first_day_exposition</th>\n",
       "      <th>rooms</th>\n",
       "      <th>ceiling_height</th>\n",
       "      <th>floors_total</th>\n",
       "      <th>living_area</th>\n",
       "      <th>floor</th>\n",
       "      <th>is_apartment</th>\n",
       "      <th>...</th>\n",
       "      <th>kitchen_area</th>\n",
       "      <th>balcony</th>\n",
       "      <th>locality_name</th>\n",
       "      <th>airports_nearest</th>\n",
       "      <th>cityCenters_nearest</th>\n",
       "      <th>parks_around3000</th>\n",
       "      <th>parks_nearest</th>\n",
       "      <th>ponds_around3000</th>\n",
       "      <th>ponds_nearest</th>\n",
       "      <th>days_exposition</th>\n",
       "    </tr>\n",
       "  </thead>\n",
       "  <tbody>\n",
       "    <tr>\n",
       "      <th>0</th>\n",
       "      <td>20</td>\n",
       "      <td>13000000.0</td>\n",
       "      <td>108.00</td>\n",
       "      <td>2019-03-07T00:00:00</td>\n",
       "      <td>3</td>\n",
       "      <td>2.70</td>\n",
       "      <td>16.0</td>\n",
       "      <td>51.00</td>\n",
       "      <td>8</td>\n",
       "      <td>NaN</td>\n",
       "      <td>...</td>\n",
       "      <td>25.00</td>\n",
       "      <td>NaN</td>\n",
       "      <td>Санкт-Петербург</td>\n",
       "      <td>18863.0</td>\n",
       "      <td>16028.0</td>\n",
       "      <td>1.0</td>\n",
       "      <td>482.0</td>\n",
       "      <td>2.0</td>\n",
       "      <td>755.0</td>\n",
       "      <td>NaN</td>\n",
       "    </tr>\n",
       "    <tr>\n",
       "      <th>1</th>\n",
       "      <td>7</td>\n",
       "      <td>3350000.0</td>\n",
       "      <td>40.40</td>\n",
       "      <td>2018-12-04T00:00:00</td>\n",
       "      <td>1</td>\n",
       "      <td>NaN</td>\n",
       "      <td>11.0</td>\n",
       "      <td>18.60</td>\n",
       "      <td>1</td>\n",
       "      <td>NaN</td>\n",
       "      <td>...</td>\n",
       "      <td>11.00</td>\n",
       "      <td>2.0</td>\n",
       "      <td>посёлок Шушары</td>\n",
       "      <td>12817.0</td>\n",
       "      <td>18603.0</td>\n",
       "      <td>0.0</td>\n",
       "      <td>NaN</td>\n",
       "      <td>0.0</td>\n",
       "      <td>NaN</td>\n",
       "      <td>81.0</td>\n",
       "    </tr>\n",
       "    <tr>\n",
       "      <th>2</th>\n",
       "      <td>10</td>\n",
       "      <td>5196000.0</td>\n",
       "      <td>56.00</td>\n",
       "      <td>2015-08-20T00:00:00</td>\n",
       "      <td>2</td>\n",
       "      <td>NaN</td>\n",
       "      <td>5.0</td>\n",
       "      <td>34.30</td>\n",
       "      <td>4</td>\n",
       "      <td>NaN</td>\n",
       "      <td>...</td>\n",
       "      <td>8.30</td>\n",
       "      <td>0.0</td>\n",
       "      <td>Санкт-Петербург</td>\n",
       "      <td>21741.0</td>\n",
       "      <td>13933.0</td>\n",
       "      <td>1.0</td>\n",
       "      <td>90.0</td>\n",
       "      <td>2.0</td>\n",
       "      <td>574.0</td>\n",
       "      <td>558.0</td>\n",
       "    </tr>\n",
       "    <tr>\n",
       "      <th>3</th>\n",
       "      <td>0</td>\n",
       "      <td>64900000.0</td>\n",
       "      <td>159.00</td>\n",
       "      <td>2015-07-24T00:00:00</td>\n",
       "      <td>3</td>\n",
       "      <td>NaN</td>\n",
       "      <td>14.0</td>\n",
       "      <td>NaN</td>\n",
       "      <td>9</td>\n",
       "      <td>NaN</td>\n",
       "      <td>...</td>\n",
       "      <td>NaN</td>\n",
       "      <td>0.0</td>\n",
       "      <td>Санкт-Петербург</td>\n",
       "      <td>28098.0</td>\n",
       "      <td>6800.0</td>\n",
       "      <td>2.0</td>\n",
       "      <td>84.0</td>\n",
       "      <td>3.0</td>\n",
       "      <td>234.0</td>\n",
       "      <td>424.0</td>\n",
       "    </tr>\n",
       "    <tr>\n",
       "      <th>4</th>\n",
       "      <td>2</td>\n",
       "      <td>10000000.0</td>\n",
       "      <td>100.00</td>\n",
       "      <td>2018-06-19T00:00:00</td>\n",
       "      <td>2</td>\n",
       "      <td>3.03</td>\n",
       "      <td>14.0</td>\n",
       "      <td>32.00</td>\n",
       "      <td>13</td>\n",
       "      <td>NaN</td>\n",
       "      <td>...</td>\n",
       "      <td>41.00</td>\n",
       "      <td>NaN</td>\n",
       "      <td>Санкт-Петербург</td>\n",
       "      <td>31856.0</td>\n",
       "      <td>8098.0</td>\n",
       "      <td>2.0</td>\n",
       "      <td>112.0</td>\n",
       "      <td>1.0</td>\n",
       "      <td>48.0</td>\n",
       "      <td>121.0</td>\n",
       "    </tr>\n",
       "    <tr>\n",
       "      <th>5</th>\n",
       "      <td>10</td>\n",
       "      <td>2890000.0</td>\n",
       "      <td>30.40</td>\n",
       "      <td>2018-09-10T00:00:00</td>\n",
       "      <td>1</td>\n",
       "      <td>NaN</td>\n",
       "      <td>12.0</td>\n",
       "      <td>14.40</td>\n",
       "      <td>5</td>\n",
       "      <td>NaN</td>\n",
       "      <td>...</td>\n",
       "      <td>9.10</td>\n",
       "      <td>NaN</td>\n",
       "      <td>городской посёлок Янино-1</td>\n",
       "      <td>NaN</td>\n",
       "      <td>NaN</td>\n",
       "      <td>NaN</td>\n",
       "      <td>NaN</td>\n",
       "      <td>NaN</td>\n",
       "      <td>NaN</td>\n",
       "      <td>55.0</td>\n",
       "    </tr>\n",
       "    <tr>\n",
       "      <th>6</th>\n",
       "      <td>6</td>\n",
       "      <td>3700000.0</td>\n",
       "      <td>37.30</td>\n",
       "      <td>2017-11-02T00:00:00</td>\n",
       "      <td>1</td>\n",
       "      <td>NaN</td>\n",
       "      <td>26.0</td>\n",
       "      <td>10.60</td>\n",
       "      <td>6</td>\n",
       "      <td>NaN</td>\n",
       "      <td>...</td>\n",
       "      <td>14.40</td>\n",
       "      <td>1.0</td>\n",
       "      <td>посёлок Парголово</td>\n",
       "      <td>52996.0</td>\n",
       "      <td>19143.0</td>\n",
       "      <td>0.0</td>\n",
       "      <td>NaN</td>\n",
       "      <td>0.0</td>\n",
       "      <td>NaN</td>\n",
       "      <td>155.0</td>\n",
       "    </tr>\n",
       "    <tr>\n",
       "      <th>7</th>\n",
       "      <td>5</td>\n",
       "      <td>7915000.0</td>\n",
       "      <td>71.60</td>\n",
       "      <td>2019-04-18T00:00:00</td>\n",
       "      <td>2</td>\n",
       "      <td>NaN</td>\n",
       "      <td>24.0</td>\n",
       "      <td>NaN</td>\n",
       "      <td>22</td>\n",
       "      <td>NaN</td>\n",
       "      <td>...</td>\n",
       "      <td>18.90</td>\n",
       "      <td>2.0</td>\n",
       "      <td>Санкт-Петербург</td>\n",
       "      <td>23982.0</td>\n",
       "      <td>11634.0</td>\n",
       "      <td>0.0</td>\n",
       "      <td>NaN</td>\n",
       "      <td>0.0</td>\n",
       "      <td>NaN</td>\n",
       "      <td>NaN</td>\n",
       "    </tr>\n",
       "    <tr>\n",
       "      <th>8</th>\n",
       "      <td>20</td>\n",
       "      <td>2900000.0</td>\n",
       "      <td>33.16</td>\n",
       "      <td>2018-05-23T00:00:00</td>\n",
       "      <td>1</td>\n",
       "      <td>NaN</td>\n",
       "      <td>27.0</td>\n",
       "      <td>15.43</td>\n",
       "      <td>26</td>\n",
       "      <td>NaN</td>\n",
       "      <td>...</td>\n",
       "      <td>8.81</td>\n",
       "      <td>NaN</td>\n",
       "      <td>посёлок Мурино</td>\n",
       "      <td>NaN</td>\n",
       "      <td>NaN</td>\n",
       "      <td>NaN</td>\n",
       "      <td>NaN</td>\n",
       "      <td>NaN</td>\n",
       "      <td>NaN</td>\n",
       "      <td>189.0</td>\n",
       "    </tr>\n",
       "    <tr>\n",
       "      <th>9</th>\n",
       "      <td>18</td>\n",
       "      <td>5400000.0</td>\n",
       "      <td>61.00</td>\n",
       "      <td>2017-02-26T00:00:00</td>\n",
       "      <td>3</td>\n",
       "      <td>2.50</td>\n",
       "      <td>9.0</td>\n",
       "      <td>43.60</td>\n",
       "      <td>7</td>\n",
       "      <td>NaN</td>\n",
       "      <td>...</td>\n",
       "      <td>6.50</td>\n",
       "      <td>2.0</td>\n",
       "      <td>Санкт-Петербург</td>\n",
       "      <td>50898.0</td>\n",
       "      <td>15008.0</td>\n",
       "      <td>0.0</td>\n",
       "      <td>NaN</td>\n",
       "      <td>0.0</td>\n",
       "      <td>NaN</td>\n",
       "      <td>289.0</td>\n",
       "    </tr>\n",
       "    <tr>\n",
       "      <th>10</th>\n",
       "      <td>5</td>\n",
       "      <td>5050000.0</td>\n",
       "      <td>39.60</td>\n",
       "      <td>2017-11-16T00:00:00</td>\n",
       "      <td>1</td>\n",
       "      <td>2.67</td>\n",
       "      <td>12.0</td>\n",
       "      <td>20.30</td>\n",
       "      <td>3</td>\n",
       "      <td>NaN</td>\n",
       "      <td>...</td>\n",
       "      <td>8.50</td>\n",
       "      <td>NaN</td>\n",
       "      <td>Санкт-Петербург</td>\n",
       "      <td>38357.0</td>\n",
       "      <td>13878.0</td>\n",
       "      <td>1.0</td>\n",
       "      <td>310.0</td>\n",
       "      <td>2.0</td>\n",
       "      <td>553.0</td>\n",
       "      <td>137.0</td>\n",
       "    </tr>\n",
       "    <tr>\n",
       "      <th>11</th>\n",
       "      <td>9</td>\n",
       "      <td>3300000.0</td>\n",
       "      <td>44.00</td>\n",
       "      <td>2018-08-27T00:00:00</td>\n",
       "      <td>2</td>\n",
       "      <td>NaN</td>\n",
       "      <td>5.0</td>\n",
       "      <td>31.00</td>\n",
       "      <td>4</td>\n",
       "      <td>False</td>\n",
       "      <td>...</td>\n",
       "      <td>6.00</td>\n",
       "      <td>1.0</td>\n",
       "      <td>Ломоносов</td>\n",
       "      <td>48252.0</td>\n",
       "      <td>51677.0</td>\n",
       "      <td>0.0</td>\n",
       "      <td>NaN</td>\n",
       "      <td>0.0</td>\n",
       "      <td>NaN</td>\n",
       "      <td>7.0</td>\n",
       "    </tr>\n",
       "    <tr>\n",
       "      <th>12</th>\n",
       "      <td>10</td>\n",
       "      <td>3890000.0</td>\n",
       "      <td>54.00</td>\n",
       "      <td>2016-06-30T00:00:00</td>\n",
       "      <td>2</td>\n",
       "      <td>NaN</td>\n",
       "      <td>5.0</td>\n",
       "      <td>30.00</td>\n",
       "      <td>5</td>\n",
       "      <td>NaN</td>\n",
       "      <td>...</td>\n",
       "      <td>9.00</td>\n",
       "      <td>0.0</td>\n",
       "      <td>Сертолово</td>\n",
       "      <td>NaN</td>\n",
       "      <td>NaN</td>\n",
       "      <td>NaN</td>\n",
       "      <td>NaN</td>\n",
       "      <td>NaN</td>\n",
       "      <td>NaN</td>\n",
       "      <td>90.0</td>\n",
       "    </tr>\n",
       "    <tr>\n",
       "      <th>13</th>\n",
       "      <td>20</td>\n",
       "      <td>3550000.0</td>\n",
       "      <td>42.80</td>\n",
       "      <td>2017-07-01T00:00:00</td>\n",
       "      <td>2</td>\n",
       "      <td>2.56</td>\n",
       "      <td>5.0</td>\n",
       "      <td>27.00</td>\n",
       "      <td>5</td>\n",
       "      <td>NaN</td>\n",
       "      <td>...</td>\n",
       "      <td>5.20</td>\n",
       "      <td>1.0</td>\n",
       "      <td>Петергоф</td>\n",
       "      <td>37868.0</td>\n",
       "      <td>33058.0</td>\n",
       "      <td>1.0</td>\n",
       "      <td>294.0</td>\n",
       "      <td>3.0</td>\n",
       "      <td>298.0</td>\n",
       "      <td>366.0</td>\n",
       "    </tr>\n",
       "    <tr>\n",
       "      <th>14</th>\n",
       "      <td>1</td>\n",
       "      <td>4400000.0</td>\n",
       "      <td>36.00</td>\n",
       "      <td>2016-06-23T00:00:00</td>\n",
       "      <td>1</td>\n",
       "      <td>NaN</td>\n",
       "      <td>6.0</td>\n",
       "      <td>17.00</td>\n",
       "      <td>1</td>\n",
       "      <td>NaN</td>\n",
       "      <td>...</td>\n",
       "      <td>8.00</td>\n",
       "      <td>0.0</td>\n",
       "      <td>Пушкин</td>\n",
       "      <td>20782.0</td>\n",
       "      <td>30759.0</td>\n",
       "      <td>0.0</td>\n",
       "      <td>NaN</td>\n",
       "      <td>1.0</td>\n",
       "      <td>96.0</td>\n",
       "      <td>203.0</td>\n",
       "    </tr>\n",
       "    <tr>\n",
       "      <th>15</th>\n",
       "      <td>16</td>\n",
       "      <td>4650000.0</td>\n",
       "      <td>39.00</td>\n",
       "      <td>2017-11-18T00:00:00</td>\n",
       "      <td>1</td>\n",
       "      <td>NaN</td>\n",
       "      <td>14.0</td>\n",
       "      <td>20.50</td>\n",
       "      <td>5</td>\n",
       "      <td>NaN</td>\n",
       "      <td>...</td>\n",
       "      <td>7.60</td>\n",
       "      <td>1.0</td>\n",
       "      <td>Санкт-Петербург</td>\n",
       "      <td>12900.0</td>\n",
       "      <td>14259.0</td>\n",
       "      <td>1.0</td>\n",
       "      <td>590.0</td>\n",
       "      <td>1.0</td>\n",
       "      <td>296.0</td>\n",
       "      <td>19.0</td>\n",
       "    </tr>\n",
       "    <tr>\n",
       "      <th>16</th>\n",
       "      <td>11</td>\n",
       "      <td>6700000.0</td>\n",
       "      <td>82.00</td>\n",
       "      <td>2017-11-23T00:00:00</td>\n",
       "      <td>3</td>\n",
       "      <td>3.05</td>\n",
       "      <td>5.0</td>\n",
       "      <td>55.60</td>\n",
       "      <td>1</td>\n",
       "      <td>NaN</td>\n",
       "      <td>...</td>\n",
       "      <td>9.00</td>\n",
       "      <td>NaN</td>\n",
       "      <td>Санкт-Петербург</td>\n",
       "      <td>22108.0</td>\n",
       "      <td>10698.0</td>\n",
       "      <td>3.0</td>\n",
       "      <td>420.0</td>\n",
       "      <td>0.0</td>\n",
       "      <td>NaN</td>\n",
       "      <td>397.0</td>\n",
       "    </tr>\n",
       "    <tr>\n",
       "      <th>17</th>\n",
       "      <td>6</td>\n",
       "      <td>4180000.0</td>\n",
       "      <td>36.00</td>\n",
       "      <td>2016-09-09T00:00:00</td>\n",
       "      <td>1</td>\n",
       "      <td>NaN</td>\n",
       "      <td>17.0</td>\n",
       "      <td>16.50</td>\n",
       "      <td>7</td>\n",
       "      <td>NaN</td>\n",
       "      <td>...</td>\n",
       "      <td>11.00</td>\n",
       "      <td>1.0</td>\n",
       "      <td>Санкт-Петербург</td>\n",
       "      <td>33564.0</td>\n",
       "      <td>14616.0</td>\n",
       "      <td>0.0</td>\n",
       "      <td>NaN</td>\n",
       "      <td>1.0</td>\n",
       "      <td>859.0</td>\n",
       "      <td>571.0</td>\n",
       "    </tr>\n",
       "    <tr>\n",
       "      <th>18</th>\n",
       "      <td>8</td>\n",
       "      <td>3250000.0</td>\n",
       "      <td>31.00</td>\n",
       "      <td>2017-01-27T00:00:00</td>\n",
       "      <td>1</td>\n",
       "      <td>2.50</td>\n",
       "      <td>5.0</td>\n",
       "      <td>19.40</td>\n",
       "      <td>2</td>\n",
       "      <td>NaN</td>\n",
       "      <td>...</td>\n",
       "      <td>5.60</td>\n",
       "      <td>1.0</td>\n",
       "      <td>Санкт-Петербург</td>\n",
       "      <td>44060.0</td>\n",
       "      <td>10842.0</td>\n",
       "      <td>1.0</td>\n",
       "      <td>759.0</td>\n",
       "      <td>0.0</td>\n",
       "      <td>NaN</td>\n",
       "      <td>168.0</td>\n",
       "    </tr>\n",
       "    <tr>\n",
       "      <th>19</th>\n",
       "      <td>16</td>\n",
       "      <td>14200000.0</td>\n",
       "      <td>121.00</td>\n",
       "      <td>2019-01-09T00:00:00</td>\n",
       "      <td>3</td>\n",
       "      <td>2.75</td>\n",
       "      <td>16.0</td>\n",
       "      <td>76.00</td>\n",
       "      <td>8</td>\n",
       "      <td>NaN</td>\n",
       "      <td>...</td>\n",
       "      <td>12.00</td>\n",
       "      <td>NaN</td>\n",
       "      <td>Санкт-Петербург</td>\n",
       "      <td>38900.0</td>\n",
       "      <td>12843.0</td>\n",
       "      <td>0.0</td>\n",
       "      <td>NaN</td>\n",
       "      <td>0.0</td>\n",
       "      <td>NaN</td>\n",
       "      <td>97.0</td>\n",
       "    </tr>\n",
       "  </tbody>\n",
       "</table>\n",
       "<p>20 rows × 22 columns</p>\n",
       "</div>"
      ],
      "text/plain": [
       "    total_images  last_price  total_area first_day_exposition  rooms  \\\n",
       "0             20  13000000.0      108.00  2019-03-07T00:00:00      3   \n",
       "1              7   3350000.0       40.40  2018-12-04T00:00:00      1   \n",
       "2             10   5196000.0       56.00  2015-08-20T00:00:00      2   \n",
       "3              0  64900000.0      159.00  2015-07-24T00:00:00      3   \n",
       "4              2  10000000.0      100.00  2018-06-19T00:00:00      2   \n",
       "5             10   2890000.0       30.40  2018-09-10T00:00:00      1   \n",
       "6              6   3700000.0       37.30  2017-11-02T00:00:00      1   \n",
       "7              5   7915000.0       71.60  2019-04-18T00:00:00      2   \n",
       "8             20   2900000.0       33.16  2018-05-23T00:00:00      1   \n",
       "9             18   5400000.0       61.00  2017-02-26T00:00:00      3   \n",
       "10             5   5050000.0       39.60  2017-11-16T00:00:00      1   \n",
       "11             9   3300000.0       44.00  2018-08-27T00:00:00      2   \n",
       "12            10   3890000.0       54.00  2016-06-30T00:00:00      2   \n",
       "13            20   3550000.0       42.80  2017-07-01T00:00:00      2   \n",
       "14             1   4400000.0       36.00  2016-06-23T00:00:00      1   \n",
       "15            16   4650000.0       39.00  2017-11-18T00:00:00      1   \n",
       "16            11   6700000.0       82.00  2017-11-23T00:00:00      3   \n",
       "17             6   4180000.0       36.00  2016-09-09T00:00:00      1   \n",
       "18             8   3250000.0       31.00  2017-01-27T00:00:00      1   \n",
       "19            16  14200000.0      121.00  2019-01-09T00:00:00      3   \n",
       "\n",
       "    ceiling_height  floors_total  living_area  floor is_apartment  ...  \\\n",
       "0             2.70          16.0        51.00      8          NaN  ...   \n",
       "1              NaN          11.0        18.60      1          NaN  ...   \n",
       "2              NaN           5.0        34.30      4          NaN  ...   \n",
       "3              NaN          14.0          NaN      9          NaN  ...   \n",
       "4             3.03          14.0        32.00     13          NaN  ...   \n",
       "5              NaN          12.0        14.40      5          NaN  ...   \n",
       "6              NaN          26.0        10.60      6          NaN  ...   \n",
       "7              NaN          24.0          NaN     22          NaN  ...   \n",
       "8              NaN          27.0        15.43     26          NaN  ...   \n",
       "9             2.50           9.0        43.60      7          NaN  ...   \n",
       "10            2.67          12.0        20.30      3          NaN  ...   \n",
       "11             NaN           5.0        31.00      4        False  ...   \n",
       "12             NaN           5.0        30.00      5          NaN  ...   \n",
       "13            2.56           5.0        27.00      5          NaN  ...   \n",
       "14             NaN           6.0        17.00      1          NaN  ...   \n",
       "15             NaN          14.0        20.50      5          NaN  ...   \n",
       "16            3.05           5.0        55.60      1          NaN  ...   \n",
       "17             NaN          17.0        16.50      7          NaN  ...   \n",
       "18            2.50           5.0        19.40      2          NaN  ...   \n",
       "19            2.75          16.0        76.00      8          NaN  ...   \n",
       "\n",
       "    kitchen_area  balcony              locality_name  airports_nearest  \\\n",
       "0          25.00      NaN            Санкт-Петербург           18863.0   \n",
       "1          11.00      2.0             посёлок Шушары           12817.0   \n",
       "2           8.30      0.0            Санкт-Петербург           21741.0   \n",
       "3            NaN      0.0            Санкт-Петербург           28098.0   \n",
       "4          41.00      NaN            Санкт-Петербург           31856.0   \n",
       "5           9.10      NaN  городской посёлок Янино-1               NaN   \n",
       "6          14.40      1.0          посёлок Парголово           52996.0   \n",
       "7          18.90      2.0            Санкт-Петербург           23982.0   \n",
       "8           8.81      NaN             посёлок Мурино               NaN   \n",
       "9           6.50      2.0            Санкт-Петербург           50898.0   \n",
       "10          8.50      NaN            Санкт-Петербург           38357.0   \n",
       "11          6.00      1.0                  Ломоносов           48252.0   \n",
       "12          9.00      0.0                  Сертолово               NaN   \n",
       "13          5.20      1.0                   Петергоф           37868.0   \n",
       "14          8.00      0.0                     Пушкин           20782.0   \n",
       "15          7.60      1.0            Санкт-Петербург           12900.0   \n",
       "16          9.00      NaN            Санкт-Петербург           22108.0   \n",
       "17         11.00      1.0            Санкт-Петербург           33564.0   \n",
       "18          5.60      1.0            Санкт-Петербург           44060.0   \n",
       "19         12.00      NaN            Санкт-Петербург           38900.0   \n",
       "\n",
       "   cityCenters_nearest  parks_around3000  parks_nearest  ponds_around3000  \\\n",
       "0              16028.0               1.0          482.0               2.0   \n",
       "1              18603.0               0.0            NaN               0.0   \n",
       "2              13933.0               1.0           90.0               2.0   \n",
       "3               6800.0               2.0           84.0               3.0   \n",
       "4               8098.0               2.0          112.0               1.0   \n",
       "5                  NaN               NaN            NaN               NaN   \n",
       "6              19143.0               0.0            NaN               0.0   \n",
       "7              11634.0               0.0            NaN               0.0   \n",
       "8                  NaN               NaN            NaN               NaN   \n",
       "9              15008.0               0.0            NaN               0.0   \n",
       "10             13878.0               1.0          310.0               2.0   \n",
       "11             51677.0               0.0            NaN               0.0   \n",
       "12                 NaN               NaN            NaN               NaN   \n",
       "13             33058.0               1.0          294.0               3.0   \n",
       "14             30759.0               0.0            NaN               1.0   \n",
       "15             14259.0               1.0          590.0               1.0   \n",
       "16             10698.0               3.0          420.0               0.0   \n",
       "17             14616.0               0.0            NaN               1.0   \n",
       "18             10842.0               1.0          759.0               0.0   \n",
       "19             12843.0               0.0            NaN               0.0   \n",
       "\n",
       "    ponds_nearest  days_exposition  \n",
       "0           755.0              NaN  \n",
       "1             NaN             81.0  \n",
       "2           574.0            558.0  \n",
       "3           234.0            424.0  \n",
       "4            48.0            121.0  \n",
       "5             NaN             55.0  \n",
       "6             NaN            155.0  \n",
       "7             NaN              NaN  \n",
       "8             NaN            189.0  \n",
       "9             NaN            289.0  \n",
       "10          553.0            137.0  \n",
       "11            NaN              7.0  \n",
       "12            NaN             90.0  \n",
       "13          298.0            366.0  \n",
       "14           96.0            203.0  \n",
       "15          296.0             19.0  \n",
       "16            NaN            397.0  \n",
       "17          859.0            571.0  \n",
       "18            NaN            168.0  \n",
       "19            NaN             97.0  \n",
       "\n",
       "[20 rows x 22 columns]"
      ]
     },
     "execution_count": 6,
     "metadata": {},
     "output_type": "execute_result"
    }
   ],
   "source": [
    "import seaborn as sb\n",
    "import matplotlib.pyplot as mp\n",
    "import pandas as pd\n",
    "data = pd.read_csv('/datasets/real_estate_data.csv', sep='\\t') \n",
    "data.head(20)\n"
   ]
  },
  {
   "cell_type": "code",
   "execution_count": 3,
   "metadata": {},
   "outputs": [
    {
     "name": "stdout",
     "output_type": "stream",
     "text": [
      "<class 'pandas.core.frame.DataFrame'>\n",
      "RangeIndex: 23699 entries, 0 to 23698\n",
      "Data columns (total 22 columns):\n",
      " #   Column                Non-Null Count  Dtype  \n",
      "---  ------                --------------  -----  \n",
      " 0   total_images          23699 non-null  int64  \n",
      " 1   last_price            23699 non-null  float64\n",
      " 2   total_area            23699 non-null  float64\n",
      " 3   first_day_exposition  23699 non-null  object \n",
      " 4   rooms                 23699 non-null  int64  \n",
      " 5   ceiling_height        14504 non-null  float64\n",
      " 6   floors_total          23613 non-null  float64\n",
      " 7   living_area           21796 non-null  float64\n",
      " 8   floor                 23699 non-null  int64  \n",
      " 9   is_apartment          2775 non-null   object \n",
      " 10  studio                23699 non-null  bool   \n",
      " 11  open_plan             23699 non-null  bool   \n",
      " 12  kitchen_area          21421 non-null  float64\n",
      " 13  balcony               12180 non-null  float64\n",
      " 14  locality_name         23650 non-null  object \n",
      " 15  airports_nearest      18157 non-null  float64\n",
      " 16  cityCenters_nearest   18180 non-null  float64\n",
      " 17  parks_around3000      18181 non-null  float64\n",
      " 18  parks_nearest         8079 non-null   float64\n",
      " 19  ponds_around3000      18181 non-null  float64\n",
      " 20  ponds_nearest         9110 non-null   float64\n",
      " 21  days_exposition       20518 non-null  float64\n",
      "dtypes: bool(2), float64(14), int64(3), object(3)\n",
      "memory usage: 3.7+ MB\n",
      "None\n"
     ]
    },
    {
     "data": {
      "text/plain": [
       "total_images                0\n",
       "last_price                  0\n",
       "total_area                  0\n",
       "first_day_exposition        0\n",
       "rooms                       0\n",
       "ceiling_height           9195\n",
       "floors_total               86\n",
       "living_area              1903\n",
       "floor                       0\n",
       "is_apartment            20924\n",
       "studio                      0\n",
       "open_plan                   0\n",
       "kitchen_area             2278\n",
       "balcony                 11519\n",
       "locality_name              49\n",
       "airports_nearest         5542\n",
       "cityCenters_nearest      5519\n",
       "parks_around3000         5518\n",
       "parks_nearest           15620\n",
       "ponds_around3000         5518\n",
       "ponds_nearest           14589\n",
       "days_exposition          3181\n",
       "dtype: int64"
      ]
     },
     "execution_count": 3,
     "metadata": {},
     "output_type": "execute_result"
    }
   ],
   "source": [
    "print(data.info())\n",
    "data.isna().sum()"
   ]
  },
  {
   "cell_type": "code",
   "execution_count": 4,
   "metadata": {},
   "outputs": [
    {
     "data": {
      "text/plain": [
       "array([[<AxesSubplot:title={'center':'total_images'}>,\n",
       "        <AxesSubplot:title={'center':'last_price'}>,\n",
       "        <AxesSubplot:title={'center':'total_area'}>,\n",
       "        <AxesSubplot:title={'center':'rooms'}>],\n",
       "       [<AxesSubplot:title={'center':'ceiling_height'}>,\n",
       "        <AxesSubplot:title={'center':'floors_total'}>,\n",
       "        <AxesSubplot:title={'center':'living_area'}>,\n",
       "        <AxesSubplot:title={'center':'floor'}>],\n",
       "       [<AxesSubplot:title={'center':'kitchen_area'}>,\n",
       "        <AxesSubplot:title={'center':'balcony'}>,\n",
       "        <AxesSubplot:title={'center':'airports_nearest'}>,\n",
       "        <AxesSubplot:title={'center':'cityCenters_nearest'}>],\n",
       "       [<AxesSubplot:title={'center':'parks_around3000'}>,\n",
       "        <AxesSubplot:title={'center':'parks_nearest'}>,\n",
       "        <AxesSubplot:title={'center':'ponds_around3000'}>,\n",
       "        <AxesSubplot:title={'center':'ponds_nearest'}>],\n",
       "       [<AxesSubplot:title={'center':'days_exposition'}>, <AxesSubplot:>,\n",
       "        <AxesSubplot:>, <AxesSubplot:>]], dtype=object)"
      ]
     },
     "execution_count": 4,
     "metadata": {},
     "output_type": "execute_result"
    },
    {
     "data": {
      "image/png": "[encoded data removed]",
      "text/plain": [
       "<Figure size 1080x1440 with 20 Axes>"
      ]
     },
     "metadata": {
      "needs_background": "light"
     },
     "output_type": "display_data"
    }
   ],
   "source": [
    "data.hist(figsize=(15,20))"
   ]
  },
  {
   "cell_type": "markdown",
   "metadata": {},
   "source": [
    "### Предобработка данных"
   ]
  },
  {
   "cell_type": "markdown",
   "metadata": {},
   "source": [
    "#### Переименование столбцов\n"
   ]
  },
  {
   "cell_type": "code",
   "execution_count": 5,
   "metadata": {},
   "outputs": [
    {
     "data": {
      "text/plain": [
       "['total_images',\n",
       " 'last_price',\n",
       " 'total_area',\n",
       " 'first_day_exposition',\n",
       " 'rooms',\n",
       " 'ceiling_height',\n",
       " 'floors_total',\n",
       " 'living_area',\n",
       " 'floor',\n",
       " 'is_apartment',\n",
       " 'studio',\n",
       " 'open_plan',\n",
       " 'kitchen_area',\n",
       " 'balcony',\n",
       " 'locality_name',\n",
       " 'airports_nearest',\n",
       " 'city_centers_nearest',\n",
       " 'parks_around_3000',\n",
       " 'parks_nearest',\n",
       " 'ponds_around_3000',\n",
       " 'ponds_nearest',\n",
       " 'days_exposition']"
      ]
     },
     "execution_count": 5,
     "metadata": {},
     "output_type": "execute_result"
    }
   ],
   "source": [
    "data = data.rename(columns = {'cityCenters_nearest' : 'city_centers_nearest', 'parks_around3000' : 'parks_around_3000', 'ponds_around3000' : 'ponds_around_3000'})\n",
    "list(data)"
   ]
  },
  {
   "cell_type": "markdown",
   "metadata": {},
   "source": [
    "#### Дубликаты\n"
   ]
  },
  {
   "cell_type": "markdown",
   "metadata": {},
   "source": [
    "Начнем с дубликатов. Надо убедиться, что среди названий населенных пунктов нет неявных дубликатов. "
   ]
  },
  {
   "cell_type": "code",
   "execution_count": 6,
   "metadata": {},
   "outputs": [],
   "source": [
    "data['locality_name'] = data['locality_name'].str.lower() #облегим себе жизнь и приведем названия населенных пунктов к нижнему регистру"
   ]
  },
  {
   "cell_type": "code",
   "execution_count": 7,
   "metadata": {},
   "outputs": [
    {
     "data": {
      "text/plain": [
       "array(['санкт-петербург', 'посёлок шушары', 'городской посёлок янино-1',\n",
       "       'посёлок парголово', 'посёлок мурино', 'ломоносов', 'сертолово',\n",
       "       'петергоф', 'пушкин', 'деревня кудрово', 'коммунар', 'колпино',\n",
       "       'поселок городского типа красный бор', 'гатчина', 'поселок мурино',\n",
       "       'деревня фёдоровское', 'выборг', 'кронштадт', 'кировск',\n",
       "       'деревня новое девяткино', 'посёлок металлострой',\n",
       "       'посёлок городского типа лебяжье',\n",
       "       'посёлок городского типа сиверский', 'поселок молодцово',\n",
       "       'поселок городского типа кузьмоловский',\n",
       "       'садовое товарищество новая ропша', 'павловск',\n",
       "       'деревня пикколово', 'всеволожск', 'волхов', 'кингисепп',\n",
       "       'приозерск', 'сестрорецк', 'деревня куттузи', 'посёлок аннино',\n",
       "       'поселок городского типа ефимовский', 'посёлок плодовое',\n",
       "       'деревня заклинье', 'поселок торковичи', 'поселок первомайское',\n",
       "       'красное село', 'посёлок понтонный', 'сясьстрой', 'деревня старая',\n",
       "       'деревня лесколово', 'посёлок новый свет', 'сланцы',\n",
       "       'село путилово', 'ивангород', 'мурино', 'шлиссельбург',\n",
       "       'никольское', 'зеленогорск', 'сосновый бор', 'поселок новый свет',\n",
       "       'деревня оржицы', 'деревня кальтино', 'кудрово',\n",
       "       'поселок романовка', 'посёлок бугры', 'поселок бугры',\n",
       "       'поселок городского типа рощино', 'кириши', 'луга', 'волосово',\n",
       "       'отрадное', 'село павлово', 'поселок оредеж', 'село копорье',\n",
       "       'посёлок городского типа красный бор', 'посёлок молодёжное',\n",
       "       'тихвин', 'посёлок победа', 'деревня нурма',\n",
       "       'поселок городского типа синявино', 'тосно',\n",
       "       'посёлок городского типа кузьмоловский', 'посёлок стрельна',\n",
       "       'бокситогорск', 'посёлок александровская', 'деревня лопухинка',\n",
       "       'пикалёво', 'поселок терволово',\n",
       "       'поселок городского типа советский', 'подпорожье',\n",
       "       'посёлок петровское', 'посёлок городского типа токсово',\n",
       "       'поселок сельцо', 'посёлок городского типа вырица',\n",
       "       'деревня кипень', 'деревня келози', 'деревня вартемяги',\n",
       "       'посёлок тельмана', 'поселок севастьяново',\n",
       "       'городской поселок большая ижора', nan,\n",
       "       'городской посёлок павлово', 'деревня агалатово',\n",
       "       'посёлок новогорелово', 'городской посёлок лесогорский',\n",
       "       'деревня лаголово', 'поселок цвелодубово',\n",
       "       'поселок городского типа рахья', 'поселок городского типа вырица',\n",
       "       'деревня белогорка', 'поселок заводской',\n",
       "       'городской посёлок новоселье', 'деревня большие колпаны',\n",
       "       'деревня горбунки', 'деревня батово', 'деревня заневка',\n",
       "       'деревня иссад', 'приморск', 'городской посёлок фёдоровское',\n",
       "       'деревня мистолово', 'новая ладога', 'поселок зимитицы',\n",
       "       'поселок барышево', 'деревня разметелево',\n",
       "       'поселок городского типа имени свердлова', 'деревня пеники',\n",
       "       'поселок рябово', 'деревня пудомяги', 'поселок станции корнево',\n",
       "       'деревня низино', 'деревня бегуницы', 'посёлок поляны',\n",
       "       'городской посёлок мга', 'поселок елизаветино',\n",
       "       'посёлок городского типа кузнечное', 'деревня колтуши',\n",
       "       'поселок запорожское', 'посёлок городского типа рощино',\n",
       "       'деревня гостилицы', 'деревня малое карлино',\n",
       "       'посёлок мичуринское', 'посёлок городского типа имени морозова',\n",
       "       'посёлок песочный', 'посёлок сосново', 'деревня аро',\n",
       "       'поселок ильичёво', 'посёлок городского типа тайцы',\n",
       "       'деревня малое верево', 'деревня извара', 'поселок станции вещево',\n",
       "       'село паша', 'деревня калитино',\n",
       "       'посёлок городского типа ульяновка', 'деревня чудской бор',\n",
       "       'поселок городского типа дубровка', 'деревня мины',\n",
       "       'поселок войсковицы', 'посёлок городского типа имени свердлова',\n",
       "       'деревня коркино', 'посёлок ропша',\n",
       "       'поселок городского типа приладожский', 'посёлок щеглово',\n",
       "       'посёлок гаврилово', 'лодейное поле', 'деревня рабитицы',\n",
       "       'поселок городского типа никольский', 'деревня кузьмолово',\n",
       "       'деревня малые колпаны', 'поселок тельмана',\n",
       "       'посёлок петро-славянка', 'городской посёлок назия',\n",
       "       'посёлок репино', 'посёлок ильичёво', 'поселок углово',\n",
       "       'поселок старая малукса', 'садовое товарищество рахья',\n",
       "       'поселок аннино', 'поселок победа', 'деревня меньково',\n",
       "       'деревня старые бегуницы', 'посёлок сапёрный', 'поселок семрино',\n",
       "       'поселок гаврилово', 'поселок глажево', 'поселок кобринское',\n",
       "       'деревня гарболово', 'деревня юкки',\n",
       "       'поселок станции приветнинское', 'деревня мануйлово',\n",
       "       'деревня пчева', 'поселок поляны', 'поселок цвылёво',\n",
       "       'поселок мельниково', 'посёлок пудость', 'посёлок усть-луга',\n",
       "       'светогорск', 'любань', 'поселок селезнёво',\n",
       "       'поселок городского типа рябово', 'каменногорск', 'деревня кривко',\n",
       "       'поселок глебычево', 'деревня парицы', 'поселок жилпосёлок',\n",
       "       'посёлок городского типа мга', 'городской поселок янино-1',\n",
       "       'посёлок войскорово', 'село никольское', 'посёлок терволово',\n",
       "       'поселок стеклянный', 'посёлок городского типа важины',\n",
       "       'посёлок мыза-ивановка', 'село русско-высоцкое',\n",
       "       'поселок городского типа лебяжье',\n",
       "       'поселок городского типа форносово', 'село старая ладога',\n",
       "       'поселок житково', 'городской посёлок виллози', 'деревня лампово',\n",
       "       'деревня шпаньково', 'деревня лаврики', 'посёлок сумино',\n",
       "       'посёлок возрождение', 'деревня старосиверская',\n",
       "       'посёлок кикерино', 'поселок возрождение',\n",
       "       'деревня старое хинколово', 'посёлок пригородный',\n",
       "       'посёлок торфяное', 'городской посёлок будогощь',\n",
       "       'поселок суходолье', 'поселок красная долина', 'деревня хапо-ое',\n",
       "       'поселок городского типа дружная горка', 'поселок лисий нос',\n",
       "       'деревня яльгелево', 'посёлок стеклянный', 'село рождествено',\n",
       "       'деревня старополье', 'посёлок левашово', 'деревня сяськелево',\n",
       "       'деревня камышовка',\n",
       "       'садоводческое некоммерческое товарищество лесная поляна',\n",
       "       'деревня хязельки', 'поселок жилгородок',\n",
       "       'посёлок городского типа павлово', 'деревня ялгино',\n",
       "       'поселок новый учхоз', 'городской посёлок рощино',\n",
       "       'поселок гончарово', 'поселок почап', 'посёлок сапёрное',\n",
       "       'посёлок платформа 69-й километр', 'поселок каложицы',\n",
       "       'деревня фалилеево', 'деревня пельгора',\n",
       "       'поселок городского типа лесогорский', 'деревня торошковичи',\n",
       "       'посёлок белоостров', 'посёлок алексеевка', 'поселок серебрянский',\n",
       "       'поселок лукаши', 'поселок петровское', 'деревня щеглово',\n",
       "       'поселок мичуринское', 'деревня тарасово', 'поселок кингисеппский',\n",
       "       'посёлок при железнодорожной станции вещево', 'поселок ушаки',\n",
       "       'деревня котлы', 'деревня сижно', 'деревня торосово',\n",
       "       'посёлок форт красная горка', 'поселок городского типа токсово',\n",
       "       'деревня новолисино', 'посёлок станции громово', 'деревня глинка',\n",
       "       'посёлок мельниково', 'поселок городского типа назия',\n",
       "       'деревня старая пустошь', 'поселок коммунары', 'поселок починок',\n",
       "       'посёлок городского типа вознесенье', 'деревня разбегаево',\n",
       "       'посёлок городского типа рябово', 'поселок гладкое',\n",
       "       'посёлок при железнодорожной станции приветнинское',\n",
       "       'поселок тёсово-4', 'посёлок жилгородок', 'деревня бор',\n",
       "       'посёлок коробицыно', 'деревня большая вруда', 'деревня курковицы',\n",
       "       'посёлок лисий нос', 'городской посёлок советский',\n",
       "       'посёлок кобралово', 'деревня суоранда', 'поселок кобралово',\n",
       "       'поселок городского типа кондратьево',\n",
       "       'коттеджный поселок счастье', 'поселок любань', 'деревня реброво',\n",
       "       'деревня зимитицы', 'деревня тойворово', 'поселок семиозерье',\n",
       "       'поселок лесное', 'поселок совхозный', 'поселок усть-луга',\n",
       "       'посёлок ленинское', 'посёлок суйда',\n",
       "       'посёлок городского типа форносово', 'деревня нижние осельки',\n",
       "       'посёлок станции свирь', 'поселок перово', 'высоцк',\n",
       "       'поселок гарболово', 'село шум', 'поселок котельский',\n",
       "       'поселок станции лужайка', 'деревня большая пустомержа',\n",
       "       'поселок красносельское', 'деревня вахнова кара', 'деревня пижма',\n",
       "       'коттеджный поселок кивеннапа север', 'поселок коробицыно',\n",
       "       'поселок ромашки', 'посёлок перово', 'деревня каськово',\n",
       "       'деревня куровицы', 'посёлок плоское', 'поселок сумино',\n",
       "       'поселок городского типа большая ижора', 'поселок кирпичное',\n",
       "       'деревня ям-тесово', 'деревня раздолье', 'деревня терпилицы',\n",
       "       'посёлок шугозеро', 'деревня ваганово', 'поселок пушное',\n",
       "       'садовое товарищество садко', 'посёлок усть-ижора',\n",
       "       'деревня выскатка', 'городской посёлок свирьстрой',\n",
       "       'поселок громово', 'деревня кисельня', 'посёлок старая малукса',\n",
       "       'деревня трубников бор', 'поселок калитино',\n",
       "       'посёлок высокоключевой', 'садовое товарищество приладожский',\n",
       "       'посёлок пансионат зелёный бор', 'деревня ненимяки',\n",
       "       'поселок пансионат зелёный бор', 'деревня снегирёвка',\n",
       "       'деревня рапполово', 'деревня пустынка', 'поселок рабитицы',\n",
       "       'деревня большой сабск', 'деревня русско', 'деревня лупполово',\n",
       "       'деревня большое рейзино', 'деревня малая романовка',\n",
       "       'поселок дружноселье', 'поселок пчевжа', 'поселок володарское',\n",
       "       'деревня нижняя', 'коттеджный посёлок лесное', 'деревня тихковицы',\n",
       "       'деревня борисова грива', 'посёлок дзержинского'], dtype=object)"
      ]
     },
     "execution_count": 7,
     "metadata": {},
     "output_type": "execute_result"
    }
   ],
   "source": [
    "data['locality_name'].unique() "
   ]
  },
  {
   "cell_type": "code",
   "execution_count": 8,
   "metadata": {},
   "outputs": [
    {
     "data": {
      "text/plain": [
       "array(['санкт-петербург', 'поселок шушары', 'городской поселок янино-1',\n",
       "       'поселок парголово', 'поселок мурино', 'ломоносов', 'сертолово',\n",
       "       'петергоф', 'пушкин', 'деревня кудрово', 'коммунар', 'колпино',\n",
       "       'поселок городского типа красный бор', 'гатчина',\n",
       "       'деревня федоровское', 'выборг', 'кронштадт', 'кировск',\n",
       "       'деревня новое девяткино', 'поселок металлострой',\n",
       "       'поселок городского типа лебяжье',\n",
       "       'поселок городского типа сиверский', 'поселок молодцово',\n",
       "       'поселок городского типа кузьмоловский',\n",
       "       'садовое товарищество новая ропша', 'павловск',\n",
       "       'деревня пикколово', 'всеволожск', 'волхов', 'кингисепп',\n",
       "       'приозерск', 'сестрорецк', 'деревня куттузи', 'поселок аннино',\n",
       "       'поселок городского типа ефимовский', 'поселок плодовое',\n",
       "       'деревня заклинье', 'поселок торковичи', 'поселок первомайское',\n",
       "       'красное село', 'поселок понтонный', 'сясьстрой', 'деревня старая',\n",
       "       'деревня лесколово', 'поселок новый свет', 'сланцы',\n",
       "       'село путилово', 'ивангород', 'мурино', 'шлиссельбург',\n",
       "       'никольское', 'зеленогорск', 'сосновый бор', 'деревня оржицы',\n",
       "       'деревня кальтино', 'кудрово', 'поселок романовка',\n",
       "       'поселок бугры', 'поселок городского типа рощино', 'кириши',\n",
       "       'луга', 'волосово', 'отрадное', 'село павлово', 'поселок оредеж',\n",
       "       'село копорье', 'поселок молодежное', 'тихвин', 'поселок победа',\n",
       "       'деревня нурма', 'поселок городского типа синявино', 'тосно',\n",
       "       'поселок стрельна', 'бокситогорск', 'поселок александровская',\n",
       "       'деревня лопухинка', 'пикалево', 'поселок терволово',\n",
       "       'поселок городского типа советский', 'подпорожье',\n",
       "       'поселок петровское', 'поселок городского типа токсово',\n",
       "       'поселок сельцо', 'поселок городского типа вырица',\n",
       "       'деревня кипень', 'деревня келози', 'деревня вартемяги',\n",
       "       'поселок тельмана', 'поселок севастьяново',\n",
       "       'городской поселок большая ижора', nan,\n",
       "       'городской поселок павлово', 'деревня агалатово',\n",
       "       'поселок новогорелово', 'городской поселок лесогорский',\n",
       "       'деревня лаголово', 'поселок цвелодубово',\n",
       "       'поселок городского типа рахья', 'деревня белогорка',\n",
       "       'поселок заводской', 'городской поселок новоселье',\n",
       "       'деревня большие колпаны', 'деревня горбунки', 'деревня батово',\n",
       "       'деревня заневка', 'деревня иссад', 'приморск',\n",
       "       'городской поселок федоровское', 'деревня мистолово',\n",
       "       'новая ладога', 'поселок зимитицы', 'поселок барышево',\n",
       "       'деревня разметелево', 'поселок городского типа имени свердлова',\n",
       "       'деревня пеники', 'поселок рябово', 'деревня пудомяги',\n",
       "       'поселок станции корнево', 'деревня низино', 'деревня бегуницы',\n",
       "       'поселок поляны', 'городской поселок мга', 'поселок елизаветино',\n",
       "       'поселок городского типа кузнечное', 'деревня колтуши',\n",
       "       'поселок запорожское', 'деревня гостилицы',\n",
       "       'деревня малое карлино', 'поселок мичуринское',\n",
       "       'поселок городского типа имени морозова', 'поселок песочный',\n",
       "       'поселок сосново', 'деревня аро', 'поселок ильичево',\n",
       "       'поселок городского типа тайцы', 'деревня малое верево',\n",
       "       'деревня извара', 'поселок станции вещево', 'село паша',\n",
       "       'деревня калитино', 'поселок городского типа ульяновка',\n",
       "       'деревня чудской бор', 'поселок городского типа дубровка',\n",
       "       'деревня мины', 'поселок войсковицы', 'деревня коркино',\n",
       "       'поселок ропша', 'поселок городского типа приладожский',\n",
       "       'поселок щеглово', 'поселок гаврилово', 'лодейное поле',\n",
       "       'деревня рабитицы', 'поселок городского типа никольский',\n",
       "       'деревня кузьмолово', 'деревня малые колпаны',\n",
       "       'поселок петро-славянка', 'городской поселок назия',\n",
       "       'поселок репино', 'поселок углово', 'поселок старая малукса',\n",
       "       'садовое товарищество рахья', 'деревня меньково',\n",
       "       'деревня старые бегуницы', 'поселок саперный', 'поселок семрино',\n",
       "       'поселок глажево', 'поселок кобринское', 'деревня гарболово',\n",
       "       'деревня юкки', 'поселок станции приветнинское',\n",
       "       'деревня мануйлово', 'деревня пчева', 'поселок цвылево',\n",
       "       'поселок мельниково', 'поселок пудость', 'поселок усть-луга',\n",
       "       'светогорск', 'любань', 'поселок селезнево',\n",
       "       'поселок городского типа рябово', 'каменногорск', 'деревня кривко',\n",
       "       'поселок глебычево', 'деревня парицы', 'поселок жилпоселок',\n",
       "       'поселок городского типа мга', 'поселок войскорово',\n",
       "       'село никольское', 'поселок стеклянный',\n",
       "       'поселок городского типа важины', 'поселок мыза-ивановка',\n",
       "       'село русско-высоцкое', 'поселок городского типа форносово',\n",
       "       'село старая ладога', 'поселок житково',\n",
       "       'городской поселок виллози', 'деревня лампово',\n",
       "       'деревня шпаньково', 'деревня лаврики', 'поселок сумино',\n",
       "       'поселок возрождение', 'деревня старосиверская',\n",
       "       'поселок кикерино', 'деревня старое хинколово',\n",
       "       'поселок пригородный', 'поселок торфяное',\n",
       "       'городской поселок будогощь', 'поселок суходолье',\n",
       "       'поселок красная долина', 'деревня хапо-ое',\n",
       "       'поселок городского типа дружная горка', 'поселок лисий нос',\n",
       "       'деревня яльгелево', 'село рождествено', 'деревня старополье',\n",
       "       'поселок левашово', 'деревня сяськелево', 'деревня камышовка',\n",
       "       'садоводческое некоммерческое товарищество лесная поляна',\n",
       "       'деревня хязельки', 'поселок жилгородок',\n",
       "       'поселок городского типа павлово', 'деревня ялгино',\n",
       "       'поселок новый учхоз', 'городской поселок рощино',\n",
       "       'поселок гончарово', 'поселок почап', 'поселок саперное',\n",
       "       'поселок платформа 69-й километр', 'поселок каложицы',\n",
       "       'деревня фалилеево', 'деревня пельгора',\n",
       "       'поселок городского типа лесогорский', 'деревня торошковичи',\n",
       "       'поселок белоостров', 'поселок алексеевка', 'поселок серебрянский',\n",
       "       'поселок лукаши', 'деревня щеглово', 'деревня тарасово',\n",
       "       'поселок кингисеппский',\n",
       "       'поселок при железнодорожной станции вещево', 'поселок ушаки',\n",
       "       'деревня котлы', 'деревня сижно', 'деревня торосово',\n",
       "       'поселок форт красная горка', 'деревня новолисино',\n",
       "       'поселок станции громово', 'деревня глинка',\n",
       "       'поселок городского типа назия', 'деревня старая пустошь',\n",
       "       'поселок коммунары', 'поселок починок',\n",
       "       'поселок городского типа вознесенье', 'деревня разбегаево',\n",
       "       'поселок гладкое',\n",
       "       'поселок при железнодорожной станции приветнинское',\n",
       "       'поселок тесово-4', 'деревня бор', 'поселок коробицыно',\n",
       "       'деревня большая вруда', 'деревня курковицы',\n",
       "       'городской поселок советский', 'поселок кобралово',\n",
       "       'деревня суоранда', 'поселок городского типа кондратьево',\n",
       "       'коттеджный поселок счастье', 'поселок любань', 'деревня реброво',\n",
       "       'деревня зимитицы', 'деревня тойворово', 'поселок семиозерье',\n",
       "       'поселок лесное', 'поселок совхозный', 'поселок ленинское',\n",
       "       'поселок суйда', 'деревня нижние осельки', 'поселок станции свирь',\n",
       "       'поселок перово', 'высоцк', 'поселок гарболово', 'село шум',\n",
       "       'поселок котельский', 'поселок станции лужайка',\n",
       "       'деревня большая пустомержа', 'поселок красносельское',\n",
       "       'деревня вахнова кара', 'деревня пижма',\n",
       "       'коттеджный поселок кивеннапа север', 'поселок ромашки',\n",
       "       'деревня каськово', 'деревня куровицы', 'поселок плоское',\n",
       "       'поселок городского типа большая ижора', 'поселок кирпичное',\n",
       "       'деревня ям-тесово', 'деревня раздолье', 'деревня терпилицы',\n",
       "       'поселок шугозеро', 'деревня ваганово', 'поселок пушное',\n",
       "       'садовое товарищество садко', 'поселок усть-ижора',\n",
       "       'деревня выскатка', 'городской поселок свирьстрой',\n",
       "       'поселок громово', 'деревня кисельня', 'деревня трубников бор',\n",
       "       'поселок калитино', 'поселок высокоключевой',\n",
       "       'садовое товарищество приладожский',\n",
       "       'поселок пансионат зеленый бор', 'деревня ненимяки',\n",
       "       'деревня снегиревка', 'деревня рапполово', 'деревня пустынка',\n",
       "       'поселок рабитицы', 'деревня большой сабск', 'деревня русско',\n",
       "       'деревня лупполово', 'деревня большое рейзино',\n",
       "       'деревня малая романовка', 'поселок дружноселье', 'поселок пчевжа',\n",
       "       'поселок володарское', 'деревня нижняя',\n",
       "       'коттеджный поселок лесное', 'деревня тихковицы',\n",
       "       'деревня борисова грива', 'поселок дзержинского'], dtype=object)"
      ]
     },
     "execution_count": 8,
     "metadata": {},
     "output_type": "execute_result"
    }
   ],
   "source": [
    "#data['locality_name'] = data['locality_name'].replace('ё', 'е')\n",
    "for name in data['locality_name'].unique() :\n",
    "    if 'ё' in str(name) :\n",
    "        data.loc[data['locality_name'] == name, 'locality_name'] = name.replace('ё', 'е') #заменим ё на ё везде\n",
    "\n",
    "data['locality_name'].unique()"
   ]
  },
  {
   "cell_type": "code",
   "execution_count": 7,
   "metadata": {},
   "outputs": [
    {
     "data": {
      "text/plain": [
       "0            Санкт-Петербург\n",
       "1             посёлок Шушары\n",
       "2            Санкт-Петербург\n",
       "3            Санкт-Петербург\n",
       "4            Санкт-Петербург\n",
       "                ...         \n",
       "23694        Санкт-Петербург\n",
       "23695                  Тосно\n",
       "23696       село Рождествено\n",
       "23697        Санкт-Петербург\n",
       "23698    поселок Новый Учхоз\n",
       "Name: locality_name, Length: 23699, dtype: object"
      ]
     },
     "metadata": {},
     "output_type": "display_data"
    },
    {
     "data": {
      "text/plain": [
       "0            Санкт-Петербург\n",
       "1             поселок Шушары\n",
       "2            Санкт-Петербург\n",
       "3            Санкт-Петербург\n",
       "4            Санкт-Петербург\n",
       "                ...         \n",
       "23694        Санкт-Петербург\n",
       "23695                  Тосно\n",
       "23696       село Рождествено\n",
       "23697        Санкт-Петербург\n",
       "23698    поселок Новый Учхоз\n",
       "Name: locality_name, Length: 23699, dtype: object"
      ]
     },
     "metadata": {},
     "output_type": "display_data"
    }
   ],
   "source": [
    "display(data['locality_name'])\n",
    "data['locality_name'] = data['locality_name'].str.replace('ё', 'е')\n",
    "display(data['locality_name'])"
   ]
  },
  {
   "cell_type": "markdown",
   "metadata": {},
   "source": [
    "Избавимся от дубликатов. Дубликатами будем считать те позиции, которые идентичны по пяти самым значимым параметрам. Под нож могли попасть и обычные совпадения, но хочется верить, что дубликатов таким образом было удалено больше."
   ]
  },
  {
   "cell_type": "code",
   "execution_count": 9,
   "metadata": {},
   "outputs": [],
   "source": [
    "data = data.drop_duplicates(subset = ['locality_name', 'floor', 'rooms', 'total_area', 'living_area'], keep='first').reset_index(drop=True)\n"
   ]
  },
  {
   "cell_type": "markdown",
   "metadata": {},
   "source": [
    "#### Пропуски и аномалии"
   ]
  },
  {
   "cell_type": "markdown",
   "metadata": {},
   "source": [
    "##### Высота потолков:\n",
    "Сначала избавимся от аномальных значений. Аномальными будем считать потолки ниже 2-х метров и выше 6-и(потолки 6 метров возможны в пентхаусах).\n",
    "Пропусков довольно много, и думаю, что их можно заполнить медианным значением. Высота потолков в большинстве квартир стандартна, это же показывает и маленький разброс в гистограме. Еще я думаю, что если человек не указал высоту потолка в квартире, значит, с большей вероятностью, это стандартная высота. Не предупредить о 2-х метровых потолках - нечестно, а не указать о преимуществе в виде 6-метровых потолков - глупо."
   ]
  },
  {
   "cell_type": "code",
   "execution_count": 10,
   "metadata": {},
   "outputs": [],
   "source": [
    "data['ceiling_height'].sort_values(ascending=True).head(50) #ищу аномально большие или аномально маленькие значения\n",
    "data['ceiling_height'].sort_values(ascending=False).head(50)\n",
    "data['ceiling_height'] = data['ceiling_height'].astype('float')\n",
    "data = data.loc[(2.30 <= data['ceiling_height']) & (data['ceiling_height'] <= 6.00) | (data['ceiling_height'].isna())] #избавляюсь от них\n"
   ]
  },
  {
   "cell_type": "code",
   "execution_count": 11,
   "metadata": {},
   "outputs": [
    {
     "data": {
      "text/plain": [
       "0"
      ]
     },
     "execution_count": 11,
     "metadata": {},
     "output_type": "execute_result"
    }
   ],
   "source": [
    "data['ceiling_height'] = data['ceiling_height'].fillna(data['ceiling_height'].median())\n",
    "data['ceiling_height'].isna().sum()\n"
   ]
  },
  {
   "cell_type": "markdown",
   "metadata": {},
   "source": [
    "##### Про floors_total \n",
    "Пропусков всего 86 - это мало. Лучше удалить эти строки."
   ]
  },
  {
   "cell_type": "code",
   "execution_count": 12,
   "metadata": {},
   "outputs": [],
   "source": [
    "data = data.query('~floors_total.isna()')\n"
   ]
  },
  {
   "cell_type": "markdown",
   "metadata": {},
   "source": [
    "##### iving_area\n",
    "Тут можно постараться и заполнить наиболее вероятным значением. Надо понять, какое в среднем отношение жилой зоны к общей, и умножить эту величину на значение общей зоны в строках с пропусками в living_area.\n"
   ]
  },
  {
   "cell_type": "code",
   "execution_count": 13,
   "metadata": {},
   "outputs": [
    {
     "data": {
      "text/html": [
       "<div>\n",
       "<style scoped>\n",
       "    .dataframe tbody tr th:only-of-type {\n",
       "        vertical-align: middle;\n",
       "    }\n",
       "\n",
       "    .dataframe tbody tr th {\n",
       "        vertical-align: top;\n",
       "    }\n",
       "\n",
       "    .dataframe thead th {\n",
       "        text-align: right;\n",
       "    }\n",
       "</style>\n",
       "<table border=\"1\" class=\"dataframe\">\n",
       "  <thead>\n",
       "    <tr style=\"text-align: right;\">\n",
       "      <th></th>\n",
       "      <th>living_area</th>\n",
       "      <th>total_area</th>\n",
       "    </tr>\n",
       "  </thead>\n",
       "  <tbody>\n",
       "    <tr>\n",
       "      <th>144</th>\n",
       "      <td>15.50</td>\n",
       "      <td>27.00</td>\n",
       "    </tr>\n",
       "    <tr>\n",
       "      <th>440</th>\n",
       "      <td>24.75</td>\n",
       "      <td>27.11</td>\n",
       "    </tr>\n",
       "    <tr>\n",
       "      <th>608</th>\n",
       "      <td>NaN</td>\n",
       "      <td>25.00</td>\n",
       "    </tr>\n",
       "    <tr>\n",
       "      <th>697</th>\n",
       "      <td>17.50</td>\n",
       "      <td>24.10</td>\n",
       "    </tr>\n",
       "    <tr>\n",
       "      <th>716</th>\n",
       "      <td>12.00</td>\n",
       "      <td>17.00</td>\n",
       "    </tr>\n",
       "    <tr>\n",
       "      <th>1172</th>\n",
       "      <td>17.00</td>\n",
       "      <td>29.00</td>\n",
       "    </tr>\n",
       "    <tr>\n",
       "      <th>1173</th>\n",
       "      <td>18.00</td>\n",
       "      <td>32.00</td>\n",
       "    </tr>\n",
       "    <tr>\n",
       "      <th>1219</th>\n",
       "      <td>20.00</td>\n",
       "      <td>27.00</td>\n",
       "    </tr>\n",
       "    <tr>\n",
       "      <th>1259</th>\n",
       "      <td>16.00</td>\n",
       "      <td>27.00</td>\n",
       "    </tr>\n",
       "    <tr>\n",
       "      <th>1275</th>\n",
       "      <td>17.38</td>\n",
       "      <td>26.00</td>\n",
       "    </tr>\n",
       "  </tbody>\n",
       "</table>\n",
       "</div>"
      ],
      "text/plain": [
       "      living_area  total_area\n",
       "144         15.50       27.00\n",
       "440         24.75       27.11\n",
       "608           NaN       25.00\n",
       "697         17.50       24.10\n",
       "716         12.00       17.00\n",
       "1172        17.00       29.00\n",
       "1173        18.00       32.00\n",
       "1219        20.00       27.00\n",
       "1259        16.00       27.00\n",
       "1275        17.38       26.00"
      ]
     },
     "execution_count": 13,
     "metadata": {},
     "output_type": "execute_result"
    }
   ],
   "source": [
    "data.query('open_plan == True')[['living_area', 'total_area']].head(50) #проверил, как работает соотношение жилой площади к общей в случае квартир с открытой планировкой.\n",
    "data.query('studio == True')[['living_area', 'total_area']].head(10) #проверил, как работает соотношение жилой площади к общей в студиях\n"
   ]
  },
  {
   "cell_type": "code",
   "execution_count": 14,
   "metadata": {},
   "outputs": [
    {
     "data": {
      "text/plain": [
       "0.5684210526315789"
      ]
     },
     "execution_count": 14,
     "metadata": {},
     "output_type": "execute_result"
    }
   ],
   "source": [
    "living_to_total = pd.Series(data['living_area'] / data['total_area'])\n",
    "median_living_to_total = living_to_total.median()\n",
    "median_living_to_total"
   ]
  },
  {
   "cell_type": "code",
   "execution_count": 15,
   "metadata": {},
   "outputs": [
    {
     "data": {
      "text/plain": [
       "0"
      ]
     },
     "execution_count": 15,
     "metadata": {},
     "output_type": "execute_result"
    }
   ],
   "source": [
    "data['living_area'] = data['living_area'].fillna(median_living_to_total * data['total_area'])\n",
    "data['living_area'].isna().sum()\n"
   ]
  },
  {
   "cell_type": "code",
   "execution_count": 16,
   "metadata": {},
   "outputs": [
    {
     "data": {
      "text/html": [
       "<div>\n",
       "<style scoped>\n",
       "    .dataframe tbody tr th:only-of-type {\n",
       "        vertical-align: middle;\n",
       "    }\n",
       "\n",
       "    .dataframe tbody tr th {\n",
       "        vertical-align: top;\n",
       "    }\n",
       "\n",
       "    .dataframe thead th {\n",
       "        text-align: right;\n",
       "    }\n",
       "</style>\n",
       "<table border=\"1\" class=\"dataframe\">\n",
       "  <thead>\n",
       "    <tr style=\"text-align: right;\">\n",
       "      <th></th>\n",
       "      <th>living_area</th>\n",
       "      <th>last_price</th>\n",
       "    </tr>\n",
       "  </thead>\n",
       "  <tbody>\n",
       "    <tr>\n",
       "      <th>18486</th>\n",
       "      <td>409.700000</td>\n",
       "      <td>420000000.0</td>\n",
       "    </tr>\n",
       "    <tr>\n",
       "      <th>5256</th>\n",
       "      <td>409.000000</td>\n",
       "      <td>65000000.0</td>\n",
       "    </tr>\n",
       "    <tr>\n",
       "      <th>3085</th>\n",
       "      <td>358.673684</td>\n",
       "      <td>140000000.0</td>\n",
       "    </tr>\n",
       "    <tr>\n",
       "      <th>11910</th>\n",
       "      <td>347.500000</td>\n",
       "      <td>91500000.0</td>\n",
       "    </tr>\n",
       "    <tr>\n",
       "      <th>4169</th>\n",
       "      <td>332.000000</td>\n",
       "      <td>50000000.0</td>\n",
       "    </tr>\n",
       "    <tr>\n",
       "      <th>12340</th>\n",
       "      <td>322.300000</td>\n",
       "      <td>140000000.0</td>\n",
       "    </tr>\n",
       "    <tr>\n",
       "      <th>660</th>\n",
       "      <td>312.500000</td>\n",
       "      <td>49950000.0</td>\n",
       "    </tr>\n",
       "    <tr>\n",
       "      <th>7810</th>\n",
       "      <td>301.500000</td>\n",
       "      <td>84000000.0</td>\n",
       "    </tr>\n",
       "    <tr>\n",
       "      <th>13490</th>\n",
       "      <td>300.000000</td>\n",
       "      <td>51000000.0</td>\n",
       "    </tr>\n",
       "    <tr>\n",
       "      <th>5774</th>\n",
       "      <td>284.210526</td>\n",
       "      <td>230000000.0</td>\n",
       "    </tr>\n",
       "    <tr>\n",
       "      <th>14345</th>\n",
       "      <td>284.210526</td>\n",
       "      <td>150000000.0</td>\n",
       "    </tr>\n",
       "    <tr>\n",
       "      <th>9513</th>\n",
       "      <td>280.856842</td>\n",
       "      <td>43185328.0</td>\n",
       "    </tr>\n",
       "    <tr>\n",
       "      <th>19154</th>\n",
       "      <td>279.600000</td>\n",
       "      <td>20000000.0</td>\n",
       "    </tr>\n",
       "    <tr>\n",
       "      <th>21170</th>\n",
       "      <td>274.000000</td>\n",
       "      <td>91075000.0</td>\n",
       "    </tr>\n",
       "    <tr>\n",
       "      <th>13867</th>\n",
       "      <td>264.500000</td>\n",
       "      <td>32250000.0</td>\n",
       "    </tr>\n",
       "    <tr>\n",
       "      <th>18782</th>\n",
       "      <td>260.000000</td>\n",
       "      <td>180000000.0</td>\n",
       "    </tr>\n",
       "    <tr>\n",
       "      <th>14928</th>\n",
       "      <td>258.000000</td>\n",
       "      <td>300000000.0</td>\n",
       "    </tr>\n",
       "    <tr>\n",
       "      <th>1085</th>\n",
       "      <td>255.700000</td>\n",
       "      <td>75000000.0</td>\n",
       "    </tr>\n",
       "    <tr>\n",
       "      <th>3626</th>\n",
       "      <td>251.230737</td>\n",
       "      <td>28789000.0</td>\n",
       "    </tr>\n",
       "    <tr>\n",
       "      <th>14471</th>\n",
       "      <td>250.000000</td>\n",
       "      <td>88000000.0</td>\n",
       "    </tr>\n",
       "  </tbody>\n",
       "</table>\n",
       "</div>"
      ],
      "text/plain": [
       "       living_area   last_price\n",
       "18486   409.700000  420000000.0\n",
       "5256    409.000000   65000000.0\n",
       "3085    358.673684  140000000.0\n",
       "11910   347.500000   91500000.0\n",
       "4169    332.000000   50000000.0\n",
       "12340   322.300000  140000000.0\n",
       "660     312.500000   49950000.0\n",
       "7810    301.500000   84000000.0\n",
       "13490   300.000000   51000000.0\n",
       "5774    284.210526  230000000.0\n",
       "14345   284.210526  150000000.0\n",
       "9513    280.856842   43185328.0\n",
       "19154   279.600000   20000000.0\n",
       "21170   274.000000   91075000.0\n",
       "13867   264.500000   32250000.0\n",
       "18782   260.000000  180000000.0\n",
       "14928   258.000000  300000000.0\n",
       "1085    255.700000   75000000.0\n",
       "3626    251.230737   28789000.0\n",
       "14471   250.000000   88000000.0"
      ]
     },
     "execution_count": 16,
     "metadata": {},
     "output_type": "execute_result"
    }
   ],
   "source": [
    "data['living_area'].describe()\n",
    "data[['living_area', 'last_price']].sort_values(by='living_area', ascending=False).head(20) #квартиры в 400 кв. метров показались подозрительными, поэтому на всякий проверил, как дела обстоят с их ценой."
   ]
  },
  {
   "cell_type": "markdown",
   "metadata": {},
   "source": [
    "##### is_apartment\n",
    "Тут самый разумный вариант - поставить фолс вместо пропусков. Я думаю, что это работает по такому принципу: если квартира является апартаментами, то об этом обязательно напишут (так как это очень важная информация). Однако, указывать о том, что квартира не является апартаментами - слишком мелочно."
   ]
  },
  {
   "cell_type": "code",
   "execution_count": 17,
   "metadata": {},
   "outputs": [
    {
     "data": {
      "text/plain": [
       "0"
      ]
     },
     "execution_count": 17,
     "metadata": {},
     "output_type": "execute_result"
    }
   ],
   "source": [
    "data['is_apartment'] = data['is_apartment'].fillna(False)\n",
    "data['is_apartment'].isna().sum()\n"
   ]
  },
  {
   "cell_type": "markdown",
   "metadata": {},
   "source": [
    "##### kitchen_area\n",
    "Я думаю, тут можно сделать по аналогии с площадью жилой зоны. Можно найти среднее соотношение размера кухни и общей площади квартиры. \n",
    "Однако надо быть осторожными с квартирами-студиями. Посмотрим, как размеры кухонь выглядят у них.\n"
   ]
  },
  {
   "cell_type": "code",
   "execution_count": 18,
   "metadata": {},
   "outputs": [
    {
     "data": {
      "text/plain": [
       "array([nan])"
      ]
     },
     "execution_count": 18,
     "metadata": {},
     "output_type": "execute_result"
    }
   ],
   "source": [
    "data.loc[data['studio'] == True]['kitchen_area'].unique()\n"
   ]
  },
  {
   "cell_type": "markdown",
   "metadata": {},
   "source": [
    "Это было ожидаемо, но проверка лишней не бывает. В студиях не пишут площадь кухни, так как кухня там не является отдельным помещением. Поэтому вместо пропусков в китчен ареа для студий поставим нули."
   ]
  },
  {
   "cell_type": "code",
   "execution_count": 19,
   "metadata": {},
   "outputs": [
    {
     "data": {
      "text/plain": [
       "0"
      ]
     },
     "execution_count": 19,
     "metadata": {},
     "output_type": "execute_result"
    }
   ],
   "source": [
    "median_kitchen_to_total = pd.Series(data['kitchen_area'] / data['total_area']).median()\n",
    "data['kitchen_area'] = data['kitchen_area'].fillna(median_kitchen_to_total * data['total_area'])\n",
    "data.loc[data['studio'] == True, 'kitchen_area'] = 0\n",
    "data['kitchen_area'].isna().sum()"
   ]
  },
  {
   "cell_type": "markdown",
   "metadata": {},
   "source": [
    "Изучим аномально большие кухни и посмотрим на отношение их площади к площади всей квартиры"
   ]
  },
  {
   "cell_type": "code",
   "execution_count": 20,
   "metadata": {},
   "outputs": [
    {
     "data": {
      "text/html": [
       "<div>\n",
       "<style scoped>\n",
       "    .dataframe tbody tr th:only-of-type {\n",
       "        vertical-align: middle;\n",
       "    }\n",
       "\n",
       "    .dataframe tbody tr th {\n",
       "        vertical-align: top;\n",
       "    }\n",
       "\n",
       "    .dataframe thead th {\n",
       "        text-align: right;\n",
       "    }\n",
       "</style>\n",
       "<table border=\"1\" class=\"dataframe\">\n",
       "  <thead>\n",
       "    <tr style=\"text-align: right;\">\n",
       "      <th></th>\n",
       "      <th>kitchen_area</th>\n",
       "      <th>total_area</th>\n",
       "      <th>last_price</th>\n",
       "    </tr>\n",
       "  </thead>\n",
       "  <tbody>\n",
       "    <tr>\n",
       "      <th>18486</th>\n",
       "      <td>112.000000</td>\n",
       "      <td>900.0</td>\n",
       "      <td>420000000.0</td>\n",
       "    </tr>\n",
       "    <tr>\n",
       "      <th>19101</th>\n",
       "      <td>107.000000</td>\n",
       "      <td>249.7</td>\n",
       "      <td>85000000.0</td>\n",
       "    </tr>\n",
       "    <tr>\n",
       "      <th>2467</th>\n",
       "      <td>100.700000</td>\n",
       "      <td>255.0</td>\n",
       "      <td>12500000.0</td>\n",
       "    </tr>\n",
       "    <tr>\n",
       "      <th>5256</th>\n",
       "      <td>100.000000</td>\n",
       "      <td>590.0</td>\n",
       "      <td>65000000.0</td>\n",
       "    </tr>\n",
       "    <tr>\n",
       "      <th>15461</th>\n",
       "      <td>93.200000</td>\n",
       "      <td>181.1</td>\n",
       "      <td>82400000.0</td>\n",
       "    </tr>\n",
       "    <tr>\n",
       "      <th>15963</th>\n",
       "      <td>93.000000</td>\n",
       "      <td>146.0</td>\n",
       "      <td>65850000.0</td>\n",
       "    </tr>\n",
       "    <tr>\n",
       "      <th>10468</th>\n",
       "      <td>87.200000</td>\n",
       "      <td>177.9</td>\n",
       "      <td>56844500.0</td>\n",
       "    </tr>\n",
       "    <tr>\n",
       "      <th>14345</th>\n",
       "      <td>85.864614</td>\n",
       "      <td>500.0</td>\n",
       "      <td>150000000.0</td>\n",
       "    </tr>\n",
       "    <tr>\n",
       "      <th>9513</th>\n",
       "      <td>84.851411</td>\n",
       "      <td>494.1</td>\n",
       "      <td>43185328.0</td>\n",
       "    </tr>\n",
       "    <tr>\n",
       "      <th>492</th>\n",
       "      <td>77.000000</td>\n",
       "      <td>216.0</td>\n",
       "      <td>95000000.0</td>\n",
       "    </tr>\n",
       "    <tr>\n",
       "      <th>4325</th>\n",
       "      <td>77.000000</td>\n",
       "      <td>174.0</td>\n",
       "      <td>57000000.0</td>\n",
       "    </tr>\n",
       "    <tr>\n",
       "      <th>13999</th>\n",
       "      <td>75.000000</td>\n",
       "      <td>150.0</td>\n",
       "      <td>47000000.0</td>\n",
       "    </tr>\n",
       "    <tr>\n",
       "      <th>20832</th>\n",
       "      <td>72.504080</td>\n",
       "      <td>422.2</td>\n",
       "      <td>27000000.0</td>\n",
       "    </tr>\n",
       "    <tr>\n",
       "      <th>15826</th>\n",
       "      <td>72.000000</td>\n",
       "      <td>145.0</td>\n",
       "      <td>122000000.0</td>\n",
       "    </tr>\n",
       "    <tr>\n",
       "      <th>6060</th>\n",
       "      <td>70.000000</td>\n",
       "      <td>230.0</td>\n",
       "      <td>24300000.0</td>\n",
       "    </tr>\n",
       "    <tr>\n",
       "      <th>14928</th>\n",
       "      <td>70.000000</td>\n",
       "      <td>618.0</td>\n",
       "      <td>300000000.0</td>\n",
       "    </tr>\n",
       "    <tr>\n",
       "      <th>5754</th>\n",
       "      <td>68.691691</td>\n",
       "      <td>400.0</td>\n",
       "      <td>38000000.0</td>\n",
       "    </tr>\n",
       "    <tr>\n",
       "      <th>12442</th>\n",
       "      <td>68.691691</td>\n",
       "      <td>400.0</td>\n",
       "      <td>763000000.0</td>\n",
       "    </tr>\n",
       "    <tr>\n",
       "      <th>1383</th>\n",
       "      <td>68.519962</td>\n",
       "      <td>399.0</td>\n",
       "      <td>59800000.0</td>\n",
       "    </tr>\n",
       "    <tr>\n",
       "      <th>1085</th>\n",
       "      <td>66.000000</td>\n",
       "      <td>323.0</td>\n",
       "      <td>75000000.0</td>\n",
       "    </tr>\n",
       "  </tbody>\n",
       "</table>\n",
       "</div>"
      ],
      "text/plain": [
       "       kitchen_area  total_area   last_price\n",
       "18486    112.000000       900.0  420000000.0\n",
       "19101    107.000000       249.7   85000000.0\n",
       "2467     100.700000       255.0   12500000.0\n",
       "5256     100.000000       590.0   65000000.0\n",
       "15461     93.200000       181.1   82400000.0\n",
       "15963     93.000000       146.0   65850000.0\n",
       "10468     87.200000       177.9   56844500.0\n",
       "14345     85.864614       500.0  150000000.0\n",
       "9513      84.851411       494.1   43185328.0\n",
       "492       77.000000       216.0   95000000.0\n",
       "4325      77.000000       174.0   57000000.0\n",
       "13999     75.000000       150.0   47000000.0\n",
       "20832     72.504080       422.2   27000000.0\n",
       "15826     72.000000       145.0  122000000.0\n",
       "6060      70.000000       230.0   24300000.0\n",
       "14928     70.000000       618.0  300000000.0\n",
       "5754      68.691691       400.0   38000000.0\n",
       "12442     68.691691       400.0  763000000.0\n",
       "1383      68.519962       399.0   59800000.0\n",
       "1085      66.000000       323.0   75000000.0"
      ]
     },
     "execution_count": 20,
     "metadata": {},
     "output_type": "execute_result"
    }
   ],
   "source": [
    "data['kitchen_area'].describe()\n",
    "data[['kitchen_area', 'total_area', 'last_price']].sort_values(by='kitchen_area', ascending=False).head(20)"
   ]
  },
  {
   "cell_type": "markdown",
   "metadata": {},
   "source": [
    "Удалим квартиры с аномальным соотношением кухни к общей площади"
   ]
  },
  {
   "cell_type": "code",
   "execution_count": 21,
   "metadata": {},
   "outputs": [],
   "source": [
    "data['kitchen_to_total'] = data['kitchen_area'] / data['total_area']\n",
    "data = data.query('kitchen_to_total <= 0.5')\n"
   ]
  },
  {
   "cell_type": "markdown",
   "metadata": {},
   "source": [
    "##### balcony\n",
    "Только очень неразумный риелтор не укажет наличие балкона, если он действительно имеется в квартире. Поэтому можно заполнить пропуски нулями."
   ]
  },
  {
   "cell_type": "code",
   "execution_count": 22,
   "metadata": {},
   "outputs": [],
   "source": [
    "data['balcony'] = data['balcony'].fillna(0)\n"
   ]
  },
  {
   "cell_type": "code",
   "execution_count": 23,
   "metadata": {},
   "outputs": [
    {
     "data": {
      "text/html": [
       "<div>\n",
       "<style scoped>\n",
       "    .dataframe tbody tr th:only-of-type {\n",
       "        vertical-align: middle;\n",
       "    }\n",
       "\n",
       "    .dataframe tbody tr th {\n",
       "        vertical-align: top;\n",
       "    }\n",
       "\n",
       "    .dataframe thead th {\n",
       "        text-align: right;\n",
       "    }\n",
       "</style>\n",
       "<table border=\"1\" class=\"dataframe\">\n",
       "  <thead>\n",
       "    <tr style=\"text-align: right;\">\n",
       "      <th></th>\n",
       "      <th>balcony</th>\n",
       "      <th>total_area</th>\n",
       "      <th>last_price</th>\n",
       "    </tr>\n",
       "  </thead>\n",
       "  <tbody>\n",
       "    <tr>\n",
       "      <th>18642</th>\n",
       "      <td>5.0</td>\n",
       "      <td>66.2</td>\n",
       "      <td>6100000.0</td>\n",
       "    </tr>\n",
       "    <tr>\n",
       "      <th>16625</th>\n",
       "      <td>5.0</td>\n",
       "      <td>95.0</td>\n",
       "      <td>11500000.0</td>\n",
       "    </tr>\n",
       "    <tr>\n",
       "      <th>14352</th>\n",
       "      <td>5.0</td>\n",
       "      <td>42.3</td>\n",
       "      <td>5000000.0</td>\n",
       "    </tr>\n",
       "    <tr>\n",
       "      <th>18000</th>\n",
       "      <td>5.0</td>\n",
       "      <td>52.4</td>\n",
       "      <td>4887000.0</td>\n",
       "    </tr>\n",
       "    <tr>\n",
       "      <th>3604</th>\n",
       "      <td>5.0</td>\n",
       "      <td>60.0</td>\n",
       "      <td>5100000.0</td>\n",
       "    </tr>\n",
       "    <tr>\n",
       "      <th>12660</th>\n",
       "      <td>5.0</td>\n",
       "      <td>79.2</td>\n",
       "      <td>5000000.0</td>\n",
       "    </tr>\n",
       "    <tr>\n",
       "      <th>12347</th>\n",
       "      <td>5.0</td>\n",
       "      <td>100.0</td>\n",
       "      <td>8200000.0</td>\n",
       "    </tr>\n",
       "    <tr>\n",
       "      <th>16631</th>\n",
       "      <td>5.0</td>\n",
       "      <td>73.9</td>\n",
       "      <td>11000000.0</td>\n",
       "    </tr>\n",
       "    <tr>\n",
       "      <th>11457</th>\n",
       "      <td>5.0</td>\n",
       "      <td>86.1</td>\n",
       "      <td>9900000.0</td>\n",
       "    </tr>\n",
       "    <tr>\n",
       "      <th>9296</th>\n",
       "      <td>5.0</td>\n",
       "      <td>116.0</td>\n",
       "      <td>15000000.0</td>\n",
       "    </tr>\n",
       "    <tr>\n",
       "      <th>17989</th>\n",
       "      <td>5.0</td>\n",
       "      <td>69.0</td>\n",
       "      <td>7800000.0</td>\n",
       "    </tr>\n",
       "    <tr>\n",
       "      <th>15706</th>\n",
       "      <td>5.0</td>\n",
       "      <td>85.6</td>\n",
       "      <td>9900000.0</td>\n",
       "    </tr>\n",
       "    <tr>\n",
       "      <th>9685</th>\n",
       "      <td>5.0</td>\n",
       "      <td>86.0</td>\n",
       "      <td>4845000.0</td>\n",
       "    </tr>\n",
       "    <tr>\n",
       "      <th>18979</th>\n",
       "      <td>5.0</td>\n",
       "      <td>53.0</td>\n",
       "      <td>3400000.0</td>\n",
       "    </tr>\n",
       "    <tr>\n",
       "      <th>13088</th>\n",
       "      <td>5.0</td>\n",
       "      <td>150.0</td>\n",
       "      <td>23200000.0</td>\n",
       "    </tr>\n",
       "    <tr>\n",
       "      <th>3628</th>\n",
       "      <td>5.0</td>\n",
       "      <td>92.0</td>\n",
       "      <td>13230000.0</td>\n",
       "    </tr>\n",
       "    <tr>\n",
       "      <th>409</th>\n",
       "      <td>5.0</td>\n",
       "      <td>73.0</td>\n",
       "      <td>6600000.0</td>\n",
       "    </tr>\n",
       "    <tr>\n",
       "      <th>10222</th>\n",
       "      <td>5.0</td>\n",
       "      <td>109.0</td>\n",
       "      <td>10900000.0</td>\n",
       "    </tr>\n",
       "    <tr>\n",
       "      <th>8036</th>\n",
       "      <td>5.0</td>\n",
       "      <td>102.0</td>\n",
       "      <td>12750000.0</td>\n",
       "    </tr>\n",
       "    <tr>\n",
       "      <th>8032</th>\n",
       "      <td>5.0</td>\n",
       "      <td>61.0</td>\n",
       "      <td>3600000.0</td>\n",
       "    </tr>\n",
       "  </tbody>\n",
       "</table>\n",
       "</div>"
      ],
      "text/plain": [
       "       balcony  total_area  last_price\n",
       "18642      5.0        66.2   6100000.0\n",
       "16625      5.0        95.0  11500000.0\n",
       "14352      5.0        42.3   5000000.0\n",
       "18000      5.0        52.4   4887000.0\n",
       "3604       5.0        60.0   5100000.0\n",
       "12660      5.0        79.2   5000000.0\n",
       "12347      5.0       100.0   8200000.0\n",
       "16631      5.0        73.9  11000000.0\n",
       "11457      5.0        86.1   9900000.0\n",
       "9296       5.0       116.0  15000000.0\n",
       "17989      5.0        69.0   7800000.0\n",
       "15706      5.0        85.6   9900000.0\n",
       "9685       5.0        86.0   4845000.0\n",
       "18979      5.0        53.0   3400000.0\n",
       "13088      5.0       150.0  23200000.0\n",
       "3628       5.0        92.0  13230000.0\n",
       "409        5.0        73.0   6600000.0\n",
       "10222      5.0       109.0  10900000.0\n",
       "8036       5.0       102.0  12750000.0\n",
       "8032       5.0        61.0   3600000.0"
      ]
     },
     "execution_count": 23,
     "metadata": {},
     "output_type": "execute_result"
    }
   ],
   "source": [
    "data['balcony'].describe()\n",
    "data[['balcony', 'total_area', 'last_price']].sort_values(by='balcony', ascending=False).head(20)\n"
   ]
  },
  {
   "cell_type": "markdown",
   "metadata": {},
   "source": [
    "А вот тут совершенно точно нереалистичные значения. Однако просто взять и отрезать квартиры с 4-5 балконами будет нечестно, среди них могут большие и дорогие квартиры, для которых это значение является реалистичным. Поэтому отрежем квартиры с 4-5 балконами и площадью менее 300 кв."
   ]
  },
  {
   "cell_type": "code",
   "execution_count": 24,
   "metadata": {},
   "outputs": [],
   "source": [
    "data = data.loc[(data['balcony'] <= 3) | ((data['balcony'] > 3) & (data['total_area']) >= 300)]\n"
   ]
  },
  {
   "cell_type": "markdown",
   "metadata": {},
   "source": [
    "##### locality_name \n",
    "Лучше удалить эти строки. Пропусков немного, а название местности - важный параметр.\n"
   ]
  },
  {
   "cell_type": "code",
   "execution_count": 25,
   "metadata": {},
   "outputs": [
    {
     "name": "stdout",
     "output_type": "stream",
     "text": [
      "<class 'pandas.core.frame.DataFrame'>\n",
      "Int64Index: 21552 entries, 0 to 22244\n",
      "Data columns (total 23 columns):\n",
      " #   Column                Non-Null Count  Dtype  \n",
      "---  ------                --------------  -----  \n",
      " 0   total_images          21552 non-null  int64  \n",
      " 1   last_price            21552 non-null  float64\n",
      " 2   total_area            21552 non-null  float64\n",
      " 3   first_day_exposition  21552 non-null  object \n",
      " 4   rooms                 21552 non-null  int64  \n",
      " 5   ceiling_height        21552 non-null  float64\n",
      " 6   floors_total          21552 non-null  float64\n",
      " 7   living_area           21552 non-null  float64\n",
      " 8   floor                 21552 non-null  int64  \n",
      " 9   is_apartment          21552 non-null  bool   \n",
      " 10  studio                21552 non-null  bool   \n",
      " 11  open_plan             21552 non-null  bool   \n",
      " 12  kitchen_area          21552 non-null  float64\n",
      " 13  balcony               21552 non-null  float64\n",
      " 14  locality_name         21552 non-null  object \n",
      " 15  airports_nearest      16218 non-null  float64\n",
      " 16  city_centers_nearest  16239 non-null  float64\n",
      " 17  parks_around_3000     16240 non-null  float64\n",
      " 18  parks_nearest         7203 non-null   float64\n",
      " 19  ponds_around_3000     16240 non-null  float64\n",
      " 20  ponds_nearest         8213 non-null   float64\n",
      " 21  days_exposition       18618 non-null  float64\n",
      " 22  kitchen_to_total      21552 non-null  float64\n",
      "dtypes: bool(3), float64(15), int64(3), object(2)\n",
      "memory usage: 3.5+ MB\n"
     ]
    }
   ],
   "source": [
    "data = data.query('~locality_name.isna()')\n",
    "data.info()"
   ]
  },
  {
   "cell_type": "markdown",
   "metadata": {},
   "source": [
    " \n",
    "##### parks_around_3000, ponds_around_3000\n",
    "\n",
    "Пропуски в этих столбцах я бы заменил на 0 по следующим причинам: \n",
    "   1) По аналогии с балконами, опираясь на предпосылку о рациональности риелторов, в округе попросту нет прудов или парков.\n",
    "   2) Судя по гистограммам, 0 - это наиболее вероятное значение.\n",
    "   \n",
    "Выходя за рамки имеющихся возможностей, я бы прежде всего обратился в тех.отдел. Эти параметры - картографические, то есть собраны они тех.отделом Яндекс.недвижимости. Также, думаю, они были собраны автоматически. Скорее всего, произошла какая-то ошибка при сборе или выгрузке данных. На это указывает и тот факт, что количество пропусков в этих столбцах полностью совпадает. Кстати, это же касается и расстояний до ближайшего аэропорта и центра."
   ]
  },
  {
   "cell_type": "code",
   "execution_count": 26,
   "metadata": {},
   "outputs": [
    {
     "data": {
      "text/plain": [
       "parks_around_3000    0\n",
       "ponds_around_3000    0\n",
       "dtype: int64"
      ]
     },
     "execution_count": 26,
     "metadata": {},
     "output_type": "execute_result"
    }
   ],
   "source": [
    "data['parks_around_3000'] = data['parks_around_3000'].fillna(0)\n",
    "data['ponds_around_3000'] = data['ponds_around_3000'].fillna(0)\n",
    "data[['parks_around_3000', 'ponds_around_3000']].isna().sum()"
   ]
  },
  {
   "cell_type": "code",
   "execution_count": 27,
   "metadata": {},
   "outputs": [
    {
     "data": {
      "text/plain": [
       "count    21552.000000\n",
       "mean         0.589272\n",
       "std          0.887120\n",
       "min          0.000000\n",
       "25%          0.000000\n",
       "50%          0.000000\n",
       "75%          1.000000\n",
       "max          3.000000\n",
       "Name: ponds_around_3000, dtype: float64"
      ]
     },
     "execution_count": 27,
     "metadata": {},
     "output_type": "execute_result"
    }
   ],
   "source": [
    "data['parks_around_3000'].describe()\n",
    "data['ponds_around_3000'].describe()"
   ]
  },
  {
   "cell_type": "markdown",
   "metadata": {},
   "source": [
    "##### parks_nearest, ponds_nearest\n",
    "Если задать ограничение по значениям в 1000, то становится понятно, что гистограммы этих столбцов очень походят друг на друга, и распределения их значений являются нормальными. Из этого можно предположить, что пруды и парки чаще всего распологаются вместе (здравый смысл на это тоже указывает). \n",
    "Поэтому можно заполнить пропуски в них таким образом: в строке, где указан пруд, но не указан парк, вместо пропуска ставим расстояние до пруда, и наоборот.\n",
    "Осталось понять, много ли строк, где нет ни того, ни другого."
   ]
  },
  {
   "cell_type": "code",
   "execution_count": 28,
   "metadata": {},
   "outputs": [
    {
     "data": {
      "text/plain": [
       "<AxesSubplot:ylabel='Frequency'>"
      ]
     },
     "execution_count": 28,
     "metadata": {},
     "output_type": "execute_result"
    },
    {
     "data": {
      "image/png": "[encoded data removed]",
      "text/plain": [
       "<Figure size 432x288 with 1 Axes>"
      ]
     },
     "metadata": {
      "needs_background": "light"
     },
     "output_type": "display_data"
    }
   ],
   "source": [
    "ax = data['parks_nearest'].plot(kind='hist', histtype='step', linewidth=5, alpha=0.7, label='parks', grid=True, legend=True, range=(0, 1000))\n",
    "data['ponds_nearest'].plot(kind='hist', histtype='step', linewidth=5, alpha=0.7, label='ponds', grid=True, ax=ax, legend=True, range=(0, 1000))"
   ]
  },
  {
   "cell_type": "code",
   "execution_count": 29,
   "metadata": {},
   "outputs": [
    {
     "data": {
      "text/plain": [
       "10484"
      ]
     },
     "execution_count": 29,
     "metadata": {},
     "output_type": "execute_result"
    }
   ],
   "source": [
    "data.loc[(data['parks_nearest'].isna()) & (data['ponds_nearest'].isna())]['total_images'].count()"
   ]
  },
  {
   "cell_type": "markdown",
   "metadata": {},
   "source": [
    "К сожалению, много. Заполним, сколько можем. А эти 11к оставим без изменений."
   ]
  },
  {
   "cell_type": "code",
   "execution_count": 30,
   "metadata": {
    "scrolled": true
   },
   "outputs": [
    {
     "data": {
      "text/plain": [
       "ponds_nearest    10484\n",
       "parks_nearest    10484\n",
       "dtype: int64"
      ]
     },
     "execution_count": 30,
     "metadata": {},
     "output_type": "execute_result"
    }
   ],
   "source": [
    "data.loc[data['parks_nearest'].isna(), 'parks_nearest'] = data.loc[data['parks_nearest'].isna(), 'parks_nearest'].fillna(data.loc[data['parks_nearest'].isna(), 'ponds_nearest'])\n",
    "data.loc[data['ponds_nearest'].isna(), 'ponds_nearest'] = data.loc[data['ponds_nearest'].isna(), 'ponds_nearest'].fillna(data.loc[data['ponds_nearest'].isna(), 'parks_nearest'])\n",
    "data[['ponds_nearest', 'parks_nearest']].isna().sum()"
   ]
  },
  {
   "cell_type": "markdown",
   "metadata": {},
   "source": [
    "Отлично, хотя бы какую-то часть пропусков заполнить удалось."
   ]
  },
  {
   "cell_type": "code",
   "execution_count": 31,
   "metadata": {},
   "outputs": [
    {
     "data": {
      "text/plain": [
       "count    11068.000000\n",
       "mean       502.737261\n",
       "std        270.185195\n",
       "min          1.000000\n",
       "25%        292.750000\n",
       "50%        491.000000\n",
       "75%        685.000000\n",
       "max       1942.000000\n",
       "Name: ponds_nearest, dtype: float64"
      ]
     },
     "execution_count": 31,
     "metadata": {},
     "output_type": "execute_result"
    }
   ],
   "source": [
    "data['parks_nearest'].describe()\n",
    "data['ponds_nearest'].describe()\n"
   ]
  },
  {
   "cell_type": "markdown",
   "metadata": {},
   "source": [
    "Расстояние в метр до парка кажется странным только на первый взгляд. Возможно, дом, в котором находится квартира, находится непосредственно в парке. Но вот с прудом такое оправдание не сработает..."
   ]
  },
  {
   "cell_type": "code",
   "execution_count": 32,
   "metadata": {},
   "outputs": [
    {
     "name": "stdout",
     "output_type": "stream",
     "text": [
      "<class 'pandas.core.frame.DataFrame'>\n",
      "Int64Index: 21546 entries, 0 to 22244\n",
      "Data columns (total 23 columns):\n",
      " #   Column                Non-Null Count  Dtype  \n",
      "---  ------                --------------  -----  \n",
      " 0   total_images          21546 non-null  int64  \n",
      " 1   last_price            21546 non-null  float64\n",
      " 2   total_area            21546 non-null  float64\n",
      " 3   first_day_exposition  21546 non-null  object \n",
      " 4   rooms                 21546 non-null  int64  \n",
      " 5   ceiling_height        21546 non-null  float64\n",
      " 6   floors_total          21546 non-null  float64\n",
      " 7   living_area           21546 non-null  float64\n",
      " 8   floor                 21546 non-null  int64  \n",
      " 9   is_apartment          21546 non-null  bool   \n",
      " 10  studio                21546 non-null  bool   \n",
      " 11  open_plan             21546 non-null  bool   \n",
      " 12  kitchen_area          21546 non-null  float64\n",
      " 13  balcony               21546 non-null  float64\n",
      " 14  locality_name         21546 non-null  object \n",
      " 15  airports_nearest      16212 non-null  float64\n",
      " 16  city_centers_nearest  16233 non-null  float64\n",
      " 17  parks_around_3000     21546 non-null  float64\n",
      " 18  parks_nearest         11062 non-null  float64\n",
      " 19  ponds_around_3000     21546 non-null  float64\n",
      " 20  ponds_nearest         11062 non-null  float64\n",
      " 21  days_exposition       18612 non-null  float64\n",
      " 22  kitchen_to_total      21546 non-null  float64\n",
      "dtypes: bool(3), float64(15), int64(3), object(2)\n",
      "memory usage: 3.5+ MB\n"
     ]
    }
   ],
   "source": [
    "data = data.query('ponds_nearest > 10 | ponds_nearest.isna()')\n",
    "data.info()"
   ]
  },
  {
   "cell_type": "markdown",
   "metadata": {},
   "source": [
    "##### airports_nearest & city_centers_nearest я бы оставил без изменений :\n",
    "- Наиболее вероятное значение подобрать не получится. Разве что можно заполнить средним по locality_name. Однако, это слишком условно.\n",
    "- Медианой или средним заполнять не хочется в виду специфики данных. Судя по гистограммам, разброс значений довольно большой, особенно в аэропортах.\n",
    "- Пропусков много для того, чтобы просто обрезать строки, но недостаточно много для того, чтобы переживать о них и заполнять чем-то.\n",
    "\n",
    "В airpots_nearest есть аномалии. Лучше просто удалить эти строки."
   ]
  },
  {
   "cell_type": "code",
   "execution_count": 33,
   "metadata": {},
   "outputs": [
    {
     "name": "stdout",
     "output_type": "stream",
     "text": [
      "count    16212.00000\n",
      "mean     28779.37830\n",
      "std      12642.16356\n",
      "min          0.00000\n",
      "25%      18658.75000\n",
      "50%      26544.50000\n",
      "75%      37075.50000\n",
      "max      84869.00000\n",
      "Name: airports_nearest, dtype: float64\n"
     ]
    },
    {
     "data": {
      "text/plain": [
       "count    16233.000000\n",
       "mean     14287.173351\n",
       "std       8871.234716\n",
       "min        181.000000\n",
       "25%       8945.000000\n",
       "50%      13116.000000\n",
       "75%      16454.000000\n",
       "max      65968.000000\n",
       "Name: city_centers_nearest, dtype: float64"
      ]
     },
     "execution_count": 33,
     "metadata": {},
     "output_type": "execute_result"
    }
   ],
   "source": [
    "print(data['airports_nearest'].describe())\n",
    "data['city_centers_nearest'].describe()"
   ]
  },
  {
   "cell_type": "code",
   "execution_count": 34,
   "metadata": {},
   "outputs": [],
   "source": [
    "data = data.query('airports_nearest > 100 or airports_nearest.isna()')\n"
   ]
  },
  {
   "cell_type": "markdown",
   "metadata": {},
   "source": [
    "##### days_exposition \n",
    "Я бы не стал их чем-то заполнять. Да и пропусков не так много."
   ]
  },
  {
   "cell_type": "code",
   "execution_count": 35,
   "metadata": {},
   "outputs": [
    {
     "data": {
      "text/plain": [
       "count    18611.000000\n",
       "mean       181.863629\n",
       "std        221.175043\n",
       "min          1.000000\n",
       "25%         45.000000\n",
       "50%         96.000000\n",
       "75%        232.000000\n",
       "max       1580.000000\n",
       "Name: days_exposition, dtype: float64"
      ]
     },
     "execution_count": 35,
     "metadata": {},
     "output_type": "execute_result"
    }
   ],
   "source": [
    "data['days_exposition'].describe()\n"
   ]
  },
  {
   "cell_type": "markdown",
   "metadata": {},
   "source": [
    "##### last_price\n",
    "Аномалий не вижу"
   ]
  },
  {
   "cell_type": "code",
   "execution_count": 36,
   "metadata": {},
   "outputs": [
    {
     "data": {
      "text/plain": [
       "12442    763000000.0\n",
       "18486    420000000.0\n",
       "14057    401300000.0\n",
       "1430     330000000.0\n",
       "14928    300000000.0\n",
       "21471    289238400.0\n",
       "15661    245000000.0\n",
       "13171    240000000.0\n",
       "5774     230000000.0\n",
       "8647     190870000.0\n",
       "18782    180000000.0\n",
       "18132    160000000.0\n",
       "2514     159984000.0\n",
       "15692    159000000.0\n",
       "1026     155000000.0\n",
       "7656     150000000.0\n",
       "14345    150000000.0\n",
       "20924    148000000.0\n",
       "12164    140000000.0\n",
       "3085     140000000.0\n",
       "Name: last_price, dtype: float64"
      ]
     },
     "execution_count": 36,
     "metadata": {},
     "output_type": "execute_result"
    }
   ],
   "source": [
    "data.sort_values(by='last_price', ascending=True)['last_price'].head(20)\n",
    "data.sort_values(by='last_price', ascending=False)['last_price'].head(20)"
   ]
  },
  {
   "cell_type": "markdown",
   "metadata": {},
   "source": [
    "##### rooms\n",
    "Есть квартиры с нулем комнат. Лучше вырезать эти строки. Также кажутся аномальными квартиры с более чем 10 комнатами. Но здесь нужно учитывать и площаль квартиры, поэтому вырежем те, у которых 10+ комнат и площадь меньше 280 кв.м.\n"
   ]
  },
  {
   "cell_type": "code",
   "execution_count": 37,
   "metadata": {},
   "outputs": [
    {
     "data": {
      "text/plain": [
       "1     7226\n",
       "2     7177\n",
       "3     5327\n",
       "4     1116\n",
       "5      314\n",
       "0      193\n",
       "6      104\n",
       "7       57\n",
       "8       12\n",
       "9        8\n",
       "10       3\n",
       "11       2\n",
       "14       2\n",
       "19       1\n",
       "16       1\n",
       "12       1\n",
       "15       1\n",
       "Name: rooms, dtype: int64"
      ]
     },
     "execution_count": 37,
     "metadata": {},
     "output_type": "execute_result"
    }
   ],
   "source": [
    "data['rooms'].value_counts()"
   ]
  },
  {
   "cell_type": "code",
   "execution_count": 38,
   "metadata": {},
   "outputs": [
    {
     "data": {
      "text/html": [
       "<div>\n",
       "<style scoped>\n",
       "    .dataframe tbody tr th:only-of-type {\n",
       "        vertical-align: middle;\n",
       "    }\n",
       "\n",
       "    .dataframe tbody tr th {\n",
       "        vertical-align: top;\n",
       "    }\n",
       "\n",
       "    .dataframe thead th {\n",
       "        text-align: right;\n",
       "    }\n",
       "</style>\n",
       "<table border=\"1\" class=\"dataframe\">\n",
       "  <thead>\n",
       "    <tr style=\"text-align: right;\">\n",
       "      <th></th>\n",
       "      <th>total_images</th>\n",
       "      <th>last_price</th>\n",
       "      <th>total_area</th>\n",
       "      <th>first_day_exposition</th>\n",
       "      <th>rooms</th>\n",
       "      <th>ceiling_height</th>\n",
       "      <th>floors_total</th>\n",
       "      <th>living_area</th>\n",
       "      <th>floor</th>\n",
       "      <th>is_apartment</th>\n",
       "      <th>...</th>\n",
       "      <th>balcony</th>\n",
       "      <th>locality_name</th>\n",
       "      <th>airports_nearest</th>\n",
       "      <th>city_centers_nearest</th>\n",
       "      <th>parks_around_3000</th>\n",
       "      <th>parks_nearest</th>\n",
       "      <th>ponds_around_3000</th>\n",
       "      <th>ponds_nearest</th>\n",
       "      <th>days_exposition</th>\n",
       "      <th>kitchen_to_total</th>\n",
       "    </tr>\n",
       "  </thead>\n",
       "  <tbody>\n",
       "    <tr>\n",
       "      <th>0</th>\n",
       "      <td>20</td>\n",
       "      <td>13000000.0</td>\n",
       "      <td>108.0</td>\n",
       "      <td>2019-03-07T00:00:00</td>\n",
       "      <td>3</td>\n",
       "      <td>2.70</td>\n",
       "      <td>16.0</td>\n",
       "      <td>51.000000</td>\n",
       "      <td>8</td>\n",
       "      <td>False</td>\n",
       "      <td>...</td>\n",
       "      <td>0.0</td>\n",
       "      <td>санкт-петербург</td>\n",
       "      <td>18863.0</td>\n",
       "      <td>16028.0</td>\n",
       "      <td>1.0</td>\n",
       "      <td>482.0</td>\n",
       "      <td>2.0</td>\n",
       "      <td>755.0</td>\n",
       "      <td>NaN</td>\n",
       "      <td>0.231481</td>\n",
       "    </tr>\n",
       "    <tr>\n",
       "      <th>1</th>\n",
       "      <td>7</td>\n",
       "      <td>3350000.0</td>\n",
       "      <td>40.4</td>\n",
       "      <td>2018-12-04T00:00:00</td>\n",
       "      <td>1</td>\n",
       "      <td>2.65</td>\n",
       "      <td>11.0</td>\n",
       "      <td>18.600000</td>\n",
       "      <td>1</td>\n",
       "      <td>False</td>\n",
       "      <td>...</td>\n",
       "      <td>2.0</td>\n",
       "      <td>поселок шушары</td>\n",
       "      <td>12817.0</td>\n",
       "      <td>18603.0</td>\n",
       "      <td>0.0</td>\n",
       "      <td>NaN</td>\n",
       "      <td>0.0</td>\n",
       "      <td>NaN</td>\n",
       "      <td>81.0</td>\n",
       "      <td>0.272277</td>\n",
       "    </tr>\n",
       "    <tr>\n",
       "      <th>2</th>\n",
       "      <td>10</td>\n",
       "      <td>5196000.0</td>\n",
       "      <td>56.0</td>\n",
       "      <td>2015-08-20T00:00:00</td>\n",
       "      <td>2</td>\n",
       "      <td>2.65</td>\n",
       "      <td>5.0</td>\n",
       "      <td>34.300000</td>\n",
       "      <td>4</td>\n",
       "      <td>False</td>\n",
       "      <td>...</td>\n",
       "      <td>0.0</td>\n",
       "      <td>санкт-петербург</td>\n",
       "      <td>21741.0</td>\n",
       "      <td>13933.0</td>\n",
       "      <td>1.0</td>\n",
       "      <td>90.0</td>\n",
       "      <td>2.0</td>\n",
       "      <td>574.0</td>\n",
       "      <td>558.0</td>\n",
       "      <td>0.148214</td>\n",
       "    </tr>\n",
       "    <tr>\n",
       "      <th>3</th>\n",
       "      <td>0</td>\n",
       "      <td>64900000.0</td>\n",
       "      <td>159.0</td>\n",
       "      <td>2015-07-24T00:00:00</td>\n",
       "      <td>3</td>\n",
       "      <td>2.65</td>\n",
       "      <td>14.0</td>\n",
       "      <td>90.378947</td>\n",
       "      <td>9</td>\n",
       "      <td>False</td>\n",
       "      <td>...</td>\n",
       "      <td>0.0</td>\n",
       "      <td>санкт-петербург</td>\n",
       "      <td>28098.0</td>\n",
       "      <td>6800.0</td>\n",
       "      <td>2.0</td>\n",
       "      <td>84.0</td>\n",
       "      <td>3.0</td>\n",
       "      <td>234.0</td>\n",
       "      <td>424.0</td>\n",
       "      <td>0.171729</td>\n",
       "    </tr>\n",
       "    <tr>\n",
       "      <th>4</th>\n",
       "      <td>2</td>\n",
       "      <td>10000000.0</td>\n",
       "      <td>100.0</td>\n",
       "      <td>2018-06-19T00:00:00</td>\n",
       "      <td>2</td>\n",
       "      <td>3.03</td>\n",
       "      <td>14.0</td>\n",
       "      <td>32.000000</td>\n",
       "      <td>13</td>\n",
       "      <td>False</td>\n",
       "      <td>...</td>\n",
       "      <td>0.0</td>\n",
       "      <td>санкт-петербург</td>\n",
       "      <td>31856.0</td>\n",
       "      <td>8098.0</td>\n",
       "      <td>2.0</td>\n",
       "      <td>112.0</td>\n",
       "      <td>1.0</td>\n",
       "      <td>48.0</td>\n",
       "      <td>121.0</td>\n",
       "      <td>0.410000</td>\n",
       "    </tr>\n",
       "  </tbody>\n",
       "</table>\n",
       "<p>5 rows × 23 columns</p>\n",
       "</div>"
      ],
      "text/plain": [
       "   total_images  last_price  total_area first_day_exposition  rooms  \\\n",
       "0            20  13000000.0       108.0  2019-03-07T00:00:00      3   \n",
       "1             7   3350000.0        40.4  2018-12-04T00:00:00      1   \n",
       "2            10   5196000.0        56.0  2015-08-20T00:00:00      2   \n",
       "3             0  64900000.0       159.0  2015-07-24T00:00:00      3   \n",
       "4             2  10000000.0       100.0  2018-06-19T00:00:00      2   \n",
       "\n",
       "   ceiling_height  floors_total  living_area  floor  is_apartment  ...  \\\n",
       "0            2.70          16.0    51.000000      8         False  ...   \n",
       "1            2.65          11.0    18.600000      1         False  ...   \n",
       "2            2.65           5.0    34.300000      4         False  ...   \n",
       "3            2.65          14.0    90.378947      9         False  ...   \n",
       "4            3.03          14.0    32.000000     13         False  ...   \n",
       "\n",
       "   balcony    locality_name  airports_nearest  city_centers_nearest  \\\n",
       "0      0.0  санкт-петербург           18863.0               16028.0   \n",
       "1      2.0   поселок шушары           12817.0               18603.0   \n",
       "2      0.0  санкт-петербург           21741.0               13933.0   \n",
       "3      0.0  санкт-петербург           28098.0                6800.0   \n",
       "4      0.0  санкт-петербург           31856.0                8098.0   \n",
       "\n",
       "  parks_around_3000  parks_nearest  ponds_around_3000  ponds_nearest  \\\n",
       "0               1.0          482.0                2.0          755.0   \n",
       "1               0.0            NaN                0.0            NaN   \n",
       "2               1.0           90.0                2.0          574.0   \n",
       "3               2.0           84.0                3.0          234.0   \n",
       "4               2.0          112.0                1.0           48.0   \n",
       "\n",
       "   days_exposition  kitchen_to_total  \n",
       "0              NaN          0.231481  \n",
       "1             81.0          0.272277  \n",
       "2            558.0          0.148214  \n",
       "3            424.0          0.171729  \n",
       "4            121.0          0.410000  \n",
       "\n",
       "[5 rows x 23 columns]"
      ]
     },
     "execution_count": 38,
     "metadata": {},
     "output_type": "execute_result"
    }
   ],
   "source": [
    "data.query('rooms >= 10')[['last_price', 'total_area', 'rooms']].head(20)\n",
    "data.head()"
   ]
  },
  {
   "cell_type": "code",
   "execution_count": 39,
   "metadata": {},
   "outputs": [],
   "source": [
    "data = data.loc[(data['rooms'] < 10) | ((data['rooms'] >= 10) & (data['total_area'] >= 280))]\n",
    "data = data.query('rooms != 0')"
   ]
  },
  {
   "cell_type": "markdown",
   "metadata": {},
   "source": [
    "#### Изменение типов данных"
   ]
  },
  {
   "cell_type": "markdown",
   "metadata": {},
   "source": [
    "##### Время"
   ]
  },
  {
   "cell_type": "code",
   "execution_count": 40,
   "metadata": {},
   "outputs": [
    {
     "name": "stdout",
     "output_type": "stream",
     "text": [
      "<class 'pandas.core.frame.DataFrame'>\n",
      "Int64Index: 21346 entries, 0 to 22244\n",
      "Data columns (total 23 columns):\n",
      " #   Column                Non-Null Count  Dtype         \n",
      "---  ------                --------------  -----         \n",
      " 0   total_images          21346 non-null  int64         \n",
      " 1   last_price            21346 non-null  float64       \n",
      " 2   total_area            21346 non-null  float64       \n",
      " 3   first_day_exposition  21346 non-null  datetime64[ns]\n",
      " 4   rooms                 21346 non-null  int64         \n",
      " 5   ceiling_height        21346 non-null  float64       \n",
      " 6   floors_total          21346 non-null  float64       \n",
      " 7   living_area           21346 non-null  float64       \n",
      " 8   floor                 21346 non-null  int64         \n",
      " 9   is_apartment          21346 non-null  bool          \n",
      " 10  studio                21346 non-null  bool          \n",
      " 11  open_plan             21346 non-null  bool          \n",
      " 12  kitchen_area          21346 non-null  float64       \n",
      " 13  balcony               21346 non-null  float64       \n",
      " 14  locality_name         21346 non-null  object        \n",
      " 15  airports_nearest      16088 non-null  float64       \n",
      " 16  city_centers_nearest  16109 non-null  float64       \n",
      " 17  parks_around_3000     21346 non-null  float64       \n",
      " 18  parks_nearest         10978 non-null  float64       \n",
      " 19  ponds_around_3000     21346 non-null  float64       \n",
      " 20  ponds_nearest         10978 non-null  float64       \n",
      " 21  days_exposition       18428 non-null  float64       \n",
      " 22  kitchen_to_total      21346 non-null  float64       \n",
      "dtypes: bool(3), datetime64[ns](1), float64(15), int64(3), object(1)\n",
      "memory usage: 3.5+ MB\n"
     ]
    }
   ],
   "source": [
    "data['first_day_exposition'] = pd.to_datetime(data['first_day_exposition'], format='%Y-%m-%dT%H:%M:%S')\n",
    "data.info()"
   ]
  },
  {
   "cell_type": "markdown",
   "metadata": {},
   "source": [
    "##### is apartment\n",
    "Данные имеют тип обжект, хотя должно быть бул. Проверим, в чем дело."
   ]
  },
  {
   "cell_type": "code",
   "execution_count": 41,
   "metadata": {},
   "outputs": [
    {
     "name": "stdout",
     "output_type": "stream",
     "text": [
      "[False  True]\n",
      "<class 'pandas.core.frame.DataFrame'>\n",
      "Int64Index: 21346 entries, 0 to 22244\n",
      "Data columns (total 23 columns):\n",
      " #   Column                Non-Null Count  Dtype         \n",
      "---  ------                --------------  -----         \n",
      " 0   total_images          21346 non-null  int64         \n",
      " 1   last_price            21346 non-null  float64       \n",
      " 2   total_area            21346 non-null  float64       \n",
      " 3   first_day_exposition  21346 non-null  datetime64[ns]\n",
      " 4   rooms                 21346 non-null  int64         \n",
      " 5   ceiling_height        21346 non-null  float64       \n",
      " 6   floors_total          21346 non-null  float64       \n",
      " 7   living_area           21346 non-null  float64       \n",
      " 8   floor                 21346 non-null  int64         \n",
      " 9   is_apartment          21346 non-null  bool          \n",
      " 10  studio                21346 non-null  bool          \n",
      " 11  open_plan             21346 non-null  bool          \n",
      " 12  kitchen_area          21346 non-null  float64       \n",
      " 13  balcony               21346 non-null  float64       \n",
      " 14  locality_name         21346 non-null  object        \n",
      " 15  airports_nearest      16088 non-null  float64       \n",
      " 16  city_centers_nearest  16109 non-null  float64       \n",
      " 17  parks_around_3000     21346 non-null  float64       \n",
      " 18  parks_nearest         10978 non-null  float64       \n",
      " 19  ponds_around_3000     21346 non-null  float64       \n",
      " 20  ponds_nearest         10978 non-null  float64       \n",
      " 21  days_exposition       18428 non-null  float64       \n",
      " 22  kitchen_to_total      21346 non-null  float64       \n",
      "dtypes: bool(3), datetime64[ns](1), float64(15), int64(3), object(1)\n",
      "memory usage: 3.5+ MB\n"
     ]
    },
    {
     "data": {
      "text/plain": [
       "array([False,  True])"
      ]
     },
     "execution_count": 41,
     "metadata": {},
     "output_type": "execute_result"
    }
   ],
   "source": [
    "print(data['is_apartment'].unique()) #не совсем уверен, но видимо где-то False или True было написано текстом.\n",
    "data['is_apartment'] = data['is_apartment'].astype('bool')\n",
    "data.info()\n",
    "data['is_apartment'].unique() #кажется сработало"
   ]
  },
  {
   "cell_type": "code",
   "execution_count": 42,
   "metadata": {},
   "outputs": [],
   "source": [
    "data['floor'] = data['floor'].astype('int') #для удобства. Заодно проверим, нет ли там дробных значений.\n",
    "data['balcony'] = data['balcony'].astype('int')\n"
   ]
  },
  {
   "cell_type": "markdown",
   "metadata": {},
   "source": [
    "### Посчитайте и добавьте в таблицу новые столбцы"
   ]
  },
  {
   "cell_type": "code",
   "execution_count": 43,
   "metadata": {},
   "outputs": [],
   "source": [
    "data['squere_price'] = data['last_price'] / data['total_area'] #добавляем столбец с ценой за кв. метр\n"
   ]
  },
  {
   "cell_type": "code",
   "execution_count": 44,
   "metadata": {},
   "outputs": [],
   "source": [
    "data['weekday'] = data['first_day_exposition'].dt.weekday #столбец с днем недели публикации объявления\n"
   ]
  },
  {
   "cell_type": "code",
   "execution_count": 45,
   "metadata": {},
   "outputs": [],
   "source": [
    "data['year'] = data['first_day_exposition'].dt.year #столбец с годом публикации"
   ]
  },
  {
   "cell_type": "code",
   "execution_count": 46,
   "metadata": {},
   "outputs": [],
   "source": [
    "data['month'] = data['first_day_exposition'].dt.month #столбец с месяцем\n"
   ]
  },
  {
   "cell_type": "markdown",
   "metadata": {},
   "source": [
    "Для того, чтобы сделать столбец с типом этажа, напишем функцию, и применим ее ко всем строкам датафрейма."
   ]
  },
  {
   "cell_type": "code",
   "execution_count": 47,
   "metadata": {},
   "outputs": [],
   "source": [
    "def floor_category(row) :\n",
    "    if row['floor'] == 1 :\n",
    "        return('первый')\n",
    "    if row['floor'] == row['floors_total'] :\n",
    "        return('последний')\n",
    "    else :\n",
    "        return('другой')\n",
    "data['floor_category'] = data.apply(floor_category, axis=1)\n"
   ]
  },
  {
   "cell_type": "code",
   "execution_count": 48,
   "metadata": {},
   "outputs": [
    {
     "data": {
      "text/html": [
       "<div>\n",
       "<style scoped>\n",
       "    .dataframe tbody tr th:only-of-type {\n",
       "        vertical-align: middle;\n",
       "    }\n",
       "\n",
       "    .dataframe tbody tr th {\n",
       "        vertical-align: top;\n",
       "    }\n",
       "\n",
       "    .dataframe thead th {\n",
       "        text-align: right;\n",
       "    }\n",
       "</style>\n",
       "<table border=\"1\" class=\"dataframe\">\n",
       "  <thead>\n",
       "    <tr style=\"text-align: right;\">\n",
       "      <th></th>\n",
       "      <th>total_images</th>\n",
       "      <th>last_price</th>\n",
       "      <th>total_area</th>\n",
       "      <th>first_day_exposition</th>\n",
       "      <th>rooms</th>\n",
       "      <th>ceiling_height</th>\n",
       "      <th>floors_total</th>\n",
       "      <th>living_area</th>\n",
       "      <th>floor</th>\n",
       "      <th>is_apartment</th>\n",
       "      <th>...</th>\n",
       "      <th>ponds_around_3000</th>\n",
       "      <th>ponds_nearest</th>\n",
       "      <th>days_exposition</th>\n",
       "      <th>kitchen_to_total</th>\n",
       "      <th>squere_price</th>\n",
       "      <th>weekday</th>\n",
       "      <th>year</th>\n",
       "      <th>month</th>\n",
       "      <th>floor_category</th>\n",
       "      <th>km_to_center</th>\n",
       "    </tr>\n",
       "  </thead>\n",
       "  <tbody>\n",
       "    <tr>\n",
       "      <th>0</th>\n",
       "      <td>20</td>\n",
       "      <td>13000000.0</td>\n",
       "      <td>108.0</td>\n",
       "      <td>2019-03-07</td>\n",
       "      <td>3</td>\n",
       "      <td>2.70</td>\n",
       "      <td>16.0</td>\n",
       "      <td>51.000000</td>\n",
       "      <td>8</td>\n",
       "      <td>False</td>\n",
       "      <td>...</td>\n",
       "      <td>2.0</td>\n",
       "      <td>755.0</td>\n",
       "      <td>NaN</td>\n",
       "      <td>0.231481</td>\n",
       "      <td>120370.370370</td>\n",
       "      <td>3</td>\n",
       "      <td>2019</td>\n",
       "      <td>3</td>\n",
       "      <td>другой</td>\n",
       "      <td>16.0</td>\n",
       "    </tr>\n",
       "    <tr>\n",
       "      <th>1</th>\n",
       "      <td>7</td>\n",
       "      <td>3350000.0</td>\n",
       "      <td>40.4</td>\n",
       "      <td>2018-12-04</td>\n",
       "      <td>1</td>\n",
       "      <td>2.65</td>\n",
       "      <td>11.0</td>\n",
       "      <td>18.600000</td>\n",
       "      <td>1</td>\n",
       "      <td>False</td>\n",
       "      <td>...</td>\n",
       "      <td>0.0</td>\n",
       "      <td>NaN</td>\n",
       "      <td>81.0</td>\n",
       "      <td>0.272277</td>\n",
       "      <td>82920.792079</td>\n",
       "      <td>1</td>\n",
       "      <td>2018</td>\n",
       "      <td>12</td>\n",
       "      <td>первый</td>\n",
       "      <td>19.0</td>\n",
       "    </tr>\n",
       "    <tr>\n",
       "      <th>2</th>\n",
       "      <td>10</td>\n",
       "      <td>5196000.0</td>\n",
       "      <td>56.0</td>\n",
       "      <td>2015-08-20</td>\n",
       "      <td>2</td>\n",
       "      <td>2.65</td>\n",
       "      <td>5.0</td>\n",
       "      <td>34.300000</td>\n",
       "      <td>4</td>\n",
       "      <td>False</td>\n",
       "      <td>...</td>\n",
       "      <td>2.0</td>\n",
       "      <td>574.0</td>\n",
       "      <td>558.0</td>\n",
       "      <td>0.148214</td>\n",
       "      <td>92785.714286</td>\n",
       "      <td>3</td>\n",
       "      <td>2015</td>\n",
       "      <td>8</td>\n",
       "      <td>другой</td>\n",
       "      <td>14.0</td>\n",
       "    </tr>\n",
       "    <tr>\n",
       "      <th>3</th>\n",
       "      <td>0</td>\n",
       "      <td>64900000.0</td>\n",
       "      <td>159.0</td>\n",
       "      <td>2015-07-24</td>\n",
       "      <td>3</td>\n",
       "      <td>2.65</td>\n",
       "      <td>14.0</td>\n",
       "      <td>90.378947</td>\n",
       "      <td>9</td>\n",
       "      <td>False</td>\n",
       "      <td>...</td>\n",
       "      <td>3.0</td>\n",
       "      <td>234.0</td>\n",
       "      <td>424.0</td>\n",
       "      <td>0.171729</td>\n",
       "      <td>408176.100629</td>\n",
       "      <td>4</td>\n",
       "      <td>2015</td>\n",
       "      <td>7</td>\n",
       "      <td>другой</td>\n",
       "      <td>7.0</td>\n",
       "    </tr>\n",
       "    <tr>\n",
       "      <th>4</th>\n",
       "      <td>2</td>\n",
       "      <td>10000000.0</td>\n",
       "      <td>100.0</td>\n",
       "      <td>2018-06-19</td>\n",
       "      <td>2</td>\n",
       "      <td>3.03</td>\n",
       "      <td>14.0</td>\n",
       "      <td>32.000000</td>\n",
       "      <td>13</td>\n",
       "      <td>False</td>\n",
       "      <td>...</td>\n",
       "      <td>1.0</td>\n",
       "      <td>48.0</td>\n",
       "      <td>121.0</td>\n",
       "      <td>0.410000</td>\n",
       "      <td>100000.000000</td>\n",
       "      <td>1</td>\n",
       "      <td>2018</td>\n",
       "      <td>6</td>\n",
       "      <td>другой</td>\n",
       "      <td>8.0</td>\n",
       "    </tr>\n",
       "  </tbody>\n",
       "</table>\n",
       "<p>5 rows × 29 columns</p>\n",
       "</div>"
      ],
      "text/plain": [
       "   total_images  last_price  total_area first_day_exposition  rooms  \\\n",
       "0            20  13000000.0       108.0           2019-03-07      3   \n",
       "1             7   3350000.0        40.4           2018-12-04      1   \n",
       "2            10   5196000.0        56.0           2015-08-20      2   \n",
       "3             0  64900000.0       159.0           2015-07-24      3   \n",
       "4             2  10000000.0       100.0           2018-06-19      2   \n",
       "\n",
       "   ceiling_height  floors_total  living_area  floor  is_apartment  ...  \\\n",
       "0            2.70          16.0    51.000000      8         False  ...   \n",
       "1            2.65          11.0    18.600000      1         False  ...   \n",
       "2            2.65           5.0    34.300000      4         False  ...   \n",
       "3            2.65          14.0    90.378947      9         False  ...   \n",
       "4            3.03          14.0    32.000000     13         False  ...   \n",
       "\n",
       "   ponds_around_3000  ponds_nearest  days_exposition  kitchen_to_total  \\\n",
       "0                2.0          755.0              NaN          0.231481   \n",
       "1                0.0            NaN             81.0          0.272277   \n",
       "2                2.0          574.0            558.0          0.148214   \n",
       "3                3.0          234.0            424.0          0.171729   \n",
       "4                1.0           48.0            121.0          0.410000   \n",
       "\n",
       "    squere_price  weekday  year  month  floor_category  km_to_center  \n",
       "0  120370.370370        3  2019      3          другой          16.0  \n",
       "1   82920.792079        1  2018     12          первый          19.0  \n",
       "2   92785.714286        3  2015      8          другой          14.0  \n",
       "3  408176.100629        4  2015      7          другой           7.0  \n",
       "4  100000.000000        1  2018      6          другой           8.0  \n",
       "\n",
       "[5 rows x 29 columns]"
      ]
     },
     "execution_count": 48,
     "metadata": {},
     "output_type": "execute_result"
    }
   ],
   "source": [
    "data['km_to_center'] = (data['city_centers_nearest'] / 1000).round() #добавим столбце с округленным расстоянием до центра города в километрах\n",
    "data.head() \n",
    "\n"
   ]
  },
  {
   "cell_type": "markdown",
   "metadata": {},
   "source": [
    "### Проведите исследовательский анализ данных"
   ]
  },
  {
   "cell_type": "markdown",
   "metadata": {},
   "source": [
    "#### Изучение параметров"
   ]
  },
  {
   "cell_type": "markdown",
   "metadata": {},
   "source": [
    "##### Общая площадь\n",
    "\n",
    "Медианное значени площади квартиры составляет 53 метра, а вот среднее - 61. Среднее получилось чуть более высоким, так как существуют квартиры с аномально высокими значениями площади (с точки зрения данных). Как я понимаю, они же и являются выбросами в ящике с усами. Эти выбросы тянут среднее вверх.\n",
    " "
   ]
  },
  {
   "cell_type": "code",
   "execution_count": 49,
   "metadata": {},
   "outputs": [
    {
     "name": "stdout",
     "output_type": "stream",
     "text": [
      "[[<AxesSubplot:title={'center':'total_area'}>]]\n"
     ]
    },
    {
     "data": {
      "text/plain": [
       "count    21346.000000\n",
       "mean        61.111241\n",
       "std         36.125661\n",
       "min         12.000000\n",
       "25%         40.600000\n",
       "50%         53.000000\n",
       "75%         70.000000\n",
       "max        900.000000\n",
       "Name: total_area, dtype: float64"
      ]
     },
     "execution_count": 49,
     "metadata": {},
     "output_type": "execute_result"
    },
    {
     "data": {
      "image/png": "[encoded data removed]",
      "text/plain": [
       "<Figure size 576x576 with 1 Axes>"
      ]
     },
     "metadata": {
      "needs_background": "light"
     },
     "output_type": "display_data"
    }
   ],
   "source": [
    "print(data.hist(column='total_area', range=(0,400), bins=15, figsize=(8,8)))\n",
    "data['total_area'].describe()\n"
   ]
  },
  {
   "cell_type": "code",
   "execution_count": 50,
   "metadata": {},
   "outputs": [
    {
     "data": {
      "text/plain": [
       "<AxesSubplot:>"
      ]
     },
     "execution_count": 50,
     "metadata": {},
     "output_type": "execute_result"
    },
    {
     "data": {
      "image/png": "[encoded data removed]",
      "text/plain": [
       "<Figure size 432x288 with 1 Axes>"
      ]
     },
     "metadata": {
      "needs_background": "light"
     },
     "output_type": "display_data"
    }
   ],
   "source": [
    "data['total_area'].plot.box()"
   ]
  },
  {
   "cell_type": "markdown",
   "metadata": {},
   "source": [
    "##### living_area\n",
    "Таким образом, медианное значение для жилой площади составляет 30 кв.м."
   ]
  },
  {
   "cell_type": "code",
   "execution_count": 51,
   "metadata": {},
   "outputs": [
    {
     "name": "stdout",
     "output_type": "stream",
     "text": [
      "[[<AxesSubplot:title={'center':'living_area'}>]]\n"
     ]
    },
    {
     "data": {
      "text/plain": [
       "count    21346.000000\n",
       "mean        35.031300\n",
       "std         22.747609\n",
       "min          2.000000\n",
       "25%         19.000000\n",
       "50%         30.300000\n",
       "75%         42.631579\n",
       "max        409.700000\n",
       "Name: living_area, dtype: float64"
      ]
     },
     "execution_count": 51,
     "metadata": {},
     "output_type": "execute_result"
    },
    {
     "data": {
      "image/png": "[encoded data removed]",
      "text/plain": [
       "<Figure size 576x576 with 1 Axes>"
      ]
     },
     "metadata": {
      "needs_background": "light"
     },
     "output_type": "display_data"
    }
   ],
   "source": [
    "print(data.hist(column='living_area', range=(0,300), bins=15, figsize=(8,8)))\n",
    "data['living_area'].describe()"
   ]
  },
  {
   "cell_type": "markdown",
   "metadata": {},
   "source": [
    "##### kitchen_area \n",
    "Медианное значение кухни = 9, что несильно отличается от среднего = 10. Это говорит нам о том, что размеры кухонь более стандартизированны и не увеличиваются с той же скоростью, что и общая площадь квартиры. "
   ]
  },
  {
   "cell_type": "code",
   "execution_count": 52,
   "metadata": {},
   "outputs": [
    {
     "name": "stdout",
     "output_type": "stream",
     "text": [
      "[[<AxesSubplot:title={'center':'kitchen_area'}>]]\n"
     ]
    },
    {
     "data": {
      "text/plain": [
       "count    21346.000000\n",
       "mean        10.567271\n",
       "std          5.924821\n",
       "min          0.000000\n",
       "25%          7.000000\n",
       "50%          9.200000\n",
       "75%         12.000000\n",
       "max        112.000000\n",
       "Name: kitchen_area, dtype: float64"
      ]
     },
     "execution_count": 52,
     "metadata": {},
     "output_type": "execute_result"
    },
    {
     "data": {
      "image/png": "[encoded data removed]",
      "text/plain": [
       "<Figure size 576x576 with 1 Axes>"
      ]
     },
     "metadata": {
      "needs_background": "light"
     },
     "output_type": "display_data"
    }
   ],
   "source": [
    "print(data.hist(column='kitchen_area', range=(0,70), bins=15, figsize=(8,8)))\n",
    "data['kitchen_area'].describe()"
   ]
  },
  {
   "cell_type": "markdown",
   "metadata": {},
   "source": [
    "##### last_price\n",
    "Медианное по рынку значение стоимсоти квартиры - 5.7 млн.руб. А вот среднее составляет 8.6. Дело в сверхдорогих квартирах. Кстати, мы также видим распределение с асимметрией вправо. Медиана липнет к первому квартилю."
   ]
  },
  {
   "cell_type": "code",
   "execution_count": 53,
   "metadata": {},
   "outputs": [
    {
     "data": {
      "text/plain": [
       "count    21346.000000\n",
       "mean         6.618998\n",
       "std         11.289981\n",
       "min          0.012190\n",
       "25%          3.400000\n",
       "50%          4.690000\n",
       "75%          6.850000\n",
       "max        763.000000\n",
       "Name: last_price, dtype: float64"
      ]
     },
     "execution_count": 53,
     "metadata": {},
     "output_type": "execute_result"
    },
    {
     "data": {
      "image/png": "[encoded data removed]",
      "text/plain": [
       "<Figure size 576x576 with 1 Axes>"
      ]
     },
     "metadata": {
      "needs_background": "light"
     },
     "output_type": "display_data"
    }
   ],
   "source": [
    "data['last_price'] = data['last_price'] / 1000000\n",
    "data.hist(column='last_price', range=(0, 80000000), bins=15, figsize=(8,8))\n",
    "data['last_price'].describe()"
   ]
  },
  {
   "cell_type": "code",
   "execution_count": 54,
   "metadata": {},
   "outputs": [
    {
     "data": {
      "text/plain": [
       "<AxesSubplot:>"
      ]
     },
     "execution_count": 54,
     "metadata": {},
     "output_type": "execute_result"
    },
    {
     "data": {
      "image/png": "[encoded data removed]",
      "text/plain": [
       "<Figure size 432x288 with 1 Axes>"
      ]
     },
     "metadata": {
      "needs_background": "light"
     },
     "output_type": "display_data"
    }
   ],
   "source": [
    "data['last_price'].plot.box()"
   ]
  },
  {
   "cell_type": "markdown",
   "metadata": {},
   "source": [
    "##### total_rooms \n",
    "С данными все хорошо. Среднее значение совпадает с медианным и равно 2-м комнатам. "
   ]
  },
  {
   "cell_type": "code",
   "execution_count": 55,
   "metadata": {},
   "outputs": [
    {
     "data": {
      "text/plain": [
       "count    21346.000000\n",
       "mean         2.101377\n",
       "std          1.067035\n",
       "min          1.000000\n",
       "25%          1.000000\n",
       "50%          2.000000\n",
       "75%          3.000000\n",
       "max         19.000000\n",
       "Name: rooms, dtype: float64"
      ]
     },
     "execution_count": 55,
     "metadata": {},
     "output_type": "execute_result"
    },
    {
     "data": {
      "image/png": "[encoded data removed]",
      "text/plain": [
       "<Figure size 576x576 with 1 Axes>"
      ]
     },
     "metadata": {
      "needs_background": "light"
     },
     "output_type": "display_data"
    }
   ],
   "source": [
    "data.hist(column='rooms', range=(0,19), bins=15, figsize=(8,8))\n",
    "data['rooms'].describe()"
   ]
  },
  {
   "cell_type": "markdown",
   "metadata": {},
   "source": [
    "##### ceiling_height\n",
    "Среднее значение почти совпадает с медианным. Средняя высота потолков в квартирах составляет 2.69 метров. Среднеквадратическое отклонение небольшое, что говорит о том, что высота потолков стандартизирована и мало зависит от размера квартиры или других параметров."
   ]
  },
  {
   "cell_type": "code",
   "execution_count": 56,
   "metadata": {},
   "outputs": [
    {
     "name": "stdout",
     "output_type": "stream",
     "text": [
      "count    21346.000000\n",
      "mean         2.699435\n",
      "std          0.223475\n",
      "min          2.300000\n",
      "25%          2.600000\n",
      "50%          2.650000\n",
      "75%          2.700000\n",
      "max          6.000000\n",
      "Name: ceiling_height, dtype: float64\n"
     ]
    },
    {
     "data": {
      "text/plain": [
       "array([[<AxesSubplot:title={'center':'ceiling_height'}>]], dtype=object)"
      ]
     },
     "execution_count": 56,
     "metadata": {},
     "output_type": "execute_result"
    },
    {
     "data": {
      "image/png": "[encoded data removed]",
      "text/plain": [
       "<Figure size 576x576 with 1 Axes>"
      ]
     },
     "metadata": {
      "needs_background": "light"
     },
     "output_type": "display_data"
    }
   ],
   "source": [
    "print(data['ceiling_height'].describe())\n",
    "data.hist(column='ceiling_height', range=(0,6), bins=15, figsize=(8,8))"
   ]
  },
  {
   "cell_type": "markdown",
   "metadata": {},
   "source": [
    "##### floor\n",
    "Медианное значение этажа равно 4-м. Среднее значение этажа больше и равно 4-м. Высотки тянут среднее вверх."
   ]
  },
  {
   "cell_type": "code",
   "execution_count": 57,
   "metadata": {},
   "outputs": [
    {
     "name": "stdout",
     "output_type": "stream",
     "text": [
      "count    21346.000000\n",
      "mean         5.892814\n",
      "std          4.896056\n",
      "min          1.000000\n",
      "25%          2.000000\n",
      "50%          4.000000\n",
      "75%          8.000000\n",
      "max         33.000000\n",
      "Name: floor, dtype: float64\n"
     ]
    },
    {
     "data": {
      "text/plain": [
       "array([[<AxesSubplot:title={'center':'floor'}>]], dtype=object)"
      ]
     },
     "execution_count": 57,
     "metadata": {},
     "output_type": "execute_result"
    },
    {
     "data": {
      "image/png": "[encoded data removed]",
      "text/plain": [
       "<Figure size 576x576 with 1 Axes>"
      ]
     },
     "metadata": {
      "needs_background": "light"
     },
     "output_type": "display_data"
    }
   ],
   "source": [
    "print(data['floor'].describe())\n",
    "data.hist(column='floor', range=(1,33), bins=15, figsize=(8,8))"
   ]
  },
  {
   "cell_type": "markdown",
   "metadata": {},
   "source": [
    "##### floor_category\n",
    "С данными все в порядке. Сомневаюсь, что необходимо еще что-либо сказать."
   ]
  },
  {
   "cell_type": "code",
   "execution_count": 58,
   "metadata": {},
   "outputs": [
    {
     "name": "stdout",
     "output_type": "stream",
     "text": [
      "count      21346\n",
      "unique         3\n",
      "top       другой\n",
      "freq       15601\n",
      "Name: floor_category, dtype: object\n"
     ]
    },
    {
     "data": {
      "text/plain": [
       "<AxesSubplot:>"
      ]
     },
     "execution_count": 58,
     "metadata": {},
     "output_type": "execute_result"
    },
    {
     "data": {
      "image/png": "[encoded data removed]",
      "text/plain": [
       "<Figure size 432x288 with 1 Axes>"
      ]
     },
     "metadata": {
      "needs_background": "light"
     },
     "output_type": "display_data"
    }
   ],
   "source": [
    "print(data['floor_category'].describe())\n",
    "data['floor_category'].hist()"
   ]
  },
  {
   "cell_type": "markdown",
   "metadata": {},
   "source": [
    "##### floors_total\n",
    "Медианное значение количества этажей в доме = 9. Среднеквадратическое отклонение большое, однако распределение близко к нормальному, поэтому среднее немногим выше медианы. Странными кажется выброс на отрезке 25-27, однако думаю, что пугаться не стоит. Скорее всего, существует некий стандарт на 25-этажные здания."
   ]
  },
  {
   "cell_type": "code",
   "execution_count": 59,
   "metadata": {},
   "outputs": [
    {
     "data": {
      "text/plain": [
       "count    21346.000000\n",
       "mean        10.642088\n",
       "std          6.628005\n",
       "min          1.000000\n",
       "25%          5.000000\n",
       "50%          9.000000\n",
       "75%         16.000000\n",
       "max         60.000000\n",
       "Name: floors_total, dtype: float64"
      ]
     },
     "execution_count": 59,
     "metadata": {},
     "output_type": "execute_result"
    },
    {
     "data": {
      "image/png": "[encoded data removed]",
      "text/plain": [
       "<Figure size 576x576 with 1 Axes>"
      ]
     },
     "metadata": {
      "needs_background": "light"
     },
     "output_type": "display_data"
    }
   ],
   "source": [
    "data.hist(column='floors_total', range=(1,50), bins=15, figsize=(8,8))\n",
    "data['floors_total'].describe()\n"
   ]
  },
  {
   "cell_type": "markdown",
   "metadata": {},
   "source": [
    "##### city_centers_nearest\n",
    "Медианное расстояние до центра города = 13км. Первый квартиль отмечается 9-ю км, что немного удивляет. Можно сделать вывод о том, что квартиры в центре или близко к центру продаются в очень малых количествах. Объяснение этому наблюдению очевидное, но возможно само наблюдение пригодится позже."
   ]
  },
  {
   "cell_type": "code",
   "execution_count": 60,
   "metadata": {},
   "outputs": [
    {
     "name": "stdout",
     "output_type": "stream",
     "text": [
      "count    16109.000000\n",
      "mean     14296.678689\n",
      "std       8892.179954\n",
      "min        181.000000\n",
      "25%       8936.000000\n",
      "50%      13108.000000\n",
      "75%      16456.000000\n",
      "max      65968.000000\n",
      "Name: city_centers_nearest, dtype: float64\n"
     ]
    },
    {
     "data": {
      "text/plain": [
       "array([[<AxesSubplot:title={'center':'city_centers_nearest'}>]],\n",
       "      dtype=object)"
      ]
     },
     "execution_count": 60,
     "metadata": {},
     "output_type": "execute_result"
    },
    {
     "data": {
      "image/png": "[encoded data removed]",
      "text/plain": [
       "<Figure size 576x576 with 1 Axes>"
      ]
     },
     "metadata": {
      "needs_background": "light"
     },
     "output_type": "display_data"
    }
   ],
   "source": [
    "print(data['city_centers_nearest'].describe())\n",
    "data.hist(column='city_centers_nearest', bins=15, figsize=(8,8))"
   ]
  },
  {
   "cell_type": "markdown",
   "metadata": {},
   "source": [
    "##### airports_nearest"
   ]
  },
  {
   "cell_type": "code",
   "execution_count": 61,
   "metadata": {},
   "outputs": [
    {
     "name": "stdout",
     "output_type": "stream",
     "text": [
      "count    16088.000000\n",
      "mean     28815.032571\n",
      "std      12638.223937\n",
      "min       6450.000000\n",
      "25%      18676.000000\n",
      "50%      26585.500000\n",
      "75%      37095.000000\n",
      "max      84869.000000\n",
      "Name: airports_nearest, dtype: float64\n"
     ]
    },
    {
     "data": {
      "text/plain": [
       "array([[<AxesSubplot:title={'center':'airports_nearest'}>]], dtype=object)"
      ]
     },
     "execution_count": 61,
     "metadata": {},
     "output_type": "execute_result"
    },
    {
     "data": {
      "image/png": "[encoded data removed]",
      "text/plain": [
       "<Figure size 576x576 with 1 Axes>"
      ]
     },
     "metadata": {
      "needs_background": "light"
     },
     "output_type": "display_data"
    }
   ],
   "source": [
    "print(data['airports_nearest'].describe())\n",
    "data.hist(column='airports_nearest', bins=15, figsize=(8,8))"
   ]
  },
  {
   "cell_type": "markdown",
   "metadata": {},
   "source": [
    "##### parks_nearest\n",
    "Медианное расстояние до парка = 500м. Неплохо! На 75-м перцентиле значение = 650м, что тоже недалеко. Но есть и немало квартир, находящихся на расстоянии более чем 2 км до ближайшего парка."
   ]
  },
  {
   "cell_type": "code",
   "execution_count": 62,
   "metadata": {},
   "outputs": [
    {
     "name": "stdout",
     "output_type": "stream",
     "text": [
      "count    10978.000000\n",
      "mean       512.165695\n",
      "std        321.803189\n",
      "min          3.000000\n",
      "25%        302.000000\n",
      "50%        479.000000\n",
      "75%        655.000000\n",
      "max       3190.000000\n",
      "Name: parks_nearest, dtype: float64\n"
     ]
    },
    {
     "data": {
      "text/plain": [
       "array([[<AxesSubplot:title={'center':'parks_nearest'}>]], dtype=object)"
      ]
     },
     "execution_count": 62,
     "metadata": {},
     "output_type": "execute_result"
    },
    {
     "data": {
      "image/png": "[encoded data removed]",
      "text/plain": [
       "<Figure size 576x576 with 1 Axes>"
      ]
     },
     "metadata": {
      "needs_background": "light"
     },
     "output_type": "display_data"
    }
   ],
   "source": [
    "print(data['parks_nearest'].describe())\n",
    "data.hist(column='parks_nearest', bins=15, figsize=(8,8))"
   ]
  },
  {
   "cell_type": "markdown",
   "metadata": {},
   "source": [
    "##### day - month\n",
    "Реже всего объявления выставляются на выходных.\n",
    "Наблюдения по месяцам:\n",
    "- БОльшая часть объявлений приходится на конец зимы - начало весны.\n",
    "- В Мае и летом объявлений появляется меньше всего. Видимо, всем хочется гулять а не работать.\n",
    "- В Декабре и Января тоже наблюдается просадка. Скорее всего, предложение реагирует на стабильное отсутствие спроса в это время. В банках выходные и праздники => ипотеку не возьмешь, да и в целом, кто будет заниматься покупкой квартиры в праздники?\n"
   ]
  },
  {
   "cell_type": "code",
   "execution_count": 63,
   "metadata": {},
   "outputs": [
    {
     "name": "stdout",
     "output_type": "stream",
     "text": [
      "count    21346.000000\n",
      "mean         2.564555\n",
      "std          1.787460\n",
      "min          0.000000\n",
      "25%          1.000000\n",
      "50%          3.000000\n",
      "75%          4.000000\n",
      "max          6.000000\n",
      "Name: weekday, dtype: float64\n"
     ]
    },
    {
     "data": {
      "text/plain": [
       "array([[<AxesSubplot:title={'center':'weekday'}>]], dtype=object)"
      ]
     },
     "execution_count": 63,
     "metadata": {},
     "output_type": "execute_result"
    },
    {
     "data": {
      "image/png": "[encoded data removed]",
      "text/plain": [
       "<Figure size 576x576 with 1 Axes>"
      ]
     },
     "metadata": {
      "needs_background": "light"
     },
     "output_type": "display_data"
    }
   ],
   "source": [
    "print(data['weekday'].describe())\n",
    "data.hist(column='weekday', bins=15, figsize=(8,8))"
   ]
  },
  {
   "cell_type": "code",
   "execution_count": 64,
   "metadata": {},
   "outputs": [
    {
     "name": "stdout",
     "output_type": "stream",
     "text": [
      "count    21346.000000\n",
      "mean         6.397217\n",
      "std          3.491656\n",
      "min          1.000000\n",
      "25%          3.000000\n",
      "50%          6.000000\n",
      "75%         10.000000\n",
      "max         12.000000\n",
      "Name: month, dtype: float64\n"
     ]
    },
    {
     "data": {
      "text/plain": [
       "array([[<AxesSubplot:title={'center':'month'}>]], dtype=object)"
      ]
     },
     "execution_count": 64,
     "metadata": {},
     "output_type": "execute_result"
    },
    {
     "data": {
      "image/png": "[encoded data removed]",
      "text/plain": [
       "<Figure size 576x576 with 1 Axes>"
      ]
     },
     "metadata": {
      "needs_background": "light"
     },
     "output_type": "display_data"
    }
   ],
   "source": [
    "print(data['month'].describe())\n",
    "data.hist(column='month', bins=12, figsize=(8,8))"
   ]
  },
  {
   "cell_type": "markdown",
   "metadata": {},
   "source": [
    "#### Скорость продажи квартир\n",
    "Медианное время продажи квартиры - 97 дней, а вот среднее - 182. Дело в большом разбросе значений с перевесом вправо. Быстрыми можно считать продажи, попадающие в первый квартиль (до 45 дней). Необычайно долгими будем считать те, которые на диаграмме размаха считаются выбросами, то есть от 500 дней."
   ]
  },
  {
   "cell_type": "code",
   "execution_count": 65,
   "metadata": {},
   "outputs": [
    {
     "name": "stdout",
     "output_type": "stream",
     "text": [
      "count    18428.000000\n",
      "mean       182.469611\n",
      "std        221.375793\n",
      "min          1.000000\n",
      "25%         45.000000\n",
      "50%         97.000000\n",
      "75%        233.000000\n",
      "max       1580.000000\n",
      "Name: days_exposition, dtype: float64\n",
      "AxesSubplot(0.125,0.125;0.775x0.755)\n"
     ]
    },
    {
     "data": {
      "text/plain": [
       "array([[<AxesSubplot:title={'center':'days_exposition'}>]], dtype=object)"
      ]
     },
     "execution_count": 65,
     "metadata": {},
     "output_type": "execute_result"
    },
    {
     "data": {
      "image/png": "[encoded data removed]",
      "text/plain": [
       "<Figure size 432x288 with 1 Axes>"
      ]
     },
     "metadata": {
      "needs_background": "light"
     },
     "output_type": "display_data"
    },
    {
     "data": {
      "image/png": "[encoded data removed]",
      "text/plain": [
       "<Figure size 576x576 with 1 Axes>"
      ]
     },
     "metadata": {
      "needs_background": "light"
     },
     "output_type": "display_data"
    }
   ],
   "source": [
    "print(data['days_exposition'].describe())\n",
    "print(data['days_exposition'].plot.box())\n",
    "data.hist(column='days_exposition', bins=20, figsize=(8,8))"
   ]
  },
  {
   "cell_type": "markdown",
   "metadata": {},
   "source": [
    "#### Влияние разных факторов на стоимость объекта"
   ]
  },
  {
   "cell_type": "markdown",
   "metadata": {},
   "source": [
    "##### Общая площадь \n",
    "Есть несильная положительная зависимость цены от общей площади, однако начиная примерно с 300 кв.м. зависимость рассеивается. У меня есть 2 объяснения :\n",
    "- Рост субъективной полезности и ценности площади квартиры, начиная с какого-то значения, растет медленно или не растет вовсе. Иными словами, квадратные метры свыше 300-от начинают казаться бесполезными и излишними.\n",
    "- Таких квартир попросту мало. Возможно, что тенденция сохраняется, просто из-за небольшого количества значений ее труднее отследить."
   ]
  },
  {
   "cell_type": "code",
   "execution_count": 66,
   "metadata": {},
   "outputs": [
    {
     "name": "stdout",
     "output_type": "stream",
     "text": [
      "0.6503051456443713\n"
     ]
    },
    {
     "data": {
      "text/plain": [
       "<AxesSubplot:xlabel='total_area', ylabel='last_price'>"
      ]
     },
     "execution_count": 66,
     "metadata": {},
     "output_type": "execute_result"
    },
    {
     "data": {
      "image/png": "[encoded data removed]",
      "text/plain": [
       "<Figure size 432x288 with 1 Axes>"
      ]
     },
     "metadata": {
      "needs_background": "light"
     },
     "output_type": "display_data"
    }
   ],
   "source": [
    "print(data['total_area'].corr(data['last_price']))\n",
    "data.plot(x='total_area', y='last_price', kind='scatter')"
   ]
  },
  {
   "cell_type": "markdown",
   "metadata": {},
   "source": [
    "##### Жилая площадь\n",
    "Цена квартиры зависит от площади жилой зоны в меньшей степени, чем от площади общей зоны.  <span style=\"color:red\"> Что это значит?</span>"
   ]
  },
  {
   "cell_type": "code",
   "execution_count": 67,
   "metadata": {},
   "outputs": [
    {
     "name": "stdout",
     "output_type": "stream",
     "text": [
      "0.5836447659469505\n"
     ]
    },
    {
     "data": {
      "text/plain": [
       "<AxesSubplot:xlabel='living_area', ylabel='last_price'>"
      ]
     },
     "execution_count": 67,
     "metadata": {},
     "output_type": "execute_result"
    },
    {
     "data": {
      "image/png": "[encoded data removed]",
      "text/plain": [
       "<Figure size 432x288 with 1 Axes>"
      ]
     },
     "metadata": {
      "needs_background": "light"
     },
     "output_type": "display_data"
    }
   ],
   "source": [
    "print(data['living_area'].corr(data['last_price']))\n",
    "data.plot(x='living_area', y='last_price', kind='scatter')"
   ]
  },
  {
   "cell_type": "markdown",
   "metadata": {},
   "source": [
    "##### Площадь кухни\n",
    "Цена квартира зависит от площади кухни слабо, слабее чем от общей площади и от жилой площади. Очень странная картина:\n",
    "В нашей упрощенной картине мира living_area + kitchen_area = total_area. \n",
    "total_area коррелирует с ценой квартиры в большей степени, чем living_area. Как я понимаю, это должно означать, что оставшаяся площадь (в нашем случае только kitchen_area) должна влиять на цену квартиры больше, чем living_area. Но мы видим обратное. Мне не хватает знания статистики, чтобы сделать какой-то законченный вывод.\n",
    "\n",
    "Если говорить про наблюдения на диаграмме, то они по смыслу совпадут с наблюдениями из 4.3.1"
   ]
  },
  {
   "cell_type": "code",
   "execution_count": 68,
   "metadata": {},
   "outputs": [
    {
     "name": "stdout",
     "output_type": "stream",
     "text": [
      "0.516645471187318\n"
     ]
    },
    {
     "data": {
      "text/plain": [
       "<AxesSubplot:xlabel='kitchen_area', ylabel='last_price'>"
      ]
     },
     "execution_count": 68,
     "metadata": {},
     "output_type": "execute_result"
    },
    {
     "data": {
      "image/png": "[encoded data removed]",
      "text/plain": [
       "<Figure size 432x288 with 1 Axes>"
      ]
     },
     "metadata": {
      "needs_background": "light"
     },
     "output_type": "display_data"
    }
   ],
   "source": [
    "print(data['kitchen_area'].corr(data['last_price']))\n",
    "data.plot(x='kitchen_area', y='last_price', kind='scatter')"
   ]
  },
  {
   "cell_type": "markdown",
   "metadata": {},
   "source": [
    "##### rooms"
   ]
  },
  {
   "cell_type": "markdown",
   "metadata": {},
   "source": [
    "По графику мы видим положительную зависимость между количеством комнат в квартире и средней стоимостью. Начиная со значения rooms=8 плавный рост прекращается, однако думаю, что дело исключительно в малом количестве квартир с таким количеством комнат."
   ]
  },
  {
   "cell_type": "code",
   "execution_count": 69,
   "metadata": {},
   "outputs": [
    {
     "name": "stdout",
     "output_type": "stream",
     "text": [
      "0.3631952825002791\n"
     ]
    },
    {
     "data": {
      "text/plain": [
       "<AxesSubplot:xlabel='rooms', ylabel='last_price'>"
      ]
     },
     "execution_count": 69,
     "metadata": {},
     "output_type": "execute_result"
    },
    {
     "data": {
      "image/png": "[encoded data removed]",
      "text/plain": [
       "<Figure size 432x288 with 1 Axes>"
      ]
     },
     "metadata": {
      "needs_background": "light"
     },
     "output_type": "display_data"
    }
   ],
   "source": [
    "print(data['rooms'].corr(data['last_price']))\n",
    "data_rooms = data.pivot_table(index='rooms', values='last_price', aggfunc='mean')\n",
    "data_rooms = data_rooms.reset_index()\n",
    "sb.barplot(data=data_rooms, x='rooms', y='last_price')\n",
    "\n"
   ]
  },
  {
   "cell_type": "markdown",
   "metadata": {},
   "source": [
    "##### Этаж\n",
    "Средняя цена квартир на первом этаже самая низкая среди всех категорий. Самая высокая средняя цена на квартиры в категории \"последний\". "
   ]
  },
  {
   "cell_type": "code",
   "execution_count": 70,
   "metadata": {},
   "outputs": [
    {
     "data": {
      "text/plain": [
       "<AxesSubplot:xlabel='floor_category', ylabel='last_price'>"
      ]
     },
     "execution_count": 70,
     "metadata": {},
     "output_type": "execute_result"
    },
    {
     "data": {
      "image/png": "[encoded data removed]",
      "text/plain": [
       "<Figure size 432x288 with 1 Axes>"
      ]
     },
     "metadata": {
      "needs_background": "light"
     },
     "output_type": "display_data"
    }
   ],
   "source": [
    "data_floor_category = data.pivot_table(index='floor_category', values='last_price', aggfunc='mean')\n",
    "data_floor_category = data_floor_category.reset_index()\n",
    "sb.barplot(data=data_floor_category, x='floor_category', y='last_price')"
   ]
  },
  {
   "cell_type": "markdown",
   "metadata": {},
   "source": [
    "##### Даты размещения \n"
   ]
  },
  {
   "cell_type": "markdown",
   "metadata": {},
   "source": [
    "###### weekday\n",
    "Все ровно."
   ]
  },
  {
   "cell_type": "code",
   "execution_count": 71,
   "metadata": {},
   "outputs": [
    {
     "data": {
      "text/plain": [
       "<AxesSubplot:xlabel='weekday', ylabel='last_price'>"
      ]
     },
     "execution_count": 71,
     "metadata": {},
     "output_type": "execute_result"
    },
    {
     "data": {
      "image/png": "[encoded data removed]",
      "text/plain": [
       "<Figure size 432x288 with 1 Axes>"
      ]
     },
     "metadata": {
      "needs_background": "light"
     },
     "output_type": "display_data"
    }
   ],
   "source": [
    "data_weekday = data.pivot_table(index='weekday', values='last_price', aggfunc='mean')\n",
    "data_weekday = data_weekday.reset_index()\n",
    "sb.barplot(data=data_weekday, x='weekday', y='last_price')"
   ]
  },
  {
   "cell_type": "markdown",
   "metadata": {},
   "source": [
    "###### month\n",
    "Все ровно."
   ]
  },
  {
   "cell_type": "code",
   "execution_count": 72,
   "metadata": {},
   "outputs": [
    {
     "data": {
      "text/plain": [
       "<AxesSubplot:xlabel='month', ylabel='last_price'>"
      ]
     },
     "execution_count": 72,
     "metadata": {},
     "output_type": "execute_result"
    },
    {
     "data": {
      "image/png": "[encoded data removed]",
      "text/plain": [
       "<Figure size 432x288 with 1 Axes>"
      ]
     },
     "metadata": {
      "needs_background": "light"
     },
     "output_type": "display_data"
    }
   ],
   "source": [
    "data_month = data.pivot_table(index='month', values='last_price', aggfunc='mean')\n",
    "data_month = data_month.reset_index()\n",
    "sb.barplot(data=data_month, x='month', y='last_price')"
   ]
  },
  {
   "cell_type": "markdown",
   "metadata": {},
   "source": [
    "###### year\n",
    "- У заявлений, опубликованных в 14 году средняя цена на жилье была самой высокой и была вдвое больше, чем у объявлений, опубликованных 18. \n",
    "- С 14 по 18 год включительно наблюдалось стабильное снижение средней цены на жилье, "
   ]
  },
  {
   "cell_type": "code",
   "execution_count": 73,
   "metadata": {},
   "outputs": [
    {
     "data": {
      "text/plain": [
       "<AxesSubplot:xlabel='year', ylabel='last_price'>"
      ]
     },
     "execution_count": 73,
     "metadata": {},
     "output_type": "execute_result"
    },
    {
     "data": {
      "image/png": "[encoded data removed]",
      "text/plain": [
       "<Figure size 432x288 with 1 Axes>"
      ]
     },
     "metadata": {
      "needs_background": "light"
     },
     "output_type": "display_data"
    }
   ],
   "source": [
    "data_year = data.pivot_table(index='year', values='last_price', aggfunc='mean')\n",
    "data_year = data_year.reset_index()\n",
    "sb.barplot(data=data_year, x='year', y='last_price')\n"
   ]
  },
  {
   "cell_type": "markdown",
   "metadata": {},
   "source": [
    "#### Средняя цена за квадратный метр для разных населенных пунктов\n",
    "Самый дорогой квадратный метр в самом Санкт-Петербурге. Затем идет Зеленогорск. Самый дешевый квадратный метр в сельском поселении Старополье."
   ]
  },
  {
   "cell_type": "code",
   "execution_count": 74,
   "metadata": {},
   "outputs": [
    {
     "name": "stdout",
     "output_type": "stream",
     "text": [
      "                    squere_price\n",
      "locality_name                   \n",
      "санкт-петербург    105103.572961\n",
      "зеленогорск        101666.666667\n",
      "кудрово             99781.727471\n",
      "сестрорецк          99759.615385\n",
      "пушкин              99744.245524\n",
      "поселок левашово    96997.690531\n",
      "поселок парголово   91780.224134\n",
      "деревня кудрово     91666.666667\n",
      "деревня мистолово   90888.888889\n",
      "мурино              89928.057554\n",
      "\n",
      "Населенный пункт с самой большой стоимостью за кв. метр: squere_price    санкт-петербург\n",
      "dtype: object\n",
      "Населенный пункт с самой маленькой стоимостью за кв. метр и его значение: squere_price    деревня старополье\n",
      "dtype: object squere_price    11000.0\n",
      "dtype: float64\n"
     ]
    }
   ],
   "source": [
    "medium_sqr_price = data.pivot_table(index='locality_name', values='squere_price', aggfunc='median').sort_values(by='squere_price', ascending=False)\n",
    "print(medium_sqr_price.head(10))\n",
    "print()\n",
    "print('Населенный пункт с самой большой стоимостью за кв. метр:', medium_sqr_price.idxmax())\n",
    "print('Населенный пункт с самой маленькой стоимостью за кв. метр и его значение:', medium_sqr_price.idxmin(), medium_sqr_price.min()) "
   ]
  },
  {
   "cell_type": "markdown",
   "metadata": {},
   "source": [
    "#### Зависимость цены квартиры от расстояния до центра\n",
    "Мы видим отрицительную зависимость средней цены на квартиры от расстояния до центра. Особенно ярко она проявляется на отрезке от 0 до 12 км, далее зависимость становится почти незаметной.\n",
    "Наблюдение, которое сразу бросается в глаза: большинство элитных квартир расположено в центре города или в радиусе 8 км."
   ]
  },
  {
   "cell_type": "code",
   "execution_count": 75,
   "metadata": {},
   "outputs": [
    {
     "data": {
      "text/plain": [
       "<AxesSubplot:xlabel='km_to_center'>"
      ]
     },
     "execution_count": 75,
     "metadata": {},
     "output_type": "execute_result"
    },
    {
     "data": {
      "image/png": "[encoded data removed]",
      "text/plain": [
       "<Figure size 432x288 with 1 Axes>"
      ]
     },
     "metadata": {
      "needs_background": "light"
     },
     "output_type": "display_data"
    }
   ],
   "source": [
    "data_km = data.pivot_table(index='km_to_center', values='last_price', aggfunc='mean')\n",
    "data_km = data_km.reset_index()\n",
    "data_km.plot(kind='bar', x='km_to_center', y = 'last_price', xticks=(0, 10, 20, 30, 40, 50, 60))"
   ]
  },
  {
   "cell_type": "markdown",
   "metadata": {},
   "source": [
    "\n",
    "### Общий вывод"
   ]
  },
  {
   "cell_type": "markdown",
   "metadata": {},
   "source": [
    " \n",
    "#### Самые важные зависимости и наблюдения\n",
    "- Больше всего (среди имеющихся параметров) цена квартиры зависит от общей площади. Однако, начиная примерно с 300-т метров эта зависимость рассеивается. Скорее всего, эти метры в глазах покупателей становятся попросту излишними.\n",
    "От жилой площади цена квартиры зависит в меньше степени, однако и зависимость от площади кухни тоже меньше, чем от общей площади, что кажется странным. Однако для какого-либо заключения необходимо провести дополнительное исследование с более разнообразными данными.\n",
    "- Существует положительная корреляция между количеством комнат в квартире и ее стоимостью\n",
    "- В среднем квартиры на первым этаже стоят дешевле всего, а квартиры на последнем - самые дорогие\n",
    "- С 14 по 18 год средняя стоимость квартир в рублях снижается. Однако для более подробного изучения динамики цен необходимо изучить цены на квартиры в зависимости от даты продажи, а не размещения.\n",
    "- Существует отрицательная зависимость между расстоянием от центра города и средней ценой на квартиры. Подавляющее большинство элитной недвижимости расположено в центре города или в радиусе 8 км.\n",
    "- Самый дорогой квадратный метр в Питере и Зеленограде, а самый дешевый, как правило, в поселках.\n",
    "\n",
    "\n",
    "\n",
    "#### Категории квартир\n",
    "Мы можем грубо поделить квартиры в Питере и Лен. области на 3 категории и дать каждой из них характеристику:\n",
    "##### Элитное жилье и жилье бизнес класса\n",
    "- Стоимость от 6 миллионов\n",
    "- Расположено в радиусе 8 км от центра города\n",
    "- Этаж последний\n",
    "- Площадь от 250 метров\n",
    "\n",
    "##### Жилье комфорт-класса\n",
    "- Стоимость от 3 до 6 миллионов\n",
    "- Расположено в пределах 20 км от центра\n",
    "- Этаж между первым и последним\n",
    "- Площадь до 250-ти метров\n",
    "\n",
    "##### Жилье эконом класса \n",
    "- Стоимость до 3 миллионов\n",
    "- Расположено в пределах от 10 до 30 км от центра\n",
    "- Этаж любо1\n",
    "- Площадь до 150 метров\n",
    "\n",
    "#### Параметры, которые не являются значимыми и/или стандартизированны во всех трех категориях:\n",
    "- Площадь кухни\n",
    "- Высота потолков\n",
    "- Расстояние до аэропорта\n",
    "- День и месяц размещения\n",
    "\n",
    "\n",
    "\n",
    "\n",
    "\n",
    "\n",
    "\n",
    "\n"
   ]
  }
 ],
 "metadata": {
  "ExecuteTimeLog": [
   {
    "duration": 432,
    "start_time": "2023-03-30T09:42:54.586Z"
   },
   {
    "duration": 141,
    "start_time": "2023-03-30T09:46:19.928Z"
   },
   {
    "duration": 307,
    "start_time": "2023-03-30T09:46:44.021Z"
   },
   {
    "duration": 84,
    "start_time": "2023-03-30T09:47:29.080Z"
   },
   {
    "duration": 132,
    "start_time": "2023-03-30T09:50:21.769Z"
   },
   {
    "duration": 15,
    "start_time": "2023-03-30T09:53:50.294Z"
   },
   {
    "duration": 2444,
    "start_time": "2023-03-30T09:58:28.975Z"
   },
   {
    "duration": 28,
    "start_time": "2023-03-30T10:19:45.741Z"
   },
   {
    "duration": 13,
    "start_time": "2023-03-30T10:19:57.592Z"
   },
   {
    "duration": 11,
    "start_time": "2023-03-30T10:24:37.344Z"
   },
   {
    "duration": 317,
    "start_time": "2023-03-30T10:38:20.828Z"
   },
   {
    "duration": 217,
    "start_time": "2023-03-30T10:38:33.529Z"
   },
   {
    "duration": 242,
    "start_time": "2023-03-30T10:40:17.990Z"
   },
   {
    "duration": 220,
    "start_time": "2023-03-30T10:40:36.149Z"
   },
   {
    "duration": 74,
    "start_time": "2023-03-30T10:44:33.979Z"
   },
   {
    "duration": 268,
    "start_time": "2023-03-30T10:44:38.687Z"
   },
   {
    "duration": 389,
    "start_time": "2023-03-30T10:44:54.899Z"
   },
   {
    "duration": 280,
    "start_time": "2023-03-30T10:46:00.700Z"
   },
   {
    "duration": 258,
    "start_time": "2023-03-30T10:47:00.363Z"
   },
   {
    "duration": 271,
    "start_time": "2023-03-30T10:48:19.037Z"
   },
   {
    "duration": 271,
    "start_time": "2023-03-30T10:48:29.996Z"
   },
   {
    "duration": 279,
    "start_time": "2023-03-30T11:04:05.982Z"
   },
   {
    "duration": 9,
    "start_time": "2023-03-30T11:16:42.928Z"
   },
   {
    "duration": 6,
    "start_time": "2023-03-30T11:17:09.193Z"
   },
   {
    "duration": 8,
    "start_time": "2023-03-30T11:17:26.559Z"
   },
   {
    "duration": 8,
    "start_time": "2023-03-30T11:17:35.226Z"
   },
   {
    "duration": 5,
    "start_time": "2023-03-30T11:25:25.389Z"
   },
   {
    "duration": 6,
    "start_time": "2023-03-30T11:25:33.865Z"
   },
   {
    "duration": 5,
    "start_time": "2023-03-30T11:26:27.930Z"
   },
   {
    "duration": 6,
    "start_time": "2023-03-30T11:26:42.072Z"
   },
   {
    "duration": 5,
    "start_time": "2023-03-30T11:29:51.575Z"
   },
   {
    "duration": 20,
    "start_time": "2023-03-30T11:30:03.827Z"
   },
   {
    "duration": 7,
    "start_time": "2023-03-30T11:30:28.353Z"
   },
   {
    "duration": 6,
    "start_time": "2023-03-30T11:30:33.887Z"
   },
   {
    "duration": 50,
    "start_time": "2023-03-30T18:27:03.824Z"
   },
   {
    "duration": 604,
    "start_time": "2023-03-30T18:27:15.600Z"
   },
   {
    "duration": 15,
    "start_time": "2023-03-30T18:27:16.207Z"
   },
   {
    "duration": 2523,
    "start_time": "2023-03-30T18:27:16.224Z"
   },
   {
    "duration": 10,
    "start_time": "2023-03-30T18:27:18.749Z"
   },
   {
    "duration": 66,
    "start_time": "2023-03-30T18:27:18.761Z"
   },
   {
    "duration": 0,
    "start_time": "2023-03-30T18:27:18.829Z"
   },
   {
    "duration": 0,
    "start_time": "2023-03-30T18:27:18.831Z"
   },
   {
    "duration": 0,
    "start_time": "2023-03-30T18:27:18.833Z"
   },
   {
    "duration": 0,
    "start_time": "2023-03-30T18:27:18.834Z"
   },
   {
    "duration": 0,
    "start_time": "2023-03-30T18:27:18.836Z"
   },
   {
    "duration": 6,
    "start_time": "2023-03-30T18:27:49.546Z"
   },
   {
    "duration": 6,
    "start_time": "2023-03-30T18:29:36.569Z"
   },
   {
    "duration": 5,
    "start_time": "2023-03-30T18:29:39.017Z"
   },
   {
    "duration": 5,
    "start_time": "2023-03-30T18:30:41.060Z"
   },
   {
    "duration": 1272,
    "start_time": "2023-03-30T18:43:59.175Z"
   },
   {
    "duration": 5,
    "start_time": "2023-03-30T18:44:14.280Z"
   },
   {
    "duration": 38,
    "start_time": "2023-03-30T18:44:52.089Z"
   },
   {
    "duration": 8,
    "start_time": "2023-03-30T18:49:19.039Z"
   },
   {
    "duration": 8,
    "start_time": "2023-03-30T18:49:32.242Z"
   },
   {
    "duration": 10,
    "start_time": "2023-03-30T18:49:45.525Z"
   },
   {
    "duration": 7,
    "start_time": "2023-03-30T18:49:55.985Z"
   },
   {
    "duration": 5,
    "start_time": "2023-03-30T19:04:20.287Z"
   },
   {
    "duration": 41,
    "start_time": "2023-03-30T19:05:38.358Z"
   },
   {
    "duration": 93,
    "start_time": "2023-03-30T19:05:58.763Z"
   },
   {
    "duration": 147,
    "start_time": "2023-03-30T19:06:00.585Z"
   },
   {
    "duration": 48,
    "start_time": "2023-03-30T19:06:05.799Z"
   },
   {
    "duration": 52,
    "start_time": "2023-03-30T19:09:23.290Z"
   },
   {
    "duration": 46,
    "start_time": "2023-03-30T19:10:09.643Z"
   },
   {
    "duration": 4,
    "start_time": "2023-03-30T19:16:23.284Z"
   },
   {
    "duration": 8,
    "start_time": "2023-03-30T19:17:14.275Z"
   },
   {
    "duration": 41,
    "start_time": "2023-03-30T20:20:27.519Z"
   },
   {
    "duration": 43,
    "start_time": "2023-03-30T20:22:47.909Z"
   },
   {
    "duration": 67,
    "start_time": "2023-03-30T20:23:11.273Z"
   },
   {
    "duration": 69,
    "start_time": "2023-03-30T20:25:12.953Z"
   },
   {
    "duration": 68,
    "start_time": "2023-03-30T20:25:30.508Z"
   },
   {
    "duration": 65,
    "start_time": "2023-03-30T20:26:12.934Z"
   },
   {
    "duration": 67,
    "start_time": "2023-03-30T20:59:50.967Z"
   },
   {
    "duration": 63,
    "start_time": "2023-03-30T21:01:28.492Z"
   },
   {
    "duration": 8,
    "start_time": "2023-03-30T21:03:03.320Z"
   },
   {
    "duration": 120,
    "start_time": "2023-03-30T21:03:10.688Z"
   },
   {
    "duration": 14,
    "start_time": "2023-03-30T21:03:10.810Z"
   },
   {
    "duration": 2100,
    "start_time": "2023-03-30T21:03:10.826Z"
   },
   {
    "duration": 9,
    "start_time": "2023-03-30T21:03:12.928Z"
   },
   {
    "duration": 79,
    "start_time": "2023-03-30T21:03:12.939Z"
   },
   {
    "duration": 0,
    "start_time": "2023-03-30T21:03:13.020Z"
   },
   {
    "duration": 0,
    "start_time": "2023-03-30T21:03:13.021Z"
   },
   {
    "duration": 0,
    "start_time": "2023-03-30T21:03:13.022Z"
   },
   {
    "duration": 0,
    "start_time": "2023-03-30T21:03:13.023Z"
   },
   {
    "duration": 0,
    "start_time": "2023-03-30T21:03:13.025Z"
   },
   {
    "duration": 0,
    "start_time": "2023-03-30T21:03:13.026Z"
   },
   {
    "duration": 0,
    "start_time": "2023-03-30T21:03:13.027Z"
   },
   {
    "duration": 8,
    "start_time": "2023-03-30T21:03:22.118Z"
   },
   {
    "duration": 8,
    "start_time": "2023-03-30T21:03:34.439Z"
   },
   {
    "duration": 5,
    "start_time": "2023-03-30T21:03:50.928Z"
   },
   {
    "duration": 60,
    "start_time": "2023-03-30T21:04:07.525Z"
   },
   {
    "duration": 6,
    "start_time": "2023-03-30T21:04:48.335Z"
   },
   {
    "duration": 62,
    "start_time": "2023-03-30T21:05:26.576Z"
   },
   {
    "duration": 11,
    "start_time": "2023-03-30T21:06:27.532Z"
   },
   {
    "duration": 4,
    "start_time": "2023-03-30T21:09:35.999Z"
   },
   {
    "duration": 43,
    "start_time": "2023-03-30T21:17:53.453Z"
   },
   {
    "duration": 4,
    "start_time": "2023-03-30T21:18:04.156Z"
   },
   {
    "duration": 16,
    "start_time": "2023-03-30T21:18:21.535Z"
   },
   {
    "duration": 5,
    "start_time": "2023-03-30T21:51:42.866Z"
   },
   {
    "duration": 50,
    "start_time": "2023-03-31T08:41:52.834Z"
   },
   {
    "duration": 630,
    "start_time": "2023-03-31T08:41:59.125Z"
   },
   {
    "duration": 16,
    "start_time": "2023-03-31T08:41:59.757Z"
   },
   {
    "duration": 2532,
    "start_time": "2023-03-31T08:41:59.774Z"
   },
   {
    "duration": 72,
    "start_time": "2023-03-31T08:42:02.308Z"
   },
   {
    "duration": 0,
    "start_time": "2023-03-31T08:42:02.382Z"
   },
   {
    "duration": 0,
    "start_time": "2023-03-31T08:42:02.383Z"
   },
   {
    "duration": 0,
    "start_time": "2023-03-31T08:42:02.384Z"
   },
   {
    "duration": 0,
    "start_time": "2023-03-31T08:42:02.386Z"
   },
   {
    "duration": 0,
    "start_time": "2023-03-31T08:42:02.387Z"
   },
   {
    "duration": 0,
    "start_time": "2023-03-31T08:42:02.388Z"
   },
   {
    "duration": 0,
    "start_time": "2023-03-31T08:42:02.389Z"
   },
   {
    "duration": 0,
    "start_time": "2023-03-31T08:42:02.390Z"
   },
   {
    "duration": 0,
    "start_time": "2023-03-31T08:42:02.391Z"
   },
   {
    "duration": 0,
    "start_time": "2023-03-31T08:42:02.392Z"
   },
   {
    "duration": 0,
    "start_time": "2023-03-31T08:42:02.394Z"
   },
   {
    "duration": 0,
    "start_time": "2023-03-31T08:42:02.395Z"
   },
   {
    "duration": 0,
    "start_time": "2023-03-31T08:42:02.396Z"
   },
   {
    "duration": 0,
    "start_time": "2023-03-31T08:42:02.397Z"
   },
   {
    "duration": 0,
    "start_time": "2023-03-31T08:42:02.398Z"
   },
   {
    "duration": 20,
    "start_time": "2023-03-31T08:42:22.943Z"
   },
   {
    "duration": 11,
    "start_time": "2023-03-31T08:42:33.817Z"
   },
   {
    "duration": 5,
    "start_time": "2023-03-31T08:43:24.030Z"
   },
   {
    "duration": 1218,
    "start_time": "2023-03-31T08:44:17.713Z"
   },
   {
    "duration": 9,
    "start_time": "2023-03-31T08:44:35.509Z"
   },
   {
    "duration": 147,
    "start_time": "2023-03-31T08:50:20.556Z"
   },
   {
    "duration": 242,
    "start_time": "2023-03-31T08:53:43.935Z"
   },
   {
    "duration": 45,
    "start_time": "2023-03-31T09:02:24.228Z"
   },
   {
    "duration": 12,
    "start_time": "2023-03-31T09:02:39.440Z"
   },
   {
    "duration": 1262,
    "start_time": "2023-03-31T09:21:22.815Z"
   },
   {
    "duration": 8,
    "start_time": "2023-03-31T09:21:31.949Z"
   },
   {
    "duration": 13,
    "start_time": "2023-03-31T09:21:57.833Z"
   },
   {
    "duration": 8,
    "start_time": "2023-03-31T09:24:29.760Z"
   },
   {
    "duration": 7,
    "start_time": "2023-03-31T09:32:40.527Z"
   },
   {
    "duration": 66,
    "start_time": "2023-03-31T09:32:56.119Z"
   },
   {
    "duration": 72,
    "start_time": "2023-03-31T09:34:14.545Z"
   },
   {
    "duration": 13,
    "start_time": "2023-03-31T09:34:59.730Z"
   },
   {
    "duration": 11,
    "start_time": "2023-03-31T09:53:50.736Z"
   },
   {
    "duration": 19,
    "start_time": "2023-03-31T09:53:57.439Z"
   },
   {
    "duration": 6,
    "start_time": "2023-03-31T09:54:43.404Z"
   },
   {
    "duration": 78,
    "start_time": "2023-03-31T10:01:11.014Z"
   },
   {
    "duration": 246,
    "start_time": "2023-03-31T10:02:18.273Z"
   },
   {
    "duration": 7,
    "start_time": "2023-03-31T10:07:19.296Z"
   },
   {
    "duration": 7,
    "start_time": "2023-03-31T10:07:26.507Z"
   },
   {
    "duration": 8,
    "start_time": "2023-03-31T10:07:33.308Z"
   },
   {
    "duration": 7,
    "start_time": "2023-03-31T10:08:14.289Z"
   },
   {
    "duration": 8,
    "start_time": "2023-03-31T10:08:31.994Z"
   },
   {
    "duration": 13,
    "start_time": "2023-03-31T10:13:20.306Z"
   },
   {
    "duration": 19,
    "start_time": "2023-03-31T10:15:54.337Z"
   },
   {
    "duration": 16,
    "start_time": "2023-03-31T10:17:05.620Z"
   },
   {
    "duration": 13,
    "start_time": "2023-03-31T10:18:48.168Z"
   },
   {
    "duration": 12,
    "start_time": "2023-03-31T10:19:32.638Z"
   },
   {
    "duration": 8,
    "start_time": "2023-03-31T10:21:07.955Z"
   },
   {
    "duration": 278,
    "start_time": "2023-03-31T10:21:09.265Z"
   },
   {
    "duration": 613,
    "start_time": "2023-03-31T16:14:14.628Z"
   },
   {
    "duration": 15,
    "start_time": "2023-03-31T16:14:15.244Z"
   },
   {
    "duration": 2507,
    "start_time": "2023-03-31T16:14:15.261Z"
   },
   {
    "duration": 8,
    "start_time": "2023-03-31T16:14:17.770Z"
   },
   {
    "duration": 10,
    "start_time": "2023-03-31T16:14:17.780Z"
   },
   {
    "duration": 25,
    "start_time": "2023-03-31T16:14:17.792Z"
   },
   {
    "duration": 255,
    "start_time": "2023-03-31T16:14:17.819Z"
   },
   {
    "duration": 7,
    "start_time": "2023-03-31T16:14:18.076Z"
   },
   {
    "duration": 6,
    "start_time": "2023-03-31T16:14:18.084Z"
   },
   {
    "duration": 6,
    "start_time": "2023-03-31T16:14:18.091Z"
   },
   {
    "duration": 29,
    "start_time": "2023-03-31T16:14:18.099Z"
   },
   {
    "duration": 6,
    "start_time": "2023-03-31T16:14:18.130Z"
   },
   {
    "duration": 10,
    "start_time": "2023-03-31T16:14:18.138Z"
   },
   {
    "duration": 3,
    "start_time": "2023-03-31T16:14:18.151Z"
   },
   {
    "duration": 78,
    "start_time": "2023-03-31T16:14:18.156Z"
   },
   {
    "duration": 0,
    "start_time": "2023-03-31T16:14:18.236Z"
   },
   {
    "duration": 0,
    "start_time": "2023-03-31T16:14:18.238Z"
   },
   {
    "duration": 0,
    "start_time": "2023-03-31T16:14:18.239Z"
   },
   {
    "duration": 0,
    "start_time": "2023-03-31T16:14:18.240Z"
   },
   {
    "duration": 0,
    "start_time": "2023-03-31T16:14:18.241Z"
   },
   {
    "duration": 0,
    "start_time": "2023-03-31T16:14:18.242Z"
   },
   {
    "duration": 0,
    "start_time": "2023-03-31T16:14:18.243Z"
   },
   {
    "duration": 5,
    "start_time": "2023-03-31T16:16:34.456Z"
   },
   {
    "duration": 6,
    "start_time": "2023-03-31T16:16:55.512Z"
   },
   {
    "duration": 86,
    "start_time": "2023-03-31T16:29:10.669Z"
   },
   {
    "duration": 10,
    "start_time": "2023-03-31T16:29:24.655Z"
   },
   {
    "duration": 13,
    "start_time": "2023-03-31T16:29:49.256Z"
   },
   {
    "duration": 19,
    "start_time": "2023-03-31T16:38:37.297Z"
   },
   {
    "duration": 15,
    "start_time": "2023-03-31T16:39:15.047Z"
   },
   {
    "duration": 8,
    "start_time": "2023-03-31T16:41:39.955Z"
   },
   {
    "duration": 8,
    "start_time": "2023-03-31T16:41:45.891Z"
   },
   {
    "duration": 7,
    "start_time": "2023-03-31T16:41:51.951Z"
   },
   {
    "duration": 117,
    "start_time": "2023-03-31T16:43:23.837Z"
   },
   {
    "duration": 15,
    "start_time": "2023-03-31T16:43:23.981Z"
   },
   {
    "duration": 2065,
    "start_time": "2023-03-31T16:43:24.121Z"
   },
   {
    "duration": 6,
    "start_time": "2023-03-31T16:43:26.188Z"
   },
   {
    "duration": 10,
    "start_time": "2023-03-31T16:43:26.195Z"
   },
   {
    "duration": 11,
    "start_time": "2023-03-31T16:43:26.222Z"
   },
   {
    "duration": 260,
    "start_time": "2023-03-31T16:43:26.235Z"
   },
   {
    "duration": 7,
    "start_time": "2023-03-31T16:43:26.496Z"
   },
   {
    "duration": 17,
    "start_time": "2023-03-31T16:43:33.450Z"
   },
   {
    "duration": 6,
    "start_time": "2023-03-31T16:43:34.262Z"
   },
   {
    "duration": 7,
    "start_time": "2023-03-31T16:43:35.472Z"
   },
   {
    "duration": 7,
    "start_time": "2023-03-31T16:43:37.663Z"
   },
   {
    "duration": 7,
    "start_time": "2023-03-31T16:43:38.762Z"
   },
   {
    "duration": 6,
    "start_time": "2023-03-31T16:43:47.149Z"
   },
   {
    "duration": 11,
    "start_time": "2023-03-31T16:44:29.980Z"
   },
   {
    "duration": 6,
    "start_time": "2023-03-31T16:44:31.281Z"
   },
   {
    "duration": 10,
    "start_time": "2023-03-31T16:44:57.701Z"
   },
   {
    "duration": 7,
    "start_time": "2023-03-31T16:44:59.641Z"
   },
   {
    "duration": 11,
    "start_time": "2023-03-31T16:45:01.300Z"
   },
   {
    "duration": 10,
    "start_time": "2023-03-31T16:46:03.233Z"
   },
   {
    "duration": 7,
    "start_time": "2023-03-31T16:46:05.740Z"
   },
   {
    "duration": 6,
    "start_time": "2023-03-31T16:46:25.620Z"
   },
   {
    "duration": 9,
    "start_time": "2023-03-31T16:46:32.341Z"
   },
   {
    "duration": 9,
    "start_time": "2023-03-31T16:48:54.068Z"
   },
   {
    "duration": 70,
    "start_time": "2023-03-31T16:49:08.061Z"
   },
   {
    "duration": 5,
    "start_time": "2023-03-31T16:57:36.039Z"
   },
   {
    "duration": 11,
    "start_time": "2023-03-31T17:03:50.396Z"
   },
   {
    "duration": 6,
    "start_time": "2023-03-31T17:04:57.883Z"
   },
   {
    "duration": 10,
    "start_time": "2023-03-31T17:08:05.782Z"
   },
   {
    "duration": 7,
    "start_time": "2023-03-31T17:08:06.410Z"
   },
   {
    "duration": 6,
    "start_time": "2023-03-31T17:08:29.384Z"
   },
   {
    "duration": 5,
    "start_time": "2023-03-31T17:09:44.830Z"
   },
   {
    "duration": 9,
    "start_time": "2023-03-31T17:10:02.229Z"
   },
   {
    "duration": 8,
    "start_time": "2023-03-31T17:10:25.878Z"
   },
   {
    "duration": 9,
    "start_time": "2023-03-31T17:11:55.896Z"
   },
   {
    "duration": 11,
    "start_time": "2023-03-31T17:12:18.680Z"
   },
   {
    "duration": 7,
    "start_time": "2023-03-31T17:12:19.168Z"
   },
   {
    "duration": 9,
    "start_time": "2023-03-31T17:12:19.570Z"
   },
   {
    "duration": 10,
    "start_time": "2023-03-31T17:13:53.842Z"
   },
   {
    "duration": 11,
    "start_time": "2023-03-31T17:18:13.672Z"
   },
   {
    "duration": 35,
    "start_time": "2023-03-31T17:18:46.687Z"
   },
   {
    "duration": 37,
    "start_time": "2023-03-31T17:19:10.938Z"
   },
   {
    "duration": 86,
    "start_time": "2023-04-01T12:52:51.634Z"
   },
   {
    "duration": 671,
    "start_time": "2023-04-01T12:52:57.457Z"
   },
   {
    "duration": 17,
    "start_time": "2023-04-01T12:52:58.130Z"
   },
   {
    "duration": 2679,
    "start_time": "2023-04-01T12:52:58.150Z"
   },
   {
    "duration": 9,
    "start_time": "2023-04-01T12:53:00.831Z"
   },
   {
    "duration": 87,
    "start_time": "2023-04-01T12:53:00.843Z"
   },
   {
    "duration": 0,
    "start_time": "2023-04-01T12:53:00.932Z"
   },
   {
    "duration": 0,
    "start_time": "2023-04-01T12:53:00.933Z"
   },
   {
    "duration": 0,
    "start_time": "2023-04-01T12:53:00.935Z"
   },
   {
    "duration": 0,
    "start_time": "2023-04-01T12:53:00.936Z"
   },
   {
    "duration": 0,
    "start_time": "2023-04-01T12:53:00.938Z"
   },
   {
    "duration": 0,
    "start_time": "2023-04-01T12:53:00.939Z"
   },
   {
    "duration": 0,
    "start_time": "2023-04-01T12:53:00.940Z"
   },
   {
    "duration": 0,
    "start_time": "2023-04-01T12:53:00.941Z"
   },
   {
    "duration": 0,
    "start_time": "2023-04-01T12:53:00.941Z"
   },
   {
    "duration": 0,
    "start_time": "2023-04-01T12:53:00.944Z"
   },
   {
    "duration": 0,
    "start_time": "2023-04-01T12:53:00.944Z"
   },
   {
    "duration": 0,
    "start_time": "2023-04-01T12:53:00.945Z"
   },
   {
    "duration": 0,
    "start_time": "2023-04-01T12:53:00.947Z"
   },
   {
    "duration": 0,
    "start_time": "2023-04-01T12:53:00.951Z"
   },
   {
    "duration": 0,
    "start_time": "2023-04-01T12:53:00.952Z"
   },
   {
    "duration": 0,
    "start_time": "2023-04-01T12:53:00.952Z"
   },
   {
    "duration": 0,
    "start_time": "2023-04-01T12:53:00.953Z"
   },
   {
    "duration": 0,
    "start_time": "2023-04-01T12:53:00.954Z"
   },
   {
    "duration": 0,
    "start_time": "2023-04-01T12:53:00.954Z"
   },
   {
    "duration": 197,
    "start_time": "2023-04-01T12:53:59.622Z"
   },
   {
    "duration": 29,
    "start_time": "2023-04-01T12:57:59.694Z"
   },
   {
    "duration": 47,
    "start_time": "2023-04-01T12:58:06.131Z"
   },
   {
    "duration": 23,
    "start_time": "2023-04-01T13:01:27.299Z"
   },
   {
    "duration": 23,
    "start_time": "2023-04-01T13:09:09.731Z"
   },
   {
    "duration": 21,
    "start_time": "2023-04-01T13:09:13.580Z"
   },
   {
    "duration": 124,
    "start_time": "2023-04-01T13:09:17.194Z"
   },
   {
    "duration": 20,
    "start_time": "2023-04-01T13:09:17.567Z"
   },
   {
    "duration": 2050,
    "start_time": "2023-04-01T13:09:17.966Z"
   },
   {
    "duration": 6,
    "start_time": "2023-04-01T13:09:20.018Z"
   },
   {
    "duration": 35,
    "start_time": "2023-04-01T13:09:31.936Z"
   },
   {
    "duration": 12,
    "start_time": "2023-04-01T13:09:33.198Z"
   },
   {
    "duration": 295,
    "start_time": "2023-04-01T13:09:33.543Z"
   },
   {
    "duration": 30,
    "start_time": "2023-04-01T13:09:36.285Z"
   },
   {
    "duration": 101,
    "start_time": "2023-04-01T13:10:39.816Z"
   },
   {
    "duration": 16,
    "start_time": "2023-04-01T13:10:54.462Z"
   },
   {
    "duration": 10,
    "start_time": "2023-04-01T13:11:27.624Z"
   },
   {
    "duration": 23,
    "start_time": "2023-04-01T13:12:08.585Z"
   },
   {
    "duration": 36,
    "start_time": "2023-04-01T13:12:35.135Z"
   },
   {
    "duration": 34,
    "start_time": "2023-04-01T13:12:48.230Z"
   },
   {
    "duration": 24,
    "start_time": "2023-04-01T13:13:24.272Z"
   },
   {
    "duration": 3,
    "start_time": "2023-04-01T13:22:39.521Z"
   },
   {
    "duration": 9,
    "start_time": "2023-04-01T13:29:56.173Z"
   },
   {
    "duration": 35,
    "start_time": "2023-04-01T13:30:03.576Z"
   },
   {
    "duration": 23,
    "start_time": "2023-04-01T13:30:34.298Z"
   },
   {
    "duration": 5,
    "start_time": "2023-04-01T13:35:37.375Z"
   },
   {
    "duration": 15,
    "start_time": "2023-04-01T13:35:44.201Z"
   },
   {
    "duration": 38,
    "start_time": "2023-04-01T13:36:01.183Z"
   },
   {
    "duration": 10,
    "start_time": "2023-04-01T13:36:10.097Z"
   },
   {
    "duration": 5,
    "start_time": "2023-04-01T13:36:19.373Z"
   },
   {
    "duration": 14,
    "start_time": "2023-04-01T13:38:03.403Z"
   },
   {
    "duration": 20,
    "start_time": "2023-04-01T13:38:10.335Z"
   },
   {
    "duration": 22,
    "start_time": "2023-04-01T13:38:35.506Z"
   },
   {
    "duration": 17,
    "start_time": "2023-04-01T13:39:57.670Z"
   },
   {
    "duration": 20,
    "start_time": "2023-04-01T13:43:45.177Z"
   },
   {
    "duration": 25,
    "start_time": "2023-04-01T13:43:55.602Z"
   },
   {
    "duration": 81,
    "start_time": "2023-04-01T13:45:07.494Z"
   },
   {
    "duration": 92,
    "start_time": "2023-04-01T13:45:22.307Z"
   },
   {
    "duration": 16,
    "start_time": "2023-04-01T13:45:28.098Z"
   },
   {
    "duration": 16,
    "start_time": "2023-04-01T13:49:57.105Z"
   },
   {
    "duration": 12,
    "start_time": "2023-04-01T13:51:19.172Z"
   },
   {
    "duration": 4,
    "start_time": "2023-04-01T13:52:53.323Z"
   },
   {
    "duration": 134,
    "start_time": "2023-04-01T13:53:53.910Z"
   },
   {
    "duration": 15,
    "start_time": "2023-04-01T13:53:54.062Z"
   },
   {
    "duration": 2019,
    "start_time": "2023-04-01T13:53:54.229Z"
   },
   {
    "duration": 6,
    "start_time": "2023-04-01T13:53:56.250Z"
   },
   {
    "duration": 14,
    "start_time": "2023-04-01T13:53:56.258Z"
   },
   {
    "duration": 13,
    "start_time": "2023-04-01T13:53:56.275Z"
   },
   {
    "duration": 265,
    "start_time": "2023-04-01T13:53:56.289Z"
   },
   {
    "duration": 26,
    "start_time": "2023-04-01T13:53:56.556Z"
   },
   {
    "duration": 12,
    "start_time": "2023-04-01T13:53:56.711Z"
   },
   {
    "duration": 293,
    "start_time": "2023-04-01T13:53:56.906Z"
   },
   {
    "duration": 8,
    "start_time": "2023-04-01T13:53:57.201Z"
   },
   {
    "duration": 23,
    "start_time": "2023-04-01T13:53:57.636Z"
   },
   {
    "duration": 8,
    "start_time": "2023-04-01T13:53:57.817Z"
   },
   {
    "duration": 9,
    "start_time": "2023-04-01T13:53:58.008Z"
   },
   {
    "duration": 7,
    "start_time": "2023-04-01T13:53:58.408Z"
   },
   {
    "duration": 7,
    "start_time": "2023-04-01T13:53:58.773Z"
   },
   {
    "duration": 12,
    "start_time": "2023-04-01T13:53:59.133Z"
   },
   {
    "duration": 4,
    "start_time": "2023-04-01T13:53:59.484Z"
   },
   {
    "duration": 7,
    "start_time": "2023-04-01T13:53:59.841Z"
   },
   {
    "duration": 8,
    "start_time": "2023-04-01T13:54:00.170Z"
   },
   {
    "duration": 236,
    "start_time": "2023-04-01T13:54:00.529Z"
   },
   {
    "duration": 8,
    "start_time": "2023-04-01T13:54:00.767Z"
   },
   {
    "duration": 13,
    "start_time": "2023-04-01T13:54:01.062Z"
   },
   {
    "duration": 17,
    "start_time": "2023-04-01T13:54:02.134Z"
   },
   {
    "duration": 16,
    "start_time": "2023-04-01T13:54:02.508Z"
   },
   {
    "duration": 4,
    "start_time": "2023-04-01T13:54:02.716Z"
   },
   {
    "duration": 23,
    "start_time": "2023-04-01T13:54:57.008Z"
   },
   {
    "duration": 116,
    "start_time": "2023-04-01T13:55:03.707Z"
   },
   {
    "duration": 14,
    "start_time": "2023-04-01T13:55:04.469Z"
   },
   {
    "duration": 1966,
    "start_time": "2023-04-01T13:55:04.979Z"
   },
   {
    "duration": 6,
    "start_time": "2023-04-01T13:55:08.757Z"
   },
   {
    "duration": 22,
    "start_time": "2023-04-01T13:55:10.339Z"
   },
   {
    "duration": 11,
    "start_time": "2023-04-01T13:55:10.967Z"
   },
   {
    "duration": 242,
    "start_time": "2023-04-01T13:55:11.316Z"
   },
   {
    "duration": 28,
    "start_time": "2023-04-01T13:55:13.525Z"
   },
   {
    "duration": 10,
    "start_time": "2023-04-01T13:55:21.981Z"
   },
   {
    "duration": 263,
    "start_time": "2023-04-01T13:55:22.706Z"
   },
   {
    "duration": 8,
    "start_time": "2023-04-01T13:55:23.867Z"
   },
   {
    "duration": 20,
    "start_time": "2023-04-01T13:55:25.970Z"
   },
   {
    "duration": 7,
    "start_time": "2023-04-01T13:55:26.479Z"
   },
   {
    "duration": 8,
    "start_time": "2023-04-01T13:55:27.017Z"
   },
   {
    "duration": 10,
    "start_time": "2023-04-01T13:55:29.208Z"
   },
   {
    "duration": 18,
    "start_time": "2023-04-01T13:55:39.235Z"
   },
   {
    "duration": 127,
    "start_time": "2023-04-01T13:55:46.138Z"
   },
   {
    "duration": 22,
    "start_time": "2023-04-01T13:55:46.551Z"
   },
   {
    "duration": 2257,
    "start_time": "2023-04-01T13:55:46.954Z"
   },
   {
    "duration": 8,
    "start_time": "2023-04-01T13:55:49.213Z"
   },
   {
    "duration": 44,
    "start_time": "2023-04-01T13:55:49.224Z"
   },
   {
    "duration": 11,
    "start_time": "2023-04-01T13:55:49.271Z"
   },
   {
    "duration": 306,
    "start_time": "2023-04-01T13:55:49.284Z"
   },
   {
    "duration": 25,
    "start_time": "2023-04-01T13:55:50.710Z"
   },
   {
    "duration": 11,
    "start_time": "2023-04-01T13:56:03.321Z"
   },
   {
    "duration": 255,
    "start_time": "2023-04-01T13:56:03.965Z"
   },
   {
    "duration": 16,
    "start_time": "2023-04-01T13:56:11.211Z"
   },
   {
    "duration": 7,
    "start_time": "2023-04-01T13:56:18.017Z"
   },
   {
    "duration": 122,
    "start_time": "2023-04-01T13:56:22.412Z"
   },
   {
    "duration": 16,
    "start_time": "2023-04-01T13:56:22.869Z"
   },
   {
    "duration": 2294,
    "start_time": "2023-04-01T13:56:23.442Z"
   },
   {
    "duration": 11,
    "start_time": "2023-04-01T13:56:26.052Z"
   },
   {
    "duration": 19,
    "start_time": "2023-04-01T13:56:27.532Z"
   },
   {
    "duration": 9,
    "start_time": "2023-04-01T13:56:27.909Z"
   },
   {
    "duration": 310,
    "start_time": "2023-04-01T13:56:28.273Z"
   },
   {
    "duration": 26,
    "start_time": "2023-04-01T13:56:30.410Z"
   },
   {
    "duration": 10,
    "start_time": "2023-04-01T13:56:38.167Z"
   },
   {
    "duration": 261,
    "start_time": "2023-04-01T13:56:45.347Z"
   },
   {
    "duration": 260,
    "start_time": "2023-04-01T13:56:56.118Z"
   },
   {
    "duration": 14,
    "start_time": "2023-04-01T13:57:16.222Z"
   },
   {
    "duration": 1925,
    "start_time": "2023-04-01T13:57:17.179Z"
   },
   {
    "duration": 8,
    "start_time": "2023-04-01T13:57:19.875Z"
   },
   {
    "duration": 15,
    "start_time": "2023-04-01T13:57:22.447Z"
   },
   {
    "duration": 7,
    "start_time": "2023-04-01T13:57:23.171Z"
   },
   {
    "duration": 9,
    "start_time": "2023-04-01T13:57:24.105Z"
   },
   {
    "duration": 29,
    "start_time": "2023-04-01T13:57:26.342Z"
   },
   {
    "duration": 141,
    "start_time": "2023-04-01T13:57:32.409Z"
   },
   {
    "duration": 15,
    "start_time": "2023-04-01T13:57:33.612Z"
   },
   {
    "duration": 2248,
    "start_time": "2023-04-01T13:57:34.521Z"
   },
   {
    "duration": 14,
    "start_time": "2023-04-01T13:57:39.534Z"
   },
   {
    "duration": 14,
    "start_time": "2023-04-01T13:57:42.070Z"
   },
   {
    "duration": 8,
    "start_time": "2023-04-01T13:57:43.868Z"
   },
   {
    "duration": 263,
    "start_time": "2023-04-01T13:57:44.512Z"
   },
   {
    "duration": 24,
    "start_time": "2023-04-01T13:57:46.815Z"
   },
   {
    "duration": 35,
    "start_time": "2023-04-01T13:57:55.382Z"
   },
   {
    "duration": 10,
    "start_time": "2023-04-01T13:57:55.867Z"
   },
   {
    "duration": 240,
    "start_time": "2023-04-01T13:57:56.017Z"
   },
   {
    "duration": 6,
    "start_time": "2023-04-01T13:57:56.259Z"
   },
   {
    "duration": 16,
    "start_time": "2023-04-01T13:57:56.669Z"
   },
   {
    "duration": 10,
    "start_time": "2023-04-01T13:57:56.840Z"
   },
   {
    "duration": 6,
    "start_time": "2023-04-01T13:57:57.013Z"
   },
   {
    "duration": 8,
    "start_time": "2023-04-01T13:57:57.369Z"
   },
   {
    "duration": 6,
    "start_time": "2023-04-01T13:57:57.697Z"
   },
   {
    "duration": 10,
    "start_time": "2023-04-01T13:57:58.070Z"
   },
   {
    "duration": 3,
    "start_time": "2023-04-01T13:57:58.414Z"
   },
   {
    "duration": 7,
    "start_time": "2023-04-01T13:57:58.769Z"
   },
   {
    "duration": 9,
    "start_time": "2023-04-01T13:57:59.119Z"
   },
   {
    "duration": 246,
    "start_time": "2023-04-01T13:57:59.472Z"
   },
   {
    "duration": 8,
    "start_time": "2023-04-01T13:57:59.720Z"
   },
   {
    "duration": 13,
    "start_time": "2023-04-01T13:58:00.015Z"
   },
   {
    "duration": 18,
    "start_time": "2023-04-01T13:58:01.099Z"
   },
   {
    "duration": 16,
    "start_time": "2023-04-01T13:58:02.284Z"
   },
   {
    "duration": 4,
    "start_time": "2023-04-01T13:58:03.103Z"
   },
   {
    "duration": 20,
    "start_time": "2023-04-01T13:58:05.105Z"
   },
   {
    "duration": 21,
    "start_time": "2023-04-01T14:02:04.173Z"
   },
   {
    "duration": 19,
    "start_time": "2023-04-01T14:02:06.968Z"
   },
   {
    "duration": 135,
    "start_time": "2023-04-01T14:02:11.998Z"
   },
   {
    "duration": 19,
    "start_time": "2023-04-01T14:02:12.134Z"
   },
   {
    "duration": 2144,
    "start_time": "2023-04-01T14:02:12.157Z"
   },
   {
    "duration": 6,
    "start_time": "2023-04-01T14:02:14.302Z"
   },
   {
    "duration": 32,
    "start_time": "2023-04-01T14:02:14.310Z"
   },
   {
    "duration": 19,
    "start_time": "2023-04-01T14:02:14.345Z"
   },
   {
    "duration": 298,
    "start_time": "2023-04-01T14:02:14.366Z"
   },
   {
    "duration": 286,
    "start_time": "2023-04-01T14:02:14.666Z"
   },
   {
    "duration": 34,
    "start_time": "2023-04-01T14:02:14.954Z"
   },
   {
    "duration": 245,
    "start_time": "2023-04-01T14:02:14.990Z"
   },
   {
    "duration": 9,
    "start_time": "2023-04-01T14:02:15.241Z"
   },
   {
    "duration": 42,
    "start_time": "2023-04-01T14:02:15.251Z"
   },
   {
    "duration": 6,
    "start_time": "2023-04-01T14:02:15.295Z"
   },
   {
    "duration": 6,
    "start_time": "2023-04-01T14:02:15.303Z"
   },
   {
    "duration": 8,
    "start_time": "2023-04-01T14:02:15.311Z"
   },
   {
    "duration": 6,
    "start_time": "2023-04-01T14:02:15.320Z"
   },
   {
    "duration": 33,
    "start_time": "2023-04-01T14:02:15.327Z"
   },
   {
    "duration": 50,
    "start_time": "2023-04-01T14:02:15.364Z"
   },
   {
    "duration": 17,
    "start_time": "2023-04-01T14:02:15.416Z"
   },
   {
    "duration": 57,
    "start_time": "2023-04-01T14:02:15.435Z"
   },
   {
    "duration": 271,
    "start_time": "2023-04-01T14:02:15.493Z"
   },
   {
    "duration": 9,
    "start_time": "2023-04-01T14:02:15.766Z"
   },
   {
    "duration": 12,
    "start_time": "2023-04-01T14:02:15.777Z"
   },
   {
    "duration": 17,
    "start_time": "2023-04-01T14:02:15.791Z"
   },
   {
    "duration": 67,
    "start_time": "2023-04-01T14:02:15.809Z"
   },
   {
    "duration": 3,
    "start_time": "2023-04-01T14:02:15.877Z"
   },
   {
    "duration": 17,
    "start_time": "2023-04-01T14:02:32.504Z"
   },
   {
    "duration": 3,
    "start_time": "2023-04-01T14:02:33.171Z"
   },
   {
    "duration": 20,
    "start_time": "2023-04-01T14:02:59.607Z"
   },
   {
    "duration": 126,
    "start_time": "2023-04-01T14:03:07.168Z"
   },
   {
    "duration": 14,
    "start_time": "2023-04-01T14:03:07.570Z"
   },
   {
    "duration": 2096,
    "start_time": "2023-04-01T14:03:08.001Z"
   },
   {
    "duration": 6,
    "start_time": "2023-04-01T14:03:12.381Z"
   },
   {
    "duration": 14,
    "start_time": "2023-04-01T14:03:13.178Z"
   },
   {
    "duration": 9,
    "start_time": "2023-04-01T14:03:13.405Z"
   },
   {
    "duration": 285,
    "start_time": "2023-04-01T14:03:13.602Z"
   },
   {
    "duration": 23,
    "start_time": "2023-04-01T14:03:14.069Z"
   },
   {
    "duration": 38,
    "start_time": "2023-04-01T14:03:17.337Z"
   },
   {
    "duration": 19,
    "start_time": "2023-04-01T14:03:29.776Z"
   },
   {
    "duration": 21,
    "start_time": "2023-04-01T14:03:35.625Z"
   },
   {
    "duration": 17,
    "start_time": "2023-04-01T14:04:21.974Z"
   },
   {
    "duration": 142,
    "start_time": "2023-04-01T14:04:29.514Z"
   },
   {
    "duration": 21,
    "start_time": "2023-04-01T14:04:29.670Z"
   },
   {
    "duration": 2288,
    "start_time": "2023-04-01T14:04:30.984Z"
   },
   {
    "duration": 6,
    "start_time": "2023-04-01T14:04:33.274Z"
   },
   {
    "duration": 15,
    "start_time": "2023-04-01T14:04:33.282Z"
   },
   {
    "duration": 10,
    "start_time": "2023-04-01T14:04:33.299Z"
   },
   {
    "duration": 308,
    "start_time": "2023-04-01T14:04:35.198Z"
   },
   {
    "duration": 41,
    "start_time": "2023-04-01T14:04:35.637Z"
   },
   {
    "duration": 18,
    "start_time": "2023-04-01T14:04:41.871Z"
   },
   {
    "duration": 27,
    "start_time": "2023-04-01T14:05:05.181Z"
   },
   {
    "duration": 20,
    "start_time": "2023-04-01T14:06:03.634Z"
   },
   {
    "duration": 10,
    "start_time": "2023-04-01T14:06:24.773Z"
   },
   {
    "duration": 10,
    "start_time": "2023-04-01T14:06:43.069Z"
   },
   {
    "duration": 14,
    "start_time": "2023-04-01T14:08:22.995Z"
   },
   {
    "duration": 11,
    "start_time": "2023-04-01T14:08:36.170Z"
   },
   {
    "duration": 11,
    "start_time": "2023-04-01T14:09:00.169Z"
   },
   {
    "duration": 11,
    "start_time": "2023-04-01T14:09:27.701Z"
   },
   {
    "duration": 19,
    "start_time": "2023-04-01T14:09:45.476Z"
   },
   {
    "duration": 19,
    "start_time": "2023-04-01T14:10:07.208Z"
   },
   {
    "duration": 21,
    "start_time": "2023-04-01T14:12:28.723Z"
   },
   {
    "duration": 21,
    "start_time": "2023-04-01T14:12:36.522Z"
   },
   {
    "duration": 33,
    "start_time": "2023-04-01T14:12:42.012Z"
   },
   {
    "duration": 20,
    "start_time": "2023-04-01T14:12:45.870Z"
   },
   {
    "duration": 25,
    "start_time": "2023-04-01T14:13:44.024Z"
   },
   {
    "duration": 24,
    "start_time": "2023-04-01T14:13:49.796Z"
   },
   {
    "duration": 150,
    "start_time": "2023-04-01T14:13:56.869Z"
   },
   {
    "duration": 23,
    "start_time": "2023-04-01T14:13:57.021Z"
   },
   {
    "duration": 2726,
    "start_time": "2023-04-01T14:13:57.171Z"
   },
   {
    "duration": 6,
    "start_time": "2023-04-01T14:13:59.899Z"
   },
   {
    "duration": 20,
    "start_time": "2023-04-01T14:13:59.906Z"
   },
   {
    "duration": 25,
    "start_time": "2023-04-01T14:13:59.928Z"
   },
   {
    "duration": 315,
    "start_time": "2023-04-01T14:13:59.955Z"
   },
   {
    "duration": 24,
    "start_time": "2023-04-01T14:14:00.272Z"
   },
   {
    "duration": 20,
    "start_time": "2023-04-01T14:14:00.298Z"
   },
   {
    "duration": 284,
    "start_time": "2023-04-01T14:14:00.320Z"
   },
   {
    "duration": 8,
    "start_time": "2023-04-01T14:14:03.568Z"
   },
   {
    "duration": 15,
    "start_time": "2023-04-01T14:14:07.066Z"
   },
   {
    "duration": 14,
    "start_time": "2023-04-01T14:14:17.813Z"
   },
   {
    "duration": 22,
    "start_time": "2023-04-01T14:14:20.105Z"
   },
   {
    "duration": 22,
    "start_time": "2023-04-01T14:14:23.072Z"
   },
   {
    "duration": 132,
    "start_time": "2023-04-01T14:14:29.601Z"
   },
   {
    "duration": 15,
    "start_time": "2023-04-01T14:14:29.769Z"
   },
   {
    "duration": 2361,
    "start_time": "2023-04-01T14:14:29.940Z"
   },
   {
    "duration": 6,
    "start_time": "2023-04-01T14:14:32.303Z"
   },
   {
    "duration": 33,
    "start_time": "2023-04-01T14:14:32.311Z"
   },
   {
    "duration": 24,
    "start_time": "2023-04-01T14:14:32.351Z"
   },
   {
    "duration": 334,
    "start_time": "2023-04-01T14:14:32.377Z"
   },
   {
    "duration": 14,
    "start_time": "2023-04-01T14:14:33.016Z"
   },
   {
    "duration": 20,
    "start_time": "2023-04-01T14:14:34.310Z"
   },
   {
    "duration": 266,
    "start_time": "2023-04-01T14:14:35.782Z"
   },
   {
    "duration": 6,
    "start_time": "2023-04-01T14:14:36.803Z"
   },
   {
    "duration": 16,
    "start_time": "2023-04-01T14:14:37.765Z"
   },
   {
    "duration": 6,
    "start_time": "2023-04-01T14:14:38.368Z"
   },
   {
    "duration": 6,
    "start_time": "2023-04-01T14:14:38.570Z"
   },
   {
    "duration": 23,
    "start_time": "2023-04-01T14:14:54.969Z"
   },
   {
    "duration": 30,
    "start_time": "2023-04-01T14:14:58.873Z"
   },
   {
    "duration": 273,
    "start_time": "2023-04-01T14:14:59.865Z"
   },
   {
    "duration": 6,
    "start_time": "2023-04-01T14:15:04.216Z"
   },
   {
    "duration": 15,
    "start_time": "2023-04-01T14:15:05.370Z"
   },
   {
    "duration": 8,
    "start_time": "2023-04-01T14:15:05.542Z"
   },
   {
    "duration": 6,
    "start_time": "2023-04-01T14:15:05.809Z"
   },
   {
    "duration": 8,
    "start_time": "2023-04-01T14:15:06.380Z"
   },
   {
    "duration": 7,
    "start_time": "2023-04-01T14:15:07.170Z"
   },
   {
    "duration": 11,
    "start_time": "2023-04-01T14:15:07.570Z"
   },
   {
    "duration": 126,
    "start_time": "2023-04-01T14:15:13.873Z"
   },
   {
    "duration": 15,
    "start_time": "2023-04-01T14:15:14.270Z"
   },
   {
    "duration": 2037,
    "start_time": "2023-04-01T14:15:14.984Z"
   },
   {
    "duration": 5,
    "start_time": "2023-04-01T14:15:17.306Z"
   },
   {
    "duration": 14,
    "start_time": "2023-04-01T14:15:18.769Z"
   },
   {
    "duration": 11,
    "start_time": "2023-04-01T14:15:19.177Z"
   },
   {
    "duration": 294,
    "start_time": "2023-04-01T14:15:19.615Z"
   },
   {
    "duration": 16,
    "start_time": "2023-04-01T14:15:20.566Z"
   },
   {
    "duration": 20,
    "start_time": "2023-04-01T14:15:21.801Z"
   },
   {
    "duration": 256,
    "start_time": "2023-04-01T14:15:22.899Z"
   },
   {
    "duration": 21,
    "start_time": "2023-04-01T14:15:25.383Z"
   },
   {
    "duration": 283,
    "start_time": "2023-04-01T14:15:26.191Z"
   },
   {
    "duration": 24,
    "start_time": "2023-04-01T14:15:28.183Z"
   },
   {
    "duration": 32,
    "start_time": "2023-04-01T14:15:31.753Z"
   },
   {
    "duration": 20,
    "start_time": "2023-04-01T14:15:34.296Z"
   },
   {
    "duration": 21,
    "start_time": "2023-04-01T14:15:35.800Z"
   },
   {
    "duration": 659,
    "start_time": "2023-04-01T14:15:36.565Z"
   },
   {
    "duration": 7,
    "start_time": "2023-04-01T14:15:37.227Z"
   },
   {
    "duration": 16,
    "start_time": "2023-04-01T14:15:38.322Z"
   },
   {
    "duration": 25,
    "start_time": "2023-04-01T14:15:41.897Z"
   },
   {
    "duration": 34,
    "start_time": "2023-04-01T14:15:45.039Z"
   },
   {
    "duration": 22,
    "start_time": "2023-04-01T14:16:31.169Z"
   },
   {
    "duration": 24,
    "start_time": "2023-04-01T14:16:33.179Z"
   },
   {
    "duration": 133,
    "start_time": "2023-04-01T14:16:37.756Z"
   },
   {
    "duration": 14,
    "start_time": "2023-04-01T14:16:37.926Z"
   },
   {
    "duration": 2096,
    "start_time": "2023-04-01T14:16:38.114Z"
   },
   {
    "duration": 5,
    "start_time": "2023-04-01T14:16:40.212Z"
   },
   {
    "duration": 33,
    "start_time": "2023-04-01T14:16:40.219Z"
   },
   {
    "duration": 13,
    "start_time": "2023-04-01T14:16:40.255Z"
   },
   {
    "duration": 304,
    "start_time": "2023-04-01T14:16:40.270Z"
   },
   {
    "duration": 12,
    "start_time": "2023-04-01T14:16:40.577Z"
   },
   {
    "duration": 21,
    "start_time": "2023-04-01T14:16:40.906Z"
   },
   {
    "duration": 294,
    "start_time": "2023-04-01T14:16:41.129Z"
   },
   {
    "duration": 19,
    "start_time": "2023-04-01T14:16:44.368Z"
   },
   {
    "duration": 266,
    "start_time": "2023-04-01T14:16:45.128Z"
   },
   {
    "duration": 13,
    "start_time": "2023-04-01T14:16:45.540Z"
   },
   {
    "duration": 16,
    "start_time": "2023-04-01T14:16:46.862Z"
   },
   {
    "duration": 36,
    "start_time": "2023-04-01T14:16:49.634Z"
   },
   {
    "duration": 14,
    "start_time": "2023-04-01T14:16:52.610Z"
   },
   {
    "duration": 20,
    "start_time": "2023-04-01T14:16:53.875Z"
   },
   {
    "duration": 257,
    "start_time": "2023-04-01T14:16:54.565Z"
   },
   {
    "duration": 10,
    "start_time": "2023-04-01T14:17:01.601Z"
   },
   {
    "duration": 19,
    "start_time": "2023-04-01T14:17:02.038Z"
   },
   {
    "duration": 10,
    "start_time": "2023-04-01T14:17:02.872Z"
   },
   {
    "duration": 22,
    "start_time": "2023-04-01T14:17:04.222Z"
   },
   {
    "duration": 271,
    "start_time": "2023-04-01T14:17:04.969Z"
   },
   {
    "duration": 6,
    "start_time": "2023-04-01T14:17:05.429Z"
   },
   {
    "duration": 16,
    "start_time": "2023-04-01T14:17:06.967Z"
   },
   {
    "duration": 7,
    "start_time": "2023-04-01T14:17:07.121Z"
   },
   {
    "duration": 7,
    "start_time": "2023-04-01T14:17:07.284Z"
   },
   {
    "duration": 21,
    "start_time": "2023-04-01T14:17:11.001Z"
   },
   {
    "duration": 257,
    "start_time": "2023-04-01T14:17:11.768Z"
   },
   {
    "duration": 13,
    "start_time": "2023-04-01T14:17:43.884Z"
   },
   {
    "duration": 2076,
    "start_time": "2023-04-01T14:17:44.457Z"
   },
   {
    "duration": 9,
    "start_time": "2023-04-01T14:17:46.540Z"
   },
   {
    "duration": 23,
    "start_time": "2023-04-01T14:17:47.737Z"
   },
   {
    "duration": 7,
    "start_time": "2023-04-01T14:17:47.904Z"
   },
   {
    "duration": 9,
    "start_time": "2023-04-01T14:17:48.118Z"
   },
   {
    "duration": 13,
    "start_time": "2023-04-01T14:17:48.905Z"
   },
   {
    "duration": 21,
    "start_time": "2023-04-01T14:17:49.684Z"
   },
   {
    "duration": 273,
    "start_time": "2023-04-01T14:17:49.916Z"
   },
   {
    "duration": 94,
    "start_time": "2023-04-01T14:20:25.309Z"
   },
   {
    "duration": 99,
    "start_time": "2023-04-01T14:20:33.091Z"
   },
   {
    "duration": 20,
    "start_time": "2023-04-01T14:20:56.870Z"
   },
   {
    "duration": 19,
    "start_time": "2023-04-01T14:21:27.429Z"
   },
   {
    "duration": 29,
    "start_time": "2023-04-01T14:21:29.504Z"
   },
   {
    "duration": 129,
    "start_time": "2023-04-01T14:21:32.216Z"
   },
   {
    "duration": 14,
    "start_time": "2023-04-01T14:21:32.371Z"
   },
   {
    "duration": 1878,
    "start_time": "2023-04-01T14:21:32.718Z"
   },
   {
    "duration": 6,
    "start_time": "2023-04-01T14:21:34.598Z"
   },
   {
    "duration": 15,
    "start_time": "2023-04-01T14:21:34.606Z"
   },
   {
    "duration": 15,
    "start_time": "2023-04-01T14:21:34.644Z"
   },
   {
    "duration": 312,
    "start_time": "2023-04-01T14:21:34.875Z"
   },
   {
    "duration": 14,
    "start_time": "2023-04-01T14:21:35.780Z"
   },
   {
    "duration": 19,
    "start_time": "2023-04-01T14:21:37.762Z"
   },
   {
    "duration": 287,
    "start_time": "2023-04-01T14:21:38.710Z"
   },
   {
    "duration": 7,
    "start_time": "2023-04-01T14:21:39.288Z"
   },
   {
    "duration": 22,
    "start_time": "2023-04-01T14:21:48.762Z"
   },
   {
    "duration": 130,
    "start_time": "2023-04-01T14:22:24.702Z"
   },
   {
    "duration": 25,
    "start_time": "2023-04-01T14:22:24.840Z"
   },
   {
    "duration": 2628,
    "start_time": "2023-04-01T14:22:25.007Z"
   },
   {
    "duration": 13,
    "start_time": "2023-04-01T14:22:27.641Z"
   },
   {
    "duration": 26,
    "start_time": "2023-04-01T14:22:27.657Z"
   },
   {
    "duration": 12,
    "start_time": "2023-04-01T14:22:27.686Z"
   },
   {
    "duration": 309,
    "start_time": "2023-04-01T14:22:27.699Z"
   },
   {
    "duration": 15,
    "start_time": "2023-04-01T14:22:28.010Z"
   },
   {
    "duration": 41,
    "start_time": "2023-04-01T14:22:28.027Z"
   },
   {
    "duration": 298,
    "start_time": "2023-04-01T14:22:28.812Z"
   },
   {
    "duration": 7,
    "start_time": "2023-04-01T14:22:29.678Z"
   },
   {
    "duration": 20,
    "start_time": "2023-04-01T14:22:31.447Z"
   },
   {
    "duration": 8,
    "start_time": "2023-04-01T14:22:31.926Z"
   },
   {
    "duration": 7,
    "start_time": "2023-04-01T14:22:32.523Z"
   },
   {
    "duration": 9,
    "start_time": "2023-04-01T14:22:33.179Z"
   },
   {
    "duration": 7,
    "start_time": "2023-04-01T14:22:34.028Z"
   },
   {
    "duration": 50,
    "start_time": "2023-04-01T20:06:35.013Z"
   },
   {
    "duration": 552,
    "start_time": "2023-04-01T20:06:43.044Z"
   },
   {
    "duration": 13,
    "start_time": "2023-04-01T20:06:43.598Z"
   },
   {
    "duration": 2061,
    "start_time": "2023-04-01T20:06:43.613Z"
   },
   {
    "duration": 7,
    "start_time": "2023-04-01T20:06:45.676Z"
   },
   {
    "duration": 15,
    "start_time": "2023-04-01T20:06:45.684Z"
   },
   {
    "duration": 7,
    "start_time": "2023-04-01T20:06:45.700Z"
   },
   {
    "duration": 201,
    "start_time": "2023-04-01T20:06:45.709Z"
   },
   {
    "duration": 13,
    "start_time": "2023-04-01T20:06:45.911Z"
   },
   {
    "duration": 28,
    "start_time": "2023-04-01T20:06:45.926Z"
   },
   {
    "duration": 223,
    "start_time": "2023-04-01T20:06:45.955Z"
   },
   {
    "duration": 8,
    "start_time": "2023-04-01T20:06:46.180Z"
   },
   {
    "duration": 18,
    "start_time": "2023-04-01T20:06:46.190Z"
   },
   {
    "duration": 5,
    "start_time": "2023-04-01T20:06:46.210Z"
   },
   {
    "duration": 23,
    "start_time": "2023-04-01T20:06:46.218Z"
   },
   {
    "duration": 8,
    "start_time": "2023-04-01T20:06:46.243Z"
   },
   {
    "duration": 11,
    "start_time": "2023-04-01T20:06:46.253Z"
   },
   {
    "duration": 10,
    "start_time": "2023-04-01T20:06:46.266Z"
   },
   {
    "duration": 3,
    "start_time": "2023-04-01T20:06:46.277Z"
   },
   {
    "duration": 13,
    "start_time": "2023-04-01T20:06:46.282Z"
   },
   {
    "duration": 22,
    "start_time": "2023-04-01T20:06:46.296Z"
   },
   {
    "duration": 199,
    "start_time": "2023-04-01T20:06:46.319Z"
   },
   {
    "duration": 6,
    "start_time": "2023-04-01T20:06:46.520Z"
   },
   {
    "duration": 31,
    "start_time": "2023-04-01T20:06:46.528Z"
   },
   {
    "duration": 17,
    "start_time": "2023-04-01T20:06:46.561Z"
   },
   {
    "duration": 14,
    "start_time": "2023-04-01T20:06:46.579Z"
   },
   {
    "duration": 4,
    "start_time": "2023-04-01T20:06:46.594Z"
   },
   {
    "duration": 14,
    "start_time": "2023-04-01T20:07:05.519Z"
   },
   {
    "duration": 108,
    "start_time": "2023-04-01T20:07:12.117Z"
   },
   {
    "duration": 19,
    "start_time": "2023-04-01T20:07:12.226Z"
   },
   {
    "duration": 1693,
    "start_time": "2023-04-01T20:07:12.247Z"
   },
   {
    "duration": 6,
    "start_time": "2023-04-01T20:07:13.941Z"
   },
   {
    "duration": 12,
    "start_time": "2023-04-01T20:07:13.948Z"
   },
   {
    "duration": 7,
    "start_time": "2023-04-01T20:07:13.962Z"
   },
   {
    "duration": 223,
    "start_time": "2023-04-01T20:07:13.970Z"
   },
   {
    "duration": 11,
    "start_time": "2023-04-01T20:07:14.194Z"
   },
   {
    "duration": 16,
    "start_time": "2023-04-01T20:07:14.206Z"
   },
   {
    "duration": 241,
    "start_time": "2023-04-01T20:07:14.223Z"
   },
   {
    "duration": 6,
    "start_time": "2023-04-01T20:07:14.466Z"
   },
   {
    "duration": 14,
    "start_time": "2023-04-01T20:07:14.473Z"
   },
   {
    "duration": 4,
    "start_time": "2023-04-01T20:07:14.489Z"
   },
   {
    "duration": 6,
    "start_time": "2023-04-01T20:07:14.495Z"
   },
   {
    "duration": 7,
    "start_time": "2023-04-01T20:07:14.502Z"
   },
   {
    "duration": 35,
    "start_time": "2023-04-01T20:07:14.511Z"
   },
   {
    "duration": 8,
    "start_time": "2023-04-01T20:07:14.548Z"
   },
   {
    "duration": 3,
    "start_time": "2023-04-01T20:07:14.558Z"
   },
   {
    "duration": 6,
    "start_time": "2023-04-01T20:07:14.563Z"
   },
   {
    "duration": 7,
    "start_time": "2023-04-01T20:07:14.571Z"
   },
   {
    "duration": 206,
    "start_time": "2023-04-01T20:07:14.579Z"
   },
   {
    "duration": 6,
    "start_time": "2023-04-01T20:07:14.787Z"
   },
   {
    "duration": 11,
    "start_time": "2023-04-01T20:07:14.795Z"
   },
   {
    "duration": 33,
    "start_time": "2023-04-01T20:07:14.807Z"
   },
   {
    "duration": 16,
    "start_time": "2023-04-01T20:07:14.841Z"
   },
   {
    "duration": 3,
    "start_time": "2023-04-01T20:07:14.858Z"
   },
   {
    "duration": 5,
    "start_time": "2023-04-01T20:08:10.549Z"
   },
   {
    "duration": 2274,
    "start_time": "2023-04-01T20:19:00.310Z"
   },
   {
    "duration": 809,
    "start_time": "2023-04-01T20:19:24.322Z"
   },
   {
    "duration": 1855,
    "start_time": "2023-04-01T20:19:45.602Z"
   },
   {
    "duration": 40,
    "start_time": "2023-04-01T20:22:19.538Z"
   },
   {
    "duration": 6,
    "start_time": "2023-04-01T20:26:34.440Z"
   },
   {
    "duration": 8,
    "start_time": "2023-04-01T20:26:39.952Z"
   },
   {
    "duration": 418,
    "start_time": "2023-04-01T20:27:13.651Z"
   },
   {
    "duration": 557,
    "start_time": "2023-04-01T20:29:14.640Z"
   },
   {
    "duration": 3,
    "start_time": "2023-04-01T20:30:00.828Z"
   },
   {
    "duration": 7,
    "start_time": "2023-04-01T20:30:39.836Z"
   },
   {
    "duration": 9,
    "start_time": "2023-04-01T20:30:51.333Z"
   },
   {
    "duration": 15,
    "start_time": "2023-04-01T20:32:56.094Z"
   },
   {
    "duration": 9,
    "start_time": "2023-04-01T20:35:52.310Z"
   },
   {
    "duration": 10,
    "start_time": "2023-04-01T20:36:46.053Z"
   },
   {
    "duration": 10,
    "start_time": "2023-04-01T20:36:51.525Z"
   },
   {
    "duration": 16,
    "start_time": "2023-04-01T20:37:05.518Z"
   },
   {
    "duration": 16,
    "start_time": "2023-04-01T20:37:12.098Z"
   },
   {
    "duration": 8,
    "start_time": "2023-04-01T20:41:32.011Z"
   },
   {
    "duration": 15,
    "start_time": "2023-04-01T20:42:21.143Z"
   },
   {
    "duration": 18,
    "start_time": "2023-04-01T20:42:39.195Z"
   },
   {
    "duration": 14,
    "start_time": "2023-04-01T20:44:52.131Z"
   },
   {
    "duration": 23,
    "start_time": "2023-04-01T20:57:16.721Z"
   },
   {
    "duration": 7,
    "start_time": "2023-04-01T21:00:15.003Z"
   },
   {
    "duration": 26,
    "start_time": "2023-04-01T21:00:25.202Z"
   },
   {
    "duration": 6,
    "start_time": "2023-04-01T21:00:49.826Z"
   },
   {
    "duration": 7,
    "start_time": "2023-04-01T21:02:45.925Z"
   },
   {
    "duration": 1080,
    "start_time": "2023-04-01T21:03:08.025Z"
   },
   {
    "duration": 8,
    "start_time": "2023-04-01T21:03:19.731Z"
   },
   {
    "duration": 9,
    "start_time": "2023-04-01T21:03:47.111Z"
   },
   {
    "duration": 8,
    "start_time": "2023-04-01T21:04:32.034Z"
   },
   {
    "duration": 11,
    "start_time": "2023-04-01T21:05:38.527Z"
   },
   {
    "duration": 8,
    "start_time": "2023-04-01T21:11:13.203Z"
   },
   {
    "duration": 16,
    "start_time": "2023-04-01T21:13:56.552Z"
   },
   {
    "duration": 8,
    "start_time": "2023-04-01T21:15:52.525Z"
   },
   {
    "duration": 50,
    "start_time": "2023-04-02T11:31:27.423Z"
   },
   {
    "duration": 575,
    "start_time": "2023-04-02T11:31:31.753Z"
   },
   {
    "duration": 15,
    "start_time": "2023-04-02T11:31:32.331Z"
   },
   {
    "duration": 3415,
    "start_time": "2023-04-02T11:31:32.348Z"
   },
   {
    "duration": 2,
    "start_time": "2023-04-02T11:31:35.765Z"
   },
   {
    "duration": 19,
    "start_time": "2023-04-02T11:31:35.769Z"
   },
   {
    "duration": 37,
    "start_time": "2023-04-02T11:31:35.790Z"
   },
   {
    "duration": 16,
    "start_time": "2023-04-02T11:31:35.829Z"
   },
   {
    "duration": 279,
    "start_time": "2023-04-02T11:31:35.847Z"
   },
   {
    "duration": 15,
    "start_time": "2023-04-02T11:31:36.128Z"
   },
   {
    "duration": 18,
    "start_time": "2023-04-02T11:31:36.145Z"
   },
   {
    "duration": 265,
    "start_time": "2023-04-02T11:31:36.165Z"
   },
   {
    "duration": 7,
    "start_time": "2023-04-02T11:31:36.432Z"
   },
   {
    "duration": 8,
    "start_time": "2023-04-02T11:31:36.440Z"
   },
   {
    "duration": 16,
    "start_time": "2023-04-02T11:31:36.451Z"
   },
   {
    "duration": 5,
    "start_time": "2023-04-02T11:31:36.468Z"
   },
   {
    "duration": 5,
    "start_time": "2023-04-02T11:31:36.504Z"
   },
   {
    "duration": 22,
    "start_time": "2023-04-02T11:31:36.511Z"
   },
   {
    "duration": 8,
    "start_time": "2023-04-02T11:31:36.535Z"
   },
   {
    "duration": 6,
    "start_time": "2023-04-02T11:31:36.544Z"
   },
   {
    "duration": 8,
    "start_time": "2023-04-02T11:31:36.552Z"
   },
   {
    "duration": 46,
    "start_time": "2023-04-02T11:31:36.562Z"
   },
   {
    "duration": 68,
    "start_time": "2023-04-02T11:31:36.610Z"
   },
   {
    "duration": 0,
    "start_time": "2023-04-02T11:31:36.680Z"
   },
   {
    "duration": 0,
    "start_time": "2023-04-02T11:31:36.681Z"
   },
   {
    "duration": 0,
    "start_time": "2023-04-02T11:31:36.682Z"
   },
   {
    "duration": 0,
    "start_time": "2023-04-02T11:31:36.683Z"
   },
   {
    "duration": 0,
    "start_time": "2023-04-02T11:31:36.685Z"
   },
   {
    "duration": 0,
    "start_time": "2023-04-02T11:31:36.686Z"
   },
   {
    "duration": 0,
    "start_time": "2023-04-02T11:31:36.687Z"
   },
   {
    "duration": 0,
    "start_time": "2023-04-02T11:31:36.688Z"
   },
   {
    "duration": 0,
    "start_time": "2023-04-02T11:31:36.689Z"
   },
   {
    "duration": 0,
    "start_time": "2023-04-02T11:31:36.691Z"
   },
   {
    "duration": 0,
    "start_time": "2023-04-02T11:31:36.691Z"
   },
   {
    "duration": 0,
    "start_time": "2023-04-02T11:31:36.693Z"
   },
   {
    "duration": 0,
    "start_time": "2023-04-02T11:31:36.694Z"
   },
   {
    "duration": 0,
    "start_time": "2023-04-02T11:31:36.695Z"
   },
   {
    "duration": 0,
    "start_time": "2023-04-02T11:31:36.696Z"
   },
   {
    "duration": 0,
    "start_time": "2023-04-02T11:31:36.697Z"
   },
   {
    "duration": 0,
    "start_time": "2023-04-02T11:31:36.700Z"
   },
   {
    "duration": 49,
    "start_time": "2023-04-02T11:31:41.867Z"
   },
   {
    "duration": 4,
    "start_time": "2023-04-02T11:32:09.952Z"
   },
   {
    "duration": 241,
    "start_time": "2023-04-02T12:11:11.816Z"
   },
   {
    "duration": 37,
    "start_time": "2023-04-02T12:14:09.538Z"
   },
   {
    "duration": 9,
    "start_time": "2023-04-02T12:14:25.727Z"
   },
   {
    "duration": 241,
    "start_time": "2023-04-02T12:15:33.554Z"
   },
   {
    "duration": 139,
    "start_time": "2023-04-02T12:16:13.922Z"
   },
   {
    "duration": 237,
    "start_time": "2023-04-02T12:16:51.022Z"
   },
   {
    "duration": 46,
    "start_time": "2023-04-02T23:05:41.972Z"
   },
   {
    "duration": 543,
    "start_time": "2023-04-02T23:05:46.644Z"
   },
   {
    "duration": 14,
    "start_time": "2023-04-02T23:05:47.190Z"
   },
   {
    "duration": 2529,
    "start_time": "2023-04-02T23:05:47.206Z"
   },
   {
    "duration": 3,
    "start_time": "2023-04-02T23:05:49.736Z"
   },
   {
    "duration": 22,
    "start_time": "2023-04-02T23:05:49.741Z"
   },
   {
    "duration": 47,
    "start_time": "2023-04-02T23:05:49.764Z"
   },
   {
    "duration": 14,
    "start_time": "2023-04-02T23:05:49.813Z"
   },
   {
    "duration": 476,
    "start_time": "2023-04-02T23:05:49.828Z"
   },
   {
    "duration": 16,
    "start_time": "2023-04-02T23:05:50.305Z"
   },
   {
    "duration": 17,
    "start_time": "2023-04-02T23:05:50.323Z"
   },
   {
    "duration": 503,
    "start_time": "2023-04-02T23:05:50.342Z"
   },
   {
    "duration": 61,
    "start_time": "2023-04-02T23:05:50.847Z"
   },
   {
    "duration": 18,
    "start_time": "2023-04-02T23:05:50.909Z"
   },
   {
    "duration": 16,
    "start_time": "2023-04-02T23:05:50.930Z"
   },
   {
    "duration": 56,
    "start_time": "2023-04-02T23:05:50.948Z"
   },
   {
    "duration": 6,
    "start_time": "2023-04-02T23:05:51.006Z"
   },
   {
    "duration": 24,
    "start_time": "2023-04-02T23:05:51.013Z"
   },
   {
    "duration": 12,
    "start_time": "2023-04-02T23:05:51.039Z"
   },
   {
    "duration": 78,
    "start_time": "2023-04-02T23:05:51.053Z"
   },
   {
    "duration": 21,
    "start_time": "2023-04-02T23:05:51.133Z"
   },
   {
    "duration": 53,
    "start_time": "2023-04-02T23:05:51.155Z"
   },
   {
    "duration": 95,
    "start_time": "2023-04-02T23:05:51.209Z"
   },
   {
    "duration": 1,
    "start_time": "2023-04-02T23:05:51.305Z"
   },
   {
    "duration": 0,
    "start_time": "2023-04-02T23:05:51.307Z"
   },
   {
    "duration": 0,
    "start_time": "2023-04-02T23:05:51.308Z"
   },
   {
    "duration": 0,
    "start_time": "2023-04-02T23:05:51.310Z"
   },
   {
    "duration": 0,
    "start_time": "2023-04-02T23:05:51.311Z"
   },
   {
    "duration": 0,
    "start_time": "2023-04-02T23:05:51.313Z"
   },
   {
    "duration": 0,
    "start_time": "2023-04-02T23:05:51.314Z"
   },
   {
    "duration": 0,
    "start_time": "2023-04-02T23:05:51.316Z"
   },
   {
    "duration": 0,
    "start_time": "2023-04-02T23:05:51.317Z"
   },
   {
    "duration": 0,
    "start_time": "2023-04-02T23:05:51.318Z"
   },
   {
    "duration": 0,
    "start_time": "2023-04-02T23:05:51.320Z"
   },
   {
    "duration": 0,
    "start_time": "2023-04-02T23:05:51.321Z"
   },
   {
    "duration": 0,
    "start_time": "2023-04-02T23:05:51.322Z"
   },
   {
    "duration": 0,
    "start_time": "2023-04-02T23:05:51.323Z"
   },
   {
    "duration": 0,
    "start_time": "2023-04-02T23:05:51.324Z"
   },
   {
    "duration": 1,
    "start_time": "2023-04-02T23:05:51.324Z"
   },
   {
    "duration": 0,
    "start_time": "2023-04-02T23:05:51.326Z"
   },
   {
    "duration": 0,
    "start_time": "2023-04-02T23:05:51.327Z"
   },
   {
    "duration": 37,
    "start_time": "2023-04-02T23:05:58.426Z"
   },
   {
    "duration": 11,
    "start_time": "2023-04-02T23:06:25.850Z"
   },
   {
    "duration": 18,
    "start_time": "2023-04-02T23:07:06.690Z"
   },
   {
    "duration": 10,
    "start_time": "2023-04-02T23:07:18.986Z"
   },
   {
    "duration": 12,
    "start_time": "2023-04-02T23:07:40.037Z"
   },
   {
    "duration": 6,
    "start_time": "2023-04-02T23:07:52.328Z"
   },
   {
    "duration": 27,
    "start_time": "2023-04-02T23:08:08.800Z"
   },
   {
    "duration": 6,
    "start_time": "2023-04-02T23:08:15.333Z"
   },
   {
    "duration": 6,
    "start_time": "2023-04-02T23:08:47.580Z"
   },
   {
    "duration": 7,
    "start_time": "2023-04-02T23:09:01.872Z"
   },
   {
    "duration": 26,
    "start_time": "2023-04-02T23:09:08.893Z"
   },
   {
    "duration": 6,
    "start_time": "2023-04-02T23:09:20.731Z"
   },
   {
    "duration": 87,
    "start_time": "2023-04-03T08:41:11.082Z"
   },
   {
    "duration": 921,
    "start_time": "2023-04-03T08:41:15.786Z"
   },
   {
    "duration": 24,
    "start_time": "2023-04-03T08:41:16.709Z"
   },
   {
    "duration": 4732,
    "start_time": "2023-04-03T08:41:16.735Z"
   },
   {
    "duration": 3,
    "start_time": "2023-04-03T08:41:21.469Z"
   },
   {
    "duration": 16,
    "start_time": "2023-04-03T08:41:21.474Z"
   },
   {
    "duration": 15,
    "start_time": "2023-04-03T08:41:21.492Z"
   },
   {
    "duration": 25,
    "start_time": "2023-04-03T08:41:21.509Z"
   },
   {
    "duration": 323,
    "start_time": "2023-04-03T08:41:21.535Z"
   },
   {
    "duration": 22,
    "start_time": "2023-04-03T08:41:21.859Z"
   },
   {
    "duration": 28,
    "start_time": "2023-04-03T08:41:21.883Z"
   },
   {
    "duration": 327,
    "start_time": "2023-04-03T08:41:21.913Z"
   },
   {
    "duration": 21,
    "start_time": "2023-04-03T08:41:22.244Z"
   },
   {
    "duration": 29,
    "start_time": "2023-04-03T08:41:22.267Z"
   },
   {
    "duration": 50,
    "start_time": "2023-04-03T08:41:22.300Z"
   },
   {
    "duration": 63,
    "start_time": "2023-04-03T08:41:22.352Z"
   },
   {
    "duration": 67,
    "start_time": "2023-04-03T08:41:22.417Z"
   },
   {
    "duration": 27,
    "start_time": "2023-04-03T08:41:22.486Z"
   },
   {
    "duration": 34,
    "start_time": "2023-04-03T08:41:22.515Z"
   },
   {
    "duration": 19,
    "start_time": "2023-04-03T08:41:22.556Z"
   },
   {
    "duration": 16,
    "start_time": "2023-04-03T08:41:22.578Z"
   },
   {
    "duration": 48,
    "start_time": "2023-04-03T08:41:22.596Z"
   },
   {
    "duration": 87,
    "start_time": "2023-04-03T08:41:22.650Z"
   },
   {
    "duration": 0,
    "start_time": "2023-04-03T08:41:22.740Z"
   },
   {
    "duration": 0,
    "start_time": "2023-04-03T08:41:22.743Z"
   },
   {
    "duration": 0,
    "start_time": "2023-04-03T08:41:22.744Z"
   },
   {
    "duration": 0,
    "start_time": "2023-04-03T08:41:22.745Z"
   },
   {
    "duration": 0,
    "start_time": "2023-04-03T08:41:22.746Z"
   },
   {
    "duration": 0,
    "start_time": "2023-04-03T08:41:22.752Z"
   },
   {
    "duration": 0,
    "start_time": "2023-04-03T08:41:22.753Z"
   },
   {
    "duration": 1,
    "start_time": "2023-04-03T08:41:22.765Z"
   },
   {
    "duration": 0,
    "start_time": "2023-04-03T08:41:22.767Z"
   },
   {
    "duration": 0,
    "start_time": "2023-04-03T08:41:22.768Z"
   },
   {
    "duration": 0,
    "start_time": "2023-04-03T08:41:22.769Z"
   },
   {
    "duration": 0,
    "start_time": "2023-04-03T08:41:22.774Z"
   },
   {
    "duration": 0,
    "start_time": "2023-04-03T08:41:22.775Z"
   },
   {
    "duration": 0,
    "start_time": "2023-04-03T08:41:22.777Z"
   },
   {
    "duration": 0,
    "start_time": "2023-04-03T08:41:22.779Z"
   },
   {
    "duration": 0,
    "start_time": "2023-04-03T08:41:22.780Z"
   },
   {
    "duration": 0,
    "start_time": "2023-04-03T08:41:22.781Z"
   },
   {
    "duration": 0,
    "start_time": "2023-04-03T08:41:22.783Z"
   },
   {
    "duration": 0,
    "start_time": "2023-04-03T08:41:22.784Z"
   },
   {
    "duration": 0,
    "start_time": "2023-04-03T08:41:22.786Z"
   },
   {
    "duration": 0,
    "start_time": "2023-04-03T08:41:22.789Z"
   },
   {
    "duration": 589,
    "start_time": "2023-04-03T08:41:58.381Z"
   },
   {
    "duration": 328,
    "start_time": "2023-04-03T08:43:28.159Z"
   },
   {
    "duration": 35,
    "start_time": "2023-04-03T08:43:48.939Z"
   },
   {
    "duration": 410,
    "start_time": "2023-04-03T08:45:02.976Z"
   },
   {
    "duration": 335,
    "start_time": "2023-04-03T08:46:04.837Z"
   },
   {
    "duration": 6,
    "start_time": "2023-04-03T08:49:24.672Z"
   },
   {
    "duration": 29,
    "start_time": "2023-04-03T08:49:30.663Z"
   },
   {
    "duration": 10,
    "start_time": "2023-04-03T08:50:13.203Z"
   },
   {
    "duration": 20,
    "start_time": "2023-04-03T08:50:28.266Z"
   },
   {
    "duration": 4,
    "start_time": "2023-04-03T08:51:24.897Z"
   },
   {
    "duration": 5,
    "start_time": "2023-04-03T08:51:29.196Z"
   },
   {
    "duration": 4,
    "start_time": "2023-04-03T09:04:37.057Z"
   },
   {
    "duration": 165,
    "start_time": "2023-04-03T09:05:54.416Z"
   },
   {
    "duration": 256,
    "start_time": "2023-04-03T09:06:43.351Z"
   },
   {
    "duration": 234,
    "start_time": "2023-04-03T09:06:51.919Z"
   },
   {
    "duration": 199,
    "start_time": "2023-04-03T09:07:03.010Z"
   },
   {
    "duration": 298,
    "start_time": "2023-04-03T09:11:55.133Z"
   },
   {
    "duration": 62,
    "start_time": "2023-04-03T15:16:05.503Z"
   },
   {
    "duration": 850,
    "start_time": "2023-04-03T15:16:12.837Z"
   },
   {
    "duration": 15,
    "start_time": "2023-04-03T15:16:13.690Z"
   },
   {
    "duration": 4120,
    "start_time": "2023-04-03T15:16:13.706Z"
   },
   {
    "duration": 6,
    "start_time": "2023-04-03T15:16:17.830Z"
   },
   {
    "duration": 27,
    "start_time": "2023-04-03T15:16:17.837Z"
   },
   {
    "duration": 14,
    "start_time": "2023-04-03T15:16:17.865Z"
   },
   {
    "duration": 13,
    "start_time": "2023-04-03T15:16:17.917Z"
   },
   {
    "duration": 714,
    "start_time": "2023-04-03T15:16:17.931Z"
   },
   {
    "duration": 79,
    "start_time": "2023-04-03T15:16:18.647Z"
   },
   {
    "duration": 28,
    "start_time": "2023-04-03T15:16:18.736Z"
   },
   {
    "duration": 596,
    "start_time": "2023-04-03T15:16:18.765Z"
   },
   {
    "duration": 72,
    "start_time": "2023-04-03T15:16:19.362Z"
   },
   {
    "duration": 35,
    "start_time": "2023-04-03T15:16:19.435Z"
   },
   {
    "duration": 71,
    "start_time": "2023-04-03T15:16:19.471Z"
   },
   {
    "duration": 6,
    "start_time": "2023-04-03T15:16:19.544Z"
   },
   {
    "duration": 20,
    "start_time": "2023-04-03T15:16:19.552Z"
   },
   {
    "duration": 63,
    "start_time": "2023-04-03T15:16:19.573Z"
   },
   {
    "duration": 12,
    "start_time": "2023-04-03T15:16:19.637Z"
   },
   {
    "duration": 14,
    "start_time": "2023-04-03T15:16:19.650Z"
   },
   {
    "duration": 56,
    "start_time": "2023-04-03T15:16:19.666Z"
   },
   {
    "duration": 29,
    "start_time": "2023-04-03T15:16:19.723Z"
   },
   {
    "duration": 229,
    "start_time": "2023-04-03T15:16:19.753Z"
   },
   {
    "duration": 0,
    "start_time": "2023-04-03T15:16:19.984Z"
   },
   {
    "duration": 0,
    "start_time": "2023-04-03T15:16:19.985Z"
   },
   {
    "duration": 0,
    "start_time": "2023-04-03T15:16:19.986Z"
   },
   {
    "duration": 0,
    "start_time": "2023-04-03T15:16:19.988Z"
   },
   {
    "duration": 0,
    "start_time": "2023-04-03T15:16:19.988Z"
   },
   {
    "duration": 0,
    "start_time": "2023-04-03T15:16:19.989Z"
   },
   {
    "duration": 0,
    "start_time": "2023-04-03T15:16:19.991Z"
   },
   {
    "duration": 0,
    "start_time": "2023-04-03T15:16:19.992Z"
   },
   {
    "duration": 0,
    "start_time": "2023-04-03T15:16:19.993Z"
   },
   {
    "duration": 0,
    "start_time": "2023-04-03T15:16:19.994Z"
   },
   {
    "duration": 0,
    "start_time": "2023-04-03T15:16:20.020Z"
   },
   {
    "duration": 0,
    "start_time": "2023-04-03T15:16:20.021Z"
   },
   {
    "duration": 0,
    "start_time": "2023-04-03T15:16:20.022Z"
   },
   {
    "duration": 0,
    "start_time": "2023-04-03T15:16:20.023Z"
   },
   {
    "duration": 0,
    "start_time": "2023-04-03T15:16:20.029Z"
   },
   {
    "duration": 0,
    "start_time": "2023-04-03T15:16:20.030Z"
   },
   {
    "duration": 0,
    "start_time": "2023-04-03T15:16:20.031Z"
   },
   {
    "duration": 0,
    "start_time": "2023-04-03T15:16:20.032Z"
   },
   {
    "duration": 0,
    "start_time": "2023-04-03T15:16:20.033Z"
   },
   {
    "duration": 0,
    "start_time": "2023-04-03T15:16:20.034Z"
   },
   {
    "duration": 0,
    "start_time": "2023-04-03T15:16:20.035Z"
   },
   {
    "duration": 0,
    "start_time": "2023-04-03T15:16:20.036Z"
   },
   {
    "duration": 0,
    "start_time": "2023-04-03T15:16:20.038Z"
   },
   {
    "duration": 0,
    "start_time": "2023-04-03T15:16:20.042Z"
   },
   {
    "duration": 109,
    "start_time": "2023-04-03T15:16:47.251Z"
   },
   {
    "duration": 196,
    "start_time": "2023-04-03T15:19:12.276Z"
   },
   {
    "duration": 199,
    "start_time": "2023-04-03T15:22:51.739Z"
   },
   {
    "duration": 178,
    "start_time": "2023-04-03T15:23:12.973Z"
   },
   {
    "duration": 261,
    "start_time": "2023-04-03T15:25:46.032Z"
   },
   {
    "duration": 5,
    "start_time": "2023-04-03T18:51:10.256Z"
   },
   {
    "duration": 77,
    "start_time": "2023-04-03T18:51:48.053Z"
   },
   {
    "duration": 738,
    "start_time": "2023-04-03T18:51:51.861Z"
   },
   {
    "duration": 14,
    "start_time": "2023-04-03T18:51:52.601Z"
   },
   {
    "duration": 2530,
    "start_time": "2023-04-03T18:51:52.617Z"
   },
   {
    "duration": 3,
    "start_time": "2023-04-03T18:51:55.150Z"
   },
   {
    "duration": 29,
    "start_time": "2023-04-03T18:51:55.157Z"
   },
   {
    "duration": 16,
    "start_time": "2023-04-03T18:51:55.188Z"
   },
   {
    "duration": 14,
    "start_time": "2023-04-03T18:51:55.207Z"
   },
   {
    "duration": 226,
    "start_time": "2023-04-03T18:51:55.223Z"
   },
   {
    "duration": 15,
    "start_time": "2023-04-03T18:51:55.451Z"
   },
   {
    "duration": 18,
    "start_time": "2023-04-03T18:51:55.468Z"
   },
   {
    "duration": 253,
    "start_time": "2023-04-03T18:51:55.488Z"
   },
   {
    "duration": 8,
    "start_time": "2023-04-03T18:51:55.746Z"
   },
   {
    "duration": 37,
    "start_time": "2023-04-03T18:51:55.756Z"
   },
   {
    "duration": 22,
    "start_time": "2023-04-03T18:51:55.797Z"
   },
   {
    "duration": 22,
    "start_time": "2023-04-03T18:51:55.822Z"
   },
   {
    "duration": 20,
    "start_time": "2023-04-03T18:51:55.846Z"
   },
   {
    "duration": 141,
    "start_time": "2023-04-03T18:51:55.868Z"
   },
   {
    "duration": 20,
    "start_time": "2023-04-03T18:51:56.011Z"
   },
   {
    "duration": 9,
    "start_time": "2023-04-03T18:51:56.032Z"
   },
   {
    "duration": 11,
    "start_time": "2023-04-03T18:51:56.043Z"
   },
   {
    "duration": 21,
    "start_time": "2023-04-03T18:51:56.055Z"
   },
   {
    "duration": 68,
    "start_time": "2023-04-03T18:51:56.077Z"
   },
   {
    "duration": 0,
    "start_time": "2023-04-03T18:51:56.147Z"
   },
   {
    "duration": 0,
    "start_time": "2023-04-03T18:51:56.148Z"
   },
   {
    "duration": 0,
    "start_time": "2023-04-03T18:51:56.149Z"
   },
   {
    "duration": 0,
    "start_time": "2023-04-03T18:51:56.151Z"
   },
   {
    "duration": 0,
    "start_time": "2023-04-03T18:51:56.152Z"
   },
   {
    "duration": 0,
    "start_time": "2023-04-03T18:51:56.153Z"
   },
   {
    "duration": 0,
    "start_time": "2023-04-03T18:51:56.154Z"
   },
   {
    "duration": 0,
    "start_time": "2023-04-03T18:51:56.156Z"
   },
   {
    "duration": 0,
    "start_time": "2023-04-03T18:51:56.157Z"
   },
   {
    "duration": 0,
    "start_time": "2023-04-03T18:51:56.158Z"
   },
   {
    "duration": 0,
    "start_time": "2023-04-03T18:51:56.159Z"
   },
   {
    "duration": 0,
    "start_time": "2023-04-03T18:51:56.160Z"
   },
   {
    "duration": 0,
    "start_time": "2023-04-03T18:51:56.161Z"
   },
   {
    "duration": 0,
    "start_time": "2023-04-03T18:51:56.162Z"
   },
   {
    "duration": 0,
    "start_time": "2023-04-03T18:51:56.164Z"
   },
   {
    "duration": 0,
    "start_time": "2023-04-03T18:51:56.165Z"
   },
   {
    "duration": 0,
    "start_time": "2023-04-03T18:51:56.166Z"
   },
   {
    "duration": 0,
    "start_time": "2023-04-03T18:51:56.167Z"
   },
   {
    "duration": 0,
    "start_time": "2023-04-03T18:51:56.168Z"
   },
   {
    "duration": 0,
    "start_time": "2023-04-03T18:51:56.169Z"
   },
   {
    "duration": 0,
    "start_time": "2023-04-03T18:51:56.170Z"
   },
   {
    "duration": 0,
    "start_time": "2023-04-03T18:51:56.171Z"
   },
   {
    "duration": 0,
    "start_time": "2023-04-03T18:51:56.172Z"
   },
   {
    "duration": 0,
    "start_time": "2023-04-03T18:51:56.173Z"
   },
   {
    "duration": 0,
    "start_time": "2023-04-03T18:51:56.174Z"
   },
   {
    "duration": 0,
    "start_time": "2023-04-03T18:51:56.175Z"
   },
   {
    "duration": 191,
    "start_time": "2023-04-03T18:56:30.468Z"
   },
   {
    "duration": 176,
    "start_time": "2023-04-03T18:56:46.139Z"
   },
   {
    "duration": 207,
    "start_time": "2023-04-03T18:56:54.345Z"
   },
   {
    "duration": 184,
    "start_time": "2023-04-03T18:57:02.537Z"
   },
   {
    "duration": 350,
    "start_time": "2023-04-03T18:57:26.064Z"
   },
   {
    "duration": 176,
    "start_time": "2023-04-03T18:59:44.084Z"
   },
   {
    "duration": 163,
    "start_time": "2023-04-03T19:06:55.574Z"
   },
   {
    "duration": 186,
    "start_time": "2023-04-03T19:07:08.557Z"
   },
   {
    "duration": 98,
    "start_time": "2023-04-03T19:07:29.341Z"
   },
   {
    "duration": 160,
    "start_time": "2023-04-03T19:07:33.602Z"
   },
   {
    "duration": 208,
    "start_time": "2023-04-03T19:07:46.521Z"
   },
   {
    "duration": 191,
    "start_time": "2023-04-03T19:07:57.815Z"
   },
   {
    "duration": 179,
    "start_time": "2023-04-03T19:12:28.195Z"
   },
   {
    "duration": 773,
    "start_time": "2023-04-03T19:28:15.407Z"
   },
   {
    "duration": 172,
    "start_time": "2023-04-03T19:29:19.635Z"
   },
   {
    "duration": 169,
    "start_time": "2023-04-03T19:29:45.558Z"
   },
   {
    "duration": 168,
    "start_time": "2023-04-03T19:29:50.075Z"
   },
   {
    "duration": 278,
    "start_time": "2023-04-03T19:29:57.085Z"
   },
   {
    "duration": 176,
    "start_time": "2023-04-03T19:30:01.948Z"
   },
   {
    "duration": 176,
    "start_time": "2023-04-03T19:30:13.418Z"
   },
   {
    "duration": 166,
    "start_time": "2023-04-03T19:33:54.533Z"
   },
   {
    "duration": 122,
    "start_time": "2023-04-03T19:34:24.158Z"
   },
   {
    "duration": 181,
    "start_time": "2023-04-03T19:34:41.407Z"
   },
   {
    "duration": 192,
    "start_time": "2023-04-03T19:34:55.709Z"
   },
   {
    "duration": 202,
    "start_time": "2023-04-03T19:35:13.234Z"
   },
   {
    "duration": 184,
    "start_time": "2023-04-03T19:35:35.800Z"
   },
   {
    "duration": 12,
    "start_time": "2023-04-03T19:48:54.868Z"
   },
   {
    "duration": 15,
    "start_time": "2023-04-03T19:49:01.259Z"
   },
   {
    "duration": 154,
    "start_time": "2023-04-03T19:50:29.184Z"
   },
   {
    "duration": 18,
    "start_time": "2023-04-03T19:52:14.480Z"
   },
   {
    "duration": 8,
    "start_time": "2023-04-03T19:52:32.301Z"
   },
   {
    "duration": 11,
    "start_time": "2023-04-03T19:52:42.039Z"
   },
   {
    "duration": 210,
    "start_time": "2023-04-03T19:53:42.678Z"
   },
   {
    "duration": 10,
    "start_time": "2023-04-03T19:54:30.766Z"
   },
   {
    "duration": 181,
    "start_time": "2023-04-03T19:54:57.738Z"
   },
   {
    "duration": 310,
    "start_time": "2023-04-03T19:55:03.303Z"
   },
   {
    "duration": 217,
    "start_time": "2023-04-03T19:55:09.440Z"
   },
   {
    "duration": 10,
    "start_time": "2023-04-03T19:55:28.664Z"
   },
   {
    "duration": 20,
    "start_time": "2023-04-03T19:55:31.426Z"
   },
   {
    "duration": 21,
    "start_time": "2023-04-03T19:55:31.741Z"
   },
   {
    "duration": 15,
    "start_time": "2023-04-03T19:55:31.924Z"
   },
   {
    "duration": 5,
    "start_time": "2023-04-03T19:55:32.269Z"
   },
   {
    "duration": 6,
    "start_time": "2023-04-03T19:55:32.447Z"
   },
   {
    "duration": 5,
    "start_time": "2023-04-03T19:55:32.626Z"
   },
   {
    "duration": 5,
    "start_time": "2023-04-03T19:55:32.832Z"
   },
   {
    "duration": 243,
    "start_time": "2023-04-03T19:55:33.179Z"
   },
   {
    "duration": 1122,
    "start_time": "2023-04-03T19:55:33.424Z"
   },
   {
    "duration": 141,
    "start_time": "2023-04-03T19:56:25.144Z"
   },
   {
    "duration": 15,
    "start_time": "2023-04-03T19:56:25.287Z"
   },
   {
    "duration": 2313,
    "start_time": "2023-04-03T19:56:25.303Z"
   },
   {
    "duration": 2,
    "start_time": "2023-04-03T19:56:27.618Z"
   },
   {
    "duration": 43,
    "start_time": "2023-04-03T19:56:27.623Z"
   },
   {
    "duration": 32,
    "start_time": "2023-04-03T19:56:27.668Z"
   },
   {
    "duration": 19,
    "start_time": "2023-04-03T19:56:27.702Z"
   },
   {
    "duration": 253,
    "start_time": "2023-04-03T19:56:27.723Z"
   },
   {
    "duration": 12,
    "start_time": "2023-04-03T19:56:27.978Z"
   },
   {
    "duration": 21,
    "start_time": "2023-04-03T19:56:27.991Z"
   },
   {
    "duration": 270,
    "start_time": "2023-04-03T19:56:28.014Z"
   },
   {
    "duration": 7,
    "start_time": "2023-04-03T19:56:28.286Z"
   },
   {
    "duration": 14,
    "start_time": "2023-04-03T19:56:28.294Z"
   },
   {
    "duration": 33,
    "start_time": "2023-04-03T19:56:28.311Z"
   },
   {
    "duration": 12,
    "start_time": "2023-04-03T19:56:28.347Z"
   },
   {
    "duration": 17,
    "start_time": "2023-04-03T19:56:28.362Z"
   },
   {
    "duration": 17,
    "start_time": "2023-04-03T19:56:28.380Z"
   },
   {
    "duration": 8,
    "start_time": "2023-04-03T19:56:28.400Z"
   },
   {
    "duration": 12,
    "start_time": "2023-04-03T19:56:28.409Z"
   },
   {
    "duration": 13,
    "start_time": "2023-04-03T19:56:28.442Z"
   },
   {
    "duration": 39,
    "start_time": "2023-04-03T19:56:28.457Z"
   },
   {
    "duration": 13,
    "start_time": "2023-04-03T19:56:28.498Z"
   },
   {
    "duration": 30,
    "start_time": "2023-04-03T19:56:28.513Z"
   },
   {
    "duration": 10,
    "start_time": "2023-04-03T19:56:28.548Z"
   },
   {
    "duration": 19,
    "start_time": "2023-04-03T19:56:28.559Z"
   },
   {
    "duration": 12,
    "start_time": "2023-04-03T19:56:28.580Z"
   },
   {
    "duration": 17,
    "start_time": "2023-04-03T19:56:28.594Z"
   },
   {
    "duration": 189,
    "start_time": "2023-04-03T19:56:28.613Z"
   },
   {
    "duration": 8,
    "start_time": "2023-04-03T19:56:28.803Z"
   },
   {
    "duration": 30,
    "start_time": "2023-04-03T19:56:28.813Z"
   },
   {
    "duration": 16,
    "start_time": "2023-04-03T19:56:28.846Z"
   },
   {
    "duration": 15,
    "start_time": "2023-04-03T19:56:28.864Z"
   },
   {
    "duration": 18,
    "start_time": "2023-04-03T19:56:28.881Z"
   },
   {
    "duration": 10,
    "start_time": "2023-04-03T19:56:28.901Z"
   },
   {
    "duration": 15,
    "start_time": "2023-04-03T19:56:28.940Z"
   },
   {
    "duration": 14,
    "start_time": "2023-04-03T19:56:28.957Z"
   },
   {
    "duration": 24,
    "start_time": "2023-04-03T19:56:28.973Z"
   },
   {
    "duration": 39,
    "start_time": "2023-04-03T19:56:28.999Z"
   },
   {
    "duration": 12,
    "start_time": "2023-04-03T19:56:29.040Z"
   },
   {
    "duration": 26,
    "start_time": "2023-04-03T19:56:29.054Z"
   },
   {
    "duration": 24,
    "start_time": "2023-04-03T19:56:29.084Z"
   },
   {
    "duration": 25,
    "start_time": "2023-04-03T19:56:29.110Z"
   },
   {
    "duration": 10,
    "start_time": "2023-04-03T19:56:29.137Z"
   },
   {
    "duration": 180,
    "start_time": "2023-04-03T19:56:29.150Z"
   },
   {
    "duration": 32,
    "start_time": "2023-04-03T19:56:29.332Z"
   },
   {
    "duration": 199,
    "start_time": "2023-04-03T19:56:29.367Z"
   },
   {
    "duration": 124,
    "start_time": "2023-04-03T19:56:29.569Z"
   },
   {
    "duration": 192,
    "start_time": "2023-04-03T19:56:29.695Z"
   },
   {
    "duration": 276,
    "start_time": "2023-04-03T19:56:29.889Z"
   },
   {
    "duration": 419,
    "start_time": "2023-04-03T19:56:30.166Z"
   },
   {
    "duration": 130,
    "start_time": "2023-04-03T19:58:01.563Z"
   },
   {
    "duration": 339,
    "start_time": "2023-04-03T20:00:15.604Z"
   },
   {
    "duration": 53,
    "start_time": "2023-04-04T17:38:13.555Z"
   },
   {
    "duration": 1358,
    "start_time": "2023-04-04T17:38:17.050Z"
   },
   {
    "duration": 30,
    "start_time": "2023-04-04T17:38:18.411Z"
   },
   {
    "duration": 2276,
    "start_time": "2023-04-04T17:38:18.446Z"
   },
   {
    "duration": 3,
    "start_time": "2023-04-04T17:38:20.724Z"
   },
   {
    "duration": 30,
    "start_time": "2023-04-04T17:38:20.730Z"
   },
   {
    "duration": 25,
    "start_time": "2023-04-04T17:38:20.763Z"
   },
   {
    "duration": 22,
    "start_time": "2023-04-04T17:38:20.790Z"
   },
   {
    "duration": 271,
    "start_time": "2023-04-04T17:38:20.814Z"
   },
   {
    "duration": 19,
    "start_time": "2023-04-04T17:38:21.087Z"
   },
   {
    "duration": 36,
    "start_time": "2023-04-04T17:38:21.108Z"
   },
   {
    "duration": 283,
    "start_time": "2023-04-04T17:38:21.147Z"
   },
   {
    "duration": 8,
    "start_time": "2023-04-04T17:38:21.433Z"
   },
   {
    "duration": 34,
    "start_time": "2023-04-04T17:38:21.443Z"
   },
   {
    "duration": 26,
    "start_time": "2023-04-04T17:38:21.480Z"
   },
   {
    "duration": 21,
    "start_time": "2023-04-04T17:38:21.508Z"
   },
   {
    "duration": 31,
    "start_time": "2023-04-04T17:38:21.531Z"
   },
   {
    "duration": 25,
    "start_time": "2023-04-04T17:38:21.564Z"
   },
   {
    "duration": 9,
    "start_time": "2023-04-04T17:38:21.590Z"
   },
   {
    "duration": 25,
    "start_time": "2023-04-04T17:38:21.600Z"
   },
   {
    "duration": 39,
    "start_time": "2023-04-04T17:38:21.627Z"
   },
   {
    "duration": 29,
    "start_time": "2023-04-04T17:38:21.668Z"
   },
   {
    "duration": 6,
    "start_time": "2023-04-04T17:38:21.699Z"
   },
   {
    "duration": 44,
    "start_time": "2023-04-04T17:38:21.707Z"
   },
   {
    "duration": 15,
    "start_time": "2023-04-04T17:38:21.753Z"
   },
   {
    "duration": 11,
    "start_time": "2023-04-04T17:38:21.770Z"
   },
   {
    "duration": 13,
    "start_time": "2023-04-04T17:38:21.783Z"
   },
   {
    "duration": 29,
    "start_time": "2023-04-04T17:38:21.798Z"
   },
   {
    "duration": 203,
    "start_time": "2023-04-04T17:38:21.828Z"
   },
   {
    "duration": 14,
    "start_time": "2023-04-04T17:38:22.033Z"
   },
   {
    "duration": 48,
    "start_time": "2023-04-04T17:38:22.050Z"
   },
   {
    "duration": 32,
    "start_time": "2023-04-04T17:38:22.100Z"
   },
   {
    "duration": 12,
    "start_time": "2023-04-04T17:38:22.134Z"
   },
   {
    "duration": 29,
    "start_time": "2023-04-04T17:38:22.148Z"
   },
   {
    "duration": 19,
    "start_time": "2023-04-04T17:38:22.179Z"
   },
   {
    "duration": 35,
    "start_time": "2023-04-04T17:38:22.200Z"
   },
   {
    "duration": 20,
    "start_time": "2023-04-04T17:38:22.246Z"
   },
   {
    "duration": 22,
    "start_time": "2023-04-04T17:38:22.268Z"
   },
   {
    "duration": 16,
    "start_time": "2023-04-04T17:38:22.292Z"
   },
   {
    "duration": 5,
    "start_time": "2023-04-04T17:38:22.309Z"
   },
   {
    "duration": 9,
    "start_time": "2023-04-04T17:38:22.316Z"
   },
   {
    "duration": 20,
    "start_time": "2023-04-04T17:38:22.333Z"
   },
   {
    "duration": 8,
    "start_time": "2023-04-04T17:38:22.354Z"
   },
   {
    "duration": 5,
    "start_time": "2023-04-04T17:38:22.364Z"
   },
   {
    "duration": 190,
    "start_time": "2023-04-04T17:38:22.371Z"
   },
   {
    "duration": 28,
    "start_time": "2023-04-04T17:38:22.563Z"
   },
   {
    "duration": 208,
    "start_time": "2023-04-04T17:38:22.593Z"
   },
   {
    "duration": 117,
    "start_time": "2023-04-04T17:38:22.803Z"
   },
   {
    "duration": 198,
    "start_time": "2023-04-04T17:38:22.922Z"
   },
   {
    "duration": 289,
    "start_time": "2023-04-04T17:38:23.122Z"
   },
   {
    "duration": 206,
    "start_time": "2023-04-04T17:38:23.413Z"
   },
   {
    "duration": 137,
    "start_time": "2023-04-04T17:38:23.621Z"
   },
   {
    "duration": 55,
    "start_time": "2023-04-04T17:38:23.761Z"
   },
   {
    "duration": 188,
    "start_time": "2023-04-04T17:38:31.508Z"
   },
   {
    "duration": 200,
    "start_time": "2023-04-04T17:39:17.085Z"
   },
   {
    "duration": 183,
    "start_time": "2023-04-04T17:39:24.589Z"
   },
   {
    "duration": 5,
    "start_time": "2023-04-04T17:40:05.555Z"
   },
   {
    "duration": 12,
    "start_time": "2023-04-04T17:40:36.311Z"
   },
   {
    "duration": 9,
    "start_time": "2023-04-04T17:40:45.702Z"
   },
   {
    "duration": 7,
    "start_time": "2023-04-04T17:41:02.246Z"
   },
   {
    "duration": 19,
    "start_time": "2023-04-04T17:42:20.574Z"
   },
   {
    "duration": 20,
    "start_time": "2023-04-04T17:42:38.054Z"
   },
   {
    "duration": 34,
    "start_time": "2023-04-04T17:43:22.998Z"
   },
   {
    "duration": 31,
    "start_time": "2023-04-04T17:44:32.561Z"
   },
   {
    "duration": 16,
    "start_time": "2023-04-04T17:45:03.706Z"
   },
   {
    "duration": 12,
    "start_time": "2023-04-04T17:45:10.563Z"
   },
   {
    "duration": 13,
    "start_time": "2023-04-04T17:45:25.303Z"
   },
   {
    "duration": 9,
    "start_time": "2023-04-04T17:49:51.352Z"
   },
   {
    "duration": 202,
    "start_time": "2023-04-04T17:52:10.963Z"
   },
   {
    "duration": 212,
    "start_time": "2023-04-04T17:52:16.060Z"
   },
   {
    "duration": 8,
    "start_time": "2023-04-04T17:53:50.913Z"
   },
   {
    "duration": 209,
    "start_time": "2023-04-04T17:54:00.565Z"
   },
   {
    "duration": 172,
    "start_time": "2023-04-04T17:54:14.746Z"
   },
   {
    "duration": 191,
    "start_time": "2023-04-04T17:54:18.607Z"
   },
   {
    "duration": 9,
    "start_time": "2023-04-04T17:54:37.987Z"
   },
   {
    "duration": 244,
    "start_time": "2023-04-04T17:56:21.548Z"
   },
   {
    "duration": 11,
    "start_time": "2023-04-04T18:02:02.355Z"
   },
   {
    "duration": 10,
    "start_time": "2023-04-04T18:03:11.688Z"
   },
   {
    "duration": 11,
    "start_time": "2023-04-04T18:03:24.892Z"
   },
   {
    "duration": 5,
    "start_time": "2023-04-04T18:05:04.211Z"
   },
   {
    "duration": 317,
    "start_time": "2023-04-04T18:05:18.111Z"
   },
   {
    "duration": 171,
    "start_time": "2023-04-04T18:05:21.416Z"
   },
   {
    "duration": 19,
    "start_time": "2023-04-04T18:05:55.404Z"
   },
   {
    "duration": 5,
    "start_time": "2023-04-04T18:06:08.801Z"
   },
   {
    "duration": 5,
    "start_time": "2023-04-04T18:06:11.794Z"
   },
   {
    "duration": 23,
    "start_time": "2023-04-04T18:06:12.599Z"
   },
   {
    "duration": 6,
    "start_time": "2023-04-04T18:06:22.608Z"
   },
   {
    "duration": 5,
    "start_time": "2023-04-04T18:06:24.212Z"
   },
   {
    "duration": 7,
    "start_time": "2023-04-04T18:06:27.722Z"
   },
   {
    "duration": 17,
    "start_time": "2023-04-04T18:06:37.363Z"
   },
   {
    "duration": 10,
    "start_time": "2023-04-04T18:07:19.859Z"
   },
   {
    "duration": 5,
    "start_time": "2023-04-04T18:07:47.452Z"
   },
   {
    "duration": 12,
    "start_time": "2023-04-04T18:07:51.406Z"
   },
   {
    "duration": 8,
    "start_time": "2023-04-04T18:25:26.649Z"
   },
   {
    "duration": 6,
    "start_time": "2023-04-04T18:26:29.126Z"
   },
   {
    "duration": 5,
    "start_time": "2023-04-04T18:26:32.167Z"
   },
   {
    "duration": 6,
    "start_time": "2023-04-04T18:27:03.904Z"
   },
   {
    "duration": 7,
    "start_time": "2023-04-04T18:27:06.188Z"
   },
   {
    "duration": 20,
    "start_time": "2023-04-04T18:27:14.777Z"
   },
   {
    "duration": 18,
    "start_time": "2023-04-04T18:27:21.546Z"
   },
   {
    "duration": 169,
    "start_time": "2023-04-04T18:27:25.883Z"
   },
   {
    "duration": 19,
    "start_time": "2023-04-04T18:27:26.054Z"
   },
   {
    "duration": 2284,
    "start_time": "2023-04-04T18:27:26.075Z"
   },
   {
    "duration": 3,
    "start_time": "2023-04-04T18:27:28.362Z"
   },
   {
    "duration": 16,
    "start_time": "2023-04-04T18:27:28.366Z"
   },
   {
    "duration": 16,
    "start_time": "2023-04-04T18:27:28.384Z"
   },
   {
    "duration": 20,
    "start_time": "2023-04-04T18:27:28.433Z"
   },
   {
    "duration": 684,
    "start_time": "2023-04-04T18:27:28.455Z"
   },
   {
    "duration": 15,
    "start_time": "2023-04-04T18:27:29.145Z"
   },
   {
    "duration": 306,
    "start_time": "2023-04-04T18:27:29.163Z"
   },
   {
    "duration": 681,
    "start_time": "2023-04-04T18:27:29.471Z"
   },
   {
    "duration": 7,
    "start_time": "2023-04-04T18:27:30.154Z"
   },
   {
    "duration": 85,
    "start_time": "2023-04-04T18:27:30.163Z"
   },
   {
    "duration": 17,
    "start_time": "2023-04-04T18:27:30.250Z"
   },
   {
    "duration": 74,
    "start_time": "2023-04-04T18:27:30.268Z"
   },
   {
    "duration": 33,
    "start_time": "2023-04-04T18:27:30.343Z"
   },
   {
    "duration": 72,
    "start_time": "2023-04-04T18:27:30.378Z"
   },
   {
    "duration": 44,
    "start_time": "2023-04-04T18:27:30.452Z"
   },
   {
    "duration": 52,
    "start_time": "2023-04-04T18:27:30.498Z"
   },
   {
    "duration": 59,
    "start_time": "2023-04-04T18:27:30.552Z"
   },
   {
    "duration": 49,
    "start_time": "2023-04-04T18:27:30.613Z"
   },
   {
    "duration": 45,
    "start_time": "2023-04-04T18:27:30.664Z"
   },
   {
    "duration": 56,
    "start_time": "2023-04-04T18:27:30.711Z"
   },
   {
    "duration": 32,
    "start_time": "2023-04-04T18:27:30.769Z"
   },
   {
    "duration": 24,
    "start_time": "2023-04-04T18:27:30.803Z"
   },
   {
    "duration": 44,
    "start_time": "2023-04-04T18:27:30.829Z"
   },
   {
    "duration": 27,
    "start_time": "2023-04-04T18:27:30.876Z"
   },
   {
    "duration": 223,
    "start_time": "2023-04-04T18:27:30.907Z"
   },
   {
    "duration": 12,
    "start_time": "2023-04-04T18:27:31.133Z"
   },
   {
    "duration": 75,
    "start_time": "2023-04-04T18:27:31.147Z"
   },
   {
    "duration": 52,
    "start_time": "2023-04-04T18:27:31.224Z"
   },
   {
    "duration": 37,
    "start_time": "2023-04-04T18:27:31.278Z"
   },
   {
    "duration": 33,
    "start_time": "2023-04-04T18:27:31.317Z"
   },
   {
    "duration": 35,
    "start_time": "2023-04-04T18:27:31.351Z"
   },
   {
    "duration": 53,
    "start_time": "2023-04-04T18:27:31.388Z"
   },
   {
    "duration": 16,
    "start_time": "2023-04-04T18:27:31.446Z"
   },
   {
    "duration": 29,
    "start_time": "2023-04-04T18:27:31.464Z"
   },
   {
    "duration": 53,
    "start_time": "2023-04-04T18:27:31.495Z"
   },
   {
    "duration": 20,
    "start_time": "2023-04-04T18:27:31.550Z"
   },
   {
    "duration": 46,
    "start_time": "2023-04-04T18:27:31.571Z"
   },
   {
    "duration": 17,
    "start_time": "2023-04-04T18:27:31.619Z"
   },
   {
    "duration": 37,
    "start_time": "2023-04-04T18:27:31.637Z"
   },
   {
    "duration": 25,
    "start_time": "2023-04-04T18:27:31.675Z"
   },
   {
    "duration": 28,
    "start_time": "2023-04-04T18:27:31.702Z"
   },
   {
    "duration": 26,
    "start_time": "2023-04-04T18:27:31.732Z"
   },
   {
    "duration": 205,
    "start_time": "2023-04-04T18:27:31.760Z"
   },
   {
    "duration": 29,
    "start_time": "2023-04-04T18:27:31.966Z"
   },
   {
    "duration": 210,
    "start_time": "2023-04-04T18:27:31.997Z"
   },
   {
    "duration": 114,
    "start_time": "2023-04-04T18:27:32.209Z"
   },
   {
    "duration": 182,
    "start_time": "2023-04-04T18:27:32.340Z"
   },
   {
    "duration": 199,
    "start_time": "2023-04-04T18:27:32.523Z"
   },
   {
    "duration": 198,
    "start_time": "2023-04-04T18:27:32.724Z"
   },
   {
    "duration": 134,
    "start_time": "2023-04-04T18:27:32.924Z"
   },
   {
    "duration": 205,
    "start_time": "2023-04-04T18:27:33.060Z"
   },
   {
    "duration": 142,
    "start_time": "2023-04-04T18:29:05.055Z"
   },
   {
    "duration": 15,
    "start_time": "2023-04-04T18:29:05.199Z"
   },
   {
    "duration": 2816,
    "start_time": "2023-04-04T18:29:05.216Z"
   },
   {
    "duration": 6,
    "start_time": "2023-04-04T18:29:08.034Z"
   },
   {
    "duration": 30,
    "start_time": "2023-04-04T18:29:08.043Z"
   },
   {
    "duration": 20,
    "start_time": "2023-04-04T18:29:08.074Z"
   },
   {
    "duration": 11,
    "start_time": "2023-04-04T18:29:08.095Z"
   },
   {
    "duration": 299,
    "start_time": "2023-04-04T18:29:08.108Z"
   },
   {
    "duration": 14,
    "start_time": "2023-04-04T18:29:08.409Z"
   },
   {
    "duration": 29,
    "start_time": "2023-04-04T18:29:08.433Z"
   },
   {
    "duration": 291,
    "start_time": "2023-04-04T18:29:08.464Z"
   },
   {
    "duration": 7,
    "start_time": "2023-04-04T18:29:08.757Z"
   },
   {
    "duration": 23,
    "start_time": "2023-04-04T18:29:08.765Z"
   },
   {
    "duration": 34,
    "start_time": "2023-04-04T18:29:08.792Z"
   },
   {
    "duration": 20,
    "start_time": "2023-04-04T18:29:08.827Z"
   },
   {
    "duration": 13,
    "start_time": "2023-04-04T18:29:08.848Z"
   },
   {
    "duration": 23,
    "start_time": "2023-04-04T18:29:08.863Z"
   },
   {
    "duration": 8,
    "start_time": "2023-04-04T18:29:08.888Z"
   },
   {
    "duration": 15,
    "start_time": "2023-04-04T18:29:08.897Z"
   },
   {
    "duration": 32,
    "start_time": "2023-04-04T18:29:08.914Z"
   },
   {
    "duration": 26,
    "start_time": "2023-04-04T18:29:08.949Z"
   },
   {
    "duration": 5,
    "start_time": "2023-04-04T18:29:08.977Z"
   },
   {
    "duration": 27,
    "start_time": "2023-04-04T18:29:08.983Z"
   },
   {
    "duration": 9,
    "start_time": "2023-04-04T18:29:09.011Z"
   },
   {
    "duration": 27,
    "start_time": "2023-04-04T18:29:09.022Z"
   },
   {
    "duration": 30,
    "start_time": "2023-04-04T18:29:09.051Z"
   },
   {
    "duration": 37,
    "start_time": "2023-04-04T18:29:09.083Z"
   },
   {
    "duration": 183,
    "start_time": "2023-04-04T18:29:09.123Z"
   },
   {
    "duration": 8,
    "start_time": "2023-04-04T18:29:09.308Z"
   },
   {
    "duration": 33,
    "start_time": "2023-04-04T18:29:09.318Z"
   },
   {
    "duration": 17,
    "start_time": "2023-04-04T18:29:09.354Z"
   },
   {
    "duration": 8,
    "start_time": "2023-04-04T18:29:09.373Z"
   },
   {
    "duration": 40,
    "start_time": "2023-04-04T18:29:09.383Z"
   },
   {
    "duration": 31,
    "start_time": "2023-04-04T18:29:09.424Z"
   },
   {
    "duration": 19,
    "start_time": "2023-04-04T18:29:09.457Z"
   },
   {
    "duration": 7,
    "start_time": "2023-04-04T18:29:09.477Z"
   },
   {
    "duration": 11,
    "start_time": "2023-04-04T18:29:09.485Z"
   },
   {
    "duration": 45,
    "start_time": "2023-04-04T18:29:09.498Z"
   },
   {
    "duration": 26,
    "start_time": "2023-04-04T18:29:09.545Z"
   },
   {
    "duration": 24,
    "start_time": "2023-04-04T18:29:09.573Z"
   },
   {
    "duration": 16,
    "start_time": "2023-04-04T18:29:09.601Z"
   },
   {
    "duration": 4,
    "start_time": "2023-04-04T18:29:09.619Z"
   },
   {
    "duration": 7,
    "start_time": "2023-04-04T18:29:09.625Z"
   },
   {
    "duration": 27,
    "start_time": "2023-04-04T18:29:09.634Z"
   },
   {
    "duration": 7,
    "start_time": "2023-04-04T18:29:09.663Z"
   },
   {
    "duration": 15,
    "start_time": "2023-04-04T18:29:09.672Z"
   },
   {
    "duration": 187,
    "start_time": "2023-04-04T18:29:09.689Z"
   },
   {
    "duration": 31,
    "start_time": "2023-04-04T18:29:09.878Z"
   },
   {
    "duration": 453,
    "start_time": "2023-04-04T18:29:09.911Z"
   },
   {
    "duration": 212,
    "start_time": "2023-04-04T18:29:10.366Z"
   },
   {
    "duration": 333,
    "start_time": "2023-04-04T18:29:10.638Z"
   },
   {
    "duration": 467,
    "start_time": "2023-04-04T18:29:10.973Z"
   },
   {
    "duration": 787,
    "start_time": "2023-04-04T18:29:11.447Z"
   },
   {
    "duration": 147,
    "start_time": "2023-04-04T18:29:12.236Z"
   },
   {
    "duration": 186,
    "start_time": "2023-04-04T18:29:12.384Z"
   },
   {
    "duration": 8,
    "start_time": "2023-04-04T18:29:30.557Z"
   },
   {
    "duration": 27,
    "start_time": "2023-04-04T18:29:32.458Z"
   },
   {
    "duration": 7,
    "start_time": "2023-04-04T18:29:35.595Z"
   },
   {
    "duration": 26,
    "start_time": "2023-04-04T18:29:36.970Z"
   },
   {
    "duration": 150,
    "start_time": "2023-04-04T18:29:43.631Z"
   },
   {
    "duration": 17,
    "start_time": "2023-04-04T18:29:43.784Z"
   },
   {
    "duration": 2118,
    "start_time": "2023-04-04T18:29:43.802Z"
   },
   {
    "duration": 3,
    "start_time": "2023-04-04T18:29:45.922Z"
   },
   {
    "duration": 9,
    "start_time": "2023-04-04T18:29:45.934Z"
   },
   {
    "duration": 30,
    "start_time": "2023-04-04T18:29:45.945Z"
   },
   {
    "duration": 10,
    "start_time": "2023-04-04T18:29:45.977Z"
   },
   {
    "duration": 295,
    "start_time": "2023-04-04T18:29:45.989Z"
   },
   {
    "duration": 15,
    "start_time": "2023-04-04T18:29:46.286Z"
   },
   {
    "duration": 334,
    "start_time": "2023-04-04T18:29:46.305Z"
   },
   {
    "duration": 617,
    "start_time": "2023-04-04T18:29:46.641Z"
   },
   {
    "duration": 7,
    "start_time": "2023-04-04T18:29:47.260Z"
   },
   {
    "duration": 11,
    "start_time": "2023-04-04T18:29:47.269Z"
   },
   {
    "duration": 21,
    "start_time": "2023-04-04T18:29:47.333Z"
   },
   {
    "duration": 6,
    "start_time": "2023-04-04T18:29:47.356Z"
   },
   {
    "duration": 20,
    "start_time": "2023-04-04T18:29:47.364Z"
   },
   {
    "duration": 18,
    "start_time": "2023-04-04T18:29:47.434Z"
   },
   {
    "duration": 9,
    "start_time": "2023-04-04T18:29:47.454Z"
   },
   {
    "duration": 13,
    "start_time": "2023-04-04T18:29:47.465Z"
   },
   {
    "duration": 62,
    "start_time": "2023-04-04T18:29:47.479Z"
   },
   {
    "duration": 19,
    "start_time": "2023-04-04T18:29:47.543Z"
   },
   {
    "duration": 4,
    "start_time": "2023-04-04T18:29:47.564Z"
   },
   {
    "duration": 74,
    "start_time": "2023-04-04T18:29:47.570Z"
   },
   {
    "duration": 8,
    "start_time": "2023-04-04T18:29:47.646Z"
   },
   {
    "duration": 10,
    "start_time": "2023-04-04T18:29:47.655Z"
   },
   {
    "duration": 70,
    "start_time": "2023-04-04T18:29:47.668Z"
   },
   {
    "duration": 13,
    "start_time": "2023-04-04T18:29:47.740Z"
   },
   {
    "duration": 410,
    "start_time": "2023-04-04T18:29:47.759Z"
   },
   {
    "duration": 65,
    "start_time": "2023-04-04T18:29:48.170Z"
   },
   {
    "duration": 15,
    "start_time": "2023-04-04T18:29:48.237Z"
   },
   {
    "duration": 15,
    "start_time": "2023-04-04T18:29:48.254Z"
   },
   {
    "duration": 63,
    "start_time": "2023-04-04T18:29:48.271Z"
   },
   {
    "duration": 15,
    "start_time": "2023-04-04T18:29:48.335Z"
   },
   {
    "duration": 9,
    "start_time": "2023-04-04T18:29:48.352Z"
   },
   {
    "duration": 75,
    "start_time": "2023-04-04T18:29:48.363Z"
   },
   {
    "duration": 8,
    "start_time": "2023-04-04T18:29:48.440Z"
   },
   {
    "duration": 11,
    "start_time": "2023-04-04T18:29:48.450Z"
   },
   {
    "duration": 93,
    "start_time": "2023-04-04T18:29:48.463Z"
   },
   {
    "duration": 7,
    "start_time": "2023-04-04T18:29:48.557Z"
   },
   {
    "duration": 72,
    "start_time": "2023-04-04T18:29:48.567Z"
   },
   {
    "duration": 18,
    "start_time": "2023-04-04T18:29:48.640Z"
   },
   {
    "duration": 6,
    "start_time": "2023-04-04T18:29:48.660Z"
   },
   {
    "duration": 67,
    "start_time": "2023-04-04T18:29:48.669Z"
   },
   {
    "duration": 10,
    "start_time": "2023-04-04T18:29:48.739Z"
   },
   {
    "duration": 16,
    "start_time": "2023-04-04T18:29:48.752Z"
   },
   {
    "duration": 17,
    "start_time": "2023-04-04T18:29:48.770Z"
   },
   {
    "duration": 447,
    "start_time": "2023-04-04T18:29:48.789Z"
   },
   {
    "duration": 36,
    "start_time": "2023-04-04T18:29:49.238Z"
   },
   {
    "duration": 399,
    "start_time": "2023-04-04T18:29:49.276Z"
   },
   {
    "duration": 273,
    "start_time": "2023-04-04T18:29:49.676Z"
   },
   {
    "duration": 391,
    "start_time": "2023-04-04T18:29:49.951Z"
   },
   {
    "duration": 398,
    "start_time": "2023-04-04T18:29:50.344Z"
   },
   {
    "duration": 248,
    "start_time": "2023-04-04T18:29:50.743Z"
   },
   {
    "duration": 130,
    "start_time": "2023-04-04T18:29:50.993Z"
   },
   {
    "duration": 193,
    "start_time": "2023-04-04T18:29:51.133Z"
   },
   {
    "duration": 19,
    "start_time": "2023-04-04T18:30:59.995Z"
   },
   {
    "duration": 8,
    "start_time": "2023-04-04T18:31:06.161Z"
   },
   {
    "duration": 17,
    "start_time": "2023-04-04T18:31:13.440Z"
   },
   {
    "duration": 145,
    "start_time": "2023-04-04T18:31:44.567Z"
   },
   {
    "duration": 22,
    "start_time": "2023-04-04T18:31:44.714Z"
   },
   {
    "duration": 2345,
    "start_time": "2023-04-04T18:31:44.738Z"
   },
   {
    "duration": 3,
    "start_time": "2023-04-04T18:31:47.085Z"
   },
   {
    "duration": 25,
    "start_time": "2023-04-04T18:31:47.091Z"
   },
   {
    "duration": 22,
    "start_time": "2023-04-04T18:31:47.118Z"
   },
   {
    "duration": 13,
    "start_time": "2023-04-04T18:31:47.143Z"
   },
   {
    "duration": 488,
    "start_time": "2023-04-04T18:31:47.158Z"
   },
   {
    "duration": 16,
    "start_time": "2023-04-04T18:31:47.648Z"
   },
   {
    "duration": 76,
    "start_time": "2023-04-04T18:31:47.666Z"
   },
   {
    "duration": 591,
    "start_time": "2023-04-04T18:31:47.743Z"
   },
   {
    "duration": 7,
    "start_time": "2023-04-04T18:31:48.336Z"
   },
   {
    "duration": 20,
    "start_time": "2023-04-04T18:31:48.344Z"
   },
   {
    "duration": 70,
    "start_time": "2023-04-04T18:31:48.367Z"
   },
   {
    "duration": 19,
    "start_time": "2023-04-04T18:31:48.439Z"
   },
   {
    "duration": 9,
    "start_time": "2023-04-04T18:31:48.459Z"
   },
   {
    "duration": 66,
    "start_time": "2023-04-04T18:31:48.470Z"
   },
   {
    "duration": 9,
    "start_time": "2023-04-04T18:31:48.538Z"
   },
   {
    "duration": 13,
    "start_time": "2023-04-04T18:31:48.549Z"
   },
   {
    "duration": 14,
    "start_time": "2023-04-04T18:31:48.564Z"
   },
   {
    "duration": 68,
    "start_time": "2023-04-04T18:31:48.580Z"
   },
   {
    "duration": 4,
    "start_time": "2023-04-04T18:31:48.649Z"
   },
   {
    "duration": 26,
    "start_time": "2023-04-04T18:31:48.655Z"
   },
   {
    "duration": 8,
    "start_time": "2023-04-04T18:31:48.735Z"
   },
   {
    "duration": 16,
    "start_time": "2023-04-04T18:31:48.744Z"
   },
   {
    "duration": 26,
    "start_time": "2023-04-04T18:31:48.762Z"
   },
   {
    "duration": 53,
    "start_time": "2023-04-04T18:31:48.790Z"
   },
   {
    "duration": 388,
    "start_time": "2023-04-04T18:31:48.845Z"
   },
   {
    "duration": 9,
    "start_time": "2023-04-04T18:31:49.235Z"
   },
   {
    "duration": 14,
    "start_time": "2023-04-04T18:31:49.246Z"
   },
   {
    "duration": 14,
    "start_time": "2023-04-04T18:31:49.262Z"
   },
   {
    "duration": 58,
    "start_time": "2023-04-04T18:31:49.278Z"
   },
   {
    "duration": 17,
    "start_time": "2023-04-04T18:31:49.338Z"
   },
   {
    "duration": 8,
    "start_time": "2023-04-04T18:31:49.357Z"
   },
   {
    "duration": 68,
    "start_time": "2023-04-04T18:31:49.366Z"
   },
   {
    "duration": 8,
    "start_time": "2023-04-04T18:31:49.436Z"
   },
   {
    "duration": 9,
    "start_time": "2023-04-04T18:31:49.446Z"
   },
   {
    "duration": 39,
    "start_time": "2023-04-04T18:31:49.457Z"
   },
   {
    "duration": 7,
    "start_time": "2023-04-04T18:31:49.499Z"
   },
   {
    "duration": 37,
    "start_time": "2023-04-04T18:31:49.508Z"
   },
   {
    "duration": 16,
    "start_time": "2023-04-04T18:31:49.549Z"
   },
   {
    "duration": 4,
    "start_time": "2023-04-04T18:31:49.567Z"
   },
   {
    "duration": 8,
    "start_time": "2023-04-04T18:31:49.573Z"
   },
   {
    "duration": 9,
    "start_time": "2023-04-04T18:31:49.583Z"
   },
   {
    "duration": 7,
    "start_time": "2023-04-04T18:31:49.594Z"
   },
   {
    "duration": 37,
    "start_time": "2023-04-04T18:31:49.602Z"
   },
   {
    "duration": 177,
    "start_time": "2023-04-04T18:31:49.641Z"
   },
   {
    "duration": 33,
    "start_time": "2023-04-04T18:31:49.819Z"
   },
   {
    "duration": 196,
    "start_time": "2023-04-04T18:31:49.855Z"
   },
   {
    "duration": 118,
    "start_time": "2023-04-04T18:31:50.053Z"
   },
   {
    "duration": 182,
    "start_time": "2023-04-04T18:31:50.173Z"
   },
   {
    "duration": 315,
    "start_time": "2023-04-04T18:31:50.357Z"
   },
   {
    "duration": 393,
    "start_time": "2023-04-04T18:31:50.674Z"
   },
   {
    "duration": 282,
    "start_time": "2023-04-04T18:31:51.069Z"
   },
   {
    "duration": 384,
    "start_time": "2023-04-04T18:31:51.352Z"
   },
   {
    "duration": 19,
    "start_time": "2023-04-04T18:32:35.487Z"
   },
   {
    "duration": 140,
    "start_time": "2023-04-04T18:32:40.643Z"
   },
   {
    "duration": 16,
    "start_time": "2023-04-04T18:32:40.785Z"
   },
   {
    "duration": 2038,
    "start_time": "2023-04-04T18:32:40.803Z"
   },
   {
    "duration": 3,
    "start_time": "2023-04-04T18:32:42.843Z"
   },
   {
    "duration": 26,
    "start_time": "2023-04-04T18:32:42.848Z"
   },
   {
    "duration": 24,
    "start_time": "2023-04-04T18:32:42.876Z"
   },
   {
    "duration": 59,
    "start_time": "2023-04-04T18:32:42.902Z"
   },
   {
    "duration": 339,
    "start_time": "2023-04-04T18:32:42.963Z"
   },
   {
    "duration": 16,
    "start_time": "2023-04-04T18:32:43.305Z"
   },
   {
    "duration": 264,
    "start_time": "2023-04-04T18:32:43.323Z"
   },
   {
    "duration": 282,
    "start_time": "2023-04-04T18:32:43.589Z"
   },
   {
    "duration": 9,
    "start_time": "2023-04-04T18:32:43.873Z"
   },
   {
    "duration": 27,
    "start_time": "2023-04-04T18:32:43.884Z"
   },
   {
    "duration": 18,
    "start_time": "2023-04-04T18:32:43.932Z"
   },
   {
    "duration": 16,
    "start_time": "2023-04-04T18:32:43.952Z"
   },
   {
    "duration": 14,
    "start_time": "2023-04-04T18:32:43.969Z"
   },
   {
    "duration": 23,
    "start_time": "2023-04-04T18:32:43.985Z"
   },
   {
    "duration": 26,
    "start_time": "2023-04-04T18:32:44.010Z"
   },
   {
    "duration": 14,
    "start_time": "2023-04-04T18:32:44.038Z"
   },
   {
    "duration": 27,
    "start_time": "2023-04-04T18:32:44.054Z"
   },
   {
    "duration": 22,
    "start_time": "2023-04-04T18:32:44.083Z"
   },
   {
    "duration": 4,
    "start_time": "2023-04-04T18:32:44.107Z"
   },
   {
    "duration": 44,
    "start_time": "2023-04-04T18:32:44.113Z"
   },
   {
    "duration": 8,
    "start_time": "2023-04-04T18:32:44.160Z"
   },
   {
    "duration": 7,
    "start_time": "2023-04-04T18:32:44.169Z"
   },
   {
    "duration": 13,
    "start_time": "2023-04-04T18:32:44.178Z"
   },
   {
    "duration": 13,
    "start_time": "2023-04-04T18:32:44.193Z"
   },
   {
    "duration": 177,
    "start_time": "2023-04-04T18:32:44.233Z"
   },
   {
    "duration": 8,
    "start_time": "2023-04-04T18:32:44.412Z"
   },
   {
    "duration": 15,
    "start_time": "2023-04-04T18:32:44.433Z"
   },
   {
    "duration": 15,
    "start_time": "2023-04-04T18:32:44.450Z"
   },
   {
    "duration": 9,
    "start_time": "2023-04-04T18:32:44.466Z"
   },
   {
    "duration": 19,
    "start_time": "2023-04-04T18:32:44.477Z"
   },
   {
    "duration": 39,
    "start_time": "2023-04-04T18:32:44.497Z"
   },
   {
    "duration": 14,
    "start_time": "2023-04-04T18:32:44.537Z"
   },
   {
    "duration": 8,
    "start_time": "2023-04-04T18:32:44.552Z"
   },
   {
    "duration": 15,
    "start_time": "2023-04-04T18:32:44.562Z"
   },
   {
    "duration": 32,
    "start_time": "2023-04-04T18:32:44.579Z"
   },
   {
    "duration": 25,
    "start_time": "2023-04-04T18:32:44.613Z"
   },
   {
    "duration": 19,
    "start_time": "2023-04-04T18:32:44.640Z"
   },
   {
    "duration": 17,
    "start_time": "2023-04-04T18:32:44.665Z"
   },
   {
    "duration": 5,
    "start_time": "2023-04-04T18:32:44.684Z"
   },
   {
    "duration": 9,
    "start_time": "2023-04-04T18:32:44.691Z"
   },
   {
    "duration": 34,
    "start_time": "2023-04-04T18:32:44.702Z"
   },
   {
    "duration": 6,
    "start_time": "2023-04-04T18:32:44.738Z"
   },
   {
    "duration": 10,
    "start_time": "2023-04-04T18:32:44.746Z"
   },
   {
    "duration": 220,
    "start_time": "2023-04-04T18:32:44.757Z"
   },
   {
    "duration": 81,
    "start_time": "2023-04-04T18:32:44.979Z"
   },
   {
    "duration": 392,
    "start_time": "2023-04-04T18:32:45.062Z"
   },
   {
    "duration": 208,
    "start_time": "2023-04-04T18:32:45.456Z"
   },
   {
    "duration": 392,
    "start_time": "2023-04-04T18:32:45.665Z"
   },
   {
    "duration": 403,
    "start_time": "2023-04-04T18:32:46.059Z"
   },
   {
    "duration": 401,
    "start_time": "2023-04-04T18:32:46.464Z"
   },
   {
    "duration": 168,
    "start_time": "2023-04-04T18:32:46.867Z"
   },
   {
    "duration": 194,
    "start_time": "2023-04-04T18:32:47.037Z"
   },
   {
    "duration": 19,
    "start_time": "2023-04-04T18:34:05.484Z"
   },
   {
    "duration": 148,
    "start_time": "2023-04-04T18:34:09.611Z"
   },
   {
    "duration": 16,
    "start_time": "2023-04-04T18:34:09.762Z"
   },
   {
    "duration": 2042,
    "start_time": "2023-04-04T18:34:09.780Z"
   },
   {
    "duration": 10,
    "start_time": "2023-04-04T18:34:11.824Z"
   },
   {
    "duration": 13,
    "start_time": "2023-04-04T18:34:11.836Z"
   },
   {
    "duration": 16,
    "start_time": "2023-04-04T18:34:11.851Z"
   },
   {
    "duration": 19,
    "start_time": "2023-04-04T18:34:11.869Z"
   },
   {
    "duration": 304,
    "start_time": "2023-04-04T18:34:11.890Z"
   },
   {
    "duration": 16,
    "start_time": "2023-04-04T18:34:12.196Z"
   },
   {
    "duration": 36,
    "start_time": "2023-04-04T18:34:12.214Z"
   },
   {
    "duration": 602,
    "start_time": "2023-04-04T18:34:12.251Z"
   },
   {
    "duration": 7,
    "start_time": "2023-04-04T18:34:12.855Z"
   },
   {
    "duration": 91,
    "start_time": "2023-04-04T18:34:12.864Z"
   },
   {
    "duration": 18,
    "start_time": "2023-04-04T18:34:12.960Z"
   },
   {
    "duration": 7,
    "start_time": "2023-04-04T18:34:13.034Z"
   },
   {
    "duration": 10,
    "start_time": "2023-04-04T18:34:13.042Z"
   },
   {
    "duration": 20,
    "start_time": "2023-04-04T18:34:13.054Z"
   },
   {
    "duration": 65,
    "start_time": "2023-04-04T18:34:13.075Z"
   },
   {
    "duration": 12,
    "start_time": "2023-04-04T18:34:13.143Z"
   },
   {
    "duration": 19,
    "start_time": "2023-04-04T18:34:13.157Z"
   },
   {
    "duration": 71,
    "start_time": "2023-04-04T18:34:13.178Z"
   },
   {
    "duration": 4,
    "start_time": "2023-04-04T18:34:13.252Z"
   },
   {
    "duration": 80,
    "start_time": "2023-04-04T18:34:13.259Z"
   },
   {
    "duration": 26,
    "start_time": "2023-04-04T18:34:13.341Z"
   },
   {
    "duration": 6,
    "start_time": "2023-04-04T18:34:13.369Z"
   },
   {
    "duration": 59,
    "start_time": "2023-04-04T18:34:13.377Z"
   },
   {
    "duration": 46,
    "start_time": "2023-04-04T18:34:13.438Z"
   },
   {
    "duration": 376,
    "start_time": "2023-04-04T18:34:13.486Z"
   },
   {
    "duration": 11,
    "start_time": "2023-04-04T18:34:13.864Z"
   },
   {
    "duration": 72,
    "start_time": "2023-04-04T18:34:13.878Z"
   },
   {
    "duration": 15,
    "start_time": "2023-04-04T18:34:13.952Z"
   },
   {
    "duration": 65,
    "start_time": "2023-04-04T18:34:13.970Z"
   },
   {
    "duration": 22,
    "start_time": "2023-04-04T18:34:14.037Z"
   },
   {
    "duration": 70,
    "start_time": "2023-04-04T18:34:14.062Z"
   },
   {
    "duration": 13,
    "start_time": "2023-04-04T18:34:14.135Z"
   },
   {
    "duration": 12,
    "start_time": "2023-04-04T18:34:14.150Z"
   },
   {
    "duration": 11,
    "start_time": "2023-04-04T18:34:14.164Z"
   },
   {
    "duration": 86,
    "start_time": "2023-04-04T18:34:14.176Z"
   },
   {
    "duration": 8,
    "start_time": "2023-04-04T18:34:14.263Z"
   },
   {
    "duration": 73,
    "start_time": "2023-04-04T18:34:14.273Z"
   },
   {
    "duration": 17,
    "start_time": "2023-04-04T18:34:14.350Z"
   },
   {
    "duration": 5,
    "start_time": "2023-04-04T18:34:14.369Z"
   },
   {
    "duration": 61,
    "start_time": "2023-04-04T18:34:14.375Z"
   },
   {
    "duration": 32,
    "start_time": "2023-04-04T18:34:14.438Z"
   },
   {
    "duration": 9,
    "start_time": "2023-04-04T18:34:14.472Z"
   },
   {
    "duration": 9,
    "start_time": "2023-04-04T18:34:14.483Z"
   },
   {
    "duration": 202,
    "start_time": "2023-04-04T18:34:14.493Z"
   },
   {
    "duration": 27,
    "start_time": "2023-04-04T18:34:14.697Z"
   },
   {
    "duration": 190,
    "start_time": "2023-04-04T18:34:14.734Z"
   },
   {
    "duration": 115,
    "start_time": "2023-04-04T18:34:14.926Z"
   },
   {
    "duration": 458,
    "start_time": "2023-04-04T18:34:15.043Z"
   },
   {
    "duration": 189,
    "start_time": "2023-04-04T18:34:15.503Z"
   },
   {
    "duration": 198,
    "start_time": "2023-04-04T18:34:15.694Z"
   },
   {
    "duration": 130,
    "start_time": "2023-04-04T18:34:15.893Z"
   },
   {
    "duration": 197,
    "start_time": "2023-04-04T18:34:16.025Z"
   },
   {
    "duration": 22,
    "start_time": "2023-04-04T18:35:29.005Z"
   },
   {
    "duration": 144,
    "start_time": "2023-04-04T18:35:42.104Z"
   },
   {
    "duration": 17,
    "start_time": "2023-04-04T18:35:42.249Z"
   },
   {
    "duration": 3084,
    "start_time": "2023-04-04T18:35:42.268Z"
   },
   {
    "duration": 3,
    "start_time": "2023-04-04T18:35:45.354Z"
   },
   {
    "duration": 11,
    "start_time": "2023-04-04T18:35:45.359Z"
   },
   {
    "duration": 69,
    "start_time": "2023-04-04T18:35:45.372Z"
   },
   {
    "duration": 15,
    "start_time": "2023-04-04T18:35:45.443Z"
   },
   {
    "duration": 360,
    "start_time": "2023-04-04T18:35:45.460Z"
   },
   {
    "duration": 19,
    "start_time": "2023-04-04T18:35:45.822Z"
   },
   {
    "duration": 22,
    "start_time": "2023-04-04T18:35:45.843Z"
   },
   {
    "duration": 283,
    "start_time": "2023-04-04T18:35:45.867Z"
   },
   {
    "duration": 7,
    "start_time": "2023-04-04T18:35:46.152Z"
   },
   {
    "duration": 20,
    "start_time": "2023-04-04T18:35:46.161Z"
   },
   {
    "duration": 17,
    "start_time": "2023-04-04T18:35:46.185Z"
   },
   {
    "duration": 33,
    "start_time": "2023-04-04T18:35:46.204Z"
   },
   {
    "duration": 22,
    "start_time": "2023-04-04T18:35:46.239Z"
   },
   {
    "duration": 18,
    "start_time": "2023-04-04T18:35:46.262Z"
   },
   {
    "duration": 10,
    "start_time": "2023-04-04T18:35:46.282Z"
   },
   {
    "duration": 14,
    "start_time": "2023-04-04T18:35:46.294Z"
   },
   {
    "duration": 30,
    "start_time": "2023-04-04T18:35:46.310Z"
   },
   {
    "duration": 19,
    "start_time": "2023-04-04T18:35:46.341Z"
   },
   {
    "duration": 3,
    "start_time": "2023-04-04T18:35:46.362Z"
   },
   {
    "duration": 25,
    "start_time": "2023-04-04T18:35:46.367Z"
   },
   {
    "duration": 8,
    "start_time": "2023-04-04T18:35:46.394Z"
   },
   {
    "duration": 32,
    "start_time": "2023-04-04T18:35:46.404Z"
   },
   {
    "duration": 13,
    "start_time": "2023-04-04T18:35:46.438Z"
   },
   {
    "duration": 12,
    "start_time": "2023-04-04T18:35:46.453Z"
   },
   {
    "duration": 189,
    "start_time": "2023-04-04T18:35:46.466Z"
   },
   {
    "duration": 8,
    "start_time": "2023-04-04T18:35:46.657Z"
   },
   {
    "duration": 27,
    "start_time": "2023-04-04T18:35:46.667Z"
   },
   {
    "duration": 15,
    "start_time": "2023-04-04T18:35:46.696Z"
   },
   {
    "duration": 19,
    "start_time": "2023-04-04T18:35:46.735Z"
   },
   {
    "duration": 15,
    "start_time": "2023-04-04T18:35:46.756Z"
   },
   {
    "duration": 18,
    "start_time": "2023-04-04T18:35:46.772Z"
   },
   {
    "duration": 51,
    "start_time": "2023-04-04T18:35:46.792Z"
   },
   {
    "duration": 10,
    "start_time": "2023-04-04T18:35:46.845Z"
   },
   {
    "duration": 13,
    "start_time": "2023-04-04T18:35:46.857Z"
   },
   {
    "duration": 62,
    "start_time": "2023-04-04T18:35:46.873Z"
   },
   {
    "duration": 29,
    "start_time": "2023-04-04T18:35:46.938Z"
   },
   {
    "duration": 42,
    "start_time": "2023-04-04T18:35:46.970Z"
   },
   {
    "duration": 25,
    "start_time": "2023-04-04T18:35:47.018Z"
   },
   {
    "duration": 14,
    "start_time": "2023-04-04T18:35:47.046Z"
   },
   {
    "duration": 12,
    "start_time": "2023-04-04T18:35:47.063Z"
   },
   {
    "duration": 15,
    "start_time": "2023-04-04T18:35:47.078Z"
   },
   {
    "duration": 14,
    "start_time": "2023-04-04T18:35:47.095Z"
   },
   {
    "duration": 10,
    "start_time": "2023-04-04T18:35:47.112Z"
   },
   {
    "duration": 174,
    "start_time": "2023-04-04T18:35:47.124Z"
   },
   {
    "duration": 44,
    "start_time": "2023-04-04T18:35:47.300Z"
   },
   {
    "duration": 190,
    "start_time": "2023-04-04T18:35:47.346Z"
   },
   {
    "duration": 113,
    "start_time": "2023-04-04T18:35:47.538Z"
   },
   {
    "duration": 180,
    "start_time": "2023-04-04T18:35:47.653Z"
   },
   {
    "duration": 205,
    "start_time": "2023-04-04T18:35:47.835Z"
   },
   {
    "duration": 198,
    "start_time": "2023-04-04T18:35:48.042Z"
   },
   {
    "duration": 132,
    "start_time": "2023-04-04T18:35:48.242Z"
   },
   {
    "duration": 179,
    "start_time": "2023-04-04T18:35:48.375Z"
   },
   {
    "duration": 18,
    "start_time": "2023-04-04T18:36:43.737Z"
   },
   {
    "duration": 173,
    "start_time": "2023-04-04T18:37:11.405Z"
   },
   {
    "duration": 24,
    "start_time": "2023-04-04T18:37:11.581Z"
   },
   {
    "duration": 2766,
    "start_time": "2023-04-04T18:37:11.607Z"
   },
   {
    "duration": 3,
    "start_time": "2023-04-04T18:37:14.375Z"
   },
   {
    "duration": 17,
    "start_time": "2023-04-04T18:37:14.381Z"
   },
   {
    "duration": 18,
    "start_time": "2023-04-04T18:37:14.400Z"
   },
   {
    "duration": 19,
    "start_time": "2023-04-04T18:37:14.420Z"
   },
   {
    "duration": 418,
    "start_time": "2023-04-04T18:37:14.441Z"
   },
   {
    "duration": 15,
    "start_time": "2023-04-04T18:37:14.860Z"
   },
   {
    "duration": 77,
    "start_time": "2023-04-04T18:37:14.877Z"
   },
   {
    "duration": 577,
    "start_time": "2023-04-04T18:37:14.957Z"
   },
   {
    "duration": 7,
    "start_time": "2023-04-04T18:37:15.535Z"
   },
   {
    "duration": 37,
    "start_time": "2023-04-04T18:37:15.544Z"
   },
   {
    "duration": 60,
    "start_time": "2023-04-04T18:37:15.584Z"
   },
   {
    "duration": 21,
    "start_time": "2023-04-04T18:37:15.646Z"
   },
   {
    "duration": 6,
    "start_time": "2023-04-04T18:37:15.669Z"
   },
   {
    "duration": 77,
    "start_time": "2023-04-04T18:37:15.677Z"
   },
   {
    "duration": 9,
    "start_time": "2023-04-04T18:37:15.756Z"
   },
   {
    "duration": 25,
    "start_time": "2023-04-04T18:37:15.766Z"
   },
   {
    "duration": 57,
    "start_time": "2023-04-04T18:37:15.793Z"
   },
   {
    "duration": 23,
    "start_time": "2023-04-04T18:37:15.852Z"
   },
   {
    "duration": 4,
    "start_time": "2023-04-04T18:37:15.877Z"
   },
   {
    "duration": 80,
    "start_time": "2023-04-04T18:37:15.883Z"
   },
   {
    "duration": 8,
    "start_time": "2023-04-04T18:37:15.966Z"
   },
   {
    "duration": 59,
    "start_time": "2023-04-04T18:37:15.975Z"
   },
   {
    "duration": 10,
    "start_time": "2023-04-04T18:37:16.036Z"
   },
   {
    "duration": 39,
    "start_time": "2023-04-04T18:37:16.048Z"
   },
   {
    "duration": 379,
    "start_time": "2023-04-04T18:37:16.088Z"
   },
   {
    "duration": 65,
    "start_time": "2023-04-04T18:37:16.469Z"
   },
   {
    "duration": 15,
    "start_time": "2023-04-04T18:37:16.536Z"
   },
   {
    "duration": 20,
    "start_time": "2023-04-04T18:37:16.554Z"
   },
   {
    "duration": 78,
    "start_time": "2023-04-04T18:37:16.576Z"
   },
   {
    "duration": 17,
    "start_time": "2023-04-04T18:37:16.657Z"
   },
   {
    "duration": 88,
    "start_time": "2023-04-04T18:37:16.676Z"
   },
   {
    "duration": 17,
    "start_time": "2023-04-04T18:37:16.766Z"
   },
   {
    "duration": 52,
    "start_time": "2023-04-04T18:37:16.785Z"
   },
   {
    "duration": 22,
    "start_time": "2023-04-04T18:37:16.840Z"
   },
   {
    "duration": 59,
    "start_time": "2023-04-04T18:37:16.864Z"
   },
   {
    "duration": 16,
    "start_time": "2023-04-04T18:37:16.927Z"
   },
   {
    "duration": 28,
    "start_time": "2023-04-04T18:37:16.945Z"
   },
   {
    "duration": 22,
    "start_time": "2023-04-04T18:37:16.979Z"
   },
   {
    "duration": 17,
    "start_time": "2023-04-04T18:37:17.003Z"
   },
   {
    "duration": 16,
    "start_time": "2023-04-04T18:37:17.022Z"
   },
   {
    "duration": 22,
    "start_time": "2023-04-04T18:37:17.040Z"
   },
   {
    "duration": 20,
    "start_time": "2023-04-04T18:37:17.063Z"
   },
   {
    "duration": 14,
    "start_time": "2023-04-04T18:37:17.085Z"
   },
   {
    "duration": 247,
    "start_time": "2023-04-04T18:37:17.102Z"
   },
   {
    "duration": 38,
    "start_time": "2023-04-04T18:37:17.352Z"
   },
   {
    "duration": 242,
    "start_time": "2023-04-04T18:37:17.393Z"
   },
   {
    "duration": 136,
    "start_time": "2023-04-04T18:37:17.637Z"
   },
   {
    "duration": 202,
    "start_time": "2023-04-04T18:37:17.776Z"
   },
   {
    "duration": 210,
    "start_time": "2023-04-04T18:37:17.980Z"
   },
   {
    "duration": 217,
    "start_time": "2023-04-04T18:37:18.192Z"
   },
   {
    "duration": 133,
    "start_time": "2023-04-04T18:37:18.411Z"
   },
   {
    "duration": 201,
    "start_time": "2023-04-04T18:37:18.546Z"
   },
   {
    "duration": 4,
    "start_time": "2023-04-04T18:38:30.410Z"
   },
   {
    "duration": 5,
    "start_time": "2023-04-04T18:38:44.917Z"
   },
   {
    "duration": 26,
    "start_time": "2023-04-04T18:38:46.976Z"
   },
   {
    "duration": 146,
    "start_time": "2023-04-04T18:38:49.289Z"
   },
   {
    "duration": 15,
    "start_time": "2023-04-04T18:38:49.437Z"
   },
   {
    "duration": 3087,
    "start_time": "2023-04-04T18:38:49.454Z"
   },
   {
    "duration": 3,
    "start_time": "2023-04-04T18:38:52.543Z"
   },
   {
    "duration": 20,
    "start_time": "2023-04-04T18:38:52.549Z"
   },
   {
    "duration": 19,
    "start_time": "2023-04-04T18:38:52.571Z"
   },
   {
    "duration": 11,
    "start_time": "2023-04-04T18:38:52.593Z"
   },
   {
    "duration": 309,
    "start_time": "2023-04-04T18:38:52.606Z"
   },
   {
    "duration": 26,
    "start_time": "2023-04-04T18:38:52.917Z"
   },
   {
    "duration": 22,
    "start_time": "2023-04-04T18:38:52.945Z"
   },
   {
    "duration": 285,
    "start_time": "2023-04-04T18:38:52.968Z"
   },
   {
    "duration": 8,
    "start_time": "2023-04-04T18:38:53.254Z"
   },
   {
    "duration": 26,
    "start_time": "2023-04-04T18:38:53.263Z"
   },
   {
    "duration": 17,
    "start_time": "2023-04-04T18:38:53.293Z"
   },
   {
    "duration": 26,
    "start_time": "2023-04-04T18:38:53.312Z"
   },
   {
    "duration": 19,
    "start_time": "2023-04-04T18:38:53.339Z"
   },
   {
    "duration": 21,
    "start_time": "2023-04-04T18:38:53.360Z"
   },
   {
    "duration": 9,
    "start_time": "2023-04-04T18:38:53.383Z"
   },
   {
    "duration": 9,
    "start_time": "2023-04-04T18:38:53.395Z"
   },
   {
    "duration": 35,
    "start_time": "2023-04-04T18:38:53.407Z"
   },
   {
    "duration": 18,
    "start_time": "2023-04-04T18:38:53.444Z"
   },
   {
    "duration": 3,
    "start_time": "2023-04-04T18:38:53.464Z"
   },
   {
    "duration": 28,
    "start_time": "2023-04-04T18:38:53.469Z"
   },
   {
    "duration": 8,
    "start_time": "2023-04-04T18:38:53.498Z"
   },
   {
    "duration": 28,
    "start_time": "2023-04-04T18:38:53.508Z"
   },
   {
    "duration": 21,
    "start_time": "2023-04-04T18:38:53.538Z"
   },
   {
    "duration": 18,
    "start_time": "2023-04-04T18:38:53.560Z"
   },
   {
    "duration": 179,
    "start_time": "2023-04-04T18:38:53.579Z"
   },
   {
    "duration": 8,
    "start_time": "2023-04-04T18:38:53.759Z"
   },
   {
    "duration": 24,
    "start_time": "2023-04-04T18:38:53.769Z"
   },
   {
    "duration": 17,
    "start_time": "2023-04-04T18:38:53.795Z"
   },
   {
    "duration": 6,
    "start_time": "2023-04-04T18:38:53.834Z"
   },
   {
    "duration": 22,
    "start_time": "2023-04-04T18:38:53.842Z"
   },
   {
    "duration": 15,
    "start_time": "2023-04-04T18:38:53.866Z"
   },
   {
    "duration": 20,
    "start_time": "2023-04-04T18:38:53.883Z"
   },
   {
    "duration": 44,
    "start_time": "2023-04-04T18:38:53.905Z"
   },
   {
    "duration": 9,
    "start_time": "2023-04-04T18:38:53.951Z"
   },
   {
    "duration": 8,
    "start_time": "2023-04-04T18:38:53.962Z"
   },
   {
    "duration": 45,
    "start_time": "2023-04-04T18:38:53.972Z"
   },
   {
    "duration": 23,
    "start_time": "2023-04-04T18:38:54.019Z"
   },
   {
    "duration": 36,
    "start_time": "2023-04-04T18:38:54.048Z"
   },
   {
    "duration": 21,
    "start_time": "2023-04-04T18:38:54.087Z"
   },
   {
    "duration": 6,
    "start_time": "2023-04-04T18:38:54.110Z"
   },
   {
    "duration": 6,
    "start_time": "2023-04-04T18:38:54.135Z"
   },
   {
    "duration": 11,
    "start_time": "2023-04-04T18:38:54.143Z"
   },
   {
    "duration": 15,
    "start_time": "2023-04-04T18:38:54.156Z"
   },
   {
    "duration": 6,
    "start_time": "2023-04-04T18:38:54.173Z"
   },
   {
    "duration": 193,
    "start_time": "2023-04-04T18:38:54.181Z"
   },
   {
    "duration": 28,
    "start_time": "2023-04-04T18:38:54.376Z"
   },
   {
    "duration": 208,
    "start_time": "2023-04-04T18:38:54.406Z"
   },
   {
    "duration": 130,
    "start_time": "2023-04-04T18:38:54.616Z"
   },
   {
    "duration": 188,
    "start_time": "2023-04-04T18:38:54.749Z"
   },
   {
    "duration": 215,
    "start_time": "2023-04-04T18:38:54.939Z"
   },
   {
    "duration": 579,
    "start_time": "2023-04-04T18:38:55.155Z"
   },
   {
    "duration": 136,
    "start_time": "2023-04-04T18:38:55.735Z"
   },
   {
    "duration": 190,
    "start_time": "2023-04-04T18:38:55.873Z"
   },
   {
    "duration": 133,
    "start_time": "2023-04-04T18:39:20.244Z"
   },
   {
    "duration": 15,
    "start_time": "2023-04-04T18:39:20.379Z"
   },
   {
    "duration": 2076,
    "start_time": "2023-04-04T18:39:20.396Z"
   },
   {
    "duration": 3,
    "start_time": "2023-04-04T18:39:22.474Z"
   },
   {
    "duration": 10,
    "start_time": "2023-04-04T18:39:22.480Z"
   },
   {
    "duration": 19,
    "start_time": "2023-04-04T18:39:22.492Z"
   },
   {
    "duration": 24,
    "start_time": "2023-04-04T18:39:22.513Z"
   },
   {
    "duration": 309,
    "start_time": "2023-04-04T18:39:22.539Z"
   },
   {
    "duration": 15,
    "start_time": "2023-04-04T18:39:22.849Z"
   },
   {
    "duration": 22,
    "start_time": "2023-04-04T18:39:22.866Z"
   },
   {
    "duration": 294,
    "start_time": "2023-04-04T18:39:22.889Z"
   },
   {
    "duration": 9,
    "start_time": "2023-04-04T18:39:23.186Z"
   },
   {
    "duration": 41,
    "start_time": "2023-04-04T18:39:23.197Z"
   },
   {
    "duration": 17,
    "start_time": "2023-04-04T18:39:23.242Z"
   },
   {
    "duration": 14,
    "start_time": "2023-04-04T18:39:23.261Z"
   },
   {
    "duration": 7,
    "start_time": "2023-04-04T18:39:23.277Z"
   },
   {
    "duration": 23,
    "start_time": "2023-04-04T18:39:23.285Z"
   },
   {
    "duration": 10,
    "start_time": "2023-04-04T18:39:23.333Z"
   },
   {
    "duration": 8,
    "start_time": "2023-04-04T18:39:23.345Z"
   },
   {
    "duration": 14,
    "start_time": "2023-04-04T18:39:23.355Z"
   },
   {
    "duration": 21,
    "start_time": "2023-04-04T18:39:23.371Z"
   },
   {
    "duration": 4,
    "start_time": "2023-04-04T18:39:23.394Z"
   },
   {
    "duration": 54,
    "start_time": "2023-04-04T18:39:23.399Z"
   },
   {
    "duration": 17,
    "start_time": "2023-04-04T18:39:23.455Z"
   },
   {
    "duration": 14,
    "start_time": "2023-04-04T18:39:23.474Z"
   },
   {
    "duration": 11,
    "start_time": "2023-04-04T18:39:23.491Z"
   },
   {
    "duration": 35,
    "start_time": "2023-04-04T18:39:23.504Z"
   },
   {
    "duration": 179,
    "start_time": "2023-04-04T18:39:23.542Z"
   },
   {
    "duration": 14,
    "start_time": "2023-04-04T18:39:23.723Z"
   },
   {
    "duration": 14,
    "start_time": "2023-04-04T18:39:23.738Z"
   },
   {
    "duration": 20,
    "start_time": "2023-04-04T18:39:23.755Z"
   },
   {
    "duration": 7,
    "start_time": "2023-04-04T18:39:23.777Z"
   },
   {
    "duration": 50,
    "start_time": "2023-04-04T18:39:23.785Z"
   },
   {
    "duration": 21,
    "start_time": "2023-04-04T18:39:23.836Z"
   },
   {
    "duration": 22,
    "start_time": "2023-04-04T18:39:23.859Z"
   },
   {
    "duration": 16,
    "start_time": "2023-04-04T18:39:23.883Z"
   },
   {
    "duration": 13,
    "start_time": "2023-04-04T18:39:23.901Z"
   },
   {
    "duration": 31,
    "start_time": "2023-04-04T18:39:23.933Z"
   },
   {
    "duration": 7,
    "start_time": "2023-04-04T18:39:23.966Z"
   },
   {
    "duration": 28,
    "start_time": "2023-04-04T18:39:23.975Z"
   },
   {
    "duration": 40,
    "start_time": "2023-04-04T18:39:24.007Z"
   },
   {
    "duration": 30,
    "start_time": "2023-04-04T18:39:24.049Z"
   },
   {
    "duration": 7,
    "start_time": "2023-04-04T18:39:24.081Z"
   },
   {
    "duration": 17,
    "start_time": "2023-04-04T18:39:24.090Z"
   },
   {
    "duration": 14,
    "start_time": "2023-04-04T18:39:24.109Z"
   },
   {
    "duration": 11,
    "start_time": "2023-04-04T18:39:24.126Z"
   },
   {
    "duration": 349,
    "start_time": "2023-04-04T18:39:24.138Z"
   },
   {
    "duration": 30,
    "start_time": "2023-04-04T18:39:24.489Z"
   },
   {
    "duration": 199,
    "start_time": "2023-04-04T18:39:24.520Z"
   },
   {
    "duration": 227,
    "start_time": "2023-04-04T18:39:24.721Z"
   },
   {
    "duration": 391,
    "start_time": "2023-04-04T18:39:24.949Z"
   },
   {
    "duration": 393,
    "start_time": "2023-04-04T18:39:25.342Z"
   },
   {
    "duration": 413,
    "start_time": "2023-04-04T18:39:25.737Z"
   },
   {
    "duration": 290,
    "start_time": "2023-04-04T18:39:26.152Z"
   },
   {
    "duration": 328,
    "start_time": "2023-04-04T18:39:26.443Z"
   },
   {
    "duration": 49,
    "start_time": "2023-04-04T18:41:23.429Z"
   },
   {
    "duration": 14,
    "start_time": "2023-04-04T18:41:32.690Z"
   },
   {
    "duration": 36,
    "start_time": "2023-04-04T18:41:37.504Z"
   },
   {
    "duration": 22,
    "start_time": "2023-04-04T18:41:48.645Z"
   },
   {
    "duration": 23,
    "start_time": "2023-04-04T18:42:01.257Z"
   },
   {
    "duration": 144,
    "start_time": "2023-04-04T18:42:10.269Z"
   },
   {
    "duration": 19,
    "start_time": "2023-04-04T18:42:10.422Z"
   },
   {
    "duration": 2046,
    "start_time": "2023-04-04T18:42:10.443Z"
   },
   {
    "duration": 3,
    "start_time": "2023-04-04T18:42:12.491Z"
   },
   {
    "duration": 30,
    "start_time": "2023-04-04T18:42:12.496Z"
   },
   {
    "duration": 30,
    "start_time": "2023-04-04T18:42:12.527Z"
   },
   {
    "duration": 23,
    "start_time": "2023-04-04T18:42:12.559Z"
   },
   {
    "duration": 289,
    "start_time": "2023-04-04T18:42:12.584Z"
   },
   {
    "duration": 14,
    "start_time": "2023-04-04T18:42:12.874Z"
   },
   {
    "duration": 22,
    "start_time": "2023-04-04T18:42:12.890Z"
   },
   {
    "duration": 287,
    "start_time": "2023-04-04T18:42:12.914Z"
   },
   {
    "duration": 7,
    "start_time": "2023-04-04T18:42:13.203Z"
   },
   {
    "duration": 35,
    "start_time": "2023-04-04T18:42:13.212Z"
   },
   {
    "duration": 20,
    "start_time": "2023-04-04T18:42:13.250Z"
   },
   {
    "duration": 13,
    "start_time": "2023-04-04T18:42:13.271Z"
   },
   {
    "duration": 9,
    "start_time": "2023-04-04T18:42:13.285Z"
   },
   {
    "duration": 24,
    "start_time": "2023-04-04T18:42:13.295Z"
   },
   {
    "duration": 9,
    "start_time": "2023-04-04T18:42:13.333Z"
   },
   {
    "duration": 12,
    "start_time": "2023-04-04T18:42:13.343Z"
   },
   {
    "duration": 14,
    "start_time": "2023-04-04T18:42:13.357Z"
   },
   {
    "duration": 31,
    "start_time": "2023-04-04T18:42:13.373Z"
   },
   {
    "duration": 4,
    "start_time": "2023-04-04T18:42:13.406Z"
   },
   {
    "duration": 34,
    "start_time": "2023-04-04T18:42:13.411Z"
   },
   {
    "duration": 14,
    "start_time": "2023-04-04T18:42:13.447Z"
   },
   {
    "duration": 10,
    "start_time": "2023-04-04T18:42:13.463Z"
   },
   {
    "duration": 32,
    "start_time": "2023-04-04T18:42:13.475Z"
   },
   {
    "duration": 16,
    "start_time": "2023-04-04T18:42:13.510Z"
   },
   {
    "duration": 200,
    "start_time": "2023-04-04T18:42:13.528Z"
   },
   {
    "duration": 9,
    "start_time": "2023-04-04T18:42:13.730Z"
   },
   {
    "duration": 16,
    "start_time": "2023-04-04T18:42:13.741Z"
   },
   {
    "duration": 15,
    "start_time": "2023-04-04T18:42:13.759Z"
   },
   {
    "duration": 23,
    "start_time": "2023-04-04T18:42:13.776Z"
   },
   {
    "duration": 47,
    "start_time": "2023-04-04T18:42:13.801Z"
   },
   {
    "duration": 21,
    "start_time": "2023-04-04T18:42:13.850Z"
   },
   {
    "duration": 19,
    "start_time": "2023-04-04T18:42:13.873Z"
   },
   {
    "duration": 39,
    "start_time": "2023-04-04T18:42:13.894Z"
   },
   {
    "duration": 7,
    "start_time": "2023-04-04T18:42:13.935Z"
   },
   {
    "duration": 35,
    "start_time": "2023-04-04T18:42:13.943Z"
   },
   {
    "duration": 7,
    "start_time": "2023-04-04T18:42:13.979Z"
   },
   {
    "duration": 31,
    "start_time": "2023-04-04T18:42:13.989Z"
   },
   {
    "duration": 24,
    "start_time": "2023-04-04T18:42:14.037Z"
   },
   {
    "duration": 6,
    "start_time": "2023-04-04T18:42:14.064Z"
   },
   {
    "duration": 12,
    "start_time": "2023-04-04T18:42:14.072Z"
   },
   {
    "duration": 15,
    "start_time": "2023-04-04T18:42:14.085Z"
   },
   {
    "duration": 6,
    "start_time": "2023-04-04T18:42:14.102Z"
   },
   {
    "duration": 30,
    "start_time": "2023-04-04T18:42:14.110Z"
   },
   {
    "duration": 746,
    "start_time": "2023-04-04T18:42:14.142Z"
   },
   {
    "duration": 29,
    "start_time": "2023-04-04T18:42:14.890Z"
   },
   {
    "duration": 208,
    "start_time": "2023-04-04T18:42:14.920Z"
   },
   {
    "duration": 111,
    "start_time": "2023-04-04T18:42:15.133Z"
   },
   {
    "duration": 191,
    "start_time": "2023-04-04T18:42:15.246Z"
   },
   {
    "duration": 194,
    "start_time": "2023-04-04T18:42:15.439Z"
   },
   {
    "duration": 203,
    "start_time": "2023-04-04T18:42:15.635Z"
   },
   {
    "duration": 134,
    "start_time": "2023-04-04T18:42:15.840Z"
   },
   {
    "duration": 186,
    "start_time": "2023-04-04T18:42:15.976Z"
   },
   {
    "duration": 26,
    "start_time": "2023-04-04T18:43:28.296Z"
   },
   {
    "duration": 151,
    "start_time": "2023-04-04T18:43:33.120Z"
   },
   {
    "duration": 15,
    "start_time": "2023-04-04T18:43:33.273Z"
   },
   {
    "duration": 2752,
    "start_time": "2023-04-04T18:43:33.289Z"
   },
   {
    "duration": 3,
    "start_time": "2023-04-04T18:43:36.043Z"
   },
   {
    "duration": 16,
    "start_time": "2023-04-04T18:43:36.049Z"
   },
   {
    "duration": 82,
    "start_time": "2023-04-04T18:43:36.067Z"
   },
   {
    "duration": 12,
    "start_time": "2023-04-04T18:43:36.151Z"
   },
   {
    "duration": 670,
    "start_time": "2023-04-04T18:43:36.165Z"
   },
   {
    "duration": 19,
    "start_time": "2023-04-04T18:43:36.837Z"
   },
   {
    "duration": 28,
    "start_time": "2023-04-04T18:43:36.859Z"
   },
   {
    "duration": 285,
    "start_time": "2023-04-04T18:43:36.889Z"
   },
   {
    "duration": 7,
    "start_time": "2023-04-04T18:43:37.176Z"
   },
   {
    "duration": 21,
    "start_time": "2023-04-04T18:43:37.185Z"
   },
   {
    "duration": 34,
    "start_time": "2023-04-04T18:43:37.209Z"
   },
   {
    "duration": 6,
    "start_time": "2023-04-04T18:43:37.244Z"
   },
   {
    "duration": 8,
    "start_time": "2023-04-04T18:43:37.251Z"
   },
   {
    "duration": 18,
    "start_time": "2023-04-04T18:43:37.261Z"
   },
   {
    "duration": 9,
    "start_time": "2023-04-04T18:43:37.281Z"
   },
   {
    "duration": 7,
    "start_time": "2023-04-04T18:43:37.292Z"
   },
   {
    "duration": 11,
    "start_time": "2023-04-04T18:43:37.334Z"
   },
   {
    "duration": 20,
    "start_time": "2023-04-04T18:43:37.347Z"
   },
   {
    "duration": 3,
    "start_time": "2023-04-04T18:43:37.369Z"
   },
   {
    "duration": 22,
    "start_time": "2023-04-04T18:43:37.374Z"
   },
   {
    "duration": 35,
    "start_time": "2023-04-04T18:43:37.398Z"
   },
   {
    "duration": 7,
    "start_time": "2023-04-04T18:43:37.435Z"
   },
   {
    "duration": 11,
    "start_time": "2023-04-04T18:43:37.444Z"
   },
   {
    "duration": 13,
    "start_time": "2023-04-04T18:43:37.457Z"
   },
   {
    "duration": 198,
    "start_time": "2023-04-04T18:43:37.472Z"
   },
   {
    "duration": 10,
    "start_time": "2023-04-04T18:43:37.672Z"
   },
   {
    "duration": 26,
    "start_time": "2023-04-04T18:43:37.684Z"
   },
   {
    "duration": 28,
    "start_time": "2023-04-04T18:43:37.712Z"
   },
   {
    "duration": 23,
    "start_time": "2023-04-04T18:43:37.742Z"
   },
   {
    "duration": 14,
    "start_time": "2023-04-04T18:43:37.767Z"
   },
   {
    "duration": 19,
    "start_time": "2023-04-04T18:43:37.782Z"
   },
   {
    "duration": 18,
    "start_time": "2023-04-04T18:43:37.833Z"
   },
   {
    "duration": 8,
    "start_time": "2023-04-04T18:43:37.852Z"
   },
   {
    "duration": 6,
    "start_time": "2023-04-04T18:43:37.862Z"
   },
   {
    "duration": 31,
    "start_time": "2023-04-04T18:43:37.870Z"
   },
   {
    "duration": 37,
    "start_time": "2023-04-04T18:43:37.902Z"
   },
   {
    "duration": 27,
    "start_time": "2023-04-04T18:43:37.941Z"
   },
   {
    "duration": 19,
    "start_time": "2023-04-04T18:43:37.972Z"
   },
   {
    "duration": 7,
    "start_time": "2023-04-04T18:43:37.993Z"
   },
   {
    "duration": 31,
    "start_time": "2023-04-04T18:43:38.004Z"
   },
   {
    "duration": 7,
    "start_time": "2023-04-04T18:43:38.038Z"
   },
   {
    "duration": 9,
    "start_time": "2023-04-04T18:43:38.046Z"
   },
   {
    "duration": 7,
    "start_time": "2023-04-04T18:43:38.056Z"
   },
   {
    "duration": 366,
    "start_time": "2023-04-04T18:43:38.065Z"
   },
   {
    "duration": 29,
    "start_time": "2023-04-04T18:43:38.433Z"
   },
   {
    "duration": 200,
    "start_time": "2023-04-04T18:43:38.464Z"
   },
   {
    "duration": 117,
    "start_time": "2023-04-04T18:43:38.666Z"
   },
   {
    "duration": 183,
    "start_time": "2023-04-04T18:43:38.784Z"
   },
   {
    "duration": 204,
    "start_time": "2023-04-04T18:43:38.969Z"
   },
   {
    "duration": 198,
    "start_time": "2023-04-04T18:43:39.174Z"
   },
   {
    "duration": 129,
    "start_time": "2023-04-04T18:43:39.374Z"
   },
   {
    "duration": 185,
    "start_time": "2023-04-04T18:43:39.505Z"
   },
   {
    "duration": 190,
    "start_time": "2023-04-04T18:44:00.530Z"
   },
   {
    "duration": 185,
    "start_time": "2023-04-04T18:44:21.969Z"
   },
   {
    "duration": 19,
    "start_time": "2023-04-04T18:45:12.101Z"
   },
   {
    "duration": 190,
    "start_time": "2023-04-04T18:45:20.415Z"
   },
   {
    "duration": 12,
    "start_time": "2023-04-04T18:47:07.249Z"
   },
   {
    "duration": 192,
    "start_time": "2023-04-04T18:47:28.918Z"
   },
   {
    "duration": 185,
    "start_time": "2023-04-04T18:47:40.287Z"
   },
   {
    "duration": 157,
    "start_time": "2023-04-04T18:47:49.670Z"
   },
   {
    "duration": 62,
    "start_time": "2023-04-04T18:48:00.105Z"
   },
   {
    "duration": 184,
    "start_time": "2023-04-04T18:48:07.211Z"
   },
   {
    "duration": 181,
    "start_time": "2023-04-04T18:48:30.590Z"
   },
   {
    "duration": 9,
    "start_time": "2023-04-04T19:05:52.083Z"
   },
   {
    "duration": 181,
    "start_time": "2023-04-04T19:06:13.463Z"
   },
   {
    "duration": 203,
    "start_time": "2023-04-04T19:06:19.956Z"
   },
   {
    "duration": 181,
    "start_time": "2023-04-04T19:06:50.293Z"
   },
   {
    "duration": 24,
    "start_time": "2023-04-04T19:11:17.505Z"
   },
   {
    "duration": 19,
    "start_time": "2023-04-04T19:11:40.456Z"
   },
   {
    "duration": 159,
    "start_time": "2023-04-04T19:12:39.359Z"
   },
   {
    "duration": 518,
    "start_time": "2023-04-04T19:12:56.574Z"
   },
   {
    "duration": 21,
    "start_time": "2023-04-04T19:13:32.823Z"
   },
   {
    "duration": 142,
    "start_time": "2023-04-04T19:20:20.284Z"
   },
   {
    "duration": 51,
    "start_time": "2023-04-05T17:52:02.744Z"
   },
   {
    "duration": 1156,
    "start_time": "2023-04-05T17:52:07.391Z"
   },
   {
    "duration": 14,
    "start_time": "2023-04-05T17:52:08.550Z"
   },
   {
    "duration": 1823,
    "start_time": "2023-04-05T17:52:08.566Z"
   },
   {
    "duration": 2,
    "start_time": "2023-04-05T17:52:10.391Z"
   },
   {
    "duration": 24,
    "start_time": "2023-04-05T17:52:10.396Z"
   },
   {
    "duration": 27,
    "start_time": "2023-04-05T17:52:10.422Z"
   },
   {
    "duration": 49,
    "start_time": "2023-04-05T17:52:10.450Z"
   },
   {
    "duration": 308,
    "start_time": "2023-04-05T17:52:10.501Z"
   },
   {
    "duration": 79,
    "start_time": "2023-04-05T17:52:10.810Z"
   },
   {
    "duration": 22,
    "start_time": "2023-04-05T17:52:10.891Z"
   },
   {
    "duration": 504,
    "start_time": "2023-04-05T17:52:10.914Z"
   },
   {
    "duration": 14,
    "start_time": "2023-04-05T17:52:11.479Z"
   },
   {
    "duration": 22,
    "start_time": "2023-04-05T17:52:11.495Z"
   },
   {
    "duration": 72,
    "start_time": "2023-04-05T17:52:11.520Z"
   },
   {
    "duration": 6,
    "start_time": "2023-04-05T17:52:11.593Z"
   },
   {
    "duration": 7,
    "start_time": "2023-04-05T17:52:11.601Z"
   },
   {
    "duration": 85,
    "start_time": "2023-04-05T17:52:11.609Z"
   },
   {
    "duration": 10,
    "start_time": "2023-04-05T17:52:11.696Z"
   },
   {
    "duration": 11,
    "start_time": "2023-04-05T17:52:11.709Z"
   },
   {
    "duration": 59,
    "start_time": "2023-04-05T17:52:11.722Z"
   },
   {
    "duration": 28,
    "start_time": "2023-04-05T17:52:11.783Z"
   },
   {
    "duration": 4,
    "start_time": "2023-04-05T17:52:11.813Z"
   },
   {
    "duration": 76,
    "start_time": "2023-04-05T17:52:11.818Z"
   },
   {
    "duration": 7,
    "start_time": "2023-04-05T17:52:11.897Z"
   },
   {
    "duration": 12,
    "start_time": "2023-04-05T17:52:11.906Z"
   },
   {
    "duration": 69,
    "start_time": "2023-04-05T17:52:11.920Z"
   },
   {
    "duration": 13,
    "start_time": "2023-04-05T17:52:11.990Z"
   },
   {
    "duration": 376,
    "start_time": "2023-04-05T17:52:12.005Z"
   },
   {
    "duration": 10,
    "start_time": "2023-04-05T17:52:12.390Z"
   },
   {
    "duration": 14,
    "start_time": "2023-04-05T17:52:12.402Z"
   },
   {
    "duration": 68,
    "start_time": "2023-04-05T17:52:12.417Z"
   },
   {
    "duration": 26,
    "start_time": "2023-04-05T17:52:12.487Z"
   },
   {
    "duration": 78,
    "start_time": "2023-04-05T17:52:12.515Z"
   },
   {
    "duration": 22,
    "start_time": "2023-04-05T17:52:12.595Z"
   },
   {
    "duration": 66,
    "start_time": "2023-04-05T17:52:12.619Z"
   },
   {
    "duration": 11,
    "start_time": "2023-04-05T17:52:12.695Z"
   },
   {
    "duration": 12,
    "start_time": "2023-04-05T17:52:12.708Z"
   },
   {
    "duration": 84,
    "start_time": "2023-04-05T17:52:12.722Z"
   },
   {
    "duration": 18,
    "start_time": "2023-04-05T17:52:12.807Z"
   },
   {
    "duration": 68,
    "start_time": "2023-04-05T17:52:12.827Z"
   },
   {
    "duration": 22,
    "start_time": "2023-04-05T17:52:12.902Z"
   },
   {
    "duration": 63,
    "start_time": "2023-04-05T17:52:12.926Z"
   },
   {
    "duration": 16,
    "start_time": "2023-04-05T17:52:12.992Z"
   },
   {
    "duration": 15,
    "start_time": "2023-04-05T17:52:13.010Z"
   },
   {
    "duration": 8,
    "start_time": "2023-04-05T17:52:13.027Z"
   },
   {
    "duration": 7,
    "start_time": "2023-04-05T17:52:13.037Z"
   },
   {
    "duration": 356,
    "start_time": "2023-04-05T17:52:13.045Z"
   },
   {
    "duration": 22,
    "start_time": "2023-04-05T17:52:13.403Z"
   },
   {
    "duration": 173,
    "start_time": "2023-04-05T17:52:13.426Z"
   },
   {
    "duration": 153,
    "start_time": "2023-04-05T17:52:13.601Z"
   },
   {
    "duration": 157,
    "start_time": "2023-04-05T17:52:13.755Z"
   },
   {
    "duration": 225,
    "start_time": "2023-04-05T17:52:13.914Z"
   },
   {
    "duration": 180,
    "start_time": "2023-04-05T17:52:14.141Z"
   },
   {
    "duration": 118,
    "start_time": "2023-04-05T17:52:14.323Z"
   },
   {
    "duration": 165,
    "start_time": "2023-04-05T17:52:14.442Z"
   },
   {
    "duration": 153,
    "start_time": "2023-04-05T17:52:14.609Z"
   },
   {
    "duration": 179,
    "start_time": "2023-04-05T17:52:14.764Z"
   },
   {
    "duration": 100,
    "start_time": "2023-04-05T17:52:14.944Z"
   },
   {
    "duration": 0,
    "start_time": "2023-04-05T17:52:15.046Z"
   },
   {
    "duration": 0,
    "start_time": "2023-04-05T17:52:15.047Z"
   },
   {
    "duration": 145,
    "start_time": "2023-04-05T17:52:22.606Z"
   },
   {
    "duration": 177,
    "start_time": "2023-04-05T17:53:49.591Z"
   },
   {
    "duration": 136,
    "start_time": "2023-04-05T17:53:59.412Z"
   },
   {
    "duration": 845,
    "start_time": "2023-04-05T18:02:54.798Z"
   },
   {
    "duration": 17,
    "start_time": "2023-04-05T18:03:03.218Z"
   },
   {
    "duration": 134,
    "start_time": "2023-04-05T18:03:08.711Z"
   },
   {
    "duration": 217,
    "start_time": "2023-04-05T18:03:18.046Z"
   },
   {
    "duration": 151,
    "start_time": "2023-04-05T18:09:03.949Z"
   },
   {
    "duration": 147,
    "start_time": "2023-04-05T18:09:21.365Z"
   },
   {
    "duration": 10,
    "start_time": "2023-04-05T18:11:58.658Z"
   },
   {
    "duration": 6,
    "start_time": "2023-04-05T18:12:10.506Z"
   },
   {
    "duration": 27,
    "start_time": "2023-04-05T18:15:36.023Z"
   },
   {
    "duration": 8,
    "start_time": "2023-04-05T18:15:47.533Z"
   },
   {
    "duration": 26,
    "start_time": "2023-04-05T18:15:57.003Z"
   },
   {
    "duration": 17,
    "start_time": "2023-04-05T18:16:08.605Z"
   },
   {
    "duration": 172,
    "start_time": "2023-04-05T18:16:14.150Z"
   },
   {
    "duration": 12,
    "start_time": "2023-04-05T18:16:14.324Z"
   },
   {
    "duration": 2071,
    "start_time": "2023-04-05T18:16:14.338Z"
   },
   {
    "duration": 3,
    "start_time": "2023-04-05T18:16:16.413Z"
   },
   {
    "duration": 11,
    "start_time": "2023-04-05T18:16:16.419Z"
   },
   {
    "duration": 14,
    "start_time": "2023-04-05T18:16:16.431Z"
   },
   {
    "duration": 11,
    "start_time": "2023-04-05T18:16:16.446Z"
   },
   {
    "duration": 250,
    "start_time": "2023-04-05T18:16:16.459Z"
   },
   {
    "duration": 17,
    "start_time": "2023-04-05T18:16:16.710Z"
   },
   {
    "duration": 20,
    "start_time": "2023-04-05T18:16:16.729Z"
   },
   {
    "duration": 263,
    "start_time": "2023-04-05T18:16:16.751Z"
   },
   {
    "duration": 7,
    "start_time": "2023-04-05T18:16:17.016Z"
   },
   {
    "duration": 22,
    "start_time": "2023-04-05T18:16:17.024Z"
   },
   {
    "duration": 14,
    "start_time": "2023-04-05T18:16:17.049Z"
   },
   {
    "duration": 42,
    "start_time": "2023-04-05T18:16:17.065Z"
   },
   {
    "duration": 29,
    "start_time": "2023-04-05T18:16:17.108Z"
   },
   {
    "duration": 18,
    "start_time": "2023-04-05T18:16:17.139Z"
   },
   {
    "duration": 9,
    "start_time": "2023-04-05T18:16:17.159Z"
   },
   {
    "duration": 44,
    "start_time": "2023-04-05T18:16:17.169Z"
   },
   {
    "duration": 11,
    "start_time": "2023-04-05T18:16:17.215Z"
   },
   {
    "duration": 17,
    "start_time": "2023-04-05T18:16:17.227Z"
   },
   {
    "duration": 4,
    "start_time": "2023-04-05T18:16:17.246Z"
   },
   {
    "duration": 42,
    "start_time": "2023-04-05T18:16:17.251Z"
   },
   {
    "duration": 15,
    "start_time": "2023-04-05T18:16:17.294Z"
   },
   {
    "duration": 9,
    "start_time": "2023-04-05T18:16:17.310Z"
   },
   {
    "duration": 11,
    "start_time": "2023-04-05T18:16:17.320Z"
   },
   {
    "duration": 13,
    "start_time": "2023-04-05T18:16:17.332Z"
   },
   {
    "duration": 175,
    "start_time": "2023-04-05T18:16:17.347Z"
   },
   {
    "duration": 8,
    "start_time": "2023-04-05T18:16:17.524Z"
   },
   {
    "duration": 11,
    "start_time": "2023-04-05T18:16:17.533Z"
   },
   {
    "duration": 39,
    "start_time": "2023-04-05T18:16:17.546Z"
   },
   {
    "duration": 24,
    "start_time": "2023-04-05T18:16:17.586Z"
   },
   {
    "duration": 19,
    "start_time": "2023-04-05T18:16:17.612Z"
   },
   {
    "duration": 7,
    "start_time": "2023-04-05T18:16:17.633Z"
   },
   {
    "duration": 20,
    "start_time": "2023-04-05T18:16:17.642Z"
   },
   {
    "duration": 33,
    "start_time": "2023-04-05T18:16:17.674Z"
   },
   {
    "duration": 26,
    "start_time": "2023-04-05T18:16:17.708Z"
   },
   {
    "duration": 7,
    "start_time": "2023-04-05T18:16:17.736Z"
   },
   {
    "duration": 40,
    "start_time": "2023-04-05T18:16:17.745Z"
   },
   {
    "duration": 89,
    "start_time": "2023-04-05T18:16:17.786Z"
   },
   {
    "duration": 26,
    "start_time": "2023-04-05T18:16:17.880Z"
   },
   {
    "duration": 77,
    "start_time": "2023-04-05T18:16:17.907Z"
   },
   {
    "duration": 24,
    "start_time": "2023-04-05T18:16:17.985Z"
   },
   {
    "duration": 18,
    "start_time": "2023-04-05T18:16:18.010Z"
   },
   {
    "duration": 5,
    "start_time": "2023-04-05T18:16:18.080Z"
   },
   {
    "duration": 39,
    "start_time": "2023-04-05T18:16:18.087Z"
   },
   {
    "duration": 5,
    "start_time": "2023-04-05T18:16:18.128Z"
   },
   {
    "duration": 47,
    "start_time": "2023-04-05T18:16:18.134Z"
   },
   {
    "duration": 692,
    "start_time": "2023-04-05T18:16:18.183Z"
   },
   {
    "duration": 27,
    "start_time": "2023-04-05T18:16:18.879Z"
   },
   {
    "duration": 416,
    "start_time": "2023-04-05T18:16:18.910Z"
   },
   {
    "duration": 254,
    "start_time": "2023-04-05T18:16:19.328Z"
   },
   {
    "duration": 216,
    "start_time": "2023-04-05T18:16:19.583Z"
   },
   {
    "duration": 182,
    "start_time": "2023-04-05T18:16:19.803Z"
   },
   {
    "duration": 159,
    "start_time": "2023-04-05T18:16:19.998Z"
   },
   {
    "duration": 107,
    "start_time": "2023-04-05T18:16:20.159Z"
   },
   {
    "duration": 162,
    "start_time": "2023-04-05T18:16:20.267Z"
   },
   {
    "duration": 174,
    "start_time": "2023-04-05T18:16:20.431Z"
   },
   {
    "duration": 258,
    "start_time": "2023-04-05T18:16:20.606Z"
   },
   {
    "duration": 144,
    "start_time": "2023-04-05T18:16:20.865Z"
   },
   {
    "duration": 148,
    "start_time": "2023-04-05T18:16:21.014Z"
   },
   {
    "duration": 153,
    "start_time": "2023-04-05T18:16:21.164Z"
   },
   {
    "duration": 183,
    "start_time": "2023-04-05T18:16:21.318Z"
   },
   {
    "duration": 44,
    "start_time": "2023-04-05T18:17:47.666Z"
   },
   {
    "duration": 22,
    "start_time": "2023-04-05T18:18:01.098Z"
   },
   {
    "duration": 140,
    "start_time": "2023-04-05T18:18:05.147Z"
   },
   {
    "duration": 15,
    "start_time": "2023-04-05T18:18:05.290Z"
   },
   {
    "duration": 2391,
    "start_time": "2023-04-05T18:18:05.307Z"
   },
   {
    "duration": 5,
    "start_time": "2023-04-05T18:18:07.700Z"
   },
   {
    "duration": 13,
    "start_time": "2023-04-05T18:18:07.707Z"
   },
   {
    "duration": 69,
    "start_time": "2023-04-05T18:18:07.721Z"
   },
   {
    "duration": 16,
    "start_time": "2023-04-05T18:18:07.798Z"
   },
   {
    "duration": 585,
    "start_time": "2023-04-05T18:18:07.816Z"
   },
   {
    "duration": 14,
    "start_time": "2023-04-05T18:18:08.403Z"
   },
   {
    "duration": 79,
    "start_time": "2023-04-05T18:18:08.418Z"
   },
   {
    "duration": 302,
    "start_time": "2023-04-05T18:18:08.499Z"
   },
   {
    "duration": 7,
    "start_time": "2023-04-05T18:18:08.803Z"
   },
   {
    "duration": 28,
    "start_time": "2023-04-05T18:18:08.812Z"
   },
   {
    "duration": 16,
    "start_time": "2023-04-05T18:18:08.843Z"
   },
   {
    "duration": 6,
    "start_time": "2023-04-05T18:18:08.860Z"
   },
   {
    "duration": 36,
    "start_time": "2023-04-05T18:18:08.867Z"
   },
   {
    "duration": 35,
    "start_time": "2023-04-05T18:18:08.904Z"
   },
   {
    "duration": 14,
    "start_time": "2023-04-05T18:18:08.941Z"
   },
   {
    "duration": 48,
    "start_time": "2023-04-05T18:18:08.957Z"
   },
   {
    "duration": 20,
    "start_time": "2023-04-05T18:18:09.007Z"
   },
   {
    "duration": 27,
    "start_time": "2023-04-05T18:18:09.029Z"
   },
   {
    "duration": 5,
    "start_time": "2023-04-05T18:18:09.057Z"
   },
   {
    "duration": 84,
    "start_time": "2023-04-05T18:18:09.063Z"
   },
   {
    "duration": 6,
    "start_time": "2023-04-05T18:18:09.149Z"
   },
   {
    "duration": 41,
    "start_time": "2023-04-05T18:18:09.156Z"
   },
   {
    "duration": 14,
    "start_time": "2023-04-05T18:18:09.199Z"
   },
   {
    "duration": 9,
    "start_time": "2023-04-05T18:18:09.215Z"
   },
   {
    "duration": 133,
    "start_time": "2023-04-05T18:18:09.225Z"
   },
   {
    "duration": 5,
    "start_time": "2023-04-05T18:18:09.360Z"
   },
   {
    "duration": 22,
    "start_time": "2023-04-05T18:18:09.367Z"
   },
   {
    "duration": 23,
    "start_time": "2023-04-05T18:18:09.390Z"
   },
   {
    "duration": 17,
    "start_time": "2023-04-05T18:18:09.414Z"
   },
   {
    "duration": 12,
    "start_time": "2023-04-05T18:18:09.432Z"
   },
   {
    "duration": 21,
    "start_time": "2023-04-05T18:18:09.445Z"
   },
   {
    "duration": 24,
    "start_time": "2023-04-05T18:18:09.467Z"
   },
   {
    "duration": 39,
    "start_time": "2023-04-05T18:18:09.493Z"
   },
   {
    "duration": 13,
    "start_time": "2023-04-05T18:18:09.533Z"
   },
   {
    "duration": 5,
    "start_time": "2023-04-05T18:18:09.547Z"
   },
   {
    "duration": 13,
    "start_time": "2023-04-05T18:18:09.554Z"
   },
   {
    "duration": 30,
    "start_time": "2023-04-05T18:18:09.568Z"
   },
   {
    "duration": 17,
    "start_time": "2023-04-05T18:18:09.603Z"
   },
   {
    "duration": 18,
    "start_time": "2023-04-05T18:18:09.621Z"
   },
   {
    "duration": 18,
    "start_time": "2023-04-05T18:18:09.640Z"
   },
   {
    "duration": 38,
    "start_time": "2023-04-05T18:18:09.660Z"
   },
   {
    "duration": 8,
    "start_time": "2023-04-05T18:18:09.700Z"
   },
   {
    "duration": 17,
    "start_time": "2023-04-05T18:18:09.710Z"
   },
   {
    "duration": 6,
    "start_time": "2023-04-05T18:18:09.729Z"
   },
   {
    "duration": 8,
    "start_time": "2023-04-05T18:18:09.736Z"
   },
   {
    "duration": 309,
    "start_time": "2023-04-05T18:18:09.746Z"
   },
   {
    "duration": 41,
    "start_time": "2023-04-05T18:18:10.057Z"
   },
   {
    "duration": 143,
    "start_time": "2023-04-05T18:18:10.103Z"
   },
   {
    "duration": 99,
    "start_time": "2023-04-05T18:18:10.248Z"
   },
   {
    "duration": 156,
    "start_time": "2023-04-05T18:18:10.349Z"
   },
   {
    "duration": 153,
    "start_time": "2023-04-05T18:18:10.506Z"
   },
   {
    "duration": 166,
    "start_time": "2023-04-05T18:18:10.661Z"
   },
   {
    "duration": 102,
    "start_time": "2023-04-05T18:18:10.829Z"
   },
   {
    "duration": 183,
    "start_time": "2023-04-05T18:18:10.932Z"
   },
   {
    "duration": 143,
    "start_time": "2023-04-05T18:18:11.116Z"
   },
   {
    "duration": 176,
    "start_time": "2023-04-05T18:18:11.260Z"
   },
   {
    "duration": 157,
    "start_time": "2023-04-05T18:18:11.438Z"
   },
   {
    "duration": 153,
    "start_time": "2023-04-05T18:18:11.599Z"
   },
   {
    "duration": 169,
    "start_time": "2023-04-05T18:18:11.754Z"
   },
   {
    "duration": 323,
    "start_time": "2023-04-05T18:18:11.924Z"
   },
   {
    "duration": 9,
    "start_time": "2023-04-05T18:18:17.448Z"
   },
   {
    "duration": 149,
    "start_time": "2023-04-05T18:18:33.887Z"
   },
   {
    "duration": 161,
    "start_time": "2023-04-05T18:21:03.808Z"
   },
   {
    "duration": 3,
    "start_time": "2023-04-05T18:26:38.093Z"
   },
   {
    "duration": 725,
    "start_time": "2023-04-05T18:28:01.463Z"
   },
   {
    "duration": 139,
    "start_time": "2023-04-05T18:28:14.464Z"
   },
   {
    "duration": 130,
    "start_time": "2023-04-05T18:28:59.759Z"
   },
   {
    "duration": 127,
    "start_time": "2023-04-05T18:29:43.610Z"
   },
   {
    "duration": 144,
    "start_time": "2023-04-05T18:37:19.954Z"
   },
   {
    "duration": 124,
    "start_time": "2023-04-05T18:39:10.204Z"
   },
   {
    "duration": 123,
    "start_time": "2023-04-05T18:39:30.031Z"
   },
   {
    "duration": 307,
    "start_time": "2023-04-05T18:50:35.114Z"
   },
   {
    "duration": 148,
    "start_time": "2023-04-05T18:51:06.801Z"
   },
   {
    "duration": 61,
    "start_time": "2023-04-05T18:51:26.412Z"
   },
   {
    "duration": 125,
    "start_time": "2023-04-05T18:51:34.350Z"
   },
   {
    "duration": 121,
    "start_time": "2023-04-05T18:52:13.580Z"
   },
   {
    "duration": 157,
    "start_time": "2023-04-05T18:52:32.994Z"
   },
   {
    "duration": 133,
    "start_time": "2023-04-05T18:54:54.748Z"
   },
   {
    "duration": 142,
    "start_time": "2023-04-05T18:55:28.702Z"
   },
   {
    "duration": 141,
    "start_time": "2023-04-05T19:04:33.513Z"
   },
   {
    "duration": 181,
    "start_time": "2023-04-05T19:05:28.565Z"
   },
   {
    "duration": 6,
    "start_time": "2023-04-05T19:06:07.250Z"
   },
   {
    "duration": 61,
    "start_time": "2023-04-07T12:51:01.732Z"
   },
   {
    "duration": 1032,
    "start_time": "2023-04-07T12:51:04.978Z"
   },
   {
    "duration": 18,
    "start_time": "2023-04-07T12:51:06.012Z"
   },
   {
    "duration": 2482,
    "start_time": "2023-04-07T12:51:06.032Z"
   },
   {
    "duration": 2,
    "start_time": "2023-04-07T12:51:08.516Z"
   },
   {
    "duration": 43,
    "start_time": "2023-04-07T12:51:08.521Z"
   },
   {
    "duration": 35,
    "start_time": "2023-04-07T12:51:08.565Z"
   },
   {
    "duration": 60,
    "start_time": "2023-04-07T12:51:08.603Z"
   },
   {
    "duration": 507,
    "start_time": "2023-04-07T12:51:08.665Z"
   },
   {
    "duration": 17,
    "start_time": "2023-04-07T12:51:09.174Z"
   },
   {
    "duration": 83,
    "start_time": "2023-04-07T12:51:09.193Z"
   },
   {
    "duration": 505,
    "start_time": "2023-04-07T12:51:09.279Z"
   },
   {
    "duration": 8,
    "start_time": "2023-04-07T12:51:09.786Z"
   },
   {
    "duration": 22,
    "start_time": "2023-04-07T12:51:09.795Z"
   },
   {
    "duration": 42,
    "start_time": "2023-04-07T12:51:09.821Z"
   },
   {
    "duration": 6,
    "start_time": "2023-04-07T12:51:09.865Z"
   },
   {
    "duration": 10,
    "start_time": "2023-04-07T12:51:09.873Z"
   },
   {
    "duration": 33,
    "start_time": "2023-04-07T12:51:09.886Z"
   },
   {
    "duration": 9,
    "start_time": "2023-04-07T12:51:09.920Z"
   },
   {
    "duration": 11,
    "start_time": "2023-04-07T12:51:09.930Z"
   },
   {
    "duration": 11,
    "start_time": "2023-04-07T12:51:09.961Z"
   },
   {
    "duration": 21,
    "start_time": "2023-04-07T12:51:09.974Z"
   },
   {
    "duration": 3,
    "start_time": "2023-04-07T12:51:09.997Z"
   },
   {
    "duration": 48,
    "start_time": "2023-04-07T12:51:10.001Z"
   },
   {
    "duration": 11,
    "start_time": "2023-04-07T12:51:10.050Z"
   },
   {
    "duration": 19,
    "start_time": "2023-04-07T12:51:10.063Z"
   },
   {
    "duration": 27,
    "start_time": "2023-04-07T12:51:10.083Z"
   },
   {
    "duration": 28,
    "start_time": "2023-04-07T12:51:10.112Z"
   },
   {
    "duration": 169,
    "start_time": "2023-04-07T12:51:10.141Z"
   },
   {
    "duration": 11,
    "start_time": "2023-04-07T12:51:10.312Z"
   },
   {
    "duration": 21,
    "start_time": "2023-04-07T12:51:10.325Z"
   },
   {
    "duration": 18,
    "start_time": "2023-04-07T12:51:10.361Z"
   },
   {
    "duration": 28,
    "start_time": "2023-04-07T12:51:10.381Z"
   },
   {
    "duration": 17,
    "start_time": "2023-04-07T12:51:10.412Z"
   },
   {
    "duration": 34,
    "start_time": "2023-04-07T12:51:10.431Z"
   },
   {
    "duration": 10,
    "start_time": "2023-04-07T12:51:10.466Z"
   },
   {
    "duration": 19,
    "start_time": "2023-04-07T12:51:10.478Z"
   },
   {
    "duration": 18,
    "start_time": "2023-04-07T12:51:10.499Z"
   },
   {
    "duration": 18,
    "start_time": "2023-04-07T12:51:10.519Z"
   },
   {
    "duration": 27,
    "start_time": "2023-04-07T12:51:10.539Z"
   },
   {
    "duration": 33,
    "start_time": "2023-04-07T12:51:10.568Z"
   },
   {
    "duration": 14,
    "start_time": "2023-04-07T12:51:10.605Z"
   },
   {
    "duration": 46,
    "start_time": "2023-04-07T12:51:10.620Z"
   },
   {
    "duration": 18,
    "start_time": "2023-04-07T12:51:10.668Z"
   },
   {
    "duration": 5,
    "start_time": "2023-04-07T12:51:10.688Z"
   },
   {
    "duration": 4,
    "start_time": "2023-04-07T12:51:10.695Z"
   },
   {
    "duration": 10,
    "start_time": "2023-04-07T12:51:10.701Z"
   },
   {
    "duration": 6,
    "start_time": "2023-04-07T12:51:10.712Z"
   },
   {
    "duration": 43,
    "start_time": "2023-04-07T12:51:10.720Z"
   },
   {
    "duration": 325,
    "start_time": "2023-04-07T12:51:10.765Z"
   },
   {
    "duration": 27,
    "start_time": "2023-04-07T12:51:11.092Z"
   },
   {
    "duration": 207,
    "start_time": "2023-04-07T12:51:11.121Z"
   },
   {
    "duration": 187,
    "start_time": "2023-04-07T12:51:11.330Z"
   },
   {
    "duration": 201,
    "start_time": "2023-04-07T12:51:11.519Z"
   },
   {
    "duration": 186,
    "start_time": "2023-04-07T12:51:11.721Z"
   },
   {
    "duration": 220,
    "start_time": "2023-04-07T12:51:11.909Z"
   },
   {
    "duration": 135,
    "start_time": "2023-04-07T12:51:12.130Z"
   },
   {
    "duration": 202,
    "start_time": "2023-04-07T12:51:12.266Z"
   },
   {
    "duration": 202,
    "start_time": "2023-04-07T12:51:12.470Z"
   },
   {
    "duration": 195,
    "start_time": "2023-04-07T12:51:12.674Z"
   },
   {
    "duration": 181,
    "start_time": "2023-04-07T12:51:12.871Z"
   },
   {
    "duration": 192,
    "start_time": "2023-04-07T12:51:13.054Z"
   },
   {
    "duration": 236,
    "start_time": "2023-04-07T12:51:13.247Z"
   },
   {
    "duration": 189,
    "start_time": "2023-04-07T12:51:13.484Z"
   },
   {
    "duration": 294,
    "start_time": "2023-04-07T12:51:13.675Z"
   },
   {
    "duration": 242,
    "start_time": "2023-04-07T12:51:13.971Z"
   },
   {
    "duration": 265,
    "start_time": "2023-04-07T12:51:14.473Z"
   },
   {
    "duration": 189,
    "start_time": "2023-04-07T12:51:52.136Z"
   },
   {
    "duration": 214,
    "start_time": "2023-04-07T12:52:58.166Z"
   },
   {
    "duration": 353,
    "start_time": "2023-04-07T12:55:21.992Z"
   },
   {
    "duration": 45,
    "start_time": "2023-04-08T09:24:42.666Z"
   },
   {
    "duration": 1120,
    "start_time": "2023-04-08T09:24:45.784Z"
   },
   {
    "duration": 14,
    "start_time": "2023-04-08T09:24:46.906Z"
   },
   {
    "duration": 1981,
    "start_time": "2023-04-08T09:24:46.922Z"
   },
   {
    "duration": 31,
    "start_time": "2023-04-08T09:24:48.905Z"
   },
   {
    "duration": 10,
    "start_time": "2023-04-08T09:24:48.939Z"
   },
   {
    "duration": 21,
    "start_time": "2023-04-08T09:24:48.951Z"
   },
   {
    "duration": 63,
    "start_time": "2023-04-08T09:24:48.974Z"
   },
   {
    "duration": 434,
    "start_time": "2023-04-08T09:24:49.039Z"
   },
   {
    "duration": 69,
    "start_time": "2023-04-08T09:24:49.474Z"
   },
   {
    "duration": 24,
    "start_time": "2023-04-08T09:24:49.544Z"
   },
   {
    "duration": 480,
    "start_time": "2023-04-08T09:24:49.569Z"
   },
   {
    "duration": 8,
    "start_time": "2023-04-08T09:24:50.051Z"
   },
   {
    "duration": 82,
    "start_time": "2023-04-08T09:24:50.061Z"
   },
   {
    "duration": 19,
    "start_time": "2023-04-08T09:24:50.147Z"
   },
   {
    "duration": 5,
    "start_time": "2023-04-08T09:24:50.168Z"
   },
   {
    "duration": 62,
    "start_time": "2023-04-08T09:24:50.174Z"
   },
   {
    "duration": 31,
    "start_time": "2023-04-08T09:24:50.238Z"
   },
   {
    "duration": 8,
    "start_time": "2023-04-08T09:24:50.272Z"
   },
   {
    "duration": 54,
    "start_time": "2023-04-08T09:24:50.281Z"
   },
   {
    "duration": 9,
    "start_time": "2023-04-08T09:24:50.337Z"
   },
   {
    "duration": 23,
    "start_time": "2023-04-08T09:24:50.347Z"
   },
   {
    "duration": 5,
    "start_time": "2023-04-08T09:24:50.372Z"
   },
   {
    "duration": 27,
    "start_time": "2023-04-08T09:24:50.379Z"
   },
   {
    "duration": 31,
    "start_time": "2023-04-08T09:24:50.408Z"
   },
   {
    "duration": 17,
    "start_time": "2023-04-08T09:24:50.440Z"
   },
   {
    "duration": 25,
    "start_time": "2023-04-08T09:24:50.458Z"
   },
   {
    "duration": 19,
    "start_time": "2023-04-08T09:24:50.485Z"
   },
   {
    "duration": 152,
    "start_time": "2023-04-08T09:24:50.506Z"
   },
   {
    "duration": 8,
    "start_time": "2023-04-08T09:24:50.660Z"
   },
   {
    "duration": 25,
    "start_time": "2023-04-08T09:24:50.671Z"
   },
   {
    "duration": 18,
    "start_time": "2023-04-08T09:24:50.698Z"
   },
   {
    "duration": 31,
    "start_time": "2023-04-08T09:24:50.717Z"
   },
   {
    "duration": 18,
    "start_time": "2023-04-08T09:24:50.750Z"
   },
   {
    "duration": 6,
    "start_time": "2023-04-08T09:24:50.770Z"
   },
   {
    "duration": 23,
    "start_time": "2023-04-08T09:24:50.777Z"
   },
   {
    "duration": 23,
    "start_time": "2023-04-08T09:24:50.801Z"
   },
   {
    "duration": 15,
    "start_time": "2023-04-08T09:24:50.834Z"
   },
   {
    "duration": 13,
    "start_time": "2023-04-08T09:24:50.851Z"
   },
   {
    "duration": 15,
    "start_time": "2023-04-08T09:24:50.866Z"
   },
   {
    "duration": 38,
    "start_time": "2023-04-08T09:24:50.882Z"
   },
   {
    "duration": 19,
    "start_time": "2023-04-08T09:24:50.923Z"
   },
   {
    "duration": 33,
    "start_time": "2023-04-08T09:24:50.943Z"
   },
   {
    "duration": 18,
    "start_time": "2023-04-08T09:24:50.978Z"
   },
   {
    "duration": 5,
    "start_time": "2023-04-08T09:24:50.997Z"
   },
   {
    "duration": 9,
    "start_time": "2023-04-08T09:24:51.004Z"
   },
   {
    "duration": 25,
    "start_time": "2023-04-08T09:24:51.014Z"
   },
   {
    "duration": 14,
    "start_time": "2023-04-08T09:24:51.040Z"
   },
   {
    "duration": 16,
    "start_time": "2023-04-08T09:24:51.055Z"
   },
   {
    "duration": 286,
    "start_time": "2023-04-08T09:24:51.073Z"
   },
   {
    "duration": 23,
    "start_time": "2023-04-08T09:24:51.361Z"
   },
   {
    "duration": 171,
    "start_time": "2023-04-08T09:24:51.386Z"
   },
   {
    "duration": 154,
    "start_time": "2023-04-08T09:24:51.558Z"
   },
   {
    "duration": 165,
    "start_time": "2023-04-08T09:24:51.714Z"
   },
   {
    "duration": 161,
    "start_time": "2023-04-08T09:24:51.881Z"
   },
   {
    "duration": 170,
    "start_time": "2023-04-08T09:24:52.044Z"
   },
   {
    "duration": 108,
    "start_time": "2023-04-08T09:24:52.216Z"
   },
   {
    "duration": 166,
    "start_time": "2023-04-08T09:24:52.334Z"
   },
   {
    "duration": 165,
    "start_time": "2023-04-08T09:24:52.502Z"
   },
   {
    "duration": 168,
    "start_time": "2023-04-08T09:24:52.669Z"
   },
   {
    "duration": 147,
    "start_time": "2023-04-08T09:24:52.839Z"
   },
   {
    "duration": 164,
    "start_time": "2023-04-08T09:24:52.987Z"
   },
   {
    "duration": 149,
    "start_time": "2023-04-08T09:24:53.153Z"
   },
   {
    "duration": 162,
    "start_time": "2023-04-08T09:24:53.305Z"
   },
   {
    "duration": 250,
    "start_time": "2023-04-08T09:24:53.469Z"
   },
   {
    "duration": 163,
    "start_time": "2023-04-08T09:24:53.721Z"
   },
   {
    "duration": 275,
    "start_time": "2023-04-08T09:24:53.885Z"
   },
   {
    "duration": 163,
    "start_time": "2023-04-08T09:24:54.162Z"
   },
   {
    "duration": 174,
    "start_time": "2023-04-08T09:31:01.570Z"
   },
   {
    "duration": 171,
    "start_time": "2023-04-08T09:47:42.406Z"
   },
   {
    "duration": 173,
    "start_time": "2023-04-08T10:03:43.835Z"
   },
   {
    "duration": 167,
    "start_time": "2023-04-08T10:05:48.056Z"
   },
   {
    "duration": 227,
    "start_time": "2023-04-08T10:10:54.198Z"
   },
   {
    "duration": 177,
    "start_time": "2023-04-08T10:15:22.255Z"
   },
   {
    "duration": 1047,
    "start_time": "2023-04-08T10:16:20.956Z"
   },
   {
    "duration": 189,
    "start_time": "2023-04-08T10:16:45.341Z"
   },
   {
    "duration": 178,
    "start_time": "2023-04-08T10:43:17.092Z"
   },
   {
    "duration": 162,
    "start_time": "2023-04-08T11:35:11.076Z"
   },
   {
    "duration": 167,
    "start_time": "2023-04-08T11:37:35.085Z"
   },
   {
    "duration": 168,
    "start_time": "2023-04-08T11:38:31.144Z"
   },
   {
    "duration": 45,
    "start_time": "2023-04-08T20:59:46.407Z"
   },
   {
    "duration": 1129,
    "start_time": "2023-04-08T20:59:49.367Z"
   },
   {
    "duration": 16,
    "start_time": "2023-04-08T20:59:50.498Z"
   },
   {
    "duration": 2168,
    "start_time": "2023-04-08T20:59:50.515Z"
   },
   {
    "duration": 3,
    "start_time": "2023-04-08T20:59:52.686Z"
   },
   {
    "duration": 24,
    "start_time": "2023-04-08T20:59:52.690Z"
   },
   {
    "duration": 15,
    "start_time": "2023-04-08T20:59:52.716Z"
   },
   {
    "duration": 15,
    "start_time": "2023-04-08T20:59:52.733Z"
   },
   {
    "duration": 245,
    "start_time": "2023-04-08T20:59:52.750Z"
   },
   {
    "duration": 19,
    "start_time": "2023-04-08T20:59:52.997Z"
   },
   {
    "duration": 37,
    "start_time": "2023-04-08T20:59:53.020Z"
   },
   {
    "duration": 272,
    "start_time": "2023-04-08T20:59:53.059Z"
   },
   {
    "duration": 7,
    "start_time": "2023-04-08T20:59:53.334Z"
   },
   {
    "duration": 60,
    "start_time": "2023-04-08T20:59:53.343Z"
   },
   {
    "duration": 18,
    "start_time": "2023-04-08T20:59:53.405Z"
   },
   {
    "duration": 55,
    "start_time": "2023-04-08T20:59:53.425Z"
   },
   {
    "duration": 13,
    "start_time": "2023-04-08T20:59:53.481Z"
   },
   {
    "duration": 35,
    "start_time": "2023-04-08T20:59:53.496Z"
   },
   {
    "duration": 17,
    "start_time": "2023-04-08T20:59:53.533Z"
   },
   {
    "duration": 11,
    "start_time": "2023-04-08T20:59:53.551Z"
   },
   {
    "duration": 20,
    "start_time": "2023-04-08T20:59:53.563Z"
   },
   {
    "duration": 19,
    "start_time": "2023-04-08T20:59:53.584Z"
   },
   {
    "duration": 3,
    "start_time": "2023-04-08T20:59:53.605Z"
   },
   {
    "duration": 35,
    "start_time": "2023-04-08T20:59:53.610Z"
   },
   {
    "duration": 6,
    "start_time": "2023-04-08T20:59:53.646Z"
   },
   {
    "duration": 11,
    "start_time": "2023-04-08T20:59:53.654Z"
   },
   {
    "duration": 37,
    "start_time": "2023-04-08T20:59:53.666Z"
   },
   {
    "duration": 20,
    "start_time": "2023-04-08T20:59:53.704Z"
   },
   {
    "duration": 161,
    "start_time": "2023-04-08T20:59:53.728Z"
   },
   {
    "duration": 7,
    "start_time": "2023-04-08T20:59:53.891Z"
   },
   {
    "duration": 15,
    "start_time": "2023-04-08T20:59:53.901Z"
   },
   {
    "duration": 12,
    "start_time": "2023-04-08T20:59:53.935Z"
   },
   {
    "duration": 19,
    "start_time": "2023-04-08T20:59:53.949Z"
   },
   {
    "duration": 13,
    "start_time": "2023-04-08T20:59:53.970Z"
   },
   {
    "duration": 7,
    "start_time": "2023-04-08T20:59:53.984Z"
   },
   {
    "duration": 43,
    "start_time": "2023-04-08T20:59:53.992Z"
   },
   {
    "duration": 18,
    "start_time": "2023-04-08T20:59:54.037Z"
   },
   {
    "duration": 15,
    "start_time": "2023-04-08T20:59:54.057Z"
   },
   {
    "duration": 12,
    "start_time": "2023-04-08T20:59:54.074Z"
   },
   {
    "duration": 6,
    "start_time": "2023-04-08T20:59:54.087Z"
   },
   {
    "duration": 54,
    "start_time": "2023-04-08T20:59:54.094Z"
   },
   {
    "duration": 12,
    "start_time": "2023-04-08T20:59:54.150Z"
   },
   {
    "duration": 23,
    "start_time": "2023-04-08T20:59:54.164Z"
   },
   {
    "duration": 16,
    "start_time": "2023-04-08T20:59:54.189Z"
   },
   {
    "duration": 29,
    "start_time": "2023-04-08T20:59:54.206Z"
   },
   {
    "duration": 5,
    "start_time": "2023-04-08T20:59:54.236Z"
   },
   {
    "duration": 18,
    "start_time": "2023-04-08T20:59:54.242Z"
   },
   {
    "duration": 18,
    "start_time": "2023-04-08T20:59:54.262Z"
   },
   {
    "duration": 8,
    "start_time": "2023-04-08T20:59:54.281Z"
   },
   {
    "duration": 312,
    "start_time": "2023-04-08T20:59:54.290Z"
   },
   {
    "duration": 41,
    "start_time": "2023-04-08T20:59:54.604Z"
   },
   {
    "duration": 198,
    "start_time": "2023-04-08T20:59:54.647Z"
   },
   {
    "duration": 179,
    "start_time": "2023-04-08T20:59:54.847Z"
   },
   {
    "duration": 184,
    "start_time": "2023-04-08T20:59:55.035Z"
   },
   {
    "duration": 178,
    "start_time": "2023-04-08T20:59:55.220Z"
   },
   {
    "duration": 165,
    "start_time": "2023-04-08T20:59:55.400Z"
   },
   {
    "duration": 108,
    "start_time": "2023-04-08T20:59:55.567Z"
   },
   {
    "duration": 169,
    "start_time": "2023-04-08T20:59:55.677Z"
   },
   {
    "duration": 167,
    "start_time": "2023-04-08T20:59:55.847Z"
   },
   {
    "duration": 183,
    "start_time": "2023-04-08T20:59:56.016Z"
   },
   {
    "duration": 114,
    "start_time": "2023-04-08T20:59:56.201Z"
   },
   {
    "duration": 159,
    "start_time": "2023-04-08T20:59:56.316Z"
   },
   {
    "duration": 151,
    "start_time": "2023-04-08T20:59:56.476Z"
   },
   {
    "duration": 157,
    "start_time": "2023-04-08T20:59:56.629Z"
   },
   {
    "duration": 253,
    "start_time": "2023-04-08T20:59:56.788Z"
   },
   {
    "duration": 159,
    "start_time": "2023-04-08T20:59:57.043Z"
   },
   {
    "duration": 292,
    "start_time": "2023-04-08T20:59:57.204Z"
   },
   {
    "duration": 174,
    "start_time": "2023-04-08T20:59:57.497Z"
   },
   {
    "duration": 191,
    "start_time": "2023-04-08T20:59:57.672Z"
   },
   {
    "duration": 179,
    "start_time": "2023-04-08T20:59:57.864Z"
   },
   {
    "duration": 189,
    "start_time": "2023-04-08T20:59:58.044Z"
   },
   {
    "duration": 178,
    "start_time": "2023-04-08T20:59:58.235Z"
   },
   {
    "duration": 177,
    "start_time": "2023-04-08T20:59:58.415Z"
   },
   {
    "duration": 181,
    "start_time": "2023-04-08T20:59:58.593Z"
   },
   {
    "duration": 164,
    "start_time": "2023-04-08T20:59:58.775Z"
   },
   {
    "duration": 34,
    "start_time": "2023-04-08T20:59:58.940Z"
   },
   {
    "duration": 12,
    "start_time": "2023-04-08T21:00:15.172Z"
   },
   {
    "duration": 16,
    "start_time": "2023-04-08T21:00:38.921Z"
   },
   {
    "duration": 15,
    "start_time": "2023-04-08T21:00:58.320Z"
   },
   {
    "duration": 24,
    "start_time": "2023-04-08T21:02:39.001Z"
   },
   {
    "duration": 918,
    "start_time": "2023-04-08T21:03:12.209Z"
   },
   {
    "duration": 30,
    "start_time": "2023-04-08T21:03:45.724Z"
   },
   {
    "duration": 46,
    "start_time": "2023-04-08T21:04:09.804Z"
   },
   {
    "duration": 34,
    "start_time": "2023-04-08T21:04:16.333Z"
   },
   {
    "duration": 21,
    "start_time": "2023-04-08T21:11:59.604Z"
   },
   {
    "duration": 16,
    "start_time": "2023-04-08T21:14:24.112Z"
   },
   {
    "duration": 17,
    "start_time": "2023-04-08T21:14:45.230Z"
   },
   {
    "duration": 19,
    "start_time": "2023-04-08T21:14:50.404Z"
   },
   {
    "duration": 17,
    "start_time": "2023-04-08T21:15:00.113Z"
   },
   {
    "duration": 18,
    "start_time": "2023-04-08T21:15:29.308Z"
   },
   {
    "duration": 19,
    "start_time": "2023-04-08T21:18:06.473Z"
   },
   {
    "duration": 8,
    "start_time": "2023-04-08T21:37:11.477Z"
   },
   {
    "duration": 13,
    "start_time": "2023-04-08T21:37:29.105Z"
   },
   {
    "duration": 18,
    "start_time": "2023-04-08T21:47:54.903Z"
   },
   {
    "duration": 8,
    "start_time": "2023-04-08T21:48:39.671Z"
   },
   {
    "duration": 5,
    "start_time": "2023-04-08T21:48:48.534Z"
   },
   {
    "duration": 17,
    "start_time": "2023-04-08T21:50:27.058Z"
   },
   {
    "duration": 189,
    "start_time": "2023-04-08T21:51:34.823Z"
   },
   {
    "duration": 175,
    "start_time": "2023-04-08T21:52:08.849Z"
   },
   {
    "duration": 189,
    "start_time": "2023-04-08T21:52:37.388Z"
   },
   {
    "duration": 48,
    "start_time": "2023-04-08T21:52:45.997Z"
   },
   {
    "duration": 296,
    "start_time": "2023-04-08T21:52:50.859Z"
   },
   {
    "duration": 52,
    "start_time": "2023-04-09T09:57:24.892Z"
   },
   {
    "duration": 1152,
    "start_time": "2023-04-09T09:57:28.339Z"
   },
   {
    "duration": 15,
    "start_time": "2023-04-09T09:57:29.493Z"
   },
   {
    "duration": 2695,
    "start_time": "2023-04-09T09:57:29.509Z"
   },
   {
    "duration": 7,
    "start_time": "2023-04-09T09:57:32.206Z"
   },
   {
    "duration": 24,
    "start_time": "2023-04-09T09:57:32.214Z"
   },
   {
    "duration": 7,
    "start_time": "2023-04-09T09:57:32.240Z"
   },
   {
    "duration": 206,
    "start_time": "2023-04-09T09:57:32.248Z"
   },
   {
    "duration": 14,
    "start_time": "2023-04-09T09:57:32.455Z"
   },
   {
    "duration": 11,
    "start_time": "2023-04-09T09:57:32.471Z"
   },
   {
    "duration": 8,
    "start_time": "2023-04-09T09:57:32.485Z"
   },
   {
    "duration": 19,
    "start_time": "2023-04-09T09:57:32.494Z"
   },
   {
    "duration": 40,
    "start_time": "2023-04-09T09:57:32.515Z"
   },
   {
    "duration": 6,
    "start_time": "2023-04-09T09:57:32.557Z"
   },
   {
    "duration": 15,
    "start_time": "2023-04-09T09:57:32.564Z"
   },
   {
    "duration": 18,
    "start_time": "2023-04-09T09:57:32.580Z"
   },
   {
    "duration": 8,
    "start_time": "2023-04-09T09:57:32.599Z"
   },
   {
    "duration": 8,
    "start_time": "2023-04-09T09:57:32.608Z"
   },
   {
    "duration": 31,
    "start_time": "2023-04-09T09:57:32.618Z"
   },
   {
    "duration": 17,
    "start_time": "2023-04-09T09:57:32.651Z"
   },
   {
    "duration": 3,
    "start_time": "2023-04-09T09:57:32.669Z"
   },
   {
    "duration": 19,
    "start_time": "2023-04-09T09:57:32.674Z"
   },
   {
    "duration": 9,
    "start_time": "2023-04-09T09:57:32.695Z"
   },
   {
    "duration": 5,
    "start_time": "2023-04-09T09:57:32.706Z"
   },
   {
    "duration": 17,
    "start_time": "2023-04-09T09:57:32.748Z"
   },
   {
    "duration": 17,
    "start_time": "2023-04-09T09:57:32.767Z"
   },
   {
    "duration": 149,
    "start_time": "2023-04-09T09:57:32.785Z"
   },
   {
    "duration": 15,
    "start_time": "2023-04-09T09:57:32.936Z"
   },
   {
    "duration": 12,
    "start_time": "2023-04-09T09:57:32.956Z"
   },
   {
    "duration": 11,
    "start_time": "2023-04-09T09:57:32.970Z"
   },
   {
    "duration": 19,
    "start_time": "2023-04-09T09:57:32.983Z"
   },
   {
    "duration": 50,
    "start_time": "2023-04-09T09:57:33.004Z"
   },
   {
    "duration": 9,
    "start_time": "2023-04-09T09:57:33.056Z"
   },
   {
    "duration": 10,
    "start_time": "2023-04-09T09:57:33.067Z"
   },
   {
    "duration": 17,
    "start_time": "2023-04-09T09:57:33.079Z"
   },
   {
    "duration": 15,
    "start_time": "2023-04-09T09:57:33.098Z"
   },
   {
    "duration": 39,
    "start_time": "2023-04-09T09:57:33.114Z"
   },
   {
    "duration": 7,
    "start_time": "2023-04-09T09:57:33.155Z"
   },
   {
    "duration": 50,
    "start_time": "2023-04-09T09:57:33.164Z"
   },
   {
    "duration": 11,
    "start_time": "2023-04-09T09:57:33.216Z"
   },
   {
    "duration": 16,
    "start_time": "2023-04-09T09:57:33.229Z"
   },
   {
    "duration": 15,
    "start_time": "2023-04-09T09:57:33.248Z"
   },
   {
    "duration": 4,
    "start_time": "2023-04-09T09:57:33.264Z"
   },
   {
    "duration": 11,
    "start_time": "2023-04-09T09:57:33.270Z"
   },
   {
    "duration": 10,
    "start_time": "2023-04-09T09:57:33.282Z"
   },
   {
    "duration": 4,
    "start_time": "2023-04-09T09:57:33.294Z"
   },
   {
    "duration": 10,
    "start_time": "2023-04-09T09:57:33.300Z"
   },
   {
    "duration": 321,
    "start_time": "2023-04-09T09:57:33.312Z"
   },
   {
    "duration": 29,
    "start_time": "2023-04-09T09:57:33.635Z"
   },
   {
    "duration": 171,
    "start_time": "2023-04-09T09:57:33.666Z"
   },
   {
    "duration": 114,
    "start_time": "2023-04-09T09:57:33.839Z"
   },
   {
    "duration": 236,
    "start_time": "2023-04-09T09:57:33.955Z"
   },
   {
    "duration": 192,
    "start_time": "2023-04-09T09:57:34.193Z"
   },
   {
    "duration": 205,
    "start_time": "2023-04-09T09:57:34.387Z"
   },
   {
    "duration": 163,
    "start_time": "2023-04-09T09:57:34.594Z"
   },
   {
    "duration": 193,
    "start_time": "2023-04-09T09:57:34.759Z"
   },
   {
    "duration": 211,
    "start_time": "2023-04-09T09:57:34.954Z"
   },
   {
    "duration": 188,
    "start_time": "2023-04-09T09:57:35.167Z"
   },
   {
    "duration": 139,
    "start_time": "2023-04-09T09:57:35.356Z"
   },
   {
    "duration": 175,
    "start_time": "2023-04-09T09:57:35.497Z"
   },
   {
    "duration": 165,
    "start_time": "2023-04-09T09:57:35.675Z"
   },
   {
    "duration": 188,
    "start_time": "2023-04-09T09:57:35.842Z"
   },
   {
    "duration": 178,
    "start_time": "2023-04-09T09:57:36.034Z"
   },
   {
    "duration": 272,
    "start_time": "2023-04-09T09:57:36.214Z"
   },
   {
    "duration": 302,
    "start_time": "2023-04-09T09:57:36.488Z"
   },
   {
    "duration": 196,
    "start_time": "2023-04-09T09:57:36.791Z"
   },
   {
    "duration": 207,
    "start_time": "2023-04-09T09:57:36.989Z"
   },
   {
    "duration": 192,
    "start_time": "2023-04-09T09:57:37.198Z"
   },
   {
    "duration": 183,
    "start_time": "2023-04-09T09:57:37.391Z"
   },
   {
    "duration": 187,
    "start_time": "2023-04-09T09:57:37.575Z"
   },
   {
    "duration": 190,
    "start_time": "2023-04-09T09:57:37.763Z"
   },
   {
    "duration": 179,
    "start_time": "2023-04-09T09:57:37.955Z"
   },
   {
    "duration": 204,
    "start_time": "2023-04-09T09:57:38.136Z"
   },
   {
    "duration": 21,
    "start_time": "2023-04-09T09:57:38.341Z"
   },
   {
    "duration": 199,
    "start_time": "2023-04-09T09:57:38.364Z"
   },
   {
    "duration": 11,
    "start_time": "2023-04-09T09:57:38.569Z"
   },
   {
    "duration": 12,
    "start_time": "2023-04-09T09:57:38.581Z"
   },
   {
    "duration": 9,
    "start_time": "2023-04-09T09:57:48.168Z"
   },
   {
    "duration": 17,
    "start_time": "2023-04-09T09:58:32.135Z"
   },
   {
    "duration": 4,
    "start_time": "2023-04-09T10:03:13.437Z"
   },
   {
    "duration": 14,
    "start_time": "2023-04-09T10:03:50.099Z"
   },
   {
    "duration": 20,
    "start_time": "2023-04-09T10:03:56.441Z"
   },
   {
    "duration": 10,
    "start_time": "2023-04-09T10:04:03.104Z"
   },
   {
    "duration": 10,
    "start_time": "2023-04-09T10:07:20.164Z"
   },
   {
    "duration": 373,
    "start_time": "2023-04-09T10:10:32.208Z"
   },
   {
    "duration": 159,
    "start_time": "2023-04-09T10:16:18.923Z"
   },
   {
    "duration": 195,
    "start_time": "2023-04-09T10:16:55.049Z"
   },
   {
    "duration": 167,
    "start_time": "2023-04-09T12:21:24.033Z"
   },
   {
    "duration": 191,
    "start_time": "2023-04-09T12:24:44.278Z"
   },
   {
    "duration": 51,
    "start_time": "2023-04-10T13:52:53.074Z"
   },
   {
    "duration": 1597,
    "start_time": "2023-04-10T13:52:57.302Z"
   },
   {
    "duration": 46,
    "start_time": "2023-04-10T13:52:58.901Z"
   },
   {
    "duration": 2387,
    "start_time": "2023-04-10T13:52:58.952Z"
   },
   {
    "duration": 10,
    "start_time": "2023-04-10T13:53:01.342Z"
   },
   {
    "duration": 64,
    "start_time": "2023-04-10T13:53:01.356Z"
   },
   {
    "duration": 36,
    "start_time": "2023-04-10T13:53:01.423Z"
   },
   {
    "duration": 315,
    "start_time": "2023-04-10T13:53:01.461Z"
   },
   {
    "duration": 27,
    "start_time": "2023-04-10T13:53:01.778Z"
   },
   {
    "duration": 37,
    "start_time": "2023-04-10T13:53:01.808Z"
   },
   {
    "duration": 11,
    "start_time": "2023-04-10T13:53:01.847Z"
   },
   {
    "duration": 34,
    "start_time": "2023-04-10T13:53:01.861Z"
   },
   {
    "duration": 28,
    "start_time": "2023-04-10T13:53:01.898Z"
   },
   {
    "duration": 35,
    "start_time": "2023-04-10T13:53:01.928Z"
   },
   {
    "duration": 76,
    "start_time": "2023-04-10T13:53:01.967Z"
   },
   {
    "duration": 38,
    "start_time": "2023-04-10T13:53:02.046Z"
   },
   {
    "duration": 29,
    "start_time": "2023-04-10T13:53:02.086Z"
   },
   {
    "duration": 31,
    "start_time": "2023-04-10T13:53:02.116Z"
   },
   {
    "duration": 39,
    "start_time": "2023-04-10T13:53:02.149Z"
   },
   {
    "duration": 31,
    "start_time": "2023-04-10T13:53:02.190Z"
   },
   {
    "duration": 61,
    "start_time": "2023-04-10T13:53:02.223Z"
   },
   {
    "duration": 69,
    "start_time": "2023-04-10T13:53:02.286Z"
   },
   {
    "duration": 33,
    "start_time": "2023-04-10T13:53:02.357Z"
   },
   {
    "duration": 32,
    "start_time": "2023-04-10T13:53:02.392Z"
   },
   {
    "duration": 51,
    "start_time": "2023-04-10T13:53:02.426Z"
   },
   {
    "duration": 41,
    "start_time": "2023-04-10T13:53:02.479Z"
   },
   {
    "duration": 173,
    "start_time": "2023-04-10T13:53:02.522Z"
   },
   {
    "duration": 9,
    "start_time": "2023-04-10T13:53:02.697Z"
   },
   {
    "duration": 33,
    "start_time": "2023-04-10T13:53:02.708Z"
   },
   {
    "duration": 34,
    "start_time": "2023-04-10T13:53:02.744Z"
   },
   {
    "duration": 32,
    "start_time": "2023-04-10T13:53:02.780Z"
   },
   {
    "duration": 37,
    "start_time": "2023-04-10T13:53:02.815Z"
   },
   {
    "duration": 13,
    "start_time": "2023-04-10T13:53:02.853Z"
   },
   {
    "duration": 27,
    "start_time": "2023-04-10T13:53:02.867Z"
   },
   {
    "duration": 27,
    "start_time": "2023-04-10T13:53:02.895Z"
   },
   {
    "duration": 20,
    "start_time": "2023-04-10T13:53:02.923Z"
   },
   {
    "duration": 42,
    "start_time": "2023-04-10T13:53:02.944Z"
   },
   {
    "duration": 18,
    "start_time": "2023-04-10T13:53:02.987Z"
   },
   {
    "duration": 39,
    "start_time": "2023-04-10T13:53:03.007Z"
   },
   {
    "duration": 20,
    "start_time": "2023-04-10T13:53:03.048Z"
   },
   {
    "duration": 16,
    "start_time": "2023-04-10T13:53:03.071Z"
   },
   {
    "duration": 22,
    "start_time": "2023-04-10T13:53:03.091Z"
   },
   {
    "duration": 46,
    "start_time": "2023-04-10T13:53:03.115Z"
   },
   {
    "duration": 17,
    "start_time": "2023-04-10T13:53:03.163Z"
   },
   {
    "duration": 26,
    "start_time": "2023-04-10T13:53:03.182Z"
   },
   {
    "duration": 317,
    "start_time": "2023-04-10T13:53:03.210Z"
   },
   {
    "duration": 35,
    "start_time": "2023-04-10T13:53:03.529Z"
   },
   {
    "duration": 198,
    "start_time": "2023-04-10T13:53:03.566Z"
   },
   {
    "duration": 110,
    "start_time": "2023-04-10T13:53:03.766Z"
   },
   {
    "duration": 283,
    "start_time": "2023-04-10T13:53:03.878Z"
   },
   {
    "duration": 196,
    "start_time": "2023-04-10T13:53:04.163Z"
   },
   {
    "duration": 194,
    "start_time": "2023-04-10T13:53:04.362Z"
   },
   {
    "duration": 147,
    "start_time": "2023-04-10T13:53:04.558Z"
   },
   {
    "duration": 216,
    "start_time": "2023-04-10T13:53:04.708Z"
   },
   {
    "duration": 193,
    "start_time": "2023-04-10T13:53:04.926Z"
   },
   {
    "duration": 212,
    "start_time": "2023-04-10T13:53:05.121Z"
   },
   {
    "duration": 165,
    "start_time": "2023-04-10T13:53:05.342Z"
   },
   {
    "duration": 206,
    "start_time": "2023-04-10T13:53:05.509Z"
   },
   {
    "duration": 241,
    "start_time": "2023-04-10T13:53:05.718Z"
   },
   {
    "duration": 261,
    "start_time": "2023-04-10T13:53:05.961Z"
   },
   {
    "duration": 236,
    "start_time": "2023-04-10T13:53:06.224Z"
   },
   {
    "duration": 356,
    "start_time": "2023-04-10T13:53:06.461Z"
   },
   {
    "duration": 186,
    "start_time": "2023-04-10T13:53:06.819Z"
   },
   {
    "duration": 356,
    "start_time": "2023-04-10T13:53:07.007Z"
   },
   {
    "duration": 223,
    "start_time": "2023-04-10T13:53:07.365Z"
   },
   {
    "duration": 228,
    "start_time": "2023-04-10T13:53:07.590Z"
   },
   {
    "duration": 259,
    "start_time": "2023-04-10T13:53:07.820Z"
   },
   {
    "duration": 218,
    "start_time": "2023-04-10T13:53:08.081Z"
   },
   {
    "duration": 232,
    "start_time": "2023-04-10T13:53:08.301Z"
   },
   {
    "duration": 211,
    "start_time": "2023-04-10T13:53:08.541Z"
   },
   {
    "duration": 211,
    "start_time": "2023-04-10T13:53:08.754Z"
   },
   {
    "duration": 210,
    "start_time": "2023-04-10T13:53:08.967Z"
   },
   {
    "duration": 25,
    "start_time": "2023-04-10T13:53:09.178Z"
   },
   {
    "duration": 249,
    "start_time": "2023-04-10T13:53:09.204Z"
   },
   {
    "duration": 64,
    "start_time": "2023-04-10T13:53:19.186Z"
   },
   {
    "duration": 42,
    "start_time": "2023-04-10T13:53:32.672Z"
   },
   {
    "duration": 14,
    "start_time": "2023-04-10T13:53:42.256Z"
   },
   {
    "duration": 21,
    "start_time": "2023-04-10T13:54:39.456Z"
   },
   {
    "duration": 152,
    "start_time": "2023-04-10T13:55:14.130Z"
   },
   {
    "duration": 31,
    "start_time": "2023-04-10T13:55:16.538Z"
   },
   {
    "duration": 2297,
    "start_time": "2023-04-10T13:55:17.131Z"
   },
   {
    "duration": 10,
    "start_time": "2023-04-10T14:00:22.082Z"
   },
   {
    "duration": 250,
    "start_time": "2023-04-10T14:02:08.327Z"
   },
   {
    "duration": 236,
    "start_time": "2023-04-10T14:09:25.519Z"
   },
   {
    "duration": 15,
    "start_time": "2023-04-10T14:11:28.310Z"
   },
   {
    "duration": 30,
    "start_time": "2023-04-10T14:11:35.261Z"
   },
   {
    "duration": 14,
    "start_time": "2023-04-10T14:11:48.156Z"
   },
   {
    "duration": 299,
    "start_time": "2023-04-10T14:12:25.725Z"
   },
   {
    "duration": 13,
    "start_time": "2023-04-10T14:15:44.922Z"
   },
   {
    "duration": 376,
    "start_time": "2023-04-10T14:16:09.539Z"
   },
   {
    "duration": 1060,
    "start_time": "2023-04-10T14:53:35.682Z"
   },
   {
    "duration": 24,
    "start_time": "2023-04-10T14:53:36.828Z"
   },
   {
    "duration": 155,
    "start_time": "2023-04-10T14:53:42.777Z"
   },
   {
    "duration": 21,
    "start_time": "2023-04-10T14:53:42.933Z"
   },
   {
    "duration": 2112,
    "start_time": "2023-04-10T14:53:42.956Z"
   },
   {
    "duration": 7,
    "start_time": "2023-04-10T14:53:45.070Z"
   },
   {
    "duration": 16,
    "start_time": "2023-04-10T14:53:45.079Z"
   },
   {
    "duration": 8,
    "start_time": "2023-04-10T14:53:45.096Z"
   },
   {
    "duration": 252,
    "start_time": "2023-04-10T14:53:45.106Z"
   },
   {
    "duration": 16,
    "start_time": "2023-04-10T14:53:45.360Z"
   },
   {
    "duration": 11,
    "start_time": "2023-04-10T14:53:45.377Z"
   },
   {
    "duration": 27,
    "start_time": "2023-04-10T14:53:45.391Z"
   },
   {
    "duration": 31,
    "start_time": "2023-04-10T14:53:45.420Z"
   },
   {
    "duration": 16,
    "start_time": "2023-04-10T14:53:45.453Z"
   },
   {
    "duration": 16,
    "start_time": "2023-04-10T14:53:45.470Z"
   },
   {
    "duration": 7,
    "start_time": "2023-04-10T14:53:45.487Z"
   },
   {
    "duration": 19,
    "start_time": "2023-04-10T14:53:45.495Z"
   },
   {
    "duration": 7,
    "start_time": "2023-04-10T14:53:45.516Z"
   },
   {
    "duration": 9,
    "start_time": "2023-04-10T14:53:45.525Z"
   },
   {
    "duration": 18,
    "start_time": "2023-04-10T14:53:45.536Z"
   },
   {
    "duration": 17,
    "start_time": "2023-04-10T14:53:45.556Z"
   },
   {
    "duration": 10,
    "start_time": "2023-04-10T14:53:45.575Z"
   },
   {
    "duration": 25,
    "start_time": "2023-04-10T14:53:45.586Z"
   },
   {
    "duration": 18,
    "start_time": "2023-04-10T14:53:45.615Z"
   },
   {
    "duration": 7,
    "start_time": "2023-04-10T14:53:45.634Z"
   },
   {
    "duration": 22,
    "start_time": "2023-04-10T14:53:45.642Z"
   },
   {
    "duration": 8,
    "start_time": "2023-04-10T14:53:45.666Z"
   },
   {
    "duration": 43,
    "start_time": "2023-04-10T14:53:45.676Z"
   },
   {
    "duration": 185,
    "start_time": "2023-04-10T14:53:45.721Z"
   },
   {
    "duration": 7,
    "start_time": "2023-04-10T14:53:45.911Z"
   },
   {
    "duration": 19,
    "start_time": "2023-04-10T14:53:45.920Z"
   },
   {
    "duration": 14,
    "start_time": "2023-04-10T14:53:45.941Z"
   },
   {
    "duration": 21,
    "start_time": "2023-04-10T14:53:45.956Z"
   },
   {
    "duration": 43,
    "start_time": "2023-04-10T14:53:45.979Z"
   },
   {
    "duration": 10,
    "start_time": "2023-04-10T14:53:46.024Z"
   },
   {
    "duration": 14,
    "start_time": "2023-04-10T14:53:46.036Z"
   },
   {
    "duration": 21,
    "start_time": "2023-04-10T14:53:46.052Z"
   },
   {
    "duration": 7,
    "start_time": "2023-04-10T14:53:46.075Z"
   },
   {
    "duration": 56,
    "start_time": "2023-04-10T14:53:46.084Z"
   },
   {
    "duration": 15,
    "start_time": "2023-04-10T14:53:46.141Z"
   },
   {
    "duration": 21,
    "start_time": "2023-04-10T14:53:46.157Z"
   },
   {
    "duration": 38,
    "start_time": "2023-04-10T14:53:46.180Z"
   },
   {
    "duration": 6,
    "start_time": "2023-04-10T14:53:46.220Z"
   },
   {
    "duration": 38,
    "start_time": "2023-04-10T14:53:46.229Z"
   },
   {
    "duration": 9,
    "start_time": "2023-04-10T14:53:46.269Z"
   },
   {
    "duration": 13,
    "start_time": "2023-04-10T14:53:46.279Z"
   },
   {
    "duration": 10,
    "start_time": "2023-04-10T14:53:46.294Z"
   },
   {
    "duration": 306,
    "start_time": "2023-04-10T14:53:46.306Z"
   },
   {
    "duration": 27,
    "start_time": "2023-04-10T14:53:46.613Z"
   },
   {
    "duration": 209,
    "start_time": "2023-04-10T14:53:46.642Z"
   },
   {
    "duration": 115,
    "start_time": "2023-04-10T14:53:46.853Z"
   },
   {
    "duration": 250,
    "start_time": "2023-04-10T14:53:46.969Z"
   },
   {
    "duration": 188,
    "start_time": "2023-04-10T14:53:47.221Z"
   },
   {
    "duration": 202,
    "start_time": "2023-04-10T14:53:47.410Z"
   },
   {
    "duration": 127,
    "start_time": "2023-04-10T14:53:47.614Z"
   },
   {
    "duration": 196,
    "start_time": "2023-04-10T14:53:47.743Z"
   },
   {
    "duration": 182,
    "start_time": "2023-04-10T14:53:47.940Z"
   },
   {
    "duration": 198,
    "start_time": "2023-04-10T14:53:48.123Z"
   },
   {
    "duration": 156,
    "start_time": "2023-04-10T14:53:48.323Z"
   },
   {
    "duration": 185,
    "start_time": "2023-04-10T14:53:48.481Z"
   },
   {
    "duration": 176,
    "start_time": "2023-04-10T14:53:48.668Z"
   },
   {
    "duration": 191,
    "start_time": "2023-04-10T14:53:48.845Z"
   },
   {
    "duration": 196,
    "start_time": "2023-04-10T14:53:49.039Z"
   },
   {
    "duration": 319,
    "start_time": "2023-04-10T14:53:49.236Z"
   },
   {
    "duration": 217,
    "start_time": "2023-04-10T14:53:49.557Z"
   },
   {
    "duration": 326,
    "start_time": "2023-04-10T14:53:49.776Z"
   },
   {
    "duration": 204,
    "start_time": "2023-04-10T14:53:50.104Z"
   },
   {
    "duration": 208,
    "start_time": "2023-04-10T14:53:50.311Z"
   },
   {
    "duration": 206,
    "start_time": "2023-04-10T14:53:50.521Z"
   },
   {
    "duration": 128,
    "start_time": "2023-04-10T15:02:15.411Z"
   },
   {
    "duration": 20,
    "start_time": "2023-04-10T15:02:15.541Z"
   },
   {
    "duration": 1999,
    "start_time": "2023-04-10T15:02:15.562Z"
   },
   {
    "duration": 6,
    "start_time": "2023-04-10T15:02:17.563Z"
   },
   {
    "duration": 17,
    "start_time": "2023-04-10T15:02:17.570Z"
   },
   {
    "duration": 25,
    "start_time": "2023-04-10T15:02:17.588Z"
   },
   {
    "duration": 269,
    "start_time": "2023-04-10T15:02:17.615Z"
   },
   {
    "duration": 13,
    "start_time": "2023-04-10T15:02:17.885Z"
   },
   {
    "duration": 13,
    "start_time": "2023-04-10T15:02:17.911Z"
   },
   {
    "duration": 18,
    "start_time": "2023-04-10T15:02:17.926Z"
   },
   {
    "duration": 39,
    "start_time": "2023-04-10T15:02:17.945Z"
   },
   {
    "duration": 28,
    "start_time": "2023-04-10T15:02:17.985Z"
   },
   {
    "duration": 18,
    "start_time": "2023-04-10T15:02:18.015Z"
   },
   {
    "duration": 40,
    "start_time": "2023-04-10T15:02:18.035Z"
   },
   {
    "duration": 47,
    "start_time": "2023-04-10T15:02:18.077Z"
   },
   {
    "duration": 9,
    "start_time": "2023-04-10T15:02:18.126Z"
   },
   {
    "duration": 13,
    "start_time": "2023-04-10T15:02:18.136Z"
   },
   {
    "duration": 13,
    "start_time": "2023-04-10T15:02:18.151Z"
   },
   {
    "duration": 18,
    "start_time": "2023-04-10T15:02:18.166Z"
   },
   {
    "duration": 32,
    "start_time": "2023-04-10T15:02:18.185Z"
   },
   {
    "duration": 9,
    "start_time": "2023-04-10T15:02:18.219Z"
   },
   {
    "duration": 22,
    "start_time": "2023-04-10T15:02:18.230Z"
   },
   {
    "duration": 7,
    "start_time": "2023-04-10T15:02:18.253Z"
   },
   {
    "duration": 27,
    "start_time": "2023-04-10T15:02:18.262Z"
   },
   {
    "duration": 22,
    "start_time": "2023-04-10T15:02:18.291Z"
   },
   {
    "duration": 11,
    "start_time": "2023-04-10T15:02:18.315Z"
   },
   {
    "duration": 178,
    "start_time": "2023-04-10T15:02:18.327Z"
   },
   {
    "duration": 8,
    "start_time": "2023-04-10T15:02:18.511Z"
   },
   {
    "duration": 33,
    "start_time": "2023-04-10T15:02:18.520Z"
   },
   {
    "duration": 52,
    "start_time": "2023-04-10T15:02:18.554Z"
   },
   {
    "duration": 33,
    "start_time": "2023-04-10T15:02:18.607Z"
   },
   {
    "duration": 13,
    "start_time": "2023-04-10T15:02:18.642Z"
   },
   {
    "duration": 67,
    "start_time": "2023-04-10T15:02:18.657Z"
   },
   {
    "duration": 10,
    "start_time": "2023-04-10T15:02:18.726Z"
   },
   {
    "duration": 16,
    "start_time": "2023-04-10T15:02:18.738Z"
   },
   {
    "duration": 6,
    "start_time": "2023-04-10T15:02:18.755Z"
   },
   {
    "duration": 30,
    "start_time": "2023-04-10T15:02:18.762Z"
   },
   {
    "duration": 37,
    "start_time": "2023-04-10T15:02:18.794Z"
   },
   {
    "duration": 20,
    "start_time": "2023-04-10T15:02:18.833Z"
   },
   {
    "duration": 19,
    "start_time": "2023-04-10T15:02:18.856Z"
   },
   {
    "duration": 35,
    "start_time": "2023-04-10T15:02:18.877Z"
   },
   {
    "duration": 6,
    "start_time": "2023-04-10T15:02:18.914Z"
   },
   {
    "duration": 12,
    "start_time": "2023-04-10T15:02:18.922Z"
   },
   {
    "duration": 10,
    "start_time": "2023-04-10T15:02:18.937Z"
   },
   {
    "duration": 13,
    "start_time": "2023-04-10T15:02:18.950Z"
   },
   {
    "duration": 371,
    "start_time": "2023-04-10T15:02:18.965Z"
   },
   {
    "duration": 25,
    "start_time": "2023-04-10T15:02:19.338Z"
   },
   {
    "duration": 193,
    "start_time": "2023-04-10T15:02:19.365Z"
   },
   {
    "duration": 105,
    "start_time": "2023-04-10T15:02:19.560Z"
   },
   {
    "duration": 174,
    "start_time": "2023-04-10T15:02:19.667Z"
   },
   {
    "duration": 179,
    "start_time": "2023-04-10T15:02:19.843Z"
   },
   {
    "duration": 209,
    "start_time": "2023-04-10T15:02:20.024Z"
   },
   {
    "duration": 125,
    "start_time": "2023-04-10T15:02:20.235Z"
   },
   {
    "duration": 192,
    "start_time": "2023-04-10T15:02:20.362Z"
   },
   {
    "duration": 178,
    "start_time": "2023-04-10T15:02:20.555Z"
   },
   {
    "duration": 190,
    "start_time": "2023-04-10T15:02:20.734Z"
   },
   {
    "duration": 151,
    "start_time": "2023-04-10T15:02:20.926Z"
   },
   {
    "duration": 177,
    "start_time": "2023-04-10T15:02:21.078Z"
   },
   {
    "duration": 168,
    "start_time": "2023-04-10T15:02:21.257Z"
   },
   {
    "duration": 184,
    "start_time": "2023-04-10T15:02:21.427Z"
   },
   {
    "duration": 180,
    "start_time": "2023-04-10T15:02:21.613Z"
   },
   {
    "duration": 190,
    "start_time": "2023-04-10T15:02:21.795Z"
   },
   {
    "duration": 163,
    "start_time": "2023-04-10T15:02:21.986Z"
   },
   {
    "duration": 321,
    "start_time": "2023-04-10T15:02:22.151Z"
   },
   {
    "duration": 211,
    "start_time": "2023-04-10T15:02:22.474Z"
   },
   {
    "duration": 217,
    "start_time": "2023-04-10T15:02:22.689Z"
   },
   {
    "duration": 190,
    "start_time": "2023-04-10T15:02:22.911Z"
   },
   {
    "duration": 89,
    "start_time": "2023-04-10T15:02:23.103Z"
   },
   {
    "duration": 0,
    "start_time": "2023-04-10T15:02:23.195Z"
   },
   {
    "duration": 0,
    "start_time": "2023-04-10T15:02:23.196Z"
   },
   {
    "duration": 0,
    "start_time": "2023-04-10T15:02:23.197Z"
   },
   {
    "duration": 0,
    "start_time": "2023-04-10T15:02:23.212Z"
   },
   {
    "duration": 0,
    "start_time": "2023-04-10T15:02:23.213Z"
   },
   {
    "duration": 0,
    "start_time": "2023-04-10T15:02:23.214Z"
   },
   {
    "duration": 131,
    "start_time": "2023-04-10T17:51:11.418Z"
   },
   {
    "duration": 23,
    "start_time": "2023-04-10T17:51:11.551Z"
   },
   {
    "duration": 2054,
    "start_time": "2023-04-10T17:51:11.576Z"
   },
   {
    "duration": 5,
    "start_time": "2023-04-10T17:51:13.632Z"
   },
   {
    "duration": 39,
    "start_time": "2023-04-10T17:51:13.639Z"
   },
   {
    "duration": 8,
    "start_time": "2023-04-10T17:51:13.679Z"
   },
   {
    "duration": 266,
    "start_time": "2023-04-10T17:51:13.689Z"
   },
   {
    "duration": 13,
    "start_time": "2023-04-10T17:51:13.958Z"
   },
   {
    "duration": 12,
    "start_time": "2023-04-10T17:51:13.973Z"
   },
   {
    "duration": 30,
    "start_time": "2023-04-10T17:51:13.987Z"
   },
   {
    "duration": 22,
    "start_time": "2023-04-10T17:51:14.019Z"
   },
   {
    "duration": 17,
    "start_time": "2023-04-10T17:51:14.043Z"
   },
   {
    "duration": 6,
    "start_time": "2023-04-10T17:51:14.061Z"
   },
   {
    "duration": 7,
    "start_time": "2023-04-10T17:51:14.071Z"
   },
   {
    "duration": 39,
    "start_time": "2023-04-10T17:51:14.079Z"
   },
   {
    "duration": 8,
    "start_time": "2023-04-10T17:51:14.120Z"
   },
   {
    "duration": 7,
    "start_time": "2023-04-10T17:51:14.129Z"
   },
   {
    "duration": 10,
    "start_time": "2023-04-10T17:51:14.138Z"
   },
   {
    "duration": 17,
    "start_time": "2023-04-10T17:51:14.150Z"
   },
   {
    "duration": 47,
    "start_time": "2023-04-10T17:51:14.169Z"
   },
   {
    "duration": 4,
    "start_time": "2023-04-10T17:51:14.218Z"
   },
   {
    "duration": 19,
    "start_time": "2023-04-10T17:51:14.224Z"
   },
   {
    "duration": 8,
    "start_time": "2023-04-10T17:51:14.245Z"
   },
   {
    "duration": 24,
    "start_time": "2023-04-10T17:51:14.255Z"
   },
   {
    "duration": 32,
    "start_time": "2023-04-10T17:51:14.281Z"
   },
   {
    "duration": 12,
    "start_time": "2023-04-10T17:51:14.315Z"
   },
   {
    "duration": 183,
    "start_time": "2023-04-10T17:51:14.329Z"
   },
   {
    "duration": 8,
    "start_time": "2023-04-10T17:51:14.513Z"
   },
   {
    "duration": 14,
    "start_time": "2023-04-10T17:51:14.522Z"
   },
   {
    "duration": 13,
    "start_time": "2023-04-10T17:51:14.538Z"
   },
   {
    "duration": 20,
    "start_time": "2023-04-10T17:51:14.553Z"
   },
   {
    "duration": 44,
    "start_time": "2023-04-10T17:51:14.575Z"
   },
   {
    "duration": 9,
    "start_time": "2023-04-10T17:51:14.621Z"
   },
   {
    "duration": 26,
    "start_time": "2023-04-10T17:51:14.631Z"
   },
   {
    "duration": 17,
    "start_time": "2023-04-10T17:51:14.658Z"
   },
   {
    "duration": 5,
    "start_time": "2023-04-10T17:51:14.677Z"
   },
   {
    "duration": 48,
    "start_time": "2023-04-10T17:51:14.684Z"
   },
   {
    "duration": 16,
    "start_time": "2023-04-10T17:51:14.734Z"
   },
   {
    "duration": 19,
    "start_time": "2023-04-10T17:51:14.752Z"
   },
   {
    "duration": 40,
    "start_time": "2023-04-10T17:51:14.772Z"
   },
   {
    "duration": 5,
    "start_time": "2023-04-10T17:51:14.817Z"
   },
   {
    "duration": 5,
    "start_time": "2023-04-10T17:51:14.824Z"
   },
   {
    "duration": 9,
    "start_time": "2023-04-10T17:51:14.831Z"
   },
   {
    "duration": 7,
    "start_time": "2023-04-10T17:51:14.842Z"
   },
   {
    "duration": 6,
    "start_time": "2023-04-10T17:51:14.851Z"
   },
   {
    "duration": 336,
    "start_time": "2023-04-10T17:51:14.859Z"
   },
   {
    "duration": 35,
    "start_time": "2023-04-10T17:51:15.197Z"
   },
   {
    "duration": 186,
    "start_time": "2023-04-10T17:51:15.234Z"
   },
   {
    "duration": 113,
    "start_time": "2023-04-10T17:51:15.422Z"
   },
   {
    "duration": 184,
    "start_time": "2023-04-10T17:51:15.537Z"
   },
   {
    "duration": 192,
    "start_time": "2023-04-10T17:51:15.723Z"
   },
   {
    "duration": 212,
    "start_time": "2023-04-10T17:51:15.917Z"
   },
   {
    "duration": 122,
    "start_time": "2023-04-10T17:51:16.131Z"
   },
   {
    "duration": 178,
    "start_time": "2023-04-10T17:51:16.255Z"
   },
   {
    "duration": 179,
    "start_time": "2023-04-10T17:51:16.435Z"
   },
   {
    "duration": 185,
    "start_time": "2023-04-10T17:51:16.615Z"
   },
   {
    "duration": 144,
    "start_time": "2023-04-10T17:51:16.802Z"
   },
   {
    "duration": 173,
    "start_time": "2023-04-10T17:51:16.947Z"
   },
   {
    "duration": 172,
    "start_time": "2023-04-10T17:51:17.122Z"
   },
   {
    "duration": 188,
    "start_time": "2023-04-10T17:51:17.295Z"
   },
   {
    "duration": 187,
    "start_time": "2023-04-10T17:51:17.485Z"
   },
   {
    "duration": 194,
    "start_time": "2023-04-10T17:51:17.674Z"
   },
   {
    "duration": 162,
    "start_time": "2023-04-10T17:51:17.870Z"
   },
   {
    "duration": 334,
    "start_time": "2023-04-10T17:51:18.034Z"
   },
   {
    "duration": 196,
    "start_time": "2023-04-10T17:51:18.369Z"
   },
   {
    "duration": 217,
    "start_time": "2023-04-10T17:51:18.567Z"
   },
   {
    "duration": 254,
    "start_time": "2023-04-10T17:51:18.786Z"
   },
   {
    "duration": 14,
    "start_time": "2023-04-10T17:51:19.043Z"
   },
   {
    "duration": 0,
    "start_time": "2023-04-10T17:51:19.060Z"
   },
   {
    "duration": 0,
    "start_time": "2023-04-10T17:51:19.061Z"
   },
   {
    "duration": 0,
    "start_time": "2023-04-10T17:51:19.063Z"
   },
   {
    "duration": 0,
    "start_time": "2023-04-10T17:51:19.064Z"
   },
   {
    "duration": 0,
    "start_time": "2023-04-10T17:51:19.066Z"
   },
   {
    "duration": 0,
    "start_time": "2023-04-10T17:51:19.067Z"
   },
   {
    "duration": 131,
    "start_time": "2023-04-10T17:59:05.344Z"
   },
   {
    "duration": 182,
    "start_time": "2023-04-10T17:59:05.477Z"
   },
   {
    "duration": 287244,
    "start_time": "2023-04-10T17:59:25.054Z"
   },
   {
    "duration": 1267,
    "start_time": "2023-04-10T20:22:49.587Z"
   },
   {
    "duration": 25,
    "start_time": "2023-04-10T20:22:50.856Z"
   },
   {
    "duration": 2309,
    "start_time": "2023-04-10T20:22:50.883Z"
   },
   {
    "duration": 12,
    "start_time": "2023-04-10T20:22:53.195Z"
   },
   {
    "duration": 35,
    "start_time": "2023-04-10T20:22:53.210Z"
   },
   {
    "duration": 26,
    "start_time": "2023-04-10T20:22:53.247Z"
   },
   {
    "duration": 295,
    "start_time": "2023-04-10T20:22:53.275Z"
   },
   {
    "duration": 17,
    "start_time": "2023-04-10T20:22:53.572Z"
   },
   {
    "duration": 28,
    "start_time": "2023-04-10T20:22:53.591Z"
   },
   {
    "duration": 8,
    "start_time": "2023-04-10T20:22:53.621Z"
   },
   {
    "duration": 26,
    "start_time": "2023-04-10T20:22:53.631Z"
   },
   {
    "duration": 30,
    "start_time": "2023-04-10T20:22:53.660Z"
   },
   {
    "duration": 17,
    "start_time": "2023-04-10T20:22:53.692Z"
   },
   {
    "duration": 7,
    "start_time": "2023-04-10T20:22:53.714Z"
   },
   {
    "duration": 20,
    "start_time": "2023-04-10T20:22:53.723Z"
   },
   {
    "duration": 10,
    "start_time": "2023-04-10T20:22:53.745Z"
   },
   {
    "duration": 24,
    "start_time": "2023-04-10T20:22:53.756Z"
   },
   {
    "duration": 34,
    "start_time": "2023-04-10T20:22:53.783Z"
   },
   {
    "duration": 61,
    "start_time": "2023-04-10T20:22:53.818Z"
   },
   {
    "duration": 19,
    "start_time": "2023-04-10T20:22:53.881Z"
   },
   {
    "duration": 15,
    "start_time": "2023-04-10T20:22:53.902Z"
   },
   {
    "duration": 32,
    "start_time": "2023-04-10T20:22:53.920Z"
   },
   {
    "duration": 17,
    "start_time": "2023-04-10T20:22:53.954Z"
   },
   {
    "duration": 37,
    "start_time": "2023-04-10T20:22:53.973Z"
   },
   {
    "duration": 28,
    "start_time": "2023-04-10T20:22:54.012Z"
   },
   {
    "duration": 39,
    "start_time": "2023-04-10T20:22:54.042Z"
   },
   {
    "duration": 174,
    "start_time": "2023-04-10T20:22:54.083Z"
   },
   {
    "duration": 9,
    "start_time": "2023-04-10T20:22:54.259Z"
   },
   {
    "duration": 36,
    "start_time": "2023-04-10T20:22:54.270Z"
   },
   {
    "duration": 22,
    "start_time": "2023-04-10T20:22:54.308Z"
   },
   {
    "duration": 36,
    "start_time": "2023-04-10T20:22:54.331Z"
   },
   {
    "duration": 28,
    "start_time": "2023-04-10T20:22:54.369Z"
   },
   {
    "duration": 16,
    "start_time": "2023-04-10T20:22:54.399Z"
   },
   {
    "duration": 32,
    "start_time": "2023-04-10T20:22:54.417Z"
   },
   {
    "duration": 29,
    "start_time": "2023-04-10T20:22:54.451Z"
   },
   {
    "duration": 11,
    "start_time": "2023-04-10T20:22:54.482Z"
   },
   {
    "duration": 49,
    "start_time": "2023-04-10T20:22:54.495Z"
   },
   {
    "duration": 19,
    "start_time": "2023-04-10T20:22:54.545Z"
   },
   {
    "duration": 40,
    "start_time": "2023-04-10T20:22:54.567Z"
   },
   {
    "duration": 23,
    "start_time": "2023-04-10T20:22:54.617Z"
   },
   {
    "duration": 10,
    "start_time": "2023-04-10T20:22:54.644Z"
   },
   {
    "duration": 16,
    "start_time": "2023-04-10T20:22:54.658Z"
   },
   {
    "duration": 21,
    "start_time": "2023-04-10T20:22:54.677Z"
   },
   {
    "duration": 19,
    "start_time": "2023-04-10T20:22:54.700Z"
   },
   {
    "duration": 13,
    "start_time": "2023-04-10T20:22:54.721Z"
   },
   {
    "duration": 330,
    "start_time": "2023-04-10T20:22:54.736Z"
   },
   {
    "duration": 29,
    "start_time": "2023-04-10T20:22:55.068Z"
   },
   {
    "duration": 203,
    "start_time": "2023-04-10T20:22:55.099Z"
   },
   {
    "duration": 115,
    "start_time": "2023-04-10T20:22:55.304Z"
   },
   {
    "duration": 263,
    "start_time": "2023-04-10T20:22:55.421Z"
   },
   {
    "duration": 212,
    "start_time": "2023-04-10T20:22:55.686Z"
   },
   {
    "duration": 208,
    "start_time": "2023-04-10T20:22:55.900Z"
   },
   {
    "duration": 140,
    "start_time": "2023-04-10T20:22:56.110Z"
   },
   {
    "duration": 203,
    "start_time": "2023-04-10T20:22:56.253Z"
   },
   {
    "duration": 207,
    "start_time": "2023-04-10T20:22:56.458Z"
   },
   {
    "duration": 202,
    "start_time": "2023-04-10T20:22:56.667Z"
   },
   {
    "duration": 159,
    "start_time": "2023-04-10T20:22:56.871Z"
   },
   {
    "duration": 191,
    "start_time": "2023-04-10T20:22:57.032Z"
   },
   {
    "duration": 181,
    "start_time": "2023-04-10T20:22:57.225Z"
   },
   {
    "duration": 192,
    "start_time": "2023-04-10T20:22:57.409Z"
   },
   {
    "duration": 214,
    "start_time": "2023-04-10T20:22:57.603Z"
   },
   {
    "duration": 322,
    "start_time": "2023-04-10T20:22:57.820Z"
   },
   {
    "duration": 199,
    "start_time": "2023-04-10T20:22:58.144Z"
   },
   {
    "duration": 333,
    "start_time": "2023-04-10T20:22:58.346Z"
   },
   {
    "duration": 210,
    "start_time": "2023-04-10T20:22:58.681Z"
   },
   {
    "duration": 224,
    "start_time": "2023-04-10T20:22:58.893Z"
   },
   {
    "duration": 256,
    "start_time": "2023-04-10T20:22:59.119Z"
   },
   {
    "duration": 265459,
    "start_time": "2023-04-10T20:22:59.377Z"
   },
   {
    "duration": 228,
    "start_time": "2023-04-10T20:27:24.838Z"
   },
   {
    "duration": 279,
    "start_time": "2023-04-10T20:27:25.069Z"
   },
   {
    "duration": 302,
    "start_time": "2023-04-10T20:27:25.351Z"
   },
   {
    "duration": 28,
    "start_time": "2023-04-10T20:27:25.918Z"
   },
   {
    "duration": 257,
    "start_time": "2023-04-10T20:27:25.949Z"
   },
   {
    "duration": 283,
    "start_time": "2023-04-10T20:27:26.211Z"
   },
   {
    "duration": 303988,
    "start_time": "2023-04-10T20:28:32.507Z"
   },
   {
    "duration": 181,
    "start_time": "2023-04-10T20:35:30.806Z"
   },
   {
    "duration": 55,
    "start_time": "2023-04-10T20:35:30.990Z"
   },
   {
    "duration": 2392,
    "start_time": "2023-04-10T20:35:31.047Z"
   },
   {
    "duration": 7,
    "start_time": "2023-04-10T20:35:33.440Z"
   },
   {
    "duration": 37,
    "start_time": "2023-04-10T20:35:33.449Z"
   },
   {
    "duration": 56,
    "start_time": "2023-04-10T20:35:33.488Z"
   },
   {
    "duration": 315,
    "start_time": "2023-04-10T20:35:33.545Z"
   },
   {
    "duration": 14,
    "start_time": "2023-04-10T20:35:33.862Z"
   },
   {
    "duration": 40,
    "start_time": "2023-04-10T20:35:33.878Z"
   },
   {
    "duration": 37,
    "start_time": "2023-04-10T20:35:33.919Z"
   },
   {
    "duration": 17,
    "start_time": "2023-04-10T20:35:33.959Z"
   },
   {
    "duration": 39,
    "start_time": "2023-04-10T20:35:33.978Z"
   },
   {
    "duration": 28,
    "start_time": "2023-04-10T20:35:34.019Z"
   },
   {
    "duration": 21,
    "start_time": "2023-04-10T20:35:34.050Z"
   },
   {
    "duration": 31,
    "start_time": "2023-04-10T20:35:34.072Z"
   },
   {
    "duration": 41,
    "start_time": "2023-04-10T20:35:34.105Z"
   },
   {
    "duration": 29,
    "start_time": "2023-04-10T20:35:34.148Z"
   },
   {
    "duration": 35,
    "start_time": "2023-04-10T20:35:34.178Z"
   },
   {
    "duration": 67,
    "start_time": "2023-04-10T20:35:34.215Z"
   },
   {
    "duration": 28,
    "start_time": "2023-04-10T20:35:34.283Z"
   },
   {
    "duration": 9,
    "start_time": "2023-04-10T20:35:34.313Z"
   },
   {
    "duration": 56,
    "start_time": "2023-04-10T20:35:34.325Z"
   },
   {
    "duration": 30,
    "start_time": "2023-04-10T20:35:34.383Z"
   },
   {
    "duration": 52,
    "start_time": "2023-04-10T20:35:34.415Z"
   },
   {
    "duration": 17,
    "start_time": "2023-04-10T20:35:34.469Z"
   },
   {
    "duration": 28,
    "start_time": "2023-04-10T20:35:34.488Z"
   },
   {
    "duration": 225,
    "start_time": "2023-04-10T20:35:34.518Z"
   },
   {
    "duration": 10,
    "start_time": "2023-04-10T20:35:34.745Z"
   },
   {
    "duration": 35,
    "start_time": "2023-04-10T20:35:34.756Z"
   },
   {
    "duration": 56,
    "start_time": "2023-04-10T20:35:34.793Z"
   },
   {
    "duration": 46,
    "start_time": "2023-04-10T20:35:34.851Z"
   },
   {
    "duration": 45,
    "start_time": "2023-04-10T20:35:34.899Z"
   },
   {
    "duration": 15,
    "start_time": "2023-04-10T20:35:34.946Z"
   },
   {
    "duration": 27,
    "start_time": "2023-04-10T20:35:34.963Z"
   },
   {
    "duration": 44,
    "start_time": "2023-04-10T20:35:34.992Z"
   },
   {
    "duration": 13,
    "start_time": "2023-04-10T20:35:35.039Z"
   },
   {
    "duration": 48,
    "start_time": "2023-04-10T20:35:35.054Z"
   },
   {
    "duration": 40,
    "start_time": "2023-04-10T20:35:35.104Z"
   },
   {
    "duration": 42,
    "start_time": "2023-04-10T20:35:35.146Z"
   },
   {
    "duration": 35,
    "start_time": "2023-04-10T20:35:35.191Z"
   },
   {
    "duration": 8,
    "start_time": "2023-04-10T20:35:35.233Z"
   },
   {
    "duration": 33,
    "start_time": "2023-04-10T20:35:35.243Z"
   },
   {
    "duration": 44,
    "start_time": "2023-04-10T20:35:35.278Z"
   },
   {
    "duration": 27,
    "start_time": "2023-04-10T20:35:35.324Z"
   },
   {
    "duration": 13,
    "start_time": "2023-04-10T20:35:35.353Z"
   },
   {
    "duration": 403,
    "start_time": "2023-04-10T20:35:35.368Z"
   },
   {
    "duration": 33,
    "start_time": "2023-04-10T20:35:35.774Z"
   },
   {
    "duration": 266,
    "start_time": "2023-04-10T20:35:35.817Z"
   },
   {
    "duration": 121,
    "start_time": "2023-04-10T20:35:36.084Z"
   },
   {
    "duration": 215,
    "start_time": "2023-04-10T20:35:36.207Z"
   },
   {
    "duration": 218,
    "start_time": "2023-04-10T20:35:36.425Z"
   },
   {
    "duration": 231,
    "start_time": "2023-04-10T20:35:36.644Z"
   },
   {
    "duration": 157,
    "start_time": "2023-04-10T20:35:36.878Z"
   },
   {
    "duration": 238,
    "start_time": "2023-04-10T20:35:37.037Z"
   },
   {
    "duration": 207,
    "start_time": "2023-04-10T20:35:37.277Z"
   },
   {
    "duration": 226,
    "start_time": "2023-04-10T20:35:37.486Z"
   },
   {
    "duration": 174,
    "start_time": "2023-04-10T20:35:37.713Z"
   },
   {
    "duration": 194,
    "start_time": "2023-04-10T20:35:37.889Z"
   },
   {
    "duration": 192,
    "start_time": "2023-04-10T20:35:38.085Z"
   },
   {
    "duration": 224,
    "start_time": "2023-04-10T20:35:38.279Z"
   },
   {
    "duration": 209,
    "start_time": "2023-04-10T20:35:38.505Z"
   },
   {
    "duration": 213,
    "start_time": "2023-04-10T20:35:38.717Z"
   },
   {
    "duration": 177,
    "start_time": "2023-04-10T20:35:38.932Z"
   },
   {
    "duration": 344,
    "start_time": "2023-04-10T20:35:39.110Z"
   },
   {
    "duration": 215,
    "start_time": "2023-04-10T20:35:39.455Z"
   },
   {
    "duration": 234,
    "start_time": "2023-04-10T20:35:39.672Z"
   },
   {
    "duration": 235,
    "start_time": "2023-04-10T20:35:39.907Z"
   },
   {
    "duration": 280084,
    "start_time": "2023-04-10T20:35:40.144Z"
   },
   {
    "duration": 240,
    "start_time": "2023-04-10T20:40:20.230Z"
   },
   {
    "duration": 237,
    "start_time": "2023-04-10T20:40:20.472Z"
   },
   {
    "duration": 231,
    "start_time": "2023-04-10T20:40:20.718Z"
   },
   {
    "duration": 304531,
    "start_time": "2023-04-10T20:40:20.950Z"
   },
   {
    "duration": 36,
    "start_time": "2023-04-10T20:45:25.483Z"
   },
   {
    "duration": 226,
    "start_time": "2023-04-10T20:45:25.520Z"
   },
   {
    "duration": 6,
    "start_time": "2023-04-10T20:45:25.752Z"
   },
   {
    "duration": 219,
    "start_time": "2023-04-10T20:45:25.762Z"
   },
   {
    "duration": 132,
    "start_time": "2023-04-10T20:45:25.985Z"
   },
   {
    "duration": 842,
    "start_time": "2023-04-10T20:48:18.817Z"
   },
   {
    "duration": 23,
    "start_time": "2023-04-10T20:48:19.661Z"
   },
   {
    "duration": 2314,
    "start_time": "2023-04-10T20:48:19.686Z"
   },
   {
    "duration": 8,
    "start_time": "2023-04-10T20:48:22.003Z"
   },
   {
    "duration": 39,
    "start_time": "2023-04-10T20:48:22.013Z"
   },
   {
    "duration": 10,
    "start_time": "2023-04-10T20:48:22.054Z"
   },
   {
    "duration": 271,
    "start_time": "2023-04-10T20:48:22.066Z"
   },
   {
    "duration": 18,
    "start_time": "2023-04-10T20:48:22.339Z"
   },
   {
    "duration": 11,
    "start_time": "2023-04-10T20:48:22.359Z"
   },
   {
    "duration": 25,
    "start_time": "2023-04-10T20:48:22.373Z"
   },
   {
    "duration": 31,
    "start_time": "2023-04-10T20:48:22.401Z"
   },
   {
    "duration": 39,
    "start_time": "2023-04-10T20:48:22.434Z"
   },
   {
    "duration": 23,
    "start_time": "2023-04-10T20:48:22.476Z"
   },
   {
    "duration": 21,
    "start_time": "2023-04-10T20:48:22.501Z"
   },
   {
    "duration": 49,
    "start_time": "2023-04-10T20:48:22.524Z"
   },
   {
    "duration": 10,
    "start_time": "2023-04-10T20:48:22.575Z"
   },
   {
    "duration": 18,
    "start_time": "2023-04-10T20:48:22.587Z"
   },
   {
    "duration": 26,
    "start_time": "2023-04-10T20:48:22.607Z"
   },
   {
    "duration": 40,
    "start_time": "2023-04-10T20:48:22.635Z"
   },
   {
    "duration": 12,
    "start_time": "2023-04-10T20:48:22.677Z"
   },
   {
    "duration": 13,
    "start_time": "2023-04-10T20:48:22.690Z"
   },
   {
    "duration": 37,
    "start_time": "2023-04-10T20:48:22.705Z"
   },
   {
    "duration": 6,
    "start_time": "2023-04-10T20:48:22.744Z"
   },
   {
    "duration": 44,
    "start_time": "2023-04-10T20:48:22.752Z"
   },
   {
    "duration": 22,
    "start_time": "2023-04-10T20:48:22.798Z"
   },
   {
    "duration": 20,
    "start_time": "2023-04-10T20:48:22.823Z"
   },
   {
    "duration": 319,
    "start_time": "2023-04-10T20:48:22.844Z"
   },
   {
    "duration": 16,
    "start_time": "2023-04-10T20:48:23.218Z"
   },
   {
    "duration": 27,
    "start_time": "2023-04-10T20:48:23.236Z"
   },
   {
    "duration": 13,
    "start_time": "2023-04-10T20:48:23.264Z"
   },
   {
    "duration": 39,
    "start_time": "2023-04-10T20:48:23.279Z"
   },
   {
    "duration": 18,
    "start_time": "2023-04-10T20:48:23.321Z"
   },
   {
    "duration": 16,
    "start_time": "2023-04-10T20:48:23.341Z"
   },
   {
    "duration": 16,
    "start_time": "2023-04-10T20:48:23.359Z"
   },
   {
    "duration": 24,
    "start_time": "2023-04-10T20:48:23.417Z"
   },
   {
    "duration": 10,
    "start_time": "2023-04-10T20:48:23.443Z"
   },
   {
    "duration": 87,
    "start_time": "2023-04-10T20:48:23.455Z"
   },
   {
    "duration": 15,
    "start_time": "2023-04-10T20:48:23.544Z"
   },
   {
    "duration": 23,
    "start_time": "2023-04-10T20:48:23.561Z"
   },
   {
    "duration": 47,
    "start_time": "2023-04-10T20:48:23.586Z"
   },
   {
    "duration": 5,
    "start_time": "2023-04-10T20:48:23.635Z"
   },
   {
    "duration": 14,
    "start_time": "2023-04-10T20:48:23.642Z"
   },
   {
    "duration": 19,
    "start_time": "2023-04-10T20:48:23.657Z"
   },
   {
    "duration": 26,
    "start_time": "2023-04-10T20:48:23.677Z"
   },
   {
    "duration": 15,
    "start_time": "2023-04-10T20:48:23.704Z"
   },
   {
    "duration": 347,
    "start_time": "2023-04-10T20:48:23.722Z"
   },
   {
    "duration": 25,
    "start_time": "2023-04-10T20:48:24.071Z"
   },
   {
    "duration": 210,
    "start_time": "2023-04-10T20:48:24.098Z"
   },
   {
    "duration": 124,
    "start_time": "2023-04-10T20:48:24.310Z"
   },
   {
    "duration": 258,
    "start_time": "2023-04-10T20:48:24.436Z"
   },
   {
    "duration": 212,
    "start_time": "2023-04-10T20:48:24.696Z"
   },
   {
    "duration": 232,
    "start_time": "2023-04-10T20:48:24.910Z"
   },
   {
    "duration": 142,
    "start_time": "2023-04-10T20:48:25.145Z"
   },
   {
    "duration": 211,
    "start_time": "2023-04-10T20:48:25.289Z"
   },
   {
    "duration": 215,
    "start_time": "2023-04-10T20:48:25.502Z"
   },
   {
    "duration": 214,
    "start_time": "2023-04-10T20:48:25.720Z"
   },
   {
    "duration": 162,
    "start_time": "2023-04-10T20:48:25.936Z"
   },
   {
    "duration": 194,
    "start_time": "2023-04-10T20:48:26.100Z"
   },
   {
    "duration": 184,
    "start_time": "2023-04-10T20:48:26.295Z"
   },
   {
    "duration": 195,
    "start_time": "2023-04-10T20:48:26.481Z"
   },
   {
    "duration": 213,
    "start_time": "2023-04-10T20:48:26.678Z"
   },
   {
    "duration": 315,
    "start_time": "2023-04-10T20:48:26.893Z"
   },
   {
    "duration": 192,
    "start_time": "2023-04-10T20:48:27.210Z"
   },
   {
    "duration": 367,
    "start_time": "2023-04-10T20:48:27.404Z"
   },
   {
    "duration": 233,
    "start_time": "2023-04-10T20:48:27.773Z"
   },
   {
    "duration": 247,
    "start_time": "2023-04-10T20:48:28.008Z"
   },
   {
    "duration": 219,
    "start_time": "2023-04-10T20:48:28.257Z"
   },
   {
    "duration": 849,
    "start_time": "2023-04-10T20:51:22.050Z"
   },
   {
    "duration": 43,
    "start_time": "2023-04-10T20:51:22.901Z"
   },
   {
    "duration": 2222,
    "start_time": "2023-04-10T20:51:22.946Z"
   },
   {
    "duration": 9,
    "start_time": "2023-04-10T20:51:25.170Z"
   },
   {
    "duration": 21,
    "start_time": "2023-04-10T20:51:25.181Z"
   },
   {
    "duration": 29,
    "start_time": "2023-04-10T20:51:25.204Z"
   },
   {
    "duration": 250,
    "start_time": "2023-04-10T20:51:25.235Z"
   },
   {
    "duration": 34,
    "start_time": "2023-04-10T20:51:25.487Z"
   },
   {
    "duration": 16,
    "start_time": "2023-04-10T20:51:25.523Z"
   },
   {
    "duration": 12,
    "start_time": "2023-04-10T20:51:25.542Z"
   },
   {
    "duration": 11,
    "start_time": "2023-04-10T20:51:25.641Z"
   },
   {
    "duration": 17,
    "start_time": "2023-04-10T20:51:26.230Z"
   },
   {
    "duration": 7,
    "start_time": "2023-04-10T20:51:26.294Z"
   },
   {
    "duration": 6,
    "start_time": "2023-04-10T20:51:26.376Z"
   },
   {
    "duration": 23,
    "start_time": "2023-04-10T20:51:26.513Z"
   },
   {
    "duration": 9,
    "start_time": "2023-04-10T20:51:26.667Z"
   },
   {
    "duration": 9,
    "start_time": "2023-04-10T20:51:27.065Z"
   },
   {
    "duration": 9,
    "start_time": "2023-04-10T20:51:27.477Z"
   },
   {
    "duration": 18,
    "start_time": "2023-04-10T20:51:27.774Z"
   },
   {
    "duration": 12,
    "start_time": "2023-04-10T20:51:28.039Z"
   },
   {
    "duration": 5,
    "start_time": "2023-04-10T20:51:28.193Z"
   },
   {
    "duration": 19,
    "start_time": "2023-04-10T20:51:28.264Z"
   },
   {
    "duration": 11,
    "start_time": "2023-04-10T20:51:28.419Z"
   },
   {
    "duration": 23,
    "start_time": "2023-04-10T20:51:28.536Z"
   },
   {
    "duration": 8,
    "start_time": "2023-04-10T20:51:28.840Z"
   },
   {
    "duration": 14,
    "start_time": "2023-04-10T20:51:28.913Z"
   },
   {
    "duration": 180,
    "start_time": "2023-04-10T20:51:29.118Z"
   },
   {
    "duration": 19,
    "start_time": "2023-04-10T20:51:29.300Z"
   },
   {
    "duration": 19,
    "start_time": "2023-04-10T20:51:30.814Z"
   },
   {
    "duration": 19,
    "start_time": "2023-04-10T20:51:31.122Z"
   },
   {
    "duration": 21,
    "start_time": "2023-04-10T20:51:31.454Z"
   },
   {
    "duration": 15,
    "start_time": "2023-04-10T20:51:31.761Z"
   },
   {
    "duration": 14,
    "start_time": "2023-04-10T20:51:31.938Z"
   },
   {
    "duration": 10,
    "start_time": "2023-04-10T20:51:32.280Z"
   },
   {
    "duration": 18,
    "start_time": "2023-04-10T20:51:32.637Z"
   },
   {
    "duration": 6,
    "start_time": "2023-04-10T20:51:32.945Z"
   },
   {
    "duration": 38,
    "start_time": "2023-04-10T20:51:33.110Z"
   },
   {
    "duration": 14,
    "start_time": "2023-04-10T20:51:33.270Z"
   },
   {
    "duration": 24,
    "start_time": "2023-04-10T20:51:33.905Z"
   },
   {
    "duration": 23,
    "start_time": "2023-04-10T20:51:34.209Z"
   },
   {
    "duration": 6,
    "start_time": "2023-04-10T20:51:34.386Z"
   },
   {
    "duration": 5,
    "start_time": "2023-04-10T20:51:37.210Z"
   },
   {
    "duration": 7,
    "start_time": "2023-04-10T20:51:37.270Z"
   },
   {
    "duration": 10,
    "start_time": "2023-04-10T20:51:37.615Z"
   },
   {
    "duration": 6,
    "start_time": "2023-04-10T20:51:37.671Z"
   },
   {
    "duration": 345,
    "start_time": "2023-04-10T20:51:37.878Z"
   },
   {
    "duration": 33,
    "start_time": "2023-04-10T20:51:38.225Z"
   },
   {
    "duration": 188,
    "start_time": "2023-04-10T20:51:38.757Z"
   },
   {
    "duration": 125,
    "start_time": "2023-04-10T20:51:38.948Z"
   },
   {
    "duration": 265,
    "start_time": "2023-04-10T20:51:39.163Z"
   },
   {
    "duration": 178,
    "start_time": "2023-04-10T20:51:39.679Z"
   },
   {
    "duration": 218,
    "start_time": "2023-04-10T20:51:39.906Z"
   },
   {
    "duration": 144,
    "start_time": "2023-04-10T20:51:40.127Z"
   },
   {
    "duration": 212,
    "start_time": "2023-04-10T20:51:40.273Z"
   },
   {
    "duration": 182,
    "start_time": "2023-04-10T20:51:40.530Z"
   },
   {
    "duration": 191,
    "start_time": "2023-04-10T20:51:40.962Z"
   },
   {
    "duration": 185,
    "start_time": "2023-04-10T20:51:41.155Z"
   },
   {
    "duration": 192,
    "start_time": "2023-04-10T20:51:41.348Z"
   },
   {
    "duration": 181,
    "start_time": "2023-04-10T20:51:41.680Z"
   },
   {
    "duration": 200,
    "start_time": "2023-04-10T20:51:41.908Z"
   },
   {
    "duration": 296,
    "start_time": "2023-04-10T20:51:42.307Z"
   },
   {
    "duration": 244,
    "start_time": "2023-04-10T20:51:42.702Z"
   },
   {
    "duration": 202,
    "start_time": "2023-04-10T20:51:42.949Z"
   },
   {
    "duration": 326,
    "start_time": "2023-04-10T20:51:43.233Z"
   },
   {
    "duration": 207,
    "start_time": "2023-04-10T20:51:46.729Z"
   },
   {
    "duration": 244,
    "start_time": "2023-04-10T20:51:47.056Z"
   },
   {
    "duration": 238,
    "start_time": "2023-04-10T20:51:47.412Z"
   },
   {
    "duration": 229,
    "start_time": "2023-04-10T20:51:48.115Z"
   },
   {
    "duration": 208,
    "start_time": "2023-04-10T20:51:50.442Z"
   },
   {
    "duration": 233,
    "start_time": "2023-04-10T20:51:51.031Z"
   },
   {
    "duration": 217,
    "start_time": "2023-04-10T20:51:51.392Z"
   },
   {
    "duration": 227,
    "start_time": "2023-04-10T20:51:51.755Z"
   },
   {
    "duration": 23,
    "start_time": "2023-04-10T20:51:52.343Z"
   },
   {
    "duration": 217,
    "start_time": "2023-04-10T20:51:52.869Z"
   },
   {
    "duration": 57,
    "start_time": "2023-04-10T20:53:35.209Z"
   },
   {
    "duration": 905,
    "start_time": "2023-04-10T20:53:40.940Z"
   },
   {
    "duration": 29,
    "start_time": "2023-04-10T20:53:41.847Z"
   },
   {
    "duration": 2241,
    "start_time": "2023-04-10T20:53:41.879Z"
   },
   {
    "duration": 7,
    "start_time": "2023-04-10T20:53:44.122Z"
   },
   {
    "duration": 18,
    "start_time": "2023-04-10T20:53:44.131Z"
   },
   {
    "duration": 11,
    "start_time": "2023-04-10T20:53:44.151Z"
   },
   {
    "duration": 274,
    "start_time": "2023-04-10T20:53:44.163Z"
   },
   {
    "duration": 19,
    "start_time": "2023-04-10T20:53:44.439Z"
   },
   {
    "duration": 13,
    "start_time": "2023-04-10T20:53:44.460Z"
   },
   {
    "duration": 19,
    "start_time": "2023-04-10T20:53:44.476Z"
   },
   {
    "duration": 10,
    "start_time": "2023-04-10T20:53:44.517Z"
   },
   {
    "duration": 18,
    "start_time": "2023-04-10T20:53:44.867Z"
   },
   {
    "duration": 6,
    "start_time": "2023-04-10T20:53:44.942Z"
   },
   {
    "duration": 6,
    "start_time": "2023-04-10T20:53:45.097Z"
   },
   {
    "duration": 17,
    "start_time": "2023-04-10T20:53:45.655Z"
   },
   {
    "duration": 9,
    "start_time": "2023-04-10T20:53:45.947Z"
   },
   {
    "duration": 7,
    "start_time": "2023-04-10T20:53:46.470Z"
   },
   {
    "duration": 10,
    "start_time": "2023-04-10T20:53:46.701Z"
   },
   {
    "duration": 18,
    "start_time": "2023-04-10T20:53:47.000Z"
   },
   {
    "duration": 14,
    "start_time": "2023-04-10T20:53:47.170Z"
   },
   {
    "duration": 4,
    "start_time": "2023-04-10T20:53:47.322Z"
   },
   {
    "duration": 18,
    "start_time": "2023-04-10T20:53:47.463Z"
   },
   {
    "duration": 8,
    "start_time": "2023-04-10T20:53:47.761Z"
   },
   {
    "duration": 26,
    "start_time": "2023-04-10T20:53:48.061Z"
   },
   {
    "duration": 8,
    "start_time": "2023-04-10T20:53:48.695Z"
   },
   {
    "duration": 13,
    "start_time": "2023-04-10T20:53:48.779Z"
   },
   {
    "duration": 175,
    "start_time": "2023-04-10T20:53:48.942Z"
   },
   {
    "duration": 9,
    "start_time": "2023-04-10T20:53:49.120Z"
   },
   {
    "duration": 16,
    "start_time": "2023-04-10T20:53:49.189Z"
   },
   {
    "duration": 15,
    "start_time": "2023-04-10T20:53:49.349Z"
   },
   {
    "duration": 22,
    "start_time": "2023-04-10T20:53:49.504Z"
   },
   {
    "duration": 16,
    "start_time": "2023-04-10T20:53:49.691Z"
   },
   {
    "duration": 11,
    "start_time": "2023-04-10T20:53:49.868Z"
   },
   {
    "duration": 10,
    "start_time": "2023-04-10T20:53:50.181Z"
   },
   {
    "duration": 18,
    "start_time": "2023-04-10T20:53:50.354Z"
   },
   {
    "duration": 8,
    "start_time": "2023-04-10T20:53:50.601Z"
   },
   {
    "duration": 35,
    "start_time": "2023-04-10T20:53:50.690Z"
   },
   {
    "duration": 15,
    "start_time": "2023-04-10T20:53:50.990Z"
   },
   {
    "duration": 21,
    "start_time": "2023-04-10T20:53:51.302Z"
   },
   {
    "duration": 21,
    "start_time": "2023-04-10T20:53:51.462Z"
   },
   {
    "duration": 6,
    "start_time": "2023-04-10T20:53:51.575Z"
   },
   {
    "duration": 5,
    "start_time": "2023-04-10T20:53:51.755Z"
   },
   {
    "duration": 8,
    "start_time": "2023-04-10T20:53:51.835Z"
   },
   {
    "duration": 8,
    "start_time": "2023-04-10T20:53:51.937Z"
   },
   {
    "duration": 7,
    "start_time": "2023-04-10T20:53:52.006Z"
   },
   {
    "duration": 312,
    "start_time": "2023-04-10T20:53:52.410Z"
   },
   {
    "duration": 27,
    "start_time": "2023-04-10T20:53:52.724Z"
   },
   {
    "duration": 201,
    "start_time": "2023-04-10T20:53:53.352Z"
   },
   {
    "duration": 115,
    "start_time": "2023-04-10T20:53:53.556Z"
   },
   {
    "duration": 264,
    "start_time": "2023-04-10T20:53:53.714Z"
   },
   {
    "duration": 177,
    "start_time": "2023-04-10T20:53:54.226Z"
   },
   {
    "duration": 200,
    "start_time": "2023-04-10T20:53:54.530Z"
   },
   {
    "duration": 136,
    "start_time": "2023-04-10T20:53:54.732Z"
   },
   {
    "duration": 187,
    "start_time": "2023-04-10T20:53:55.033Z"
   },
   {
    "duration": 181,
    "start_time": "2023-04-10T20:53:55.403Z"
   },
   {
    "duration": 188,
    "start_time": "2023-04-10T20:53:55.806Z"
   },
   {
    "duration": 150,
    "start_time": "2023-04-10T20:53:56.177Z"
   },
   {
    "duration": 175,
    "start_time": "2023-04-10T20:53:56.638Z"
   },
   {
    "duration": 198,
    "start_time": "2023-04-10T20:53:57.116Z"
   },
   {
    "duration": 180,
    "start_time": "2023-04-10T20:53:57.431Z"
   },
   {
    "duration": 279,
    "start_time": "2023-04-10T20:53:57.932Z"
   },
   {
    "duration": 190,
    "start_time": "2023-04-10T20:53:59.301Z"
   },
   {
    "duration": 153,
    "start_time": "2023-04-10T20:53:59.524Z"
   },
   {
    "duration": 342,
    "start_time": "2023-04-10T20:54:00.631Z"
   },
   {
    "duration": 199,
    "start_time": "2023-04-10T20:54:01.553Z"
   },
   {
    "duration": 222,
    "start_time": "2023-04-10T20:54:01.948Z"
   },
   {
    "duration": 254,
    "start_time": "2023-04-10T20:54:02.431Z"
   },
   {
    "duration": 200,
    "start_time": "2023-04-10T20:54:03.381Z"
   },
   {
    "duration": 212,
    "start_time": "2023-04-10T20:54:08.869Z"
   },
   {
    "duration": 201,
    "start_time": "2023-04-10T20:54:09.393Z"
   },
   {
    "duration": 199,
    "start_time": "2023-04-10T20:54:09.723Z"
   },
   {
    "duration": 215,
    "start_time": "2023-04-10T20:54:10.116Z"
   },
   {
    "duration": 25,
    "start_time": "2023-04-10T20:54:10.715Z"
   },
   {
    "duration": 206,
    "start_time": "2023-04-10T20:54:11.322Z"
   },
   {
    "duration": 794,
    "start_time": "2023-04-10T20:57:43.576Z"
   },
   {
    "duration": 23,
    "start_time": "2023-04-10T20:57:44.371Z"
   },
   {
    "duration": 2185,
    "start_time": "2023-04-10T20:57:44.395Z"
   },
   {
    "duration": 7,
    "start_time": "2023-04-10T20:57:46.582Z"
   },
   {
    "duration": 27,
    "start_time": "2023-04-10T20:57:46.592Z"
   },
   {
    "duration": 14,
    "start_time": "2023-04-10T20:57:46.621Z"
   },
   {
    "duration": 288,
    "start_time": "2023-04-10T20:57:46.636Z"
   },
   {
    "duration": 22,
    "start_time": "2023-04-10T20:57:46.926Z"
   },
   {
    "duration": 20,
    "start_time": "2023-04-10T20:57:46.950Z"
   },
   {
    "duration": 19,
    "start_time": "2023-04-10T20:57:46.972Z"
   },
   {
    "duration": 35,
    "start_time": "2023-04-10T20:57:46.993Z"
   },
   {
    "duration": 47,
    "start_time": "2023-04-10T20:57:47.030Z"
   },
   {
    "duration": 25,
    "start_time": "2023-04-10T20:57:47.079Z"
   },
   {
    "duration": 43,
    "start_time": "2023-04-10T20:57:47.108Z"
   },
   {
    "duration": 49,
    "start_time": "2023-04-10T20:57:47.153Z"
   },
   {
    "duration": 26,
    "start_time": "2023-04-10T20:57:47.204Z"
   },
   {
    "duration": 27,
    "start_time": "2023-04-10T20:57:47.233Z"
   },
   {
    "duration": 30,
    "start_time": "2023-04-10T20:57:47.262Z"
   },
   {
    "duration": 65,
    "start_time": "2023-04-10T20:57:47.294Z"
   },
   {
    "duration": 12,
    "start_time": "2023-04-10T20:57:47.361Z"
   },
   {
    "duration": 31,
    "start_time": "2023-04-10T20:57:47.375Z"
   },
   {
    "duration": 48,
    "start_time": "2023-04-10T20:57:47.408Z"
   },
   {
    "duration": 11,
    "start_time": "2023-04-10T20:57:47.458Z"
   },
   {
    "duration": 65,
    "start_time": "2023-04-10T20:57:47.470Z"
   },
   {
    "duration": 23,
    "start_time": "2023-04-10T20:57:47.537Z"
   },
   {
    "duration": 31,
    "start_time": "2023-04-10T20:57:47.562Z"
   },
   {
    "duration": 174,
    "start_time": "2023-04-10T20:57:47.595Z"
   },
   {
    "duration": 8,
    "start_time": "2023-04-10T20:57:47.771Z"
   },
   {
    "duration": 33,
    "start_time": "2023-04-10T20:57:47.780Z"
   },
   {
    "duration": 31,
    "start_time": "2023-04-10T20:57:47.815Z"
   },
   {
    "duration": 41,
    "start_time": "2023-04-10T20:57:47.848Z"
   },
   {
    "duration": 17,
    "start_time": "2023-04-10T20:57:47.891Z"
   },
   {
    "duration": 13,
    "start_time": "2023-04-10T20:57:47.909Z"
   },
   {
    "duration": 20,
    "start_time": "2023-04-10T20:57:47.925Z"
   },
   {
    "duration": 28,
    "start_time": "2023-04-10T20:57:47.947Z"
   },
   {
    "duration": 12,
    "start_time": "2023-04-10T20:57:47.976Z"
   },
   {
    "duration": 41,
    "start_time": "2023-04-10T20:57:47.990Z"
   },
   {
    "duration": 16,
    "start_time": "2023-04-10T20:57:48.033Z"
   },
   {
    "duration": 18,
    "start_time": "2023-04-10T20:57:48.051Z"
   },
   {
    "duration": 14,
    "start_time": "2023-04-10T20:57:48.071Z"
   },
   {
    "duration": 6,
    "start_time": "2023-04-10T20:57:48.119Z"
   },
   {
    "duration": 22,
    "start_time": "2023-04-10T20:57:48.126Z"
   },
   {
    "duration": 27,
    "start_time": "2023-04-10T20:57:48.150Z"
   },
   {
    "duration": 23,
    "start_time": "2023-04-10T20:57:48.180Z"
   },
   {
    "duration": 41,
    "start_time": "2023-04-10T20:57:48.205Z"
   },
   {
    "duration": 333,
    "start_time": "2023-04-10T20:57:48.248Z"
   },
   {
    "duration": 43,
    "start_time": "2023-04-10T20:57:48.583Z"
   },
   {
    "duration": 202,
    "start_time": "2023-04-10T20:57:48.628Z"
   },
   {
    "duration": 125,
    "start_time": "2023-04-10T20:57:48.832Z"
   },
   {
    "duration": 254,
    "start_time": "2023-04-10T20:57:48.959Z"
   },
   {
    "duration": 196,
    "start_time": "2023-04-10T20:57:49.218Z"
   },
   {
    "duration": 248,
    "start_time": "2023-04-10T20:57:49.417Z"
   },
   {
    "duration": 131,
    "start_time": "2023-04-10T20:57:49.668Z"
   },
   {
    "duration": 225,
    "start_time": "2023-04-10T20:57:49.801Z"
   },
   {
    "duration": 209,
    "start_time": "2023-04-10T20:57:50.028Z"
   },
   {
    "duration": 208,
    "start_time": "2023-04-10T20:57:50.239Z"
   },
   {
    "duration": 161,
    "start_time": "2023-04-10T20:57:50.449Z"
   },
   {
    "duration": 201,
    "start_time": "2023-04-10T20:57:50.612Z"
   },
   {
    "duration": 178,
    "start_time": "2023-04-10T20:57:50.817Z"
   },
   {
    "duration": 206,
    "start_time": "2023-04-10T20:57:50.996Z"
   },
   {
    "duration": 208,
    "start_time": "2023-04-10T20:57:51.204Z"
   },
   {
    "duration": 309,
    "start_time": "2023-04-10T20:57:51.416Z"
   },
   {
    "duration": 210,
    "start_time": "2023-04-10T20:57:51.727Z"
   },
   {
    "duration": 366,
    "start_time": "2023-04-10T20:57:51.939Z"
   },
   {
    "duration": 236,
    "start_time": "2023-04-10T20:57:52.306Z"
   },
   {
    "duration": 287,
    "start_time": "2023-04-10T20:57:52.544Z"
   },
   {
    "duration": 217,
    "start_time": "2023-04-10T20:57:52.834Z"
   },
   {
    "duration": 233,
    "start_time": "2023-04-10T20:57:53.052Z"
   },
   {
    "duration": 88,
    "start_time": "2023-04-10T20:57:53.287Z"
   },
   {
    "duration": 0,
    "start_time": "2023-04-10T20:57:53.377Z"
   },
   {
    "duration": 0,
    "start_time": "2023-04-10T20:57:53.378Z"
   },
   {
    "duration": 0,
    "start_time": "2023-04-10T20:57:53.379Z"
   },
   {
    "duration": 0,
    "start_time": "2023-04-10T20:57:53.380Z"
   },
   {
    "duration": 0,
    "start_time": "2023-04-10T20:57:53.381Z"
   },
   {
    "duration": 792,
    "start_time": "2023-04-10T20:59:22.545Z"
   },
   {
    "duration": 1030,
    "start_time": "2023-04-10T21:00:31.704Z"
   },
   {
    "duration": 864,
    "start_time": "2023-04-10T21:01:21.047Z"
   },
   {
    "duration": 1195,
    "start_time": "2023-04-10T21:02:37.189Z"
   },
   {
    "duration": 141,
    "start_time": "2023-04-10T21:02:44.742Z"
   },
   {
    "duration": 55,
    "start_time": "2023-04-10T21:02:44.885Z"
   },
   {
    "duration": 2267,
    "start_time": "2023-04-10T21:02:44.942Z"
   },
   {
    "duration": 9,
    "start_time": "2023-04-10T21:02:47.218Z"
   },
   {
    "duration": 48,
    "start_time": "2023-04-10T21:02:47.229Z"
   },
   {
    "duration": 20,
    "start_time": "2023-04-10T21:02:47.279Z"
   },
   {
    "duration": 276,
    "start_time": "2023-04-10T21:02:47.301Z"
   },
   {
    "duration": 14,
    "start_time": "2023-04-10T21:02:47.579Z"
   },
   {
    "duration": 41,
    "start_time": "2023-04-10T21:02:47.595Z"
   },
   {
    "duration": 20,
    "start_time": "2023-04-10T21:02:47.639Z"
   },
   {
    "duration": 46,
    "start_time": "2023-04-10T21:02:47.661Z"
   },
   {
    "duration": 36,
    "start_time": "2023-04-10T21:02:47.709Z"
   },
   {
    "duration": 41,
    "start_time": "2023-04-10T21:02:47.747Z"
   },
   {
    "duration": 44,
    "start_time": "2023-04-10T21:02:47.790Z"
   },
   {
    "duration": 38,
    "start_time": "2023-04-10T21:02:47.835Z"
   },
   {
    "duration": 38,
    "start_time": "2023-04-10T21:02:47.875Z"
   },
   {
    "duration": 27,
    "start_time": "2023-04-10T21:02:47.915Z"
   },
   {
    "duration": 35,
    "start_time": "2023-04-10T21:02:47.943Z"
   },
   {
    "duration": 30,
    "start_time": "2023-04-10T21:02:47.979Z"
   },
   {
    "duration": 16,
    "start_time": "2023-04-10T21:02:48.011Z"
   },
   {
    "duration": 21,
    "start_time": "2023-04-10T21:02:48.029Z"
   },
   {
    "duration": 37,
    "start_time": "2023-04-10T21:02:48.052Z"
   },
   {
    "duration": 18,
    "start_time": "2023-04-10T21:02:48.090Z"
   },
   {
    "duration": 39,
    "start_time": "2023-04-10T21:02:48.110Z"
   },
   {
    "duration": 8,
    "start_time": "2023-04-10T21:02:48.151Z"
   },
   {
    "duration": 21,
    "start_time": "2023-04-10T21:02:48.161Z"
   },
   {
    "duration": 190,
    "start_time": "2023-04-10T21:02:48.184Z"
   },
   {
    "duration": 8,
    "start_time": "2023-04-10T21:02:48.378Z"
   },
   {
    "duration": 40,
    "start_time": "2023-04-10T21:02:48.388Z"
   },
   {
    "duration": 49,
    "start_time": "2023-04-10T21:02:48.431Z"
   },
   {
    "duration": 23,
    "start_time": "2023-04-10T21:02:48.482Z"
   },
   {
    "duration": 16,
    "start_time": "2023-04-10T21:02:48.506Z"
   },
   {
    "duration": 24,
    "start_time": "2023-04-10T21:02:48.524Z"
   },
   {
    "duration": 20,
    "start_time": "2023-04-10T21:02:48.550Z"
   },
   {
    "duration": 22,
    "start_time": "2023-04-10T21:02:48.572Z"
   },
   {
    "duration": 5,
    "start_time": "2023-04-10T21:02:48.596Z"
   },
   {
    "duration": 47,
    "start_time": "2023-04-10T21:02:48.603Z"
   },
   {
    "duration": 24,
    "start_time": "2023-04-10T21:02:48.652Z"
   },
   {
    "duration": 24,
    "start_time": "2023-04-10T21:02:48.677Z"
   },
   {
    "duration": 49,
    "start_time": "2023-04-10T21:02:48.703Z"
   },
   {
    "duration": 27,
    "start_time": "2023-04-10T21:02:48.753Z"
   },
   {
    "duration": 32,
    "start_time": "2023-04-10T21:02:48.782Z"
   },
   {
    "duration": 35,
    "start_time": "2023-04-10T21:02:48.816Z"
   },
   {
    "duration": 25,
    "start_time": "2023-04-10T21:02:48.853Z"
   },
   {
    "duration": 18,
    "start_time": "2023-04-10T21:02:48.880Z"
   },
   {
    "duration": 366,
    "start_time": "2023-04-10T21:02:48.900Z"
   },
   {
    "duration": 28,
    "start_time": "2023-04-10T21:02:49.268Z"
   },
   {
    "duration": 255,
    "start_time": "2023-04-10T21:02:49.298Z"
   },
   {
    "duration": 122,
    "start_time": "2023-04-10T21:02:49.555Z"
   },
   {
    "duration": 197,
    "start_time": "2023-04-10T21:02:49.679Z"
   },
   {
    "duration": 206,
    "start_time": "2023-04-10T21:02:49.879Z"
   },
   {
    "duration": 219,
    "start_time": "2023-04-10T21:02:50.086Z"
   },
   {
    "duration": 147,
    "start_time": "2023-04-10T21:02:50.307Z"
   },
   {
    "duration": 208,
    "start_time": "2023-04-10T21:02:50.456Z"
   },
   {
    "duration": 202,
    "start_time": "2023-04-10T21:02:50.665Z"
   },
   {
    "duration": 201,
    "start_time": "2023-04-10T21:02:50.869Z"
   },
   {
    "duration": 174,
    "start_time": "2023-04-10T21:02:51.072Z"
   },
   {
    "duration": 201,
    "start_time": "2023-04-10T21:02:51.247Z"
   },
   {
    "duration": 194,
    "start_time": "2023-04-10T21:02:51.450Z"
   },
   {
    "duration": 210,
    "start_time": "2023-04-10T21:02:51.646Z"
   },
   {
    "duration": 414,
    "start_time": "2023-04-10T21:02:51.858Z"
   },
   {
    "duration": 244,
    "start_time": "2023-04-10T21:02:52.274Z"
   },
   {
    "duration": 206,
    "start_time": "2023-04-10T21:02:52.521Z"
   },
   {
    "duration": 358,
    "start_time": "2023-04-10T21:02:52.729Z"
   },
   {
    "duration": 231,
    "start_time": "2023-04-10T21:02:53.089Z"
   },
   {
    "duration": 237,
    "start_time": "2023-04-10T21:02:53.322Z"
   },
   {
    "duration": 219,
    "start_time": "2023-04-10T21:02:53.562Z"
   },
   {
    "duration": 226,
    "start_time": "2023-04-10T21:02:53.783Z"
   },
   {
    "duration": 992,
    "start_time": "2023-04-10T21:02:54.011Z"
   },
   {
    "duration": 456,
    "start_time": "2023-04-10T21:02:55.005Z"
   },
   {
    "duration": 582,
    "start_time": "2023-04-10T21:02:55.463Z"
   },
   {
    "duration": 229,
    "start_time": "2023-04-10T21:02:56.047Z"
   },
   {
    "duration": 24,
    "start_time": "2023-04-10T21:02:56.278Z"
   },
   {
    "duration": 246,
    "start_time": "2023-04-10T21:02:56.319Z"
   },
   {
    "duration": 426,
    "start_time": "2023-04-10T21:03:42.571Z"
   },
   {
    "duration": 358,
    "start_time": "2023-04-10T21:06:00.122Z"
   },
   {
    "duration": 279,
    "start_time": "2023-04-10T21:06:34.431Z"
   },
   {
    "duration": 303,
    "start_time": "2023-04-10T21:08:16.310Z"
   },
   {
    "duration": 135,
    "start_time": "2023-04-10T21:08:22.736Z"
   },
   {
    "duration": 53,
    "start_time": "2023-04-10T21:08:22.874Z"
   },
   {
    "duration": 2240,
    "start_time": "2023-04-10T21:08:22.929Z"
   },
   {
    "duration": 7,
    "start_time": "2023-04-10T21:08:25.171Z"
   },
   {
    "duration": 40,
    "start_time": "2023-04-10T21:08:25.180Z"
   },
   {
    "duration": 23,
    "start_time": "2023-04-10T21:08:25.222Z"
   },
   {
    "duration": 254,
    "start_time": "2023-04-10T21:08:25.247Z"
   },
   {
    "duration": 20,
    "start_time": "2023-04-10T21:08:25.502Z"
   },
   {
    "duration": 11,
    "start_time": "2023-04-10T21:08:25.524Z"
   },
   {
    "duration": 11,
    "start_time": "2023-04-10T21:08:25.538Z"
   },
   {
    "duration": 24,
    "start_time": "2023-04-10T21:08:25.551Z"
   },
   {
    "duration": 17,
    "start_time": "2023-04-10T21:08:25.576Z"
   },
   {
    "duration": 6,
    "start_time": "2023-04-10T21:08:25.619Z"
   },
   {
    "duration": 29,
    "start_time": "2023-04-10T21:08:25.627Z"
   },
   {
    "duration": 34,
    "start_time": "2023-04-10T21:08:25.657Z"
   },
   {
    "duration": 48,
    "start_time": "2023-04-10T21:08:25.693Z"
   },
   {
    "duration": 12,
    "start_time": "2023-04-10T21:08:25.743Z"
   },
   {
    "duration": 21,
    "start_time": "2023-04-10T21:08:25.758Z"
   },
   {
    "duration": 33,
    "start_time": "2023-04-10T21:08:25.781Z"
   },
   {
    "duration": 14,
    "start_time": "2023-04-10T21:08:25.816Z"
   },
   {
    "duration": 49,
    "start_time": "2023-04-10T21:08:25.832Z"
   },
   {
    "duration": 29,
    "start_time": "2023-04-10T21:08:25.883Z"
   },
   {
    "duration": 9,
    "start_time": "2023-04-10T21:08:25.914Z"
   },
   {
    "duration": 47,
    "start_time": "2023-04-10T21:08:25.925Z"
   },
   {
    "duration": 8,
    "start_time": "2023-04-10T21:08:25.974Z"
   },
   {
    "duration": 23,
    "start_time": "2023-04-10T21:08:25.984Z"
   },
   {
    "duration": 168,
    "start_time": "2023-04-10T21:08:26.009Z"
   },
   {
    "duration": 9,
    "start_time": "2023-04-10T21:08:26.183Z"
   },
   {
    "duration": 33,
    "start_time": "2023-04-10T21:08:26.194Z"
   },
   {
    "duration": 15,
    "start_time": "2023-04-10T21:08:26.229Z"
   },
   {
    "duration": 22,
    "start_time": "2023-04-10T21:08:26.247Z"
   },
   {
    "duration": 13,
    "start_time": "2023-04-10T21:08:26.271Z"
   },
   {
    "duration": 42,
    "start_time": "2023-04-10T21:08:26.286Z"
   },
   {
    "duration": 13,
    "start_time": "2023-04-10T21:08:26.330Z"
   },
   {
    "duration": 19,
    "start_time": "2023-04-10T21:08:26.345Z"
   },
   {
    "duration": 7,
    "start_time": "2023-04-10T21:08:26.366Z"
   },
   {
    "duration": 75,
    "start_time": "2023-04-10T21:08:26.375Z"
   },
   {
    "duration": 17,
    "start_time": "2023-04-10T21:08:26.453Z"
   },
   {
    "duration": 48,
    "start_time": "2023-04-10T21:08:26.472Z"
   },
   {
    "duration": 20,
    "start_time": "2023-04-10T21:08:26.522Z"
   },
   {
    "duration": 9,
    "start_time": "2023-04-10T21:08:26.544Z"
   },
   {
    "duration": 7,
    "start_time": "2023-04-10T21:08:26.555Z"
   },
   {
    "duration": 38,
    "start_time": "2023-04-10T21:08:26.563Z"
   },
   {
    "duration": 15,
    "start_time": "2023-04-10T21:08:26.603Z"
   },
   {
    "duration": 18,
    "start_time": "2023-04-10T21:08:26.620Z"
   },
   {
    "duration": 343,
    "start_time": "2023-04-10T21:08:26.640Z"
   },
   {
    "duration": 36,
    "start_time": "2023-04-10T21:08:26.984Z"
   },
   {
    "duration": 217,
    "start_time": "2023-04-10T21:08:27.022Z"
   },
   {
    "duration": 118,
    "start_time": "2023-04-10T21:08:27.241Z"
   },
   {
    "duration": 178,
    "start_time": "2023-04-10T21:08:27.361Z"
   },
   {
    "duration": 200,
    "start_time": "2023-04-10T21:08:27.541Z"
   },
   {
    "duration": 221,
    "start_time": "2023-04-10T21:08:27.743Z"
   },
   {
    "duration": 137,
    "start_time": "2023-04-10T21:08:27.966Z"
   },
   {
    "duration": 203,
    "start_time": "2023-04-10T21:08:28.105Z"
   },
   {
    "duration": 202,
    "start_time": "2023-04-10T21:08:28.309Z"
   },
   {
    "duration": 208,
    "start_time": "2023-04-10T21:08:28.513Z"
   },
   {
    "duration": 164,
    "start_time": "2023-04-10T21:08:28.722Z"
   },
   {
    "duration": 175,
    "start_time": "2023-04-10T21:08:28.888Z"
   },
   {
    "duration": 199,
    "start_time": "2023-04-10T21:08:29.064Z"
   },
   {
    "duration": 196,
    "start_time": "2023-04-10T21:08:29.265Z"
   },
   {
    "duration": 428,
    "start_time": "2023-04-10T21:08:29.463Z"
   },
   {
    "duration": 196,
    "start_time": "2023-04-10T21:08:29.893Z"
   },
   {
    "duration": 173,
    "start_time": "2023-04-10T21:08:30.090Z"
   },
   {
    "duration": 340,
    "start_time": "2023-04-10T21:08:30.267Z"
   },
   {
    "duration": 225,
    "start_time": "2023-04-10T21:08:30.616Z"
   },
   {
    "duration": 223,
    "start_time": "2023-04-10T21:08:30.843Z"
   },
   {
    "duration": 223,
    "start_time": "2023-04-10T21:08:31.068Z"
   },
   {
    "duration": 219,
    "start_time": "2023-04-10T21:08:31.293Z"
   },
   {
    "duration": 347,
    "start_time": "2023-04-10T21:08:31.517Z"
   },
   {
    "duration": 0,
    "start_time": "2023-04-10T21:08:31.867Z"
   },
   {
    "duration": 0,
    "start_time": "2023-04-10T21:08:31.868Z"
   },
   {
    "duration": 0,
    "start_time": "2023-04-10T21:08:31.869Z"
   },
   {
    "duration": 0,
    "start_time": "2023-04-10T21:08:31.871Z"
   },
   {
    "duration": 0,
    "start_time": "2023-04-10T21:08:31.872Z"
   },
   {
    "duration": 432,
    "start_time": "2023-04-10T21:08:50.638Z"
   },
   {
    "duration": 381,
    "start_time": "2023-04-10T21:17:46.391Z"
   },
   {
    "duration": 440,
    "start_time": "2023-04-10T21:21:05.301Z"
   },
   {
    "duration": 273,
    "start_time": "2023-04-10T21:23:45.602Z"
   },
   {
    "duration": 420,
    "start_time": "2023-04-10T21:24:42.273Z"
   },
   {
    "duration": 19,
    "start_time": "2023-04-10T21:25:40.118Z"
   },
   {
    "duration": 3,
    "start_time": "2023-04-10T21:26:23.417Z"
   },
   {
    "duration": 19,
    "start_time": "2023-04-10T21:26:38.082Z"
   },
   {
    "duration": 409,
    "start_time": "2023-04-10T21:26:46.419Z"
   },
   {
    "duration": 582,
    "start_time": "2023-04-10T21:38:23.300Z"
   },
   {
    "duration": 381,
    "start_time": "2023-04-10T21:38:33.353Z"
   },
   {
    "duration": 43,
    "start_time": "2023-04-11T07:46:47.100Z"
   },
   {
    "duration": 1455,
    "start_time": "2023-04-11T07:46:53.314Z"
   },
   {
    "duration": 19,
    "start_time": "2023-04-11T07:46:54.772Z"
   },
   {
    "duration": 1704,
    "start_time": "2023-04-11T07:46:54.792Z"
   },
   {
    "duration": 7,
    "start_time": "2023-04-11T07:46:56.499Z"
   },
   {
    "duration": 48,
    "start_time": "2023-04-11T07:46:56.508Z"
   },
   {
    "duration": 16,
    "start_time": "2023-04-11T07:46:56.558Z"
   },
   {
    "duration": 251,
    "start_time": "2023-04-11T07:46:56.576Z"
   },
   {
    "duration": 103,
    "start_time": "2023-04-11T07:46:56.829Z"
   },
   {
    "duration": 12,
    "start_time": "2023-04-11T07:46:56.934Z"
   },
   {
    "duration": 49,
    "start_time": "2023-04-11T07:46:56.950Z"
   },
   {
    "duration": 9,
    "start_time": "2023-04-11T07:46:57.001Z"
   },
   {
    "duration": 15,
    "start_time": "2023-04-11T07:46:57.012Z"
   },
   {
    "duration": 6,
    "start_time": "2023-04-11T07:46:57.029Z"
   },
   {
    "duration": 8,
    "start_time": "2023-04-11T07:46:57.037Z"
   },
   {
    "duration": 18,
    "start_time": "2023-04-11T07:46:57.047Z"
   },
   {
    "duration": 8,
    "start_time": "2023-04-11T07:46:57.094Z"
   },
   {
    "duration": 6,
    "start_time": "2023-04-11T07:46:57.104Z"
   },
   {
    "duration": 27,
    "start_time": "2023-04-11T07:46:57.112Z"
   },
   {
    "duration": 17,
    "start_time": "2023-04-11T07:46:57.140Z"
   },
   {
    "duration": 11,
    "start_time": "2023-04-11T07:46:57.158Z"
   },
   {
    "duration": 4,
    "start_time": "2023-04-11T07:46:57.170Z"
   },
   {
    "duration": 15,
    "start_time": "2023-04-11T07:46:57.195Z"
   },
   {
    "duration": 6,
    "start_time": "2023-04-11T07:46:57.211Z"
   },
   {
    "duration": 28,
    "start_time": "2023-04-11T07:46:57.219Z"
   },
   {
    "duration": 9,
    "start_time": "2023-04-11T07:46:57.249Z"
   },
   {
    "duration": 37,
    "start_time": "2023-04-11T07:46:57.259Z"
   },
   {
    "duration": 176,
    "start_time": "2023-04-11T07:46:57.298Z"
   },
   {
    "duration": 19,
    "start_time": "2023-04-11T07:46:57.478Z"
   },
   {
    "duration": 13,
    "start_time": "2023-04-11T07:46:57.498Z"
   },
   {
    "duration": 14,
    "start_time": "2023-04-11T07:46:57.513Z"
   },
   {
    "duration": 25,
    "start_time": "2023-04-11T07:46:57.528Z"
   },
   {
    "duration": 13,
    "start_time": "2023-04-11T07:46:57.555Z"
   },
   {
    "duration": 33,
    "start_time": "2023-04-11T07:46:57.569Z"
   },
   {
    "duration": 29,
    "start_time": "2023-04-11T07:46:57.603Z"
   },
   {
    "duration": 16,
    "start_time": "2023-04-11T07:46:57.634Z"
   },
   {
    "duration": 5,
    "start_time": "2023-04-11T07:46:57.651Z"
   },
   {
    "duration": 30,
    "start_time": "2023-04-11T07:46:57.658Z"
   },
   {
    "duration": 13,
    "start_time": "2023-04-11T07:46:57.693Z"
   },
   {
    "duration": 18,
    "start_time": "2023-04-11T07:46:57.708Z"
   },
   {
    "duration": 15,
    "start_time": "2023-04-11T07:46:57.728Z"
   },
   {
    "duration": 6,
    "start_time": "2023-04-11T07:46:57.745Z"
   },
   {
    "duration": 32,
    "start_time": "2023-04-11T07:46:57.752Z"
   },
   {
    "duration": 13,
    "start_time": "2023-04-11T07:46:57.785Z"
   },
   {
    "duration": 9,
    "start_time": "2023-04-11T07:46:57.800Z"
   },
   {
    "duration": 8,
    "start_time": "2023-04-11T07:46:57.811Z"
   },
   {
    "duration": 280,
    "start_time": "2023-04-11T07:46:57.820Z"
   },
   {
    "duration": 21,
    "start_time": "2023-04-11T07:46:58.102Z"
   },
   {
    "duration": 159,
    "start_time": "2023-04-11T07:46:58.124Z"
   },
   {
    "duration": 84,
    "start_time": "2023-04-11T07:46:58.284Z"
   },
   {
    "duration": 152,
    "start_time": "2023-04-11T07:46:58.370Z"
   },
   {
    "duration": 315,
    "start_time": "2023-04-11T07:46:58.523Z"
   },
   {
    "duration": 365,
    "start_time": "2023-04-11T07:46:58.839Z"
   },
   {
    "duration": 197,
    "start_time": "2023-04-11T07:46:59.205Z"
   },
   {
    "duration": 311,
    "start_time": "2023-04-11T07:46:59.403Z"
   },
   {
    "duration": 500,
    "start_time": "2023-04-11T07:46:59.716Z"
   },
   {
    "duration": 179,
    "start_time": "2023-04-11T07:47:00.218Z"
   },
   {
    "duration": 145,
    "start_time": "2023-04-11T07:47:00.399Z"
   },
   {
    "duration": 163,
    "start_time": "2023-04-11T07:47:00.545Z"
   },
   {
    "duration": 183,
    "start_time": "2023-04-11T07:47:00.711Z"
   },
   {
    "duration": 160,
    "start_time": "2023-04-11T07:47:00.896Z"
   },
   {
    "duration": 162,
    "start_time": "2023-04-11T07:47:01.058Z"
   },
   {
    "duration": 309,
    "start_time": "2023-04-11T07:47:01.221Z"
   },
   {
    "duration": 290,
    "start_time": "2023-04-11T07:47:01.532Z"
   },
   {
    "duration": 516,
    "start_time": "2023-04-11T07:47:01.823Z"
   },
   {
    "duration": 362,
    "start_time": "2023-04-11T07:47:02.341Z"
   },
   {
    "duration": 261,
    "start_time": "2023-04-11T07:47:02.705Z"
   },
   {
    "duration": 168,
    "start_time": "2023-04-11T07:47:02.968Z"
   },
   {
    "duration": 3,
    "start_time": "2023-04-11T07:47:03.138Z"
   },
   {
    "duration": 95,
    "start_time": "2023-04-11T07:47:03.143Z"
   },
   {
    "duration": 0,
    "start_time": "2023-04-11T07:47:03.240Z"
   },
   {
    "duration": 0,
    "start_time": "2023-04-11T07:47:03.241Z"
   },
   {
    "duration": 0,
    "start_time": "2023-04-11T07:47:03.241Z"
   },
   {
    "duration": 0,
    "start_time": "2023-04-11T07:47:03.242Z"
   },
   {
    "duration": 0,
    "start_time": "2023-04-11T07:47:03.243Z"
   },
   {
    "duration": 0,
    "start_time": "2023-04-11T07:47:03.244Z"
   },
   {
    "duration": 0,
    "start_time": "2023-04-11T07:47:03.245Z"
   },
   {
    "duration": 60,
    "start_time": "2023-04-11T07:47:37.408Z"
   },
   {
    "duration": 5,
    "start_time": "2023-04-11T07:47:50.204Z"
   },
   {
    "duration": 3,
    "start_time": "2023-04-11T07:55:22.135Z"
   },
   {
    "duration": 3,
    "start_time": "2023-04-11T07:55:55.392Z"
   },
   {
    "duration": 126,
    "start_time": "2023-04-11T07:56:19.178Z"
   },
   {
    "duration": 33,
    "start_time": "2023-04-11T07:58:45.597Z"
   },
   {
    "duration": 16,
    "start_time": "2023-04-11T07:59:59.506Z"
   },
   {
    "duration": 57,
    "start_time": "2023-04-11T12:29:42.690Z"
   },
   {
    "duration": 2232,
    "start_time": "2023-04-11T12:29:45.856Z"
   },
   {
    "duration": 34,
    "start_time": "2023-04-11T12:29:48.090Z"
   },
   {
    "duration": 2782,
    "start_time": "2023-04-11T12:29:48.125Z"
   },
   {
    "duration": 7,
    "start_time": "2023-04-11T12:29:50.908Z"
   },
   {
    "duration": 40,
    "start_time": "2023-04-11T12:29:50.917Z"
   },
   {
    "duration": 54,
    "start_time": "2023-04-11T12:29:50.959Z"
   },
   {
    "duration": 266,
    "start_time": "2023-04-11T12:29:51.014Z"
   },
   {
    "duration": 73,
    "start_time": "2023-04-11T12:29:51.286Z"
   },
   {
    "duration": 12,
    "start_time": "2023-04-11T12:29:51.361Z"
   },
   {
    "duration": 55,
    "start_time": "2023-04-11T12:29:51.374Z"
   },
   {
    "duration": 34,
    "start_time": "2023-04-11T12:29:51.430Z"
   },
   {
    "duration": 48,
    "start_time": "2023-04-11T12:29:51.465Z"
   },
   {
    "duration": 47,
    "start_time": "2023-04-11T12:29:51.515Z"
   },
   {
    "duration": 59,
    "start_time": "2023-04-11T12:29:51.565Z"
   },
   {
    "duration": 23,
    "start_time": "2023-04-11T12:29:51.626Z"
   },
   {
    "duration": 18,
    "start_time": "2023-04-11T12:29:51.650Z"
   },
   {
    "duration": 49,
    "start_time": "2023-04-11T12:29:51.670Z"
   },
   {
    "duration": 27,
    "start_time": "2023-04-11T12:29:51.721Z"
   },
   {
    "duration": 67,
    "start_time": "2023-04-11T12:29:51.749Z"
   },
   {
    "duration": 33,
    "start_time": "2023-04-11T12:29:51.818Z"
   },
   {
    "duration": 14,
    "start_time": "2023-04-11T12:29:51.853Z"
   },
   {
    "duration": 92,
    "start_time": "2023-04-11T12:29:51.868Z"
   },
   {
    "duration": 6,
    "start_time": "2023-04-11T12:29:51.962Z"
   },
   {
    "duration": 57,
    "start_time": "2023-04-11T12:29:51.969Z"
   },
   {
    "duration": 10,
    "start_time": "2023-04-11T12:29:52.027Z"
   },
   {
    "duration": 12,
    "start_time": "2023-04-11T12:29:52.038Z"
   },
   {
    "duration": 169,
    "start_time": "2023-04-11T12:29:52.051Z"
   },
   {
    "duration": 6,
    "start_time": "2023-04-11T12:29:52.221Z"
   },
   {
    "duration": 30,
    "start_time": "2023-04-11T12:29:52.228Z"
   },
   {
    "duration": 56,
    "start_time": "2023-04-11T12:29:52.259Z"
   },
   {
    "duration": 32,
    "start_time": "2023-04-11T12:29:52.316Z"
   },
   {
    "duration": 49,
    "start_time": "2023-04-11T12:29:52.349Z"
   },
   {
    "duration": 29,
    "start_time": "2023-04-11T12:29:52.400Z"
   },
   {
    "duration": 18,
    "start_time": "2023-04-11T12:29:52.431Z"
   },
   {
    "duration": 41,
    "start_time": "2023-04-11T12:29:52.450Z"
   },
   {
    "duration": 37,
    "start_time": "2023-04-11T12:29:52.492Z"
   },
   {
    "duration": 62,
    "start_time": "2023-04-11T12:29:52.531Z"
   },
   {
    "duration": 38,
    "start_time": "2023-04-11T12:29:52.595Z"
   },
   {
    "duration": 24,
    "start_time": "2023-04-11T12:29:52.634Z"
   },
   {
    "duration": 69,
    "start_time": "2023-04-11T12:29:52.659Z"
   },
   {
    "duration": 36,
    "start_time": "2023-04-11T12:29:52.731Z"
   },
   {
    "duration": 63,
    "start_time": "2023-04-11T12:29:52.768Z"
   },
   {
    "duration": 44,
    "start_time": "2023-04-11T12:29:52.832Z"
   },
   {
    "duration": 90,
    "start_time": "2023-04-11T12:29:52.883Z"
   },
   {
    "duration": 63,
    "start_time": "2023-04-11T12:29:52.974Z"
   },
   {
    "duration": 357,
    "start_time": "2023-04-11T12:29:53.038Z"
   },
   {
    "duration": 25,
    "start_time": "2023-04-11T12:29:53.397Z"
   },
   {
    "duration": 177,
    "start_time": "2023-04-11T12:29:53.424Z"
   },
   {
    "duration": 100,
    "start_time": "2023-04-11T12:29:53.603Z"
   },
   {
    "duration": 158,
    "start_time": "2023-04-11T12:29:53.705Z"
   },
   {
    "duration": 171,
    "start_time": "2023-04-11T12:29:53.864Z"
   },
   {
    "duration": 187,
    "start_time": "2023-04-11T12:29:54.037Z"
   },
   {
    "duration": 119,
    "start_time": "2023-04-11T12:29:54.225Z"
   },
   {
    "duration": 244,
    "start_time": "2023-04-11T12:29:54.345Z"
   },
   {
    "duration": 527,
    "start_time": "2023-04-11T12:29:54.590Z"
   },
   {
    "duration": 389,
    "start_time": "2023-04-11T12:29:55.118Z"
   },
   {
    "duration": 376,
    "start_time": "2023-04-11T12:29:55.509Z"
   },
   {
    "duration": 328,
    "start_time": "2023-04-11T12:29:55.893Z"
   },
   {
    "duration": 366,
    "start_time": "2023-04-11T12:29:56.223Z"
   },
   {
    "duration": 197,
    "start_time": "2023-04-11T12:29:56.591Z"
   },
   {
    "duration": 173,
    "start_time": "2023-04-11T12:29:56.790Z"
   },
   {
    "duration": 202,
    "start_time": "2023-04-11T12:29:56.965Z"
   },
   {
    "duration": 162,
    "start_time": "2023-04-11T12:29:57.169Z"
   },
   {
    "duration": 309,
    "start_time": "2023-04-11T12:29:57.333Z"
   },
   {
    "duration": 198,
    "start_time": "2023-04-11T12:29:57.643Z"
   },
   {
    "duration": 211,
    "start_time": "2023-04-11T12:29:57.842Z"
   },
   {
    "duration": 211,
    "start_time": "2023-04-11T12:29:58.055Z"
   },
   {
    "duration": 12,
    "start_time": "2023-04-11T12:29:58.268Z"
   },
   {
    "duration": 313,
    "start_time": "2023-04-11T12:29:58.282Z"
   },
   {
    "duration": 742,
    "start_time": "2023-04-11T12:29:58.610Z"
   },
   {
    "duration": 0,
    "start_time": "2023-04-11T12:29:59.353Z"
   },
   {
    "duration": 0,
    "start_time": "2023-04-11T12:29:59.355Z"
   },
   {
    "duration": 0,
    "start_time": "2023-04-11T12:29:59.356Z"
   },
   {
    "duration": 0,
    "start_time": "2023-04-11T12:29:59.357Z"
   },
   {
    "duration": 0,
    "start_time": "2023-04-11T12:29:59.358Z"
   },
   {
    "duration": 11,
    "start_time": "2023-04-11T12:30:13.314Z"
   },
   {
    "duration": 3640,
    "start_time": "2023-04-11T12:31:22.857Z"
   },
   {
    "duration": 3,
    "start_time": "2023-04-11T12:31:50.512Z"
   },
   {
    "duration": 8,
    "start_time": "2023-04-11T12:32:07.135Z"
   },
   {
    "duration": 708,
    "start_time": "2023-04-11T12:33:24.922Z"
   },
   {
    "duration": 130,
    "start_time": "2023-04-11T12:33:55.842Z"
   },
   {
    "duration": 18,
    "start_time": "2023-04-11T12:34:07.408Z"
   },
   {
    "duration": 11,
    "start_time": "2023-04-11T12:36:55.355Z"
   },
   {
    "duration": 19,
    "start_time": "2023-04-11T12:37:24.808Z"
   },
   {
    "duration": 110,
    "start_time": "2023-04-11T12:37:39.167Z"
   },
   {
    "duration": 1303,
    "start_time": "2023-04-11T12:39:06.331Z"
   },
   {
    "duration": 26,
    "start_time": "2023-04-11T12:39:07.635Z"
   },
   {
    "duration": 3248,
    "start_time": "2023-04-11T12:39:07.663Z"
   },
   {
    "duration": 6,
    "start_time": "2023-04-11T12:39:10.912Z"
   },
   {
    "duration": 34,
    "start_time": "2023-04-11T12:39:10.920Z"
   },
   {
    "duration": 10,
    "start_time": "2023-04-11T12:39:10.956Z"
   },
   {
    "duration": 270,
    "start_time": "2023-04-11T12:39:10.968Z"
   },
   {
    "duration": 87,
    "start_time": "2023-04-11T12:39:11.240Z"
   },
   {
    "duration": 11,
    "start_time": "2023-04-11T12:39:11.329Z"
   },
   {
    "duration": 14,
    "start_time": "2023-04-11T12:39:11.341Z"
   },
   {
    "duration": 21,
    "start_time": "2023-04-11T12:39:11.357Z"
   },
   {
    "duration": 42,
    "start_time": "2023-04-11T12:39:11.380Z"
   },
   {
    "duration": 6,
    "start_time": "2023-04-11T12:39:11.423Z"
   },
   {
    "duration": 6,
    "start_time": "2023-04-11T12:39:11.432Z"
   },
   {
    "duration": 16,
    "start_time": "2023-04-11T12:39:11.440Z"
   },
   {
    "duration": 9,
    "start_time": "2023-04-11T12:39:11.458Z"
   },
   {
    "duration": 37,
    "start_time": "2023-04-11T12:39:11.469Z"
   },
   {
    "duration": 11,
    "start_time": "2023-04-11T12:39:11.507Z"
   },
   {
    "duration": 21,
    "start_time": "2023-04-11T12:39:11.520Z"
   },
   {
    "duration": 9,
    "start_time": "2023-04-11T12:39:11.543Z"
   },
   {
    "duration": 3,
    "start_time": "2023-04-11T12:39:11.554Z"
   },
   {
    "duration": 41,
    "start_time": "2023-04-11T12:39:11.558Z"
   },
   {
    "duration": 29,
    "start_time": "2023-04-11T12:39:11.602Z"
   },
   {
    "duration": 23,
    "start_time": "2023-04-11T12:39:11.632Z"
   },
   {
    "duration": 7,
    "start_time": "2023-04-11T12:39:11.656Z"
   },
   {
    "duration": 33,
    "start_time": "2023-04-11T12:39:11.664Z"
   },
   {
    "duration": 165,
    "start_time": "2023-04-11T12:39:11.698Z"
   },
   {
    "duration": 9,
    "start_time": "2023-04-11T12:39:11.864Z"
   },
   {
    "duration": 33,
    "start_time": "2023-04-11T12:39:11.886Z"
   },
   {
    "duration": 16,
    "start_time": "2023-04-11T12:39:11.920Z"
   },
   {
    "duration": 29,
    "start_time": "2023-04-11T12:39:11.938Z"
   },
   {
    "duration": 26,
    "start_time": "2023-04-11T12:39:11.969Z"
   },
   {
    "duration": 30,
    "start_time": "2023-04-11T12:39:11.997Z"
   },
   {
    "duration": 11,
    "start_time": "2023-04-11T12:39:12.029Z"
   },
   {
    "duration": 23,
    "start_time": "2023-04-11T12:39:12.042Z"
   },
   {
    "duration": 5,
    "start_time": "2023-04-11T12:39:12.067Z"
   },
   {
    "duration": 54,
    "start_time": "2023-04-11T12:39:12.073Z"
   },
   {
    "duration": 26,
    "start_time": "2023-04-11T12:39:12.129Z"
   },
   {
    "duration": 18,
    "start_time": "2023-04-11T12:39:12.156Z"
   },
   {
    "duration": 38,
    "start_time": "2023-04-11T12:39:12.180Z"
   },
   {
    "duration": 6,
    "start_time": "2023-04-11T12:39:12.225Z"
   },
   {
    "duration": 7,
    "start_time": "2023-04-11T12:39:12.233Z"
   },
   {
    "duration": 11,
    "start_time": "2023-04-11T12:39:12.241Z"
   },
   {
    "duration": 7,
    "start_time": "2023-04-11T12:39:12.254Z"
   },
   {
    "duration": 6,
    "start_time": "2023-04-11T12:39:12.263Z"
   },
   {
    "duration": 502,
    "start_time": "2023-04-11T12:39:12.275Z"
   },
   {
    "duration": 36,
    "start_time": "2023-04-11T12:39:12.779Z"
   },
   {
    "duration": 405,
    "start_time": "2023-04-11T12:39:12.817Z"
   },
   {
    "duration": 256,
    "start_time": "2023-04-11T12:39:13.225Z"
   },
   {
    "duration": 440,
    "start_time": "2023-04-11T12:39:13.482Z"
   },
   {
    "duration": 419,
    "start_time": "2023-04-11T12:39:13.973Z"
   },
   {
    "duration": 312,
    "start_time": "2023-04-11T12:39:14.394Z"
   },
   {
    "duration": 123,
    "start_time": "2023-04-11T12:39:14.710Z"
   },
   {
    "duration": 208,
    "start_time": "2023-04-11T12:39:14.835Z"
   },
   {
    "duration": 270,
    "start_time": "2023-04-11T12:39:15.045Z"
   },
   {
    "duration": 172,
    "start_time": "2023-04-11T12:39:15.317Z"
   },
   {
    "duration": 130,
    "start_time": "2023-04-11T12:39:15.490Z"
   },
   {
    "duration": 179,
    "start_time": "2023-04-11T12:39:15.622Z"
   },
   {
    "duration": 163,
    "start_time": "2023-04-11T12:39:15.803Z"
   },
   {
    "duration": 181,
    "start_time": "2023-04-11T12:39:15.967Z"
   },
   {
    "duration": 179,
    "start_time": "2023-04-11T12:39:16.150Z"
   },
   {
    "duration": 228,
    "start_time": "2023-04-11T12:39:16.331Z"
   },
   {
    "duration": 192,
    "start_time": "2023-04-11T12:39:16.560Z"
   },
   {
    "duration": 338,
    "start_time": "2023-04-11T12:39:16.755Z"
   },
   {
    "duration": 215,
    "start_time": "2023-04-11T12:39:17.094Z"
   },
   {
    "duration": 259,
    "start_time": "2023-04-11T12:39:17.311Z"
   },
   {
    "duration": 249,
    "start_time": "2023-04-11T12:39:17.582Z"
   },
   {
    "duration": 14,
    "start_time": "2023-04-11T12:39:17.833Z"
   },
   {
    "duration": 289,
    "start_time": "2023-04-11T12:39:17.849Z"
   },
   {
    "duration": 684,
    "start_time": "2023-04-11T12:39:18.140Z"
   },
   {
    "duration": 0,
    "start_time": "2023-04-11T12:39:18.827Z"
   },
   {
    "duration": 0,
    "start_time": "2023-04-11T12:39:18.829Z"
   },
   {
    "duration": 0,
    "start_time": "2023-04-11T12:39:18.830Z"
   },
   {
    "duration": 0,
    "start_time": "2023-04-11T12:39:18.832Z"
   },
   {
    "duration": 0,
    "start_time": "2023-04-11T12:39:18.833Z"
   },
   {
    "duration": 17,
    "start_time": "2023-04-11T12:46:13.997Z"
   },
   {
    "duration": 15,
    "start_time": "2023-04-11T12:46:19.711Z"
   },
   {
    "duration": 14,
    "start_time": "2023-04-11T12:46:45.413Z"
   },
   {
    "duration": 12,
    "start_time": "2023-04-11T12:47:14.315Z"
   },
   {
    "duration": 12,
    "start_time": "2023-04-11T12:47:21.237Z"
   },
   {
    "duration": 112,
    "start_time": "2023-04-11T12:47:44.731Z"
   },
   {
    "duration": 19,
    "start_time": "2023-04-11T12:47:53.702Z"
   },
   {
    "duration": 14,
    "start_time": "2023-04-11T12:48:14.595Z"
   },
   {
    "duration": 14,
    "start_time": "2023-04-11T12:52:00.447Z"
   },
   {
    "duration": 19,
    "start_time": "2023-04-11T12:52:07.491Z"
   },
   {
    "duration": 193,
    "start_time": "2023-04-11T12:52:46.950Z"
   },
   {
    "duration": 19,
    "start_time": "2023-04-11T12:53:58.114Z"
   },
   {
    "duration": 298,
    "start_time": "2023-04-11T12:54:13.050Z"
   },
   {
    "duration": 18,
    "start_time": "2023-04-11T12:55:01.730Z"
   },
   {
    "duration": 147,
    "start_time": "2023-04-11T12:55:19.546Z"
   },
   {
    "duration": 191,
    "start_time": "2023-04-11T12:55:55.945Z"
   },
   {
    "duration": 128,
    "start_time": "2023-04-11T12:56:52.741Z"
   },
   {
    "duration": 117,
    "start_time": "2023-04-11T12:57:50.360Z"
   },
   {
    "duration": 174,
    "start_time": "2023-04-11T13:00:18.062Z"
   },
   {
    "duration": 208,
    "start_time": "2023-04-11T13:06:32.087Z"
   },
   {
    "duration": 1327,
    "start_time": "2023-04-11T13:12:24.896Z"
   },
   {
    "duration": 114,
    "start_time": "2023-04-11T13:12:59.198Z"
   },
   {
    "duration": 186,
    "start_time": "2023-04-11T13:50:58.213Z"
   },
   {
    "duration": 861,
    "start_time": "2023-04-11T13:52:34.520Z"
   },
   {
    "duration": 131,
    "start_time": "2023-04-11T13:53:24.424Z"
   },
   {
    "duration": 785,
    "start_time": "2023-04-11T14:01:18.272Z"
   },
   {
    "duration": 815,
    "start_time": "2023-04-11T14:01:45.320Z"
   },
   {
    "duration": 124,
    "start_time": "2023-04-11T14:01:59.321Z"
   },
   {
    "duration": 66,
    "start_time": "2023-04-11T14:03:20.084Z"
   },
   {
    "duration": 897,
    "start_time": "2023-04-11T14:03:32.571Z"
   },
   {
    "duration": 767,
    "start_time": "2023-04-11T14:14:19.233Z"
   },
   {
    "duration": 216,
    "start_time": "2023-04-11T14:15:51.968Z"
   },
   {
    "duration": 859,
    "start_time": "2023-04-11T14:16:18.808Z"
   },
   {
    "duration": 229,
    "start_time": "2023-04-11T14:16:26.911Z"
   },
   {
    "duration": 756,
    "start_time": "2023-04-11T14:16:47.102Z"
   },
   {
    "duration": 778,
    "start_time": "2023-04-11T14:17:00.752Z"
   },
   {
    "duration": 307,
    "start_time": "2023-04-11T14:23:53.332Z"
   },
   {
    "duration": 196,
    "start_time": "2023-04-11T14:24:02.332Z"
   },
   {
    "duration": 320,
    "start_time": "2023-04-11T14:25:20.612Z"
   },
   {
    "duration": 288,
    "start_time": "2023-04-11T14:25:27.342Z"
   },
   {
    "duration": 308,
    "start_time": "2023-04-11T14:46:24.120Z"
   },
   {
    "duration": 51,
    "start_time": "2023-04-11T18:47:06.671Z"
   },
   {
    "duration": 1672,
    "start_time": "2023-04-11T18:47:09.653Z"
   },
   {
    "duration": 22,
    "start_time": "2023-04-11T18:47:11.327Z"
   },
   {
    "duration": 2132,
    "start_time": "2023-04-11T18:47:11.351Z"
   },
   {
    "duration": 8,
    "start_time": "2023-04-11T18:47:13.486Z"
   },
   {
    "duration": 28,
    "start_time": "2023-04-11T18:47:13.496Z"
   },
   {
    "duration": 8,
    "start_time": "2023-04-11T18:47:13.526Z"
   },
   {
    "duration": 266,
    "start_time": "2023-04-11T18:47:13.535Z"
   },
   {
    "duration": 104,
    "start_time": "2023-04-11T18:47:13.803Z"
   },
   {
    "duration": 18,
    "start_time": "2023-04-11T18:47:13.909Z"
   },
   {
    "duration": 7,
    "start_time": "2023-04-11T18:47:13.929Z"
   },
   {
    "duration": 13,
    "start_time": "2023-04-11T18:47:13.938Z"
   },
   {
    "duration": 18,
    "start_time": "2023-04-11T18:47:13.953Z"
   },
   {
    "duration": 6,
    "start_time": "2023-04-11T18:47:13.973Z"
   },
   {
    "duration": 12,
    "start_time": "2023-04-11T18:47:13.980Z"
   },
   {
    "duration": 18,
    "start_time": "2023-04-11T18:47:14.018Z"
   },
   {
    "duration": 8,
    "start_time": "2023-04-11T18:47:14.037Z"
   },
   {
    "duration": 11,
    "start_time": "2023-04-11T18:47:14.046Z"
   },
   {
    "duration": 12,
    "start_time": "2023-04-11T18:47:14.058Z"
   },
   {
    "duration": 18,
    "start_time": "2023-04-11T18:47:14.071Z"
   },
   {
    "duration": 11,
    "start_time": "2023-04-11T18:47:14.118Z"
   },
   {
    "duration": 3,
    "start_time": "2023-04-11T18:47:14.131Z"
   },
   {
    "duration": 22,
    "start_time": "2023-04-11T18:47:14.136Z"
   },
   {
    "duration": 7,
    "start_time": "2023-04-11T18:47:14.160Z"
   },
   {
    "duration": 28,
    "start_time": "2023-04-11T18:47:14.168Z"
   },
   {
    "duration": 9,
    "start_time": "2023-04-11T18:47:14.218Z"
   },
   {
    "duration": 11,
    "start_time": "2023-04-11T18:47:14.229Z"
   },
   {
    "duration": 205,
    "start_time": "2023-04-11T18:47:14.241Z"
   },
   {
    "duration": 9,
    "start_time": "2023-04-11T18:47:14.451Z"
   },
   {
    "duration": 23,
    "start_time": "2023-04-11T18:47:14.461Z"
   },
   {
    "duration": 31,
    "start_time": "2023-04-11T18:47:14.486Z"
   },
   {
    "duration": 21,
    "start_time": "2023-04-11T18:47:14.519Z"
   },
   {
    "duration": 28,
    "start_time": "2023-04-11T18:47:14.543Z"
   },
   {
    "duration": 19,
    "start_time": "2023-04-11T18:47:14.573Z"
   },
   {
    "duration": 12,
    "start_time": "2023-04-11T18:47:14.594Z"
   },
   {
    "duration": 26,
    "start_time": "2023-04-11T18:47:14.608Z"
   },
   {
    "duration": 8,
    "start_time": "2023-04-11T18:47:14.635Z"
   },
   {
    "duration": 43,
    "start_time": "2023-04-11T18:47:14.645Z"
   },
   {
    "duration": 14,
    "start_time": "2023-04-11T18:47:14.690Z"
   },
   {
    "duration": 19,
    "start_time": "2023-04-11T18:47:14.717Z"
   },
   {
    "duration": 19,
    "start_time": "2023-04-11T18:47:14.738Z"
   },
   {
    "duration": 7,
    "start_time": "2023-04-11T18:47:14.758Z"
   },
   {
    "duration": 10,
    "start_time": "2023-04-11T18:47:14.767Z"
   },
   {
    "duration": 26,
    "start_time": "2023-04-11T18:47:14.778Z"
   },
   {
    "duration": 30,
    "start_time": "2023-04-11T18:47:14.805Z"
   },
   {
    "duration": 6,
    "start_time": "2023-04-11T18:47:14.837Z"
   },
   {
    "duration": 319,
    "start_time": "2023-04-11T18:47:14.845Z"
   },
   {
    "duration": 31,
    "start_time": "2023-04-11T18:47:15.166Z"
   },
   {
    "duration": 193,
    "start_time": "2023-04-11T18:47:15.199Z"
   },
   {
    "duration": 137,
    "start_time": "2023-04-11T18:47:15.393Z"
   },
   {
    "duration": 323,
    "start_time": "2023-04-11T18:47:15.531Z"
   },
   {
    "duration": 371,
    "start_time": "2023-04-11T18:47:15.856Z"
   },
   {
    "duration": 416,
    "start_time": "2023-04-11T18:47:16.230Z"
   },
   {
    "duration": 290,
    "start_time": "2023-04-11T18:47:16.648Z"
   },
   {
    "duration": 392,
    "start_time": "2023-04-11T18:47:16.940Z"
   },
   {
    "duration": 251,
    "start_time": "2023-04-11T18:47:17.334Z"
   },
   {
    "duration": 291,
    "start_time": "2023-04-11T18:47:17.587Z"
   },
   {
    "duration": 152,
    "start_time": "2023-04-11T18:47:17.880Z"
   },
   {
    "duration": 177,
    "start_time": "2023-04-11T18:47:18.034Z"
   },
   {
    "duration": 174,
    "start_time": "2023-04-11T18:47:18.212Z"
   },
   {
    "duration": 188,
    "start_time": "2023-04-11T18:47:18.388Z"
   },
   {
    "duration": 199,
    "start_time": "2023-04-11T18:47:18.578Z"
   },
   {
    "duration": 187,
    "start_time": "2023-04-11T18:47:18.779Z"
   },
   {
    "duration": 181,
    "start_time": "2023-04-11T18:47:18.968Z"
   },
   {
    "duration": 346,
    "start_time": "2023-04-11T18:47:19.151Z"
   },
   {
    "duration": 202,
    "start_time": "2023-04-11T18:47:19.499Z"
   },
   {
    "duration": 224,
    "start_time": "2023-04-11T18:47:19.703Z"
   },
   {
    "duration": 216,
    "start_time": "2023-04-11T18:47:19.929Z"
   },
   {
    "duration": 232,
    "start_time": "2023-04-11T18:47:20.147Z"
   },
   {
    "duration": 248,
    "start_time": "2023-04-11T18:47:20.381Z"
   },
   {
    "duration": 167,
    "start_time": "2023-04-11T18:47:20.631Z"
   },
   {
    "duration": 203,
    "start_time": "2023-04-11T18:47:20.800Z"
   },
   {
    "duration": 152,
    "start_time": "2023-04-11T18:47:21.005Z"
   },
   {
    "duration": 23,
    "start_time": "2023-04-11T18:47:21.159Z"
   },
   {
    "duration": 255,
    "start_time": "2023-04-11T18:47:21.184Z"
   },
   {
    "duration": 165,
    "start_time": "2023-04-11T18:47:21.440Z"
   },
   {
    "duration": 43,
    "start_time": "2023-04-11T19:02:53.548Z"
   },
   {
    "duration": 1417,
    "start_time": "2023-04-12T16:40:44.100Z"
   },
   {
    "duration": 11,
    "start_time": "2023-04-12T16:40:52.309Z"
   },
   {
    "duration": 10,
    "start_time": "2023-04-12T16:48:17.418Z"
   },
   {
    "duration": 21,
    "start_time": "2023-04-12T16:48:31.848Z"
   },
   {
    "duration": 21,
    "start_time": "2023-04-12T16:48:57.248Z"
   },
   {
    "duration": 145,
    "start_time": "2023-04-12T16:49:06.790Z"
   },
   {
    "duration": 16,
    "start_time": "2023-04-12T16:49:12.768Z"
   }
  ],
  "kernelspec": {
   "display_name": "Python 3 (ipykernel)",
   "language": "python",
   "name": "python3"
  },
  "language_info": {
   "codemirror_mode": {
    "name": "ipython",
    "version": 3
   },
   "file_extension": ".py",
   "mimetype": "text/x-python",
   "name": "python",
   "nbconvert_exporter": "python",
   "pygments_lexer": "ipython3",
   "version": "3.9.5"
  },
  "toc": {
   "base_numbering": 1,
   "nav_menu": {},
   "number_sections": true,
   "sideBar": true,
   "skip_h1_title": true,
   "title_cell": "Table of Contents",
   "title_sidebar": "Contents",
   "toc_cell": false,
   "toc_position": {
    "height": "485.6px",
    "left": "493px",
    "top": "108.925px",
    "width": "165px"
   },
   "toc_section_display": true,
   "toc_window_display": true
  }
 },
 "nbformat": 4,
 "nbformat_minor": 2
}
